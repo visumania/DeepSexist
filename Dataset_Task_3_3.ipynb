{
  "nbformat": 4,
  "nbformat_minor": 0,
  "metadata": {
    "colab": {
      "provenance": [],
      "authorship_tag": "ABX9TyMLOiAL2ooKlypLyXfF+Skt",
      "include_colab_link": true
    },
    "kernelspec": {
      "name": "python3",
      "display_name": "Python 3"
    },
    "language_info": {
      "name": "python"
    }
  },
  "cells": [
    {
      "cell_type": "markdown",
      "metadata": {
        "id": "view-in-github",
        "colab_type": "text"
      },
      "source": [
        "<a href=\"https://colab.research.google.com/github/visumania/DeepSexist/blob/main/Dataset_Task_3_3.ipynb\" target=\"_parent\"><img src=\"https://colab.research.google.com/assets/colab-badge.svg\" alt=\"Open In Colab\"/></a>"
      ]
    },
    {
      "cell_type": "code",
      "source": [
        "# Montura de google colab para poder leer/escribir en Google Drive\n",
        "from google.colab import drive\n",
        "drive.mount('/content/drive')"
      ],
      "metadata": {
        "colab": {
          "base_uri": "https://localhost:8080/"
        },
        "id": "OhsvIKpgPjNl",
        "outputId": "870fbfb5-ff93-437e-b657-cb95fcfe8880"
      },
      "execution_count": 1,
      "outputs": [
        {
          "output_type": "stream",
          "name": "stdout",
          "text": [
            "Mounted at /content/drive\n"
          ]
        }
      ]
    },
    {
      "cell_type": "markdown",
      "source": [
        "Importación de librerías necesarias"
      ],
      "metadata": {
        "id": "TFRoFREmP54T"
      }
    },
    {
      "cell_type": "code",
      "source": [
        "import pandas as pd"
      ],
      "metadata": {
        "id": "aCyNQu2rP5Y5"
      },
      "execution_count": 2,
      "outputs": []
    },
    {
      "cell_type": "markdown",
      "source": [
        "Tratamiento del fichero orifinal para generar uno nuevo en donde solamente se recoja la información relevante para la tarea 3.3\n",
        "\n",
        "Etiquetas a tratar:\n",
        "- **IDEOLOGICAL AND INEQUALITY**: el texto desacredita el movimiento feminista, rechaza la desigualdad entre hombres y mujeres o presente a los hombres como víctimas de la opresión del género.\n",
        "- **STEREOTYPING AND DOMINANCE**: el texto expresa ideas falsas sobre las mujeres que sugieren que son más adecuadas para desempeñar ciertos papeles (madre, esposa, cuidadora familiar, fiel, tierna, cariñosa, sumisa, etc.), o inadecuadas para ciertas tareas (conducir, trabajo duro, etc.), o afirmar que los hombres son de alguna manera superiores a las mujeres.\n",
        "- **OBJECTIFICATION**: el texto presenta a las mujeres como objetos al margen de su dignidad y aspectos personales, o asume o describe determinadas cualidades físicas que deben tener las mujeres para cumplir los roles tradicionales de género (cumplimiento de cánones de belleza, hipersexualización de los atributos femeninos, cuerpos de las mujeres a disposición de los hombres, etc.).\n",
        "- **SEXUAL VIOLENCE**: se hacen sugerencias sexuales, se piden favores sexuales o se ejerce el acoso de naturaleza sexual (violación o agresión sexual).\n",
        "- **MISOGYNY AND NON-SEXUAL VIOLENCE**: el texto expresa odio y violencia hacia las mujeres.\n",
        "\n",
        "Para esta tarea de clasificación multi-etiqueta, vamos a proponer trabajar con 3 ficheros diferentes (extraídos a partir del fichero original base proporcionado por la competición) los cuáles abarcan los conflictos de 3 maneras diferentes:\n",
        "- **EXIST2025_training_task3_3_ALL.csv**: el etiquetado final se hará siguiendo el comportamiento de la operación lógica *OR* con el etiquetado de cada uno de los anotadores\n",
        "- **EXIST2025_training_task3_3_MEN.csv**: Prevalece solamente lo que etiquete el Hombre, descartando lo que digan las mujeres en la anotación.En caso de tener conflicto con 2 anotadores (Hombre y mujer) prevalecerá la anotación del hombre.\n",
        "- **EXIST2025_training_task3_3_WOMEN.csv**: Prevalece solamente lo que etiquete la Mujer, descartando lo que digan los hombres en la anotación. En caso de tener conflicto con 2 anotadores (Hombre y mujer) prevalecerá la anotación de la mujer.\n"
      ],
      "metadata": {
        "id": "LNlNicfdLp23"
      }
    },
    {
      "cell_type": "markdown",
      "source": [
        "Lectura y tratamiento de los datos del fichero"
      ],
      "metadata": {
        "id": "n1H-Tj35P_GM"
      }
    },
    {
      "cell_type": "code",
      "source": [
        "df = pd.read_json('/content/drive/MyDrive/dataset/EXIST 2025 Videos Dataset/training/EXIST2025_training.json', orient='index') # Lectura del dataset desde Drive\n",
        "df.reset_index(drop=True, inplace=True) # Reseteamos el index del dataframe\n",
        "df = df.drop(columns=[\"id_Tiktok\", \"video\", \"url\", \"annotators\", \"labels_task3_2\", \"split\"]) # Eliminación de columnas que no son relevantes del dataframe"
      ],
      "metadata": {
        "id": "RTixRW5Bwi92"
      },
      "execution_count": 51,
      "outputs": []
    },
    {
      "cell_type": "code",
      "source": [
        "# Eliminamos la columna correspondiente a la tarea 3.1\n",
        "df_3_3 = df.drop(columns=[\"labels_task3_1\"])\n",
        "\n",
        "# Expande la columna labels_task3_3 y gender_annotators en varias columnas en varias columnas\n",
        "df_3_3_expanded = df_3_3[\"labels_task3_3\"].apply(pd.Series)\n",
        "df_3_3_expanded_gender = df_3_3[\"gender_annotators\"].apply(pd.Series)\n",
        "\n",
        "# Renombra las columnas resultantes para mayor claridad\n",
        "df_3_3_expanded.columns = [f\"labels_task_3_3_{i+1}\" for i in range(df_3_3_expanded.shape[1])]\n",
        "df_3_3_expanded_gender.columns = [f\"gender_annotators_{i+1}\" for i in range(df_3_3_expanded_gender.shape[1])]\n",
        "\n",
        "print(df_3_3['gender_annotators'].value_counts(),\"\\n\")\n",
        "\n",
        "# Une con el dataframe original sin la columna original\n",
        "df_3_3 = pd.concat([df_3_3.drop(columns=[\"labels_task3_3\"]), df_3_3_expanded], axis=1)\n",
        "df_3_3 = pd.concat([df_3_3.drop(columns=[\"gender_annotators\"]), df_3_3_expanded_gender], axis=1)\n",
        "\n",
        "# Reordenamos el orden las columnas para una mejor visión del dataframe\n",
        "df_3_3 = df_3_3[[\"lang\", \"id_EXIST\", \"text\", \"path_video\", \"number_annotators\", \"gender_annotators_1\", \"gender_annotators_2\", \"gender_annotators_3\", \"labels_task_3_3_1\", \"labels_task_3_3_2\", \"labels_task_3_3_3\"]]\n",
        "\n",
        "# Creación de las nuevas columnas correspondientes a las etiquetas de la tarea 3_3\n",
        "df_3_3[[\"IDEOLOGICAL-INEQUALITY\", \"STEREOTYPING-DOMINANCE\", \"OBJECTIFICATION\", \"SEXUAL-VIOLENCE\", \"MISOGYNY-NON-SEXUAL-VIOLENCE\"]] = 0"
      ],
      "metadata": {
        "id": "KyiTis3lLrH-",
        "colab": {
          "base_uri": "https://localhost:8080/"
        },
        "outputId": "2cf3f42b-e024-4e5b-b87b-eb891bba205e"
      },
      "execution_count": 52,
      "outputs": [
        {
          "output_type": "stream",
          "name": "stdout",
          "text": [
            "gender_annotators\n",
            "[F, M]       1438\n",
            "[F, M, M]     428\n",
            "[F, F]        342\n",
            "[F, M, F]     166\n",
            "[F, F, F]     150\n",
            "Name: count, dtype: int64 \n",
            "\n"
          ]
        }
      ]
    },
    {
      "cell_type": "markdown",
      "source": [
        "Construcción del fichero **EXIST2025_training_task3_3_ALL.csv**"
      ],
      "metadata": {
        "id": "Gs9p1ohPars2"
      }
    },
    {
      "cell_type": "code",
      "source": [
        "for i in range(df_3_3.shape[0]):\n",
        "  # Para labels_task_3_3_1\n",
        "  if \"IDEOLOGICAL-INEQUALITY\" in df_3_3.iloc[i]['labels_task_3_3_1']:\n",
        "    df_3_3.at[i, \"IDEOLOGICAL-INEQUALITY\"] = 1\n",
        "  if \"STEREOTYPING-DOMINANCE\" in df_3_3.iloc[i]['labels_task_3_3_1']:\n",
        "    df_3_3.at[i, \"STEREOTYPING-DOMINANCE\"] = 1\n",
        "  if \"OBJECTIFICATION\" in df_3_3.iloc[i]['labels_task_3_3_1']:\n",
        "    df_3_3.at[i, \"OBJECTIFICATION\"] = 1\n",
        "  if \"SEXUAL-VIOLENCE\" in df_3_3.iloc[i]['labels_task_3_3_1']:\n",
        "    df_3_3.at[i, \"SEXUAL-VIOLENCE\"] = 1\n",
        "  if \"MISOGYNY-NON-SEXUAL-VIOLENCE\" in df_3_3.iloc[i]['labels_task_3_3_1']:\n",
        "    df_3_3.at[i, \"MISOGYNY-NON-SEXUAL-VIOLENCE\"] = 1\n",
        "\n",
        "  # Para labels_task_3_3_2\n",
        "  if \"IDEOLOGICAL-INEQUALITY\" in df_3_3.iloc[i]['labels_task_3_3_2']:\n",
        "    df_3_3.at[i, \"IDEOLOGICAL-INEQUALITY\"] = 1\n",
        "  if \"STEREOTYPING-DOMINANCE\" in df_3_3.iloc[i]['labels_task_3_3_2']:\n",
        "    df_3_3.at[i, \"STEREOTYPING-DOMINANCE\"] = 1\n",
        "  if \"OBJECTIFICATION\" in df_3_3.iloc[i]['labels_task_3_3_2']:\n",
        "    df_3_3.at[i, \"OBJECTIFICATION\"] = 1\n",
        "  if \"SEXUAL-VIOLENCE\" in df_3_3.iloc[i]['labels_task_3_3_2']:\n",
        "    df_3_3.at[i, \"SEXUAL-VIOLENCE\"] = 1\n",
        "  if \"MISOGYNY-NON-SEXUAL-VIOLENCE\" in df_3_3.iloc[i]['labels_task_3_3_2']:\n",
        "    df_3_3.at[i, \"MISOGYNY-NON-SEXUAL-VIOLENCE\"] = 1\n",
        "\n",
        "  # Para labels_task_3_3_3 --> Tenemos que tener en cuenta los valores NaN\n",
        "  if df_3_3.iloc[i]['number_annotators'] == 3: # Valores que no van a tener NaN\n",
        "    if \"IDEOLOGICAL-INEQUALITY\" in df_3_3.iloc[i]['labels_task_3_3_3']:\n",
        "      df_3_3.at[i, \"IDEOLOGICAL-INEQUALITY\"] = 1\n",
        "    if \"STEREOTYPING-DOMINANCE\" in df_3_3.iloc[i]['labels_task_3_3_3']:\n",
        "      df_3_3.at[i, \"STEREOTYPING-DOMINANCE\"] = 1\n",
        "    if \"OBJECTIFICATION\" in df_3_3.iloc[i]['labels_task_3_3_3']:\n",
        "      df_3_3.at[i, \"OBJECTIFICATION\"] = 1\n",
        "    if \"SEXUAL-VIOLENCE\" in df_3_3.iloc[i]['labels_task_3_3_3']:\n",
        "      df_3_3.at[i, \"SEXUAL-VIOLENCE\"] = 1\n",
        "    if \"MISOGYNY-NON-SEXUAL-VIOLENCE\" in df_3_3.iloc[i]['labels_task_3_3_3']:\n",
        "      df_3_3.at[i, \"MISOGYNY-NON-SEXUAL-VIOLENCE\"] = 1\n",
        "\n"
      ],
      "metadata": {
        "id": "DuWmLwVPa2aL"
      },
      "execution_count": 53,
      "outputs": []
    },
    {
      "cell_type": "code",
      "source": [
        "print(df_3_3['IDEOLOGICAL-INEQUALITY'].value_counts())\n",
        "print(df_3_3['STEREOTYPING-DOMINANCE'].value_counts())\n",
        "print(df_3_3['OBJECTIFICATION'].value_counts())\n",
        "print(df_3_3['SEXUAL-VIOLENCE'].value_counts())\n",
        "print(df_3_3['MISOGYNY-NON-SEXUAL-VIOLENCE'].value_counts())"
      ],
      "metadata": {
        "id": "oPoO0gQuiXMt",
        "outputId": "1f5112c2-175e-4307-9c14-187c77fb85aa",
        "colab": {
          "base_uri": "https://localhost:8080/"
        }
      },
      "execution_count": 54,
      "outputs": [
        {
          "output_type": "stream",
          "name": "stdout",
          "text": [
            "IDEOLOGICAL-INEQUALITY\n",
            "0    1967\n",
            "1     557\n",
            "Name: count, dtype: int64\n",
            "STEREOTYPING-DOMINANCE\n",
            "0    1519\n",
            "1    1005\n",
            "Name: count, dtype: int64\n",
            "OBJECTIFICATION\n",
            "0    2177\n",
            "1     347\n",
            "Name: count, dtype: int64\n",
            "SEXUAL-VIOLENCE\n",
            "0    2363\n",
            "1     161\n",
            "Name: count, dtype: int64\n",
            "MISOGYNY-NON-SEXUAL-VIOLENCE\n",
            "0    2320\n",
            "1     204\n",
            "Name: count, dtype: int64\n"
          ]
        }
      ]
    },
    {
      "cell_type": "code",
      "source": [
        "# Eliminación de columnas que no son relevantes del dataframe\n",
        "df_3_3 = df_3_3.drop(columns=[\"number_annotators\", \"gender_annotators_1\", \"gender_annotators_2\", \"gender_annotators_3\", \"labels_task_3_3_1\", \"labels_task_3_3_2\", \"labels_task_3_3_3\"])"
      ],
      "metadata": {
        "id": "WJ2EFn0aUbN1"
      },
      "execution_count": null,
      "outputs": []
    },
    {
      "cell_type": "code",
      "source": [
        "# Guardamos el fichero resultante en nuestro Drive\n",
        "df_3_3.T.to_csv('/content/drive/MyDrive/dataset/EXIST 2025 Videos Dataset/training/EXIST2025_training_task3_3_ALL.csv')"
      ],
      "metadata": {
        "id": "9Sn2FtL2S1yc"
      },
      "execution_count": null,
      "outputs": []
    },
    {
      "cell_type": "markdown",
      "source": [
        "Construcción del fichero **EXIST2025_training_task3_3_MEN.csv**"
      ],
      "metadata": {
        "id": "QTrEKtfCXQLN"
      }
    },
    {
      "cell_type": "code",
      "source": [
        "for i in range(df_3_3.shape[0]):\n",
        "  numeroAnotadores = df_3_3.iloc[i]['number_annotators']\n",
        "  vectorGeneros = []\n",
        "  for j in range(numeroAnotadores):\n",
        "    vectorGeneros.append(df_3_3.iloc[i]['gender_annotators_' + str(j+1)])\n",
        "\n",
        "  # Para labels_task_3_3_1\n",
        "  if vectorGeneros[0] == 'M': # Solo consideramos los hombres o mujeres según indiquemos\n",
        "    if \"IDEOLOGICAL-INEQUALITY\" in df_3_3.iloc[i]['labels_task_3_3_1']:\n",
        "      df_3_3.at[i, \"IDEOLOGICAL-INEQUALITY\"] = 1\n",
        "    if \"STEREOTYPING-DOMINANCE\" in df_3_3.iloc[i]['labels_task_3_3_1']:\n",
        "      df_3_3.at[i, \"STEREOTYPING-DOMINANCE\"] = 1\n",
        "    if \"OBJECTIFICATION\" in df_3_3.iloc[i]['labels_task_3_3_1']:\n",
        "      df_3_3.at[i, \"OBJECTIFICATION\"] = 1\n",
        "    if \"SEXUAL-VIOLENCE\" in df_3_3.iloc[i]['labels_task_3_3_1']:\n",
        "      df_3_3.at[i, \"SEXUAL-VIOLENCE\"] = 1\n",
        "    if \"MISOGYNY-NON-SEXUAL-VIOLENCE\" in df_3_3.iloc[i]['labels_task_3_3_1']:\n",
        "      df_3_3.at[i, \"MISOGYNY-NON-SEXUAL-VIOLENCE\"] = 1\n",
        "\n",
        "  # Para labels_task_3_3_2\n",
        "  if vectorGeneros[1] == 'M': # Solo consideramos los hombres o mujeres según indiquemos\n",
        "    if \"IDEOLOGICAL-INEQUALITY\" in df_3_3.iloc[i]['labels_task_3_3_2']:\n",
        "      df_3_3.at[i, \"IDEOLOGICAL-INEQUALITY\"] = 1\n",
        "    if \"STEREOTYPING-DOMINANCE\" in df_3_3.iloc[i]['labels_task_3_3_2']:\n",
        "      df_3_3.at[i, \"STEREOTYPING-DOMINANCE\"] = 1\n",
        "    if \"OBJECTIFICATION\" in df_3_3.iloc[i]['labels_task_3_3_2']:\n",
        "      df_3_3.at[i, \"OBJECTIFICATION\"] = 1\n",
        "    if \"SEXUAL-VIOLENCE\" in df_3_3.iloc[i]['labels_task_3_3_2']:\n",
        "      df_3_3.at[i, \"SEXUAL-VIOLENCE\"] = 1\n",
        "    if \"MISOGYNY-NON-SEXUAL-VIOLENCE\" in df_3_3.iloc[i]['labels_task_3_3_2']:\n",
        "      df_3_3.at[i, \"MISOGYNY-NON-SEXUAL-VIOLENCE\"] = 1\n",
        "\n",
        "  # Para labels_task_3_3_3 --> Tenemos que tener en cuenta los valores NaN\n",
        "  if df_3_3.iloc[i]['number_annotators'] == 3: # Valores que no van a tener NaN\n",
        "    if vectorGeneros[2] == 'M': # Solo consideramos los hombres o mujeres según indiquemos\n",
        "      if \"IDEOLOGICAL-INEQUALITY\" in df_3_3.iloc[i]['labels_task_3_3_3']:\n",
        "        df_3_3.at[i, \"IDEOLOGICAL-INEQUALITY\"] = 1\n",
        "      if \"STEREOTYPING-DOMINANCE\" in df_3_3.iloc[i]['labels_task_3_3_3']:\n",
        "        df_3_3.at[i, \"STEREOTYPING-DOMINANCE\"] = 1\n",
        "      if \"OBJECTIFICATION\" in df_3_3.iloc[i]['labels_task_3_3_3']:\n",
        "        df_3_3.at[i, \"OBJECTIFICATION\"] = 1\n",
        "      if \"SEXUAL-VIOLENCE\" in df_3_3.iloc[i]['labels_task_3_3_3']:\n",
        "        df_3_3.at[i, \"SEXUAL-VIOLENCE\"] = 1\n",
        "      if \"MISOGYNY-NON-SEXUAL-VIOLENCE\" in df_3_3.iloc[i]['labels_task_3_3_3']:\n",
        "        df_3_3.at[i, \"MISOGYNY-NON-SEXUAL-VIOLENCE\"] = 1\n",
        "\n"
      ],
      "metadata": {
        "id": "Jcqm4OvjXPLE"
      },
      "execution_count": 39,
      "outputs": []
    },
    {
      "cell_type": "code",
      "source": [
        "print(df_3_3['IDEOLOGICAL-INEQUALITY'].value_counts())\n",
        "print(df_3_3['STEREOTYPING-DOMINANCE'].value_counts())\n",
        "print(df_3_3['OBJECTIFICATION'].value_counts())\n",
        "print(df_3_3['SEXUAL-VIOLENCE'].value_counts())\n",
        "print(df_3_3['MISOGYNY-NON-SEXUAL-VIOLENCE'].value_counts())"
      ],
      "metadata": {
        "id": "xd8qbAUnhgLO",
        "outputId": "5102d288-fcba-4638-c6ff-ffb09fe468a6",
        "colab": {
          "base_uri": "https://localhost:8080/"
        }
      },
      "execution_count": 43,
      "outputs": [
        {
          "output_type": "stream",
          "name": "stdout",
          "text": [
            "IDEOLOGICAL-INEQUALITY\n",
            "0    2276\n",
            "1     248\n",
            "Name: count, dtype: int64\n",
            "STEREOTYPING-DOMINANCE\n",
            "0    1890\n",
            "1     634\n",
            "Name: count, dtype: int64\n",
            "OBJECTIFICATION\n",
            "0    2405\n",
            "1     119\n",
            "Name: count, dtype: int64\n",
            "SEXUAL-VIOLENCE\n",
            "0    2445\n",
            "1      79\n",
            "Name: count, dtype: int64\n",
            "MISOGYNY-NON-SEXUAL-VIOLENCE\n",
            "0    2435\n",
            "1      89\n",
            "Name: count, dtype: int64\n"
          ]
        }
      ]
    },
    {
      "cell_type": "code",
      "source": [
        "# Eliminación de columnas que no son relevantes del dataframe\n",
        "df_3_3 = df_3_3.drop(columns=[\"number_annotators\", \"gender_annotators_1\", \"gender_annotators_2\", \"gender_annotators_3\", \"labels_task_3_3_1\", \"labels_task_3_3_2\", \"labels_task_3_3_3\"])"
      ],
      "metadata": {
        "id": "PVlg2efUcErn"
      },
      "execution_count": 40,
      "outputs": []
    },
    {
      "cell_type": "code",
      "source": [
        "# Guardamos el fichero resultante en nuestro Drive\n",
        "df_3_3.T.to_csv('/content/drive/MyDrive/dataset/EXIST 2025 Videos Dataset/training/EXIST2025_training_task3_3_MEN.csv')"
      ],
      "metadata": {
        "id": "19KxsoSehLkv"
      },
      "execution_count": 41,
      "outputs": []
    },
    {
      "cell_type": "markdown",
      "source": [
        "Construcción del fichero **EXIST2025_training_task3_3_WOMEN.csv**"
      ],
      "metadata": {
        "id": "AE3Hcz25XWGl"
      }
    },
    {
      "cell_type": "code",
      "source": [
        "for i in range(df_3_3.shape[0]):\n",
        "  numeroAnotadores = df_3_3.iloc[i]['number_annotators']\n",
        "  vectorGeneros = []\n",
        "  for j in range(numeroAnotadores):\n",
        "    vectorGeneros.append(df_3_3.iloc[i]['gender_annotators_' + str(j+1)])\n",
        "\n",
        "  # Para labels_task_3_3_1\n",
        "  if vectorGeneros[0] == 'F': # Solo consideramos los hombres o mujeres según indiquemos\n",
        "    if \"IDEOLOGICAL-INEQUALITY\" in df_3_3.iloc[i]['labels_task_3_3_1']:\n",
        "      df_3_3.at[i, \"IDEOLOGICAL-INEQUALITY\"] = 1\n",
        "    if \"STEREOTYPING-DOMINANCE\" in df_3_3.iloc[i]['labels_task_3_3_1']:\n",
        "      df_3_3.at[i, \"STEREOTYPING-DOMINANCE\"] = 1\n",
        "    if \"OBJECTIFICATION\" in df_3_3.iloc[i]['labels_task_3_3_1']:\n",
        "      df_3_3.at[i, \"OBJECTIFICATION\"] = 1\n",
        "    if \"SEXUAL-VIOLENCE\" in df_3_3.iloc[i]['labels_task_3_3_1']:\n",
        "      df_3_3.at[i, \"SEXUAL-VIOLENCE\"] = 1\n",
        "    if \"MISOGYNY-NON-SEXUAL-VIOLENCE\" in df_3_3.iloc[i]['labels_task_3_3_1']:\n",
        "      df_3_3.at[i, \"MISOGYNY-NON-SEXUAL-VIOLENCE\"] = 1\n",
        "\n",
        "  # Para labels_task_3_3_2\n",
        "  if vectorGeneros[1] == 'F': # Solo consideramos los hombres o mujeres según indiquemos\n",
        "    if \"IDEOLOGICAL-INEQUALITY\" in df_3_3.iloc[i]['labels_task_3_3_2']:\n",
        "      df_3_3.at[i, \"IDEOLOGICAL-INEQUALITY\"] = 1\n",
        "    if \"STEREOTYPING-DOMINANCE\" in df_3_3.iloc[i]['labels_task_3_3_2']:\n",
        "      df_3_3.at[i, \"STEREOTYPING-DOMINANCE\"] = 1\n",
        "    if \"OBJECTIFICATION\" in df_3_3.iloc[i]['labels_task_3_3_2']:\n",
        "      df_3_3.at[i, \"OBJECTIFICATION\"] = 1\n",
        "    if \"SEXUAL-VIOLENCE\" in df_3_3.iloc[i]['labels_task_3_3_2']:\n",
        "      df_3_3.at[i, \"SEXUAL-VIOLENCE\"] = 1\n",
        "    if \"MISOGYNY-NON-SEXUAL-VIOLENCE\" in df_3_3.iloc[i]['labels_task_3_3_2']:\n",
        "      df_3_3.at[i, \"MISOGYNY-NON-SEXUAL-VIOLENCE\"] = 1\n",
        "\n",
        "  # Para labels_task_3_3_3 --> Tenemos que tener en cuenta los valores NaN\n",
        "  if df_3_3.iloc[i]['number_annotators'] == 3: # Valores que no van a tener NaN\n",
        "    if vectorGeneros[2] == 'F': # Solo consideramos los hombres o mujeres según indiquemos\n",
        "      if \"IDEOLOGICAL-INEQUALITY\" in df_3_3.iloc[i]['labels_task_3_3_3']:\n",
        "        df_3_3.at[i, \"IDEOLOGICAL-INEQUALITY\"] = 1\n",
        "      if \"STEREOTYPING-DOMINANCE\" in df_3_3.iloc[i]['labels_task_3_3_3']:\n",
        "        df_3_3.at[i, \"STEREOTYPING-DOMINANCE\"] = 1\n",
        "      if \"OBJECTIFICATION\" in df_3_3.iloc[i]['labels_task_3_3_3']:\n",
        "        df_3_3.at[i, \"OBJECTIFICATION\"] = 1\n",
        "      if \"SEXUAL-VIOLENCE\" in df_3_3.iloc[i]['labels_task_3_3_3']:\n",
        "        df_3_3.at[i, \"SEXUAL-VIOLENCE\"] = 1\n",
        "      if \"MISOGYNY-NON-SEXUAL-VIOLENCE\" in df_3_3.iloc[i]['labels_task_3_3_3']:\n",
        "        df_3_3.at[i, \"MISOGYNY-NON-SEXUAL-VIOLENCE\"] = 1\n",
        "\n"
      ],
      "metadata": {
        "id": "5tS9XyyvicPS"
      },
      "execution_count": 47,
      "outputs": []
    },
    {
      "cell_type": "code",
      "source": [
        "print(df_3_3['IDEOLOGICAL-INEQUALITY'].value_counts())\n",
        "print(df_3_3['STEREOTYPING-DOMINANCE'].value_counts())\n",
        "print(df_3_3['OBJECTIFICATION'].value_counts())\n",
        "print(df_3_3['SEXUAL-VIOLENCE'].value_counts())\n",
        "print(df_3_3['MISOGYNY-NON-SEXUAL-VIOLENCE'].value_counts())"
      ],
      "metadata": {
        "id": "HzdPx8_YirVt",
        "outputId": "5762570d-1134-46be-fa06-1fa17faf6e2b",
        "colab": {
          "base_uri": "https://localhost:8080/"
        }
      },
      "execution_count": 48,
      "outputs": [
        {
          "output_type": "stream",
          "name": "stdout",
          "text": [
            "IDEOLOGICAL-INEQUALITY\n",
            "0    2064\n",
            "1     460\n",
            "Name: count, dtype: int64\n",
            "STEREOTYPING-DOMINANCE\n",
            "0    1745\n",
            "1     779\n",
            "Name: count, dtype: int64\n",
            "OBJECTIFICATION\n",
            "0    2223\n",
            "1     301\n",
            "Name: count, dtype: int64\n",
            "SEXUAL-VIOLENCE\n",
            "0    2400\n",
            "1     124\n",
            "Name: count, dtype: int64\n",
            "MISOGYNY-NON-SEXUAL-VIOLENCE\n",
            "0    2382\n",
            "1     142\n",
            "Name: count, dtype: int64\n"
          ]
        }
      ]
    },
    {
      "cell_type": "code",
      "source": [
        "# Eliminación de columnas que no son relevantes del dataframe\n",
        "df_3_3 = df_3_3.drop(columns=[\"number_annotators\", \"gender_annotators_1\", \"gender_annotators_2\", \"gender_annotators_3\", \"labels_task_3_3_1\", \"labels_task_3_3_2\", \"labels_task_3_3_3\"])"
      ],
      "metadata": {
        "id": "zYaG4Ndciy5j"
      },
      "execution_count": 49,
      "outputs": []
    },
    {
      "cell_type": "code",
      "source": [
        "# Guardamos el fichero resultante en nuestro Drive\n",
        "df_3_3.T.to_csv('/content/drive/MyDrive/dataset/EXIST 2025 Videos Dataset/training/EXIST2025_training_task3_3_WOMEN.csv')"
      ],
      "metadata": {
        "id": "Kwp1VDwVi1BL"
      },
      "execution_count": 50,
      "outputs": []
    }
  ]
}
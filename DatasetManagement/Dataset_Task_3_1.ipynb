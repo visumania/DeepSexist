{
  "cells": [
    {
      "cell_type": "markdown",
      "metadata": {
        "colab_type": "text",
        "id": "view-in-github"
      },
      "source": [
        "<a href=\"https://colab.research.google.com/github/visumania/DeepSexist/blob/main/DatasetManagement/Dataset_Task_3_1.ipynb\" target=\"_parent\"><img src=\"https://colab.research.google.com/assets/colab-badge.svg\" alt=\"Open In Colab\"/></a>"
      ]
    },
    {
      "cell_type": "code",
      "execution_count": null,
      "metadata": {
        "colab": {
          "base_uri": "https://localhost:8080/"
        },
        "id": "OhsvIKpgPjNl",
        "outputId": "3db023ad-03ce-4718-9ac7-f9f9258707e5"
      },
      "outputs": [
        {
          "name": "stdout",
          "output_type": "stream",
          "text": [
            "Mounted at /content/drive\n"
          ]
        }
      ],
      "source": [
        "# Montura de google colab para poder leer/escribir en Google Drive\n",
        "# from google.colab import drive\n",
        "# drive.mount('/content/drive')"
      ]
    },
    {
      "cell_type": "markdown",
      "metadata": {
        "id": "TFRoFREmP54T"
      },
      "source": [
        "Importación de librerías necesarias"
      ]
    },
    {
      "cell_type": "code",
      "execution_count": 1,
      "metadata": {
        "id": "aCyNQu2rP5Y5"
      },
      "outputs": [],
      "source": [
        "import pandas as pd"
      ]
    },
    {
      "cell_type": "markdown",
      "metadata": {
        "id": "n1H-Tj35P_GM"
      },
      "source": [
        "Lectura y tratamiento de los datos del fichero de entrenamiento"
      ]
    },
    {
      "cell_type": "code",
      "execution_count": 10,
      "metadata": {
        "id": "GFbV9G6gQDKG"
      },
      "outputs": [],
      "source": [
        "df = pd.read_json('/home/adrian/Escritorio/DeepSexist/DatasetManagement/EXIST2025DatasetV0.3/EXIST 2025 Videos Dataset/training/EXIST2025_training.json', orient='index') # Lectura del dataset desde Drive\n",
        "df.reset_index(drop=True, inplace=True) # Reseteamos el index del dataframe\n",
        "df = df.drop(columns=[\"id_Tiktok\", \"video\", \"url\", \"annotators\", \"gender_annotators\", \"labels_task3_2\", \"split\"]) # Eliminación de columnas que no son relevantes del dataframe"
      ]
    },
    {
      "cell_type": "code",
      "execution_count": 11,
      "metadata": {
        "colab": {
          "base_uri": "https://localhost:8080/"
        },
        "id": "xFOMgm0ppAvZ",
        "outputId": "2949015b-e879-4164-86d5-0cd871d8e771"
      },
      "outputs": [
        {
          "name": "stdout",
          "output_type": "stream",
          "text": [
            "Distribución del número de anotadores\n",
            "number_annotators\n",
            "2    1780\n",
            "3     744\n",
            "Name: count, dtype: int64\n",
            "\n",
            "Distribución del idioma\n",
            "lang\n",
            "es    1524\n",
            "en    1000\n",
            "Name: count, dtype: int64\n",
            "\n",
            "Distribución del etiquetado para la tarea 1\n",
            "labels_task3_1\n",
            "[NO, NO]               1069\n",
            "[YES, YES]              711\n",
            "[YES, NO, YES]          255\n",
            "[NO, YES, NO]           140\n",
            "[YES, YES, YES]         108\n",
            "[NO, YES, YES]          101\n",
            "[YES, NO, NO]            62\n",
            "[UNKNOWN, NO, NO]        20\n",
            "[UNKNOWN, YES, YES]      19\n",
            "[NO, UNKNOWN, NO]        15\n",
            "[UNKNOWN, YES, NO]        7\n",
            "[UNKNOWN, NO, YES]        6\n",
            "[YES, UNKNOWN, YES]       4\n",
            "[YES, YES, NO]            4\n",
            "[YES, UNKNOWN, NO]        2\n",
            "[NO, UNKNOWN, YES]        1\n",
            "Name: count, dtype: int64\n",
            "\n",
            "Distribución del etiquetado para la tarea 3\n",
            "labels_task3_3\n",
            "[[-], [-]]                                                                                             1069\n",
            "[[STEREOTYPING-DOMINANCE], [STEREOTYPING-DOMINANCE]]                                                    234\n",
            "[[STEREOTYPING-DOMINANCE], [-], [STEREOTYPING-DOMINANCE]]                                                74\n",
            "[[-], [STEREOTYPING-DOMINANCE], [-]]                                                                     74\n",
            "[[IDEOLOGICAL-INEQUALITY], [IDEOLOGICAL-INEQUALITY]]                                                     52\n",
            "                                                                                                       ... \n",
            "[[-], [IDEOLOGICAL-INEQUALITY, STEREOTYPING-DOMINANCE], [IDEOLOGICAL-INEQUALITY]]                         1\n",
            "[[UNKNOWN], [SEXUAL-VIOLENCE], [IDEOLOGICAL-INEQUALITY, SEXUAL-VIOLENCE]]                                 1\n",
            "[[UNKNOWN], [MISOGYNY-NON-SEXUAL-VIOLENCE], [IDEOLOGICAL-INEQUALITY, MISOGYNY-NON-SEXUAL-VIOLENCE]]       1\n",
            "[[SEXUAL-VIOLENCE], [-], [IDEOLOGICAL-INEQUALITY, SEXUAL-VIOLENCE]]                                       1\n",
            "[[IDEOLOGICAL-INEQUALITY], [OBJECTIFICATION]]                                                             1\n",
            "Name: count, Length: 292, dtype: int64\n"
          ]
        }
      ],
      "source": [
        "# Distribución de datos importantes en el fichero\n",
        "\n",
        "print(\"Distribución del número de anotadores\")\n",
        "print(df.value_counts(\"number_annotators\"))\n",
        "\n",
        "print(\"\\nDistribución del idioma\")\n",
        "print(df.value_counts(\"lang\"))\n",
        "\n",
        "print(\"\\nDistribución del etiquetado para la tarea 1\")\n",
        "print(df['labels_task3_1'].value_counts())\n",
        "\n",
        "print(\"\\nDistribución del etiquetado para la tarea 3\")\n",
        "print(df['labels_task3_3'].value_counts())"
      ]
    },
    {
      "cell_type": "markdown",
      "metadata": {
        "id": "voJWd5ckLZzH"
      },
      "source": [
        "Tratamiento del fichero orifinal para generar uno nuevo en donde solamente se recoja la información relevante para la tarea 3.1\n",
        "\n",
        "La primera tarea es una clasificación binaria. Los sistemas tienen que decidir si un vídeo dado contiene o no expresiones o comportamientos sexistas (es decir, es sexista en sí mismo, describe una situación sexista o critica un comportamiento sexista), y clasificarlos según dos categorías: **YES** y **NO**"
      ]
    },
    {
      "cell_type": "code",
      "execution_count": 12,
      "metadata": {
        "colab": {
          "base_uri": "https://localhost:8080/"
        },
        "id": "sJEQQTZ4qlRo",
        "outputId": "1a02e3db-32f5-48ba-8cdd-75f0e8cf2749"
      },
      "outputs": [
        {
          "name": "stdout",
          "output_type": "stream",
          "text": [
            "labels_task_3_1_1\n",
            "0          1326\n",
            "1          1146\n",
            "UNKNOWN      52\n",
            "Name: count, dtype: int64\n",
            "labels_task_3_1_2\n",
            "0          1412\n",
            "1          1090\n",
            "UNKNOWN      22\n",
            "Name: count, dtype: int64\n",
            "labels_task_3_1_3\n",
            "1    494\n",
            "0    250\n",
            "Name: count, dtype: int64\n"
          ]
        },
        {
          "name": "stderr",
          "output_type": "stream",
          "text": [
            "/tmp/ipykernel_166734/3343910720.py:14: FutureWarning: Downcasting behavior in `replace` is deprecated and will be removed in a future version. To retain the old behavior, explicitly call `result.infer_objects(copy=False)`. To opt-in to the future behavior, set `pd.set_option('future.no_silent_downcasting', True)`\n",
            "  df_3_1.iloc[:, 5:] = df_3_1.iloc[:, 5:].replace({\"YES\": int(1), \"NO\": int(0)})\n"
          ]
        }
      ],
      "source": [
        "# Eliminamos la columna correspondiente a la tarea 3.3\n",
        "df_3_1 = df.drop(columns=[\"labels_task3_3\"])\n",
        "\n",
        "# Expande la columna labels_task3_1 en varias columnas\n",
        "df_3_1_expanded = df_3_1[\"labels_task3_1\"].apply(pd.Series)\n",
        "\n",
        "# Renombra las columnas resultantes para mayor claridad\n",
        "df_3_1_expanded.columns = [f\"labels_task_3_1_{i+1}\" for i in range(df_3_1_expanded.shape[1])]\n",
        "\n",
        "# Une con el dataframe original sin la columna original\n",
        "df_3_1 = pd.concat([df_3_1.drop(columns=[\"labels_task3_1\"]), df_3_1_expanded], axis=1)\n",
        "\n",
        "# Pasamos a binario los valores YES y NO\n",
        "df_3_1.iloc[:, 5:] = df_3_1.iloc[:, 5:].replace({\"YES\": int(1), \"NO\": int(0)})\n",
        "\n",
        "# # Esto se hace si queremos determinar si un valor específico de una fila/columna de un dataframe es NaN\n",
        "# # print(pd.isna(df_3_1.at[0, 'labels_task_3_1_3']))\n",
        "\n",
        "df_3_1.iloc[:, 7] = df_3_1.iloc[:, 7].astype(\"Int64\")  # Pasamos los valores binarios de la última columna a int64 --> Tipo entero que soporta NaN\n",
        "\n",
        "# print(str(type(df_3_1.iloc[0,6]))==\"<class 'pandas._libs.missing.NAType'>\")\n",
        "\n",
        "print(df_3_1['labels_task_3_1_1'].value_counts())\n",
        "print(df_3_1['labels_task_3_1_2'].value_counts())\n",
        "print(df_3_1['labels_task_3_1_3'].value_counts())\n",
        "\n",
        "# df_3_1"
      ]
    },
    {
      "cell_type": "markdown",
      "metadata": {
        "id": "gaxNR6oP29sO"
      },
      "source": [
        "Unificado de las anotaciones de los diferentes anotadores/as por mayoría: Si tiene 3 anotadores se unifica en el etiquetado que haya predominado en cada anotador/a.\n",
        "Si hay 2 anotadores/as y conflictos habrá que decidir si dejarlo como 0 o 1"
      ]
    },
    {
      "cell_type": "code",
      "execution_count": 13,
      "metadata": {
        "id": "C6wT7N326oTx"
      },
      "outputs": [],
      "source": [
        "df_3_1[\"label_task_3_1_merged\"] = 0 # Creación de una nueva columna en donde recogeremos la unión de la etiquetas impuestas por los/las anotadores/as"
      ]
    },
    {
      "cell_type": "code",
      "execution_count": 14,
      "metadata": {
        "colab": {
          "base_uri": "https://localhost:8080/"
        },
        "id": "Bqg0k2olNMiP",
        "outputId": "ed516d07-81ee-461c-ab2c-1117f8b64d82"
      },
      "outputs": [
        {
          "name": "stdout",
          "output_type": "stream",
          "text": [
            "True\n",
            "False\n"
          ]
        }
      ],
      "source": [
        "print(str(df_3_1.iloc[1]['labels_task_3_1_3']) == '<NA>')\n",
        "print(df_3_1.iloc[0]['labels_task_3_1_1'] == 'UNKNOWN')"
      ]
    },
    {
      "cell_type": "code",
      "execution_count": 15,
      "metadata": {
        "colab": {
          "base_uri": "https://localhost:8080/"
        },
        "id": "Hisx5c8JdbVX",
        "outputId": "5f9365e0-a69e-4ef0-a18e-fdfb9d4a65c8"
      },
      "outputs": [
        {
          "name": "stderr",
          "output_type": "stream",
          "text": [
            "/tmp/ipykernel_166734/280604306.py:36: FutureWarning: Setting an item of incompatible dtype is deprecated and will raise an error in a future version of pandas. Value 'To_delete' has dtype incompatible with int64, please explicitly cast to a compatible dtype first.\n",
            "  df_3_1.at[i, 'label_task_3_1_merged'] = 'To_delete' # CONFLICTO. Tenemos 3 opciones etiquetar 0, etiquetar 1 o descartar la fila\n"
          ]
        }
      ],
      "source": [
        "for i in range(df_3_1.shape[0]):\n",
        "  votacionPositiva = votacionNegativa = 0\n",
        "  numeroAnotadores = df_3_1.iloc[i]['number_annotators'] # Asimilamos que el número de anotadores es el que nos dice la columna pero lo verificaremos en las siguientes filas de código\n",
        "\n",
        "  if df_3_1.iloc[i]['labels_task_3_1_1'] == 0:\n",
        "    votacionNegativa += 1\n",
        "  elif df_3_1.iloc[i]['labels_task_3_1_1'] == 1:\n",
        "    votacionPositiva += 1\n",
        "  elif df_3_1.iloc[i]['labels_task_3_1_1'] == 'UNKNOWN': # En caso de que el etiquetado sea UNKNOWN (contabiliza al anotador pero no nos aporta información por lo que podemos descartarlo)\n",
        "    numeroAnotadores -= 1\n",
        "\n",
        "  if df_3_1.iloc[i]['labels_task_3_1_2'] == 0:\n",
        "    votacionNegativa += 1\n",
        "  elif df_3_1.iloc[i]['labels_task_3_1_2'] == 1:\n",
        "    votacionPositiva += 1\n",
        "  elif df_3_1.iloc[i]['labels_task_3_1_2'] == 'UNKNOWN': # En caso de que el etiquetado sea UNKNOWN (contabiliza al anotador pero no nos aporta información por lo que podemos descartarlo)\n",
        "    numeroAnotadores -= 1\n",
        "\n",
        "  if str(df_3_1.iloc[i]['labels_task_3_1_3']) == '0':\n",
        "    votacionNegativa += 1\n",
        "  elif str(df_3_1.iloc[i]['labels_task_3_1_3']) == '1':\n",
        "    votacionPositiva += 1\n",
        "\n",
        "  if numeroAnotadores == 3:\n",
        "    if votacionPositiva > votacionNegativa:\n",
        "      df_3_1.at[i, 'label_task_3_1_merged'] = 1\n",
        "    elif votacionPositiva < votacionNegativa:\n",
        "      df_3_1.at[i, 'label_task_3_1_merged'] = 0\n",
        "\n",
        "  if numeroAnotadores == 2:\n",
        "    if votacionPositiva == 2:\n",
        "      df_3_1.at[i, 'label_task_3_1_merged'] = 1\n",
        "    elif votacionNegativa == 2:\n",
        "      df_3_1.at[i, 'label_task_3_1_merged'] = 0\n",
        "    elif votacionNegativa == votacionPositiva == 1:\n",
        "      df_3_1.at[i, 'label_task_3_1_merged'] = 'To_delete' # CONFLICTO. Tenemos 3 opciones etiquetar 0, etiquetar 1 o descartar la fila\n",
        "\n",
        "# df_3_1"
      ]
    },
    {
      "cell_type": "code",
      "execution_count": 16,
      "metadata": {
        "id": "n72wBTHtcQ7t"
      },
      "outputs": [],
      "source": [
        "df_3_1 = df_3_1.drop(columns=[\"number_annotators\",\"labels_task_3_1_1\", \"labels_task_3_1_2\", \"labels_task_3_1_3\"])"
      ]
    },
    {
      "cell_type": "code",
      "execution_count": 19,
      "metadata": {
        "colab": {
          "base_uri": "https://localhost:8080/"
        },
        "id": "qjsVXetbc0aO",
        "outputId": "0d1166c1-643c-47d2-a43b-8102d1a33472"
      },
      "outputs": [
        {
          "name": "stdout",
          "output_type": "stream",
          "text": [
            "label_task_3_1_merged\n",
            "0    1306\n",
            "1    1202\n",
            "Name: count, dtype: int64\n"
          ]
        }
      ],
      "source": [
        "# Distribución del etiquetado después del tratado inicial de los datos\n",
        "print(df_3_1['label_task_3_1_merged'].value_counts())"
      ]
    },
    {
      "cell_type": "code",
      "execution_count": 18,
      "metadata": {
        "id": "RkenRt3OjwLR"
      },
      "outputs": [],
      "source": [
        "# Eliminación de las filas del dataframe que son conflictivas (2 anotadores con 2 etiquetas distintas)\n",
        "\n",
        "df_3_1 = df_3_1.drop(df_3_1[df_3_1['label_task_3_1_merged'] == 'To_delete'].index)\n",
        "df_3_1.reset_index(drop=True, inplace=True)"
      ]
    },
    {
      "cell_type": "code",
      "execution_count": 20,
      "metadata": {
        "colab": {
          "base_uri": "https://localhost:8080/",
          "height": 424
        },
        "id": "mF_VuUuJkI2L",
        "outputId": "a534caa8-e0d4-4cf6-c92e-6baf1dd469bf"
      },
      "outputs": [
        {
          "data": {
            "text/html": [
              "<div>\n",
              "<style scoped>\n",
              "    .dataframe tbody tr th:only-of-type {\n",
              "        vertical-align: middle;\n",
              "    }\n",
              "\n",
              "    .dataframe tbody tr th {\n",
              "        vertical-align: top;\n",
              "    }\n",
              "\n",
              "    .dataframe thead th {\n",
              "        text-align: right;\n",
              "    }\n",
              "</style>\n",
              "<table border=\"1\" class=\"dataframe\">\n",
              "  <thead>\n",
              "    <tr style=\"text-align: right;\">\n",
              "      <th></th>\n",
              "      <th>id_EXIST</th>\n",
              "      <th>lang</th>\n",
              "      <th>text</th>\n",
              "      <th>path_video</th>\n",
              "      <th>label_task_3_1_merged</th>\n",
              "    </tr>\n",
              "  </thead>\n",
              "  <tbody>\n",
              "    <tr>\n",
              "      <th>0</th>\n",
              "      <td>120001</td>\n",
              "      <td>es</td>\n",
              "      <td>cuando ves a las del 08 en la fiesta tu amigo...</td>\n",
              "      <td>videos/7281385962049998086.mp4</td>\n",
              "      <td>1</td>\n",
              "    </tr>\n",
              "    <tr>\n",
              "      <th>1</th>\n",
              "      <td>120002</td>\n",
              "      <td>es</td>\n",
              "      <td>mujer sola caminando por la calle | yo automat...</td>\n",
              "      <td>videos/7164058026352168197.mp4</td>\n",
              "      <td>1</td>\n",
              "    </tr>\n",
              "    <tr>\n",
              "      <th>2</th>\n",
              "      <td>120003</td>\n",
              "      <td>es</td>\n",
              "      <td>mi amigo no le importa ni las mujeres ni las ...</td>\n",
              "      <td>videos/7248606026386263323.mp4</td>\n",
              "      <td>0</td>\n",
              "    </tr>\n",
              "    <tr>\n",
              "      <th>3</th>\n",
              "      <td>120004</td>\n",
              "      <td>es</td>\n",
              "      <td>confirman las chicas cogiendo confianza despué...</td>\n",
              "      <td>videos/7305803156074597665.mp4</td>\n",
              "      <td>1</td>\n",
              "    </tr>\n",
              "    <tr>\n",
              "      <th>4</th>\n",
              "      <td>120005</td>\n",
              "      <td>es</td>\n",
              "      <td>aplastar la realidad la gordita del salón tien...</td>\n",
              "      <td>videos/7318400739775204614.mp4</td>\n",
              "      <td>1</td>\n",
              "    </tr>\n",
              "    <tr>\n",
              "      <th>...</th>\n",
              "      <td>...</td>\n",
              "      <td>...</td>\n",
              "      <td>...</td>\n",
              "      <td>...</td>\n",
              "      <td>...</td>\n",
              "    </tr>\n",
              "    <tr>\n",
              "      <th>2503</th>\n",
              "      <td>121520</td>\n",
              "      <td>es</td>\n",
              "      <td>temach le contesta a juan guarnizo 'compa_revj...</td>\n",
              "      <td>videos/7200979592717339910.mp4</td>\n",
              "      <td>1</td>\n",
              "    </tr>\n",
              "    <tr>\n",
              "      <th>2504</th>\n",
              "      <td>121521</td>\n",
              "      <td>es</td>\n",
              "      <td>sígueme, persona, rk, nik, meuk, ad0, mefor, ...</td>\n",
              "      <td>videos/7211806336047156486.mp4</td>\n",
              "      <td>0</td>\n",
              "    </tr>\n",
              "    <tr>\n",
              "      <th>2505</th>\n",
              "      <td>121522</td>\n",
              "      <td>es</td>\n",
              "      <td>vas a seguir regalando flores? no regales ni a...</td>\n",
              "      <td>videos/7213218074936315141.mp4</td>\n",
              "      <td>1</td>\n",
              "    </tr>\n",
              "    <tr>\n",
              "      <th>2506</th>\n",
              "      <td>121523</td>\n",
              "      <td>es</td>\n",
              "      <td>héctor dice que el sábado puse un pedo en cas...</td>\n",
              "      <td>videos/7217265848409492782.mp4</td>\n",
              "      <td>0</td>\n",
              "    </tr>\n",
              "    <tr>\n",
              "      <th>2507</th>\n",
              "      <td>121524</td>\n",
              "      <td>es</td>\n",
              "      <td>palabras que duelen  broken_heart  femach 8766...</td>\n",
              "      <td>videos/7218429008445312261.mp4</td>\n",
              "      <td>0</td>\n",
              "    </tr>\n",
              "  </tbody>\n",
              "</table>\n",
              "<p>2508 rows × 5 columns</p>\n",
              "</div>"
            ],
            "text/plain": [
              "      id_EXIST lang                                               text  \\\n",
              "0       120001   es   cuando ves a las del 08 en la fiesta tu amigo...   \n",
              "1       120002   es  mujer sola caminando por la calle | yo automat...   \n",
              "2       120003   es   mi amigo no le importa ni las mujeres ni las ...   \n",
              "3       120004   es  confirman las chicas cogiendo confianza despué...   \n",
              "4       120005   es  aplastar la realidad la gordita del salón tien...   \n",
              "...        ...  ...                                                ...   \n",
              "2503    121520   es  temach le contesta a juan guarnizo 'compa_revj...   \n",
              "2504    121521   es   sígueme, persona, rk, nik, meuk, ad0, mefor, ...   \n",
              "2505    121522   es  vas a seguir regalando flores? no regales ni a...   \n",
              "2506    121523   es   héctor dice que el sábado puse un pedo en cas...   \n",
              "2507    121524   es  palabras que duelen  broken_heart  femach 8766...   \n",
              "\n",
              "                          path_video label_task_3_1_merged  \n",
              "0     videos/7281385962049998086.mp4                     1  \n",
              "1     videos/7164058026352168197.mp4                     1  \n",
              "2     videos/7248606026386263323.mp4                     0  \n",
              "3     videos/7305803156074597665.mp4                     1  \n",
              "4     videos/7318400739775204614.mp4                     1  \n",
              "...                              ...                   ...  \n",
              "2503  videos/7200979592717339910.mp4                     1  \n",
              "2504  videos/7211806336047156486.mp4                     0  \n",
              "2505  videos/7213218074936315141.mp4                     1  \n",
              "2506  videos/7217265848409492782.mp4                     0  \n",
              "2507  videos/7218429008445312261.mp4                     0  \n",
              "\n",
              "[2508 rows x 5 columns]"
            ]
          },
          "execution_count": 20,
          "metadata": {},
          "output_type": "execute_result"
        }
      ],
      "source": [
        "df_3_1"
      ]
    },
    {
      "cell_type": "code",
      "execution_count": 21,
      "metadata": {
        "id": "Vxt7Ar7rdF6s"
      },
      "outputs": [],
      "source": [
        "# Guardamos el fichero resultante en nuestro Drive\n",
        "df_3_1.to_csv('/home/adrian/Escritorio/DeepSexist/DatasetManagement/EXIST2025DatasetV0.3/EXIST 2025 Videos Dataset/training/EXIST2025_training_task3_1_DISCARD.csv', index=True)"
      ]
    }
  ],
  "metadata": {
    "colab": {
      "authorship_tag": "ABX9TyOic7GqdgzIiWE2maPJZREu",
      "include_colab_link": true,
      "provenance": []
    },
    "kernelspec": {
      "display_name": "cudaenv",
      "language": "python",
      "name": "python3"
    },
    "language_info": {
      "codemirror_mode": {
        "name": "ipython",
        "version": 3
      },
      "file_extension": ".py",
      "mimetype": "text/x-python",
      "name": "python",
      "nbconvert_exporter": "python",
      "pygments_lexer": "ipython3",
      "version": "3.11.5"
    }
  },
  "nbformat": 4,
  "nbformat_minor": 0
}

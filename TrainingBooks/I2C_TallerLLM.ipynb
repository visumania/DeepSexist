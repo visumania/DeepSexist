{
  "cells": [
    {
      "cell_type": "markdown",
      "id": "24021097",
      "metadata": {
        "id": "24021097"
      },
      "source": [
        "# Taller I2C: Entrenamiento con LLMs"
      ]
    },
    {
      "cell_type": "markdown",
      "id": "021210c5",
      "metadata": {
        "id": "021210c5"
      },
      "source": [
        "## Instalación de dependencias y preparación del kernel"
      ]
    },
    {
      "cell_type": "code",
      "execution_count": null,
      "id": "c5e23f3c",
      "metadata": {
        "id": "c5e23f3c",
        "scrolled": true
      },
      "outputs": [],
      "source": [
        "# !pip install -q -U torch=='2.0.0'"
      ]
    },
    {
      "cell_type": "code",
      "execution_count": null,
      "id": "da6bfb66",
      "metadata": {
        "id": "da6bfb66",
        "scrolled": true
      },
      "outputs": [],
      "source": [
        "pip install -q -U accelerate=='0.25.0' peft=='0.7.1' bitsandbytes=='0.41.3.post2' transformers=='4.36.1' trl=='0.7.4'"
      ]
    },
    {
      "cell_type": "code",
      "execution_count": 6,
      "id": "BFJ5gM8MX447",
      "metadata": {
        "colab": {
          "base_uri": "https://localhost:8080/"
        },
        "id": "BFJ5gM8MX447",
        "outputId": "ea7d6384-3437-46bc-82da-e022b5ad702d"
      },
      "outputs": [
        {
          "name": "stdout",
          "output_type": "stream",
          "text": [
            "Requirement already satisfied: bitsandbytes in /home/adrian/anaconda3/envs/cudaenv/lib/python3.11/site-packages (0.41.3.post2)\n",
            "Requirement already satisfied: pytorch_lightning in /home/adrian/anaconda3/envs/cudaenv/lib/python3.11/site-packages (2.5.1)\n",
            "Requirement already satisfied: torch>=2.1.0 in /home/adrian/anaconda3/envs/cudaenv/lib/python3.11/site-packages (from pytorch_lightning) (2.6.0)\n",
            "Requirement already satisfied: tqdm>=4.57.0 in /home/adrian/anaconda3/envs/cudaenv/lib/python3.11/site-packages (from pytorch_lightning) (4.67.1)\n",
            "Requirement already satisfied: PyYAML>=5.4 in /home/adrian/anaconda3/envs/cudaenv/lib/python3.11/site-packages (from pytorch_lightning) (6.0.2)\n",
            "Requirement already satisfied: fsspec>=2022.5.0 in /home/adrian/anaconda3/envs/cudaenv/lib/python3.11/site-packages (from fsspec[http]>=2022.5.0->pytorch_lightning) (2024.12.0)\n",
            "Requirement already satisfied: torchmetrics>=0.7.0 in /home/adrian/anaconda3/envs/cudaenv/lib/python3.11/site-packages (from pytorch_lightning) (1.7.1)\n",
            "Requirement already satisfied: packaging>=20.0 in /home/adrian/anaconda3/envs/cudaenv/lib/python3.11/site-packages (from pytorch_lightning) (23.0)\n",
            "Requirement already satisfied: typing-extensions>=4.4.0 in /home/adrian/anaconda3/envs/cudaenv/lib/python3.11/site-packages (from pytorch_lightning) (4.13.1)\n",
            "Requirement already satisfied: lightning-utilities>=0.10.0 in /home/adrian/anaconda3/envs/cudaenv/lib/python3.11/site-packages (from pytorch_lightning) (0.14.3)\n",
            "Requirement already satisfied: aiohttp!=4.0.0a0,!=4.0.0a1 in /home/adrian/anaconda3/envs/cudaenv/lib/python3.11/site-packages (from fsspec[http]>=2022.5.0->pytorch_lightning) (3.11.16)\n",
            "Requirement already satisfied: setuptools in /home/adrian/anaconda3/envs/cudaenv/lib/python3.11/site-packages (from lightning-utilities>=0.10.0->pytorch_lightning) (75.8.0)\n",
            "Requirement already satisfied: filelock in /home/adrian/anaconda3/envs/cudaenv/lib/python3.11/site-packages (from torch>=2.1.0->pytorch_lightning) (3.18.0)\n",
            "Requirement already satisfied: networkx in /home/adrian/anaconda3/envs/cudaenv/lib/python3.11/site-packages (from torch>=2.1.0->pytorch_lightning) (3.4.2)\n",
            "Requirement already satisfied: jinja2 in /home/adrian/anaconda3/envs/cudaenv/lib/python3.11/site-packages (from torch>=2.1.0->pytorch_lightning) (3.1.6)\n",
            "Requirement already satisfied: nvidia-cuda-nvrtc-cu12==12.4.127 in /home/adrian/anaconda3/envs/cudaenv/lib/python3.11/site-packages (from torch>=2.1.0->pytorch_lightning) (12.4.127)\n",
            "Requirement already satisfied: nvidia-cuda-runtime-cu12==12.4.127 in /home/adrian/anaconda3/envs/cudaenv/lib/python3.11/site-packages (from torch>=2.1.0->pytorch_lightning) (12.4.127)\n",
            "Requirement already satisfied: nvidia-cuda-cupti-cu12==12.4.127 in /home/adrian/anaconda3/envs/cudaenv/lib/python3.11/site-packages (from torch>=2.1.0->pytorch_lightning) (12.4.127)\n",
            "Requirement already satisfied: nvidia-cudnn-cu12==9.1.0.70 in /home/adrian/anaconda3/envs/cudaenv/lib/python3.11/site-packages (from torch>=2.1.0->pytorch_lightning) (9.1.0.70)\n",
            "Requirement already satisfied: nvidia-cublas-cu12==12.4.5.8 in /home/adrian/anaconda3/envs/cudaenv/lib/python3.11/site-packages (from torch>=2.1.0->pytorch_lightning) (12.4.5.8)\n",
            "Requirement already satisfied: nvidia-cufft-cu12==11.2.1.3 in /home/adrian/anaconda3/envs/cudaenv/lib/python3.11/site-packages (from torch>=2.1.0->pytorch_lightning) (11.2.1.3)\n",
            "Requirement already satisfied: nvidia-curand-cu12==10.3.5.147 in /home/adrian/anaconda3/envs/cudaenv/lib/python3.11/site-packages (from torch>=2.1.0->pytorch_lightning) (10.3.5.147)\n",
            "Requirement already satisfied: nvidia-cusolver-cu12==11.6.1.9 in /home/adrian/anaconda3/envs/cudaenv/lib/python3.11/site-packages (from torch>=2.1.0->pytorch_lightning) (11.6.1.9)\n",
            "Requirement already satisfied: nvidia-cusparse-cu12==12.3.1.170 in /home/adrian/anaconda3/envs/cudaenv/lib/python3.11/site-packages (from torch>=2.1.0->pytorch_lightning) (12.3.1.170)\n",
            "Requirement already satisfied: nvidia-cusparselt-cu12==0.6.2 in /home/adrian/anaconda3/envs/cudaenv/lib/python3.11/site-packages (from torch>=2.1.0->pytorch_lightning) (0.6.2)\n",
            "Requirement already satisfied: nvidia-nccl-cu12==2.21.5 in /home/adrian/anaconda3/envs/cudaenv/lib/python3.11/site-packages (from torch>=2.1.0->pytorch_lightning) (2.21.5)\n",
            "Requirement already satisfied: nvidia-nvtx-cu12==12.4.127 in /home/adrian/anaconda3/envs/cudaenv/lib/python3.11/site-packages (from torch>=2.1.0->pytorch_lightning) (12.4.127)\n",
            "Requirement already satisfied: nvidia-nvjitlink-cu12==12.4.127 in /home/adrian/anaconda3/envs/cudaenv/lib/python3.11/site-packages (from torch>=2.1.0->pytorch_lightning) (12.4.127)\n",
            "Requirement already satisfied: triton==3.2.0 in /home/adrian/anaconda3/envs/cudaenv/lib/python3.11/site-packages (from torch>=2.1.0->pytorch_lightning) (3.2.0)\n",
            "Requirement already satisfied: sympy==1.13.1 in /home/adrian/anaconda3/envs/cudaenv/lib/python3.11/site-packages (from torch>=2.1.0->pytorch_lightning) (1.13.1)\n",
            "Requirement already satisfied: mpmath<1.4,>=1.1.0 in /home/adrian/anaconda3/envs/cudaenv/lib/python3.11/site-packages (from sympy==1.13.1->torch>=2.1.0->pytorch_lightning) (1.3.0)\n",
            "Requirement already satisfied: numpy>1.20.0 in /home/adrian/anaconda3/envs/cudaenv/lib/python3.11/site-packages (from torchmetrics>=0.7.0->pytorch_lightning) (2.2.4)\n",
            "Requirement already satisfied: aiohappyeyeballs>=2.3.0 in /home/adrian/anaconda3/envs/cudaenv/lib/python3.11/site-packages (from aiohttp!=4.0.0a0,!=4.0.0a1->fsspec[http]>=2022.5.0->pytorch_lightning) (2.6.1)\n",
            "Requirement already satisfied: aiosignal>=1.1.2 in /home/adrian/anaconda3/envs/cudaenv/lib/python3.11/site-packages (from aiohttp!=4.0.0a0,!=4.0.0a1->fsspec[http]>=2022.5.0->pytorch_lightning) (1.3.2)\n",
            "Requirement already satisfied: attrs>=17.3.0 in /home/adrian/anaconda3/envs/cudaenv/lib/python3.11/site-packages (from aiohttp!=4.0.0a0,!=4.0.0a1->fsspec[http]>=2022.5.0->pytorch_lightning) (25.3.0)\n",
            "Requirement already satisfied: frozenlist>=1.1.1 in /home/adrian/anaconda3/envs/cudaenv/lib/python3.11/site-packages (from aiohttp!=4.0.0a0,!=4.0.0a1->fsspec[http]>=2022.5.0->pytorch_lightning) (1.5.0)\n",
            "Requirement already satisfied: multidict<7.0,>=4.5 in /home/adrian/anaconda3/envs/cudaenv/lib/python3.11/site-packages (from aiohttp!=4.0.0a0,!=4.0.0a1->fsspec[http]>=2022.5.0->pytorch_lightning) (6.3.2)\n",
            "Requirement already satisfied: propcache>=0.2.0 in /home/adrian/anaconda3/envs/cudaenv/lib/python3.11/site-packages (from aiohttp!=4.0.0a0,!=4.0.0a1->fsspec[http]>=2022.5.0->pytorch_lightning) (0.3.1)\n",
            "Requirement already satisfied: yarl<2.0,>=1.17.0 in /home/adrian/anaconda3/envs/cudaenv/lib/python3.11/site-packages (from aiohttp!=4.0.0a0,!=4.0.0a1->fsspec[http]>=2022.5.0->pytorch_lightning) (1.19.0)\n",
            "Requirement already satisfied: MarkupSafe>=2.0 in /home/adrian/anaconda3/envs/cudaenv/lib/python3.11/site-packages (from jinja2->torch>=2.1.0->pytorch_lightning) (3.0.2)\n",
            "Requirement already satisfied: idna>=2.0 in /home/adrian/anaconda3/envs/cudaenv/lib/python3.11/site-packages (from yarl<2.0,>=1.17.0->aiohttp!=4.0.0a0,!=4.0.0a1->fsspec[http]>=2022.5.0->pytorch_lightning) (3.10)\n",
            "Requirement already satisfied: datasets in /home/adrian/anaconda3/envs/cudaenv/lib/python3.11/site-packages (3.5.0)\n",
            "Requirement already satisfied: filelock in /home/adrian/anaconda3/envs/cudaenv/lib/python3.11/site-packages (from datasets) (3.18.0)\n",
            "Requirement already satisfied: numpy>=1.17 in /home/adrian/anaconda3/envs/cudaenv/lib/python3.11/site-packages (from datasets) (2.2.4)\n",
            "Requirement already satisfied: pyarrow>=15.0.0 in /home/adrian/anaconda3/envs/cudaenv/lib/python3.11/site-packages (from datasets) (19.0.1)\n",
            "Requirement already satisfied: dill<0.3.9,>=0.3.0 in /home/adrian/anaconda3/envs/cudaenv/lib/python3.11/site-packages (from datasets) (0.3.8)\n",
            "Requirement already satisfied: pandas in /home/adrian/anaconda3/envs/cudaenv/lib/python3.11/site-packages (from datasets) (2.2.3)\n",
            "Requirement already satisfied: requests>=2.32.2 in /home/adrian/anaconda3/envs/cudaenv/lib/python3.11/site-packages (from datasets) (2.32.3)\n",
            "Requirement already satisfied: tqdm>=4.66.3 in /home/adrian/anaconda3/envs/cudaenv/lib/python3.11/site-packages (from datasets) (4.67.1)\n",
            "Requirement already satisfied: xxhash in /home/adrian/anaconda3/envs/cudaenv/lib/python3.11/site-packages (from datasets) (3.5.0)\n",
            "Requirement already satisfied: multiprocess<0.70.17 in /home/adrian/anaconda3/envs/cudaenv/lib/python3.11/site-packages (from datasets) (0.70.16)\n",
            "Requirement already satisfied: fsspec<=2024.12.0,>=2023.1.0 in /home/adrian/anaconda3/envs/cudaenv/lib/python3.11/site-packages (from fsspec[http]<=2024.12.0,>=2023.1.0->datasets) (2024.12.0)\n",
            "Requirement already satisfied: aiohttp in /home/adrian/anaconda3/envs/cudaenv/lib/python3.11/site-packages (from datasets) (3.11.16)\n",
            "Requirement already satisfied: huggingface-hub>=0.24.0 in /home/adrian/anaconda3/envs/cudaenv/lib/python3.11/site-packages (from datasets) (0.30.2)\n",
            "Requirement already satisfied: packaging in /home/adrian/anaconda3/envs/cudaenv/lib/python3.11/site-packages (from datasets) (23.0)\n",
            "Requirement already satisfied: pyyaml>=5.1 in /home/adrian/anaconda3/envs/cudaenv/lib/python3.11/site-packages (from datasets) (6.0.2)\n",
            "Requirement already satisfied: aiohappyeyeballs>=2.3.0 in /home/adrian/anaconda3/envs/cudaenv/lib/python3.11/site-packages (from aiohttp->datasets) (2.6.1)\n",
            "Requirement already satisfied: aiosignal>=1.1.2 in /home/adrian/anaconda3/envs/cudaenv/lib/python3.11/site-packages (from aiohttp->datasets) (1.3.2)\n",
            "Requirement already satisfied: attrs>=17.3.0 in /home/adrian/anaconda3/envs/cudaenv/lib/python3.11/site-packages (from aiohttp->datasets) (25.3.0)\n",
            "Requirement already satisfied: frozenlist>=1.1.1 in /home/adrian/anaconda3/envs/cudaenv/lib/python3.11/site-packages (from aiohttp->datasets) (1.5.0)\n",
            "Requirement already satisfied: multidict<7.0,>=4.5 in /home/adrian/anaconda3/envs/cudaenv/lib/python3.11/site-packages (from aiohttp->datasets) (6.3.2)\n",
            "Requirement already satisfied: propcache>=0.2.0 in /home/adrian/anaconda3/envs/cudaenv/lib/python3.11/site-packages (from aiohttp->datasets) (0.3.1)\n",
            "Requirement already satisfied: yarl<2.0,>=1.17.0 in /home/adrian/anaconda3/envs/cudaenv/lib/python3.11/site-packages (from aiohttp->datasets) (1.19.0)\n",
            "Requirement already satisfied: typing-extensions>=3.7.4.3 in /home/adrian/anaconda3/envs/cudaenv/lib/python3.11/site-packages (from huggingface-hub>=0.24.0->datasets) (4.13.1)\n",
            "Requirement already satisfied: charset-normalizer<4,>=2 in /home/adrian/anaconda3/envs/cudaenv/lib/python3.11/site-packages (from requests>=2.32.2->datasets) (3.4.1)\n",
            "Requirement already satisfied: idna<4,>=2.5 in /home/adrian/anaconda3/envs/cudaenv/lib/python3.11/site-packages (from requests>=2.32.2->datasets) (3.10)\n",
            "Requirement already satisfied: urllib3<3,>=1.21.1 in /home/adrian/anaconda3/envs/cudaenv/lib/python3.11/site-packages (from requests>=2.32.2->datasets) (2.3.0)\n",
            "Requirement already satisfied: certifi>=2017.4.17 in /home/adrian/anaconda3/envs/cudaenv/lib/python3.11/site-packages (from requests>=2.32.2->datasets) (2025.1.31)\n",
            "Requirement already satisfied: python-dateutil>=2.8.2 in /home/adrian/anaconda3/envs/cudaenv/lib/python3.11/site-packages (from pandas->datasets) (2.8.2)\n",
            "Requirement already satisfied: pytz>=2020.1 in /home/adrian/anaconda3/envs/cudaenv/lib/python3.11/site-packages (from pandas->datasets) (2025.2)\n",
            "Requirement already satisfied: tzdata>=2022.7 in /home/adrian/anaconda3/envs/cudaenv/lib/python3.11/site-packages (from pandas->datasets) (2025.2)\n",
            "Requirement already satisfied: six>=1.5 in /home/adrian/anaconda3/envs/cudaenv/lib/python3.11/site-packages (from python-dateutil>=2.8.2->pandas->datasets) (1.16.0)\n",
            "Requirement already satisfied: trl in /home/adrian/anaconda3/envs/cudaenv/lib/python3.11/site-packages (0.7.4)\n",
            "Requirement already satisfied: torch>=1.4.0 in /home/adrian/anaconda3/envs/cudaenv/lib/python3.11/site-packages (from trl) (2.6.0)\n",
            "Requirement already satisfied: transformers>=4.18.0 in /home/adrian/anaconda3/envs/cudaenv/lib/python3.11/site-packages (from trl) (4.36.1)\n",
            "Requirement already satisfied: numpy>=1.18.2 in /home/adrian/anaconda3/envs/cudaenv/lib/python3.11/site-packages (from trl) (2.2.4)\n",
            "Requirement already satisfied: accelerate in /home/adrian/anaconda3/envs/cudaenv/lib/python3.11/site-packages (from trl) (0.25.0)\n",
            "Requirement already satisfied: datasets in /home/adrian/anaconda3/envs/cudaenv/lib/python3.11/site-packages (from trl) (3.5.0)\n",
            "Requirement already satisfied: tyro>=0.5.11 in /home/adrian/anaconda3/envs/cudaenv/lib/python3.11/site-packages (from trl) (0.9.18)\n",
            "Requirement already satisfied: filelock in /home/adrian/anaconda3/envs/cudaenv/lib/python3.11/site-packages (from torch>=1.4.0->trl) (3.18.0)\n",
            "Requirement already satisfied: typing-extensions>=4.10.0 in /home/adrian/anaconda3/envs/cudaenv/lib/python3.11/site-packages (from torch>=1.4.0->trl) (4.13.1)\n",
            "Requirement already satisfied: networkx in /home/adrian/anaconda3/envs/cudaenv/lib/python3.11/site-packages (from torch>=1.4.0->trl) (3.4.2)\n",
            "Requirement already satisfied: jinja2 in /home/adrian/anaconda3/envs/cudaenv/lib/python3.11/site-packages (from torch>=1.4.0->trl) (3.1.6)\n",
            "Requirement already satisfied: fsspec in /home/adrian/anaconda3/envs/cudaenv/lib/python3.11/site-packages (from torch>=1.4.0->trl) (2024.12.0)\n",
            "Requirement already satisfied: nvidia-cuda-nvrtc-cu12==12.4.127 in /home/adrian/anaconda3/envs/cudaenv/lib/python3.11/site-packages (from torch>=1.4.0->trl) (12.4.127)\n",
            "Requirement already satisfied: nvidia-cuda-runtime-cu12==12.4.127 in /home/adrian/anaconda3/envs/cudaenv/lib/python3.11/site-packages (from torch>=1.4.0->trl) (12.4.127)\n",
            "Requirement already satisfied: nvidia-cuda-cupti-cu12==12.4.127 in /home/adrian/anaconda3/envs/cudaenv/lib/python3.11/site-packages (from torch>=1.4.0->trl) (12.4.127)\n",
            "Requirement already satisfied: nvidia-cudnn-cu12==9.1.0.70 in /home/adrian/anaconda3/envs/cudaenv/lib/python3.11/site-packages (from torch>=1.4.0->trl) (9.1.0.70)\n",
            "Requirement already satisfied: nvidia-cublas-cu12==12.4.5.8 in /home/adrian/anaconda3/envs/cudaenv/lib/python3.11/site-packages (from torch>=1.4.0->trl) (12.4.5.8)\n",
            "Requirement already satisfied: nvidia-cufft-cu12==11.2.1.3 in /home/adrian/anaconda3/envs/cudaenv/lib/python3.11/site-packages (from torch>=1.4.0->trl) (11.2.1.3)\n",
            "Requirement already satisfied: nvidia-curand-cu12==10.3.5.147 in /home/adrian/anaconda3/envs/cudaenv/lib/python3.11/site-packages (from torch>=1.4.0->trl) (10.3.5.147)\n",
            "Requirement already satisfied: nvidia-cusolver-cu12==11.6.1.9 in /home/adrian/anaconda3/envs/cudaenv/lib/python3.11/site-packages (from torch>=1.4.0->trl) (11.6.1.9)\n",
            "Requirement already satisfied: nvidia-cusparse-cu12==12.3.1.170 in /home/adrian/anaconda3/envs/cudaenv/lib/python3.11/site-packages (from torch>=1.4.0->trl) (12.3.1.170)\n",
            "Requirement already satisfied: nvidia-cusparselt-cu12==0.6.2 in /home/adrian/anaconda3/envs/cudaenv/lib/python3.11/site-packages (from torch>=1.4.0->trl) (0.6.2)\n",
            "Requirement already satisfied: nvidia-nccl-cu12==2.21.5 in /home/adrian/anaconda3/envs/cudaenv/lib/python3.11/site-packages (from torch>=1.4.0->trl) (2.21.5)\n",
            "Requirement already satisfied: nvidia-nvtx-cu12==12.4.127 in /home/adrian/anaconda3/envs/cudaenv/lib/python3.11/site-packages (from torch>=1.4.0->trl) (12.4.127)\n",
            "Requirement already satisfied: nvidia-nvjitlink-cu12==12.4.127 in /home/adrian/anaconda3/envs/cudaenv/lib/python3.11/site-packages (from torch>=1.4.0->trl) (12.4.127)\n",
            "Requirement already satisfied: triton==3.2.0 in /home/adrian/anaconda3/envs/cudaenv/lib/python3.11/site-packages (from torch>=1.4.0->trl) (3.2.0)\n",
            "Requirement already satisfied: sympy==1.13.1 in /home/adrian/anaconda3/envs/cudaenv/lib/python3.11/site-packages (from torch>=1.4.0->trl) (1.13.1)\n",
            "Requirement already satisfied: mpmath<1.4,>=1.1.0 in /home/adrian/anaconda3/envs/cudaenv/lib/python3.11/site-packages (from sympy==1.13.1->torch>=1.4.0->trl) (1.3.0)\n",
            "Requirement already satisfied: huggingface-hub<1.0,>=0.19.3 in /home/adrian/anaconda3/envs/cudaenv/lib/python3.11/site-packages (from transformers>=4.18.0->trl) (0.30.2)\n",
            "Requirement already satisfied: packaging>=20.0 in /home/adrian/anaconda3/envs/cudaenv/lib/python3.11/site-packages (from transformers>=4.18.0->trl) (23.0)\n",
            "Requirement already satisfied: pyyaml>=5.1 in /home/adrian/anaconda3/envs/cudaenv/lib/python3.11/site-packages (from transformers>=4.18.0->trl) (6.0.2)\n",
            "Requirement already satisfied: regex!=2019.12.17 in /home/adrian/anaconda3/envs/cudaenv/lib/python3.11/site-packages (from transformers>=4.18.0->trl) (2024.11.6)\n",
            "Requirement already satisfied: requests in /home/adrian/anaconda3/envs/cudaenv/lib/python3.11/site-packages (from transformers>=4.18.0->trl) (2.32.3)\n",
            "Requirement already satisfied: tokenizers<0.19,>=0.14 in /home/adrian/anaconda3/envs/cudaenv/lib/python3.11/site-packages (from transformers>=4.18.0->trl) (0.15.2)\n",
            "Requirement already satisfied: safetensors>=0.3.1 in /home/adrian/anaconda3/envs/cudaenv/lib/python3.11/site-packages (from transformers>=4.18.0->trl) (0.5.3)\n",
            "Requirement already satisfied: tqdm>=4.27 in /home/adrian/anaconda3/envs/cudaenv/lib/python3.11/site-packages (from transformers>=4.18.0->trl) (4.67.1)\n",
            "Requirement already satisfied: docstring-parser>=0.15 in /home/adrian/anaconda3/envs/cudaenv/lib/python3.11/site-packages (from tyro>=0.5.11->trl) (0.16)\n",
            "Requirement already satisfied: rich>=11.1.0 in /home/adrian/anaconda3/envs/cudaenv/lib/python3.11/site-packages (from tyro>=0.5.11->trl) (14.0.0)\n",
            "Requirement already satisfied: shtab>=1.5.6 in /home/adrian/anaconda3/envs/cudaenv/lib/python3.11/site-packages (from tyro>=0.5.11->trl) (1.7.1)\n",
            "Requirement already satisfied: typeguard>=4.0.0 in /home/adrian/anaconda3/envs/cudaenv/lib/python3.11/site-packages (from tyro>=0.5.11->trl) (4.4.2)\n",
            "Requirement already satisfied: psutil in /home/adrian/anaconda3/envs/cudaenv/lib/python3.11/site-packages (from accelerate->trl) (5.9.0)\n",
            "Requirement already satisfied: pyarrow>=15.0.0 in /home/adrian/anaconda3/envs/cudaenv/lib/python3.11/site-packages (from datasets->trl) (19.0.1)\n",
            "Requirement already satisfied: dill<0.3.9,>=0.3.0 in /home/adrian/anaconda3/envs/cudaenv/lib/python3.11/site-packages (from datasets->trl) (0.3.8)\n",
            "Requirement already satisfied: pandas in /home/adrian/anaconda3/envs/cudaenv/lib/python3.11/site-packages (from datasets->trl) (2.2.3)\n",
            "Requirement already satisfied: xxhash in /home/adrian/anaconda3/envs/cudaenv/lib/python3.11/site-packages (from datasets->trl) (3.5.0)\n",
            "Requirement already satisfied: multiprocess<0.70.17 in /home/adrian/anaconda3/envs/cudaenv/lib/python3.11/site-packages (from datasets->trl) (0.70.16)\n",
            "Requirement already satisfied: aiohttp in /home/adrian/anaconda3/envs/cudaenv/lib/python3.11/site-packages (from datasets->trl) (3.11.16)\n",
            "Requirement already satisfied: aiohappyeyeballs>=2.3.0 in /home/adrian/anaconda3/envs/cudaenv/lib/python3.11/site-packages (from aiohttp->datasets->trl) (2.6.1)\n",
            "Requirement already satisfied: aiosignal>=1.1.2 in /home/adrian/anaconda3/envs/cudaenv/lib/python3.11/site-packages (from aiohttp->datasets->trl) (1.3.2)\n",
            "Requirement already satisfied: attrs>=17.3.0 in /home/adrian/anaconda3/envs/cudaenv/lib/python3.11/site-packages (from aiohttp->datasets->trl) (25.3.0)\n",
            "Requirement already satisfied: frozenlist>=1.1.1 in /home/adrian/anaconda3/envs/cudaenv/lib/python3.11/site-packages (from aiohttp->datasets->trl) (1.5.0)\n",
            "Requirement already satisfied: multidict<7.0,>=4.5 in /home/adrian/anaconda3/envs/cudaenv/lib/python3.11/site-packages (from aiohttp->datasets->trl) (6.3.2)\n",
            "Requirement already satisfied: propcache>=0.2.0 in /home/adrian/anaconda3/envs/cudaenv/lib/python3.11/site-packages (from aiohttp->datasets->trl) (0.3.1)\n",
            "Requirement already satisfied: yarl<2.0,>=1.17.0 in /home/adrian/anaconda3/envs/cudaenv/lib/python3.11/site-packages (from aiohttp->datasets->trl) (1.19.0)\n",
            "Requirement already satisfied: charset-normalizer<4,>=2 in /home/adrian/anaconda3/envs/cudaenv/lib/python3.11/site-packages (from requests->transformers>=4.18.0->trl) (3.4.1)\n",
            "Requirement already satisfied: idna<4,>=2.5 in /home/adrian/anaconda3/envs/cudaenv/lib/python3.11/site-packages (from requests->transformers>=4.18.0->trl) (3.10)\n",
            "Requirement already satisfied: urllib3<3,>=1.21.1 in /home/adrian/anaconda3/envs/cudaenv/lib/python3.11/site-packages (from requests->transformers>=4.18.0->trl) (2.3.0)\n",
            "Requirement already satisfied: certifi>=2017.4.17 in /home/adrian/anaconda3/envs/cudaenv/lib/python3.11/site-packages (from requests->transformers>=4.18.0->trl) (2025.1.31)\n",
            "Requirement already satisfied: markdown-it-py>=2.2.0 in /home/adrian/anaconda3/envs/cudaenv/lib/python3.11/site-packages (from rich>=11.1.0->tyro>=0.5.11->trl) (3.0.0)\n",
            "Requirement already satisfied: pygments<3.0.0,>=2.13.0 in /home/adrian/anaconda3/envs/cudaenv/lib/python3.11/site-packages (from rich>=11.1.0->tyro>=0.5.11->trl) (2.15.1)\n",
            "Requirement already satisfied: MarkupSafe>=2.0 in /home/adrian/anaconda3/envs/cudaenv/lib/python3.11/site-packages (from jinja2->torch>=1.4.0->trl) (3.0.2)\n",
            "Requirement already satisfied: python-dateutil>=2.8.2 in /home/adrian/anaconda3/envs/cudaenv/lib/python3.11/site-packages (from pandas->datasets->trl) (2.8.2)\n",
            "Requirement already satisfied: pytz>=2020.1 in /home/adrian/anaconda3/envs/cudaenv/lib/python3.11/site-packages (from pandas->datasets->trl) (2025.2)\n",
            "Requirement already satisfied: tzdata>=2022.7 in /home/adrian/anaconda3/envs/cudaenv/lib/python3.11/site-packages (from pandas->datasets->trl) (2025.2)\n",
            "Requirement already satisfied: mdurl~=0.1 in /home/adrian/anaconda3/envs/cudaenv/lib/python3.11/site-packages (from markdown-it-py>=2.2.0->rich>=11.1.0->tyro>=0.5.11->trl) (0.1.2)\n",
            "Requirement already satisfied: six>=1.5 in /home/adrian/anaconda3/envs/cudaenv/lib/python3.11/site-packages (from python-dateutil>=2.8.2->pandas->datasets->trl) (1.16.0)\n"
          ]
        }
      ],
      "source": [
        "!pip install bitsandbytes\n",
        "!pip install pytorch_lightning\n",
        "!pip install datasets\n",
        "!pip install trl"
      ]
    },
    {
      "cell_type": "markdown",
      "id": "a089ac66",
      "metadata": {
        "id": "a089ac66"
      },
      "source": [
        "#### Limpiar caché"
      ]
    },
    {
      "cell_type": "code",
      "execution_count": 3,
      "id": "c67fcc94",
      "metadata": {
        "id": "c67fcc94"
      },
      "outputs": [],
      "source": [
        "import os\n",
        "os.environ[\"CUDA_VISIBLE_DEVICES\"] = \"0\"\n",
        "os.environ[\"TOKENIZERS_PARALLELISM\"] = \"false\"\n",
        "os.environ[\"TF_DETERMINISTIC_OPS\"] = \"1\""
      ]
    },
    {
      "cell_type": "code",
      "execution_count": 4,
      "id": "d41d4c66",
      "metadata": {
        "id": "d41d4c66"
      },
      "outputs": [],
      "source": [
        "import warnings\n",
        "warnings.filterwarnings(\"ignore\")"
      ]
    },
    {
      "cell_type": "code",
      "execution_count": 7,
      "id": "2745bb52",
      "metadata": {
        "id": "2745bb52"
      },
      "outputs": [
        {
          "name": "stdout",
          "output_type": "stream",
          "text": [
            "\n",
            "===================================BUG REPORT===================================\n",
            "================================================================================\n",
            "The following directories listed in your path were found to be non-existent: {PosixPath('/org/gnome/Terminal/screen/bcf0b413_5869_4f29_a29f_d5c12fd4ee9d')}\n",
            "The following directories listed in your path were found to be non-existent: {PosixPath('1'), PosixPath('0')}\n",
            "The following directories listed in your path were found to be non-existent: {PosixPath('local/i2c-uhu'), PosixPath('@/tmp/.ICE-unix/170957,unix/i2c-uhu')}\n",
            "The following directories listed in your path were found to be non-existent: {PosixPath('vs/workbench/api/node/extensionHostProcess')}\n",
            "The following directories listed in your path were found to be non-existent: {PosixPath('{}}'), PosixPath('\"en-us\",\"availableLanguages\"'), PosixPath('\"en\",\"defaultMessagesFile\"'), PosixPath('\"es-es\",\"resolvedLanguage\"'), PosixPath('\"/usr/share/code/resources/app/out/nls.messages.json\",\"locale\"'), PosixPath('\"en-us\",\"osLocale\"'), PosixPath('{\"userLocale\"')}\n",
            "The following directories listed in your path were found to be non-existent: {PosixPath('/etc/xdg/xdg-ubuntu')}\n",
            "The following directories listed in your path were found to be non-existent: {PosixPath('module'), PosixPath('//matplotlib_inline.backend_inline')}\n",
            "CUDA_SETUP: WARNING! libcudart.so not found in any environmental path. Searching in backup paths...\n",
            "DEBUG: Possible options found for libcudart.so: {PosixPath('/usr/local/cuda/lib64/libcudart.so')}\n",
            "CUDA SETUP: PyTorch settings found: CUDA_VERSION=124, Highest Compute Capability: 8.9.\n",
            "CUDA SETUP: To manually override the PyTorch CUDA version please see:https://github.com/TimDettmers/bitsandbytes/blob/main/how_to_use_nonpytorch_cuda.md\n",
            "CUDA SETUP: Required library version not found: libbitsandbytes_cuda124.so. Maybe you need to compile it from source?\n",
            "CUDA SETUP: Defaulting to libbitsandbytes_cpu.so...\n",
            "\n",
            "================================================ERROR=====================================\n",
            "CUDA SETUP: CUDA detection failed! Possible reasons:\n",
            "1. You need to manually override the PyTorch CUDA version. Please see: \"https://github.com/TimDettmers/bitsandbytes/blob/main/how_to_use_nonpytorch_cuda.md\n",
            "2. CUDA driver not installed\n",
            "3. CUDA not installed\n",
            "4. You have multiple conflicting CUDA libraries\n",
            "5. Required library not pre-compiled for this bitsandbytes release!\n",
            "CUDA SETUP: If you compiled from source, try again with `make CUDA_VERSION=DETECTED_CUDA_VERSION` for example, `make CUDA_VERSION=113`.\n",
            "CUDA SETUP: The CUDA version for the compile might depend on your conda install. Inspect CUDA version via `conda list | grep cuda`.\n",
            "================================================================================\n",
            "\n",
            "CUDA SETUP: Something unexpected happened. Please compile from source:\n",
            "git clone https://github.com/TimDettmers/bitsandbytes.git\n",
            "cd bitsandbytes\n",
            "CUDA_VERSION=124\n",
            "python setup.py install\n",
            "CUDA SETUP: Setup Failed!\n"
          ]
        },
        {
          "ename": "RuntimeError",
          "evalue": "\n        CUDA Setup failed despite GPU being available. Please run the following command to get more information:\n\n        python -m bitsandbytes\n\n        Inspect the output of the command and see if you can locate CUDA libraries. You might need to add them\n        to your LD_LIBRARY_PATH. If you suspect a bug, please take the information from python -m bitsandbytes\n        and open an issue at: https://github.com/TimDettmers/bitsandbytes/issues",
          "output_type": "error",
          "traceback": [
            "\u001b[0;31m---------------------------------------------------------------------------\u001b[0m",
            "\u001b[0;31mRuntimeError\u001b[0m                              Traceback (most recent call last)",
            "Cell \u001b[0;32mIn[7], line 5\u001b[0m\n\u001b[1;32m      3\u001b[0m \u001b[38;5;28;01mimport\u001b[39;00m \u001b[38;5;21;01mos\u001b[39;00m\n\u001b[1;32m      4\u001b[0m \u001b[38;5;28;01mimport\u001b[39;00m \u001b[38;5;21;01mrandom\u001b[39;00m\n\u001b[0;32m----> 5\u001b[0m \u001b[38;5;28;01mimport\u001b[39;00m \u001b[38;5;21;01mbitsandbytes\u001b[39;00m \u001b[38;5;28;01mas\u001b[39;00m \u001b[38;5;21;01mbnb\u001b[39;00m\n\u001b[1;32m      6\u001b[0m \u001b[38;5;28;01mimport\u001b[39;00m \u001b[38;5;21;01mtorch\u001b[39;00m\n\u001b[1;32m      7\u001b[0m \u001b[38;5;28;01mimport\u001b[39;00m \u001b[38;5;21;01mtorch\u001b[39;00m\u001b[38;5;21;01m.\u001b[39;00m\u001b[38;5;21;01mnn\u001b[39;00m \u001b[38;5;28;01mas\u001b[39;00m \u001b[38;5;21;01mnn\u001b[39;00m\n",
            "File \u001b[0;32m~/anaconda3/envs/cudaenv/lib/python3.11/site-packages/bitsandbytes/__init__.py:6\u001b[0m\n\u001b[1;32m      1\u001b[0m \u001b[38;5;66;03m# Copyright (c) Facebook, Inc. and its affiliates.\u001b[39;00m\n\u001b[1;32m      2\u001b[0m \u001b[38;5;66;03m#\u001b[39;00m\n\u001b[1;32m      3\u001b[0m \u001b[38;5;66;03m# This source code is licensed under the MIT license found in the\u001b[39;00m\n\u001b[1;32m      4\u001b[0m \u001b[38;5;66;03m# LICENSE file in the root directory of this source tree.\u001b[39;00m\n\u001b[0;32m----> 6\u001b[0m \u001b[38;5;28;01mfrom\u001b[39;00m \u001b[38;5;21;01m.\u001b[39;00m \u001b[38;5;28;01mimport\u001b[39;00m cuda_setup, utils, research\n\u001b[1;32m      7\u001b[0m \u001b[38;5;28;01mfrom\u001b[39;00m \u001b[38;5;21;01m.\u001b[39;00m\u001b[38;5;21;01mautograd\u001b[39;00m\u001b[38;5;21;01m.\u001b[39;00m\u001b[38;5;21;01m_functions\u001b[39;00m \u001b[38;5;28;01mimport\u001b[39;00m (\n\u001b[1;32m      8\u001b[0m     MatmulLtState,\n\u001b[1;32m      9\u001b[0m     bmm_cublas,\n\u001b[0;32m   (...)\u001b[0m\n\u001b[1;32m     13\u001b[0m     matmul_4bit\n\u001b[1;32m     14\u001b[0m )\n\u001b[1;32m     15\u001b[0m \u001b[38;5;28;01mfrom\u001b[39;00m \u001b[38;5;21;01m.\u001b[39;00m\u001b[38;5;21;01mcextension\u001b[39;00m \u001b[38;5;28;01mimport\u001b[39;00m COMPILED_WITH_CUDA\n",
            "File \u001b[0;32m~/anaconda3/envs/cudaenv/lib/python3.11/site-packages/bitsandbytes/research/__init__.py:1\u001b[0m\n\u001b[0;32m----> 1\u001b[0m \u001b[38;5;28;01mfrom\u001b[39;00m \u001b[38;5;21;01m.\u001b[39;00m \u001b[38;5;28;01mimport\u001b[39;00m nn\n\u001b[1;32m      2\u001b[0m \u001b[38;5;28;01mfrom\u001b[39;00m \u001b[38;5;21;01m.\u001b[39;00m\u001b[38;5;21;01mautograd\u001b[39;00m\u001b[38;5;21;01m.\u001b[39;00m\u001b[38;5;21;01m_functions\u001b[39;00m \u001b[38;5;28;01mimport\u001b[39;00m (\n\u001b[1;32m      3\u001b[0m     switchback_bnb,\n\u001b[1;32m      4\u001b[0m     matmul_fp8_global,\n\u001b[1;32m      5\u001b[0m     matmul_fp8_mixed,\n\u001b[1;32m      6\u001b[0m )\n",
            "File \u001b[0;32m~/anaconda3/envs/cudaenv/lib/python3.11/site-packages/bitsandbytes/research/nn/__init__.py:1\u001b[0m\n\u001b[0;32m----> 1\u001b[0m \u001b[38;5;28;01mfrom\u001b[39;00m \u001b[38;5;21;01m.\u001b[39;00m\u001b[38;5;21;01mmodules\u001b[39;00m \u001b[38;5;28;01mimport\u001b[39;00m LinearFP8Mixed, LinearFP8Global\n",
            "File \u001b[0;32m~/anaconda3/envs/cudaenv/lib/python3.11/site-packages/bitsandbytes/research/nn/modules.py:8\u001b[0m\n\u001b[1;32m      5\u001b[0m \u001b[38;5;28;01mfrom\u001b[39;00m \u001b[38;5;21;01mtorch\u001b[39;00m \u001b[38;5;28;01mimport\u001b[39;00m Tensor, device, dtype, nn\n\u001b[1;32m      7\u001b[0m \u001b[38;5;28;01mimport\u001b[39;00m \u001b[38;5;21;01mbitsandbytes\u001b[39;00m \u001b[38;5;28;01mas\u001b[39;00m \u001b[38;5;21;01mbnb\u001b[39;00m\n\u001b[0;32m----> 8\u001b[0m \u001b[38;5;28;01mfrom\u001b[39;00m \u001b[38;5;21;01mbitsandbytes\u001b[39;00m\u001b[38;5;21;01m.\u001b[39;00m\u001b[38;5;21;01moptim\u001b[39;00m \u001b[38;5;28;01mimport\u001b[39;00m GlobalOptimManager\n\u001b[1;32m      9\u001b[0m \u001b[38;5;28;01mfrom\u001b[39;00m \u001b[38;5;21;01mbitsandbytes\u001b[39;00m\u001b[38;5;21;01m.\u001b[39;00m\u001b[38;5;21;01mutils\u001b[39;00m \u001b[38;5;28;01mimport\u001b[39;00m OutlierTracer, find_outlier_dims\n\u001b[1;32m     11\u001b[0m T \u001b[38;5;241m=\u001b[39m TypeVar(\u001b[38;5;124m\"\u001b[39m\u001b[38;5;124mT\u001b[39m\u001b[38;5;124m\"\u001b[39m, bound\u001b[38;5;241m=\u001b[39m\u001b[38;5;124m\"\u001b[39m\u001b[38;5;124mtorch.nn.Module\u001b[39m\u001b[38;5;124m\"\u001b[39m)\n",
            "File \u001b[0;32m~/anaconda3/envs/cudaenv/lib/python3.11/site-packages/bitsandbytes/optim/__init__.py:6\u001b[0m\n\u001b[1;32m      1\u001b[0m \u001b[38;5;66;03m# Copyright (c) Facebook, Inc. and its affiliates.\u001b[39;00m\n\u001b[1;32m      2\u001b[0m \u001b[38;5;66;03m#\u001b[39;00m\n\u001b[1;32m      3\u001b[0m \u001b[38;5;66;03m# This source code is licensed under the MIT license found in the\u001b[39;00m\n\u001b[1;32m      4\u001b[0m \u001b[38;5;66;03m# LICENSE file in the root directory of this source tree.\u001b[39;00m\n\u001b[0;32m----> 6\u001b[0m \u001b[38;5;28;01mfrom\u001b[39;00m \u001b[38;5;21;01mbitsandbytes\u001b[39;00m\u001b[38;5;21;01m.\u001b[39;00m\u001b[38;5;21;01mcextension\u001b[39;00m \u001b[38;5;28;01mimport\u001b[39;00m COMPILED_WITH_CUDA\n\u001b[1;32m      8\u001b[0m \u001b[38;5;28;01mfrom\u001b[39;00m \u001b[38;5;21;01m.\u001b[39;00m\u001b[38;5;21;01madagrad\u001b[39;00m \u001b[38;5;28;01mimport\u001b[39;00m Adagrad, Adagrad8bit, Adagrad32bit\n\u001b[1;32m      9\u001b[0m \u001b[38;5;28;01mfrom\u001b[39;00m \u001b[38;5;21;01m.\u001b[39;00m\u001b[38;5;21;01madam\u001b[39;00m \u001b[38;5;28;01mimport\u001b[39;00m Adam, Adam8bit, Adam32bit, PagedAdam, PagedAdam8bit, PagedAdam32bit\n",
            "File \u001b[0;32m~/anaconda3/envs/cudaenv/lib/python3.11/site-packages/bitsandbytes/cextension.py:20\u001b[0m\n\u001b[1;32m     18\u001b[0m     CUDASetup\u001b[38;5;241m.\u001b[39mget_instance()\u001b[38;5;241m.\u001b[39mgenerate_instructions()\n\u001b[1;32m     19\u001b[0m     CUDASetup\u001b[38;5;241m.\u001b[39mget_instance()\u001b[38;5;241m.\u001b[39mprint_log_stack()\n\u001b[0;32m---> 20\u001b[0m     \u001b[38;5;28;01mraise\u001b[39;00m \u001b[38;5;167;01mRuntimeError\u001b[39;00m(\u001b[38;5;124m'''\u001b[39m\n\u001b[1;32m     21\u001b[0m \u001b[38;5;124m    CUDA Setup failed despite GPU being available. Please run the following command to get more information:\u001b[39m\n\u001b[1;32m     22\u001b[0m \n\u001b[1;32m     23\u001b[0m \u001b[38;5;124m    python -m bitsandbytes\u001b[39m\n\u001b[1;32m     24\u001b[0m \n\u001b[1;32m     25\u001b[0m \u001b[38;5;124m    Inspect the output of the command and see if you can locate CUDA libraries. You might need to add them\u001b[39m\n\u001b[1;32m     26\u001b[0m \u001b[38;5;124m    to your LD_LIBRARY_PATH. If you suspect a bug, please take the information from python -m bitsandbytes\u001b[39m\n\u001b[1;32m     27\u001b[0m \u001b[38;5;124m    and open an issue at: https://github.com/TimDettmers/bitsandbytes/issues\u001b[39m\u001b[38;5;124m'''\u001b[39m)\n\u001b[1;32m     28\u001b[0m lib\u001b[38;5;241m.\u001b[39mcadam32bit_grad_fp32 \u001b[38;5;66;03m# runs on an error if the library could not be found -> COMPILED_WITH_CUDA=False\u001b[39;00m\n\u001b[1;32m     29\u001b[0m lib\u001b[38;5;241m.\u001b[39mget_context\u001b[38;5;241m.\u001b[39mrestype \u001b[38;5;241m=\u001b[39m ct\u001b[38;5;241m.\u001b[39mc_void_p\n",
            "\u001b[0;31mRuntimeError\u001b[0m: \n        CUDA Setup failed despite GPU being available. Please run the following command to get more information:\n\n        python -m bitsandbytes\n\n        Inspect the output of the command and see if you can locate CUDA libraries. You might need to add them\n        to your LD_LIBRARY_PATH. If you suspect a bug, please take the information from python -m bitsandbytes\n        and open an issue at: https://github.com/TimDettmers/bitsandbytes/issues"
          ]
        }
      ],
      "source": [
        "import numpy as np\n",
        "import pandas as pd\n",
        "import os\n",
        "import random\n",
        "import bitsandbytes as bnb\n",
        "import torch\n",
        "import torch.nn as nn\n",
        "import transformers\n",
        "import matplotlib.pyplot as plt\n",
        "import seaborn as sns\n",
        "from pytorch_lightning import seed_everything\n",
        "from tqdm import tqdm\n",
        "from datasets import Dataset\n",
        "from peft import LoraConfig, PeftConfig\n",
        "from trl import SFTTrainer\n",
        "from transformers import (AutoModelForCausalLM,\n",
        "                          AutoTokenizer,\n",
        "                          BitsAndBytesConfig,\n",
        "                          TrainingArguments,\n",
        "                          pipeline,\n",
        "                          logging,\n",
        "                          EarlyStoppingCallback)\n",
        "from sklearn.metrics import (accuracy_score,\n",
        "                             classification_report,\n",
        "                             confusion_matrix)\n",
        "from sklearn.model_selection import train_test_split\n",
        "from sklearn.metrics import roc_curve, auc\n",
        "from huggingface_hub import login"
      ]
    },
    {
      "cell_type": "code",
      "execution_count": 4,
      "id": "9074a714",
      "metadata": {
        "colab": {
          "base_uri": "https://localhost:8080/"
        },
        "id": "9074a714",
        "outputId": "168292b7-461b-4171-e8ca-3d1b32c842ea"
      },
      "outputs": [
        {
          "name": "stderr",
          "output_type": "stream",
          "text": [
            "Seed set to 42\n"
          ]
        }
      ],
      "source": [
        "seed_val = 42\n",
        "random.seed(seed_val)\n",
        "np.random.seed(seed_val)\n",
        "torch.manual_seed(seed_val)\n",
        "torch.cuda.manual_seed_all(seed_val)\n",
        "torch.backends.cudnn.deterministic = True\n",
        "torch.backends.cudnn.benchmark = False\n",
        "seed_everything(42, workers=True)\n",
        "pd.set_option('display.max_colwidth', None)"
      ]
    },
    {
      "cell_type": "code",
      "execution_count": 5,
      "id": "cdbc6a73",
      "metadata": {
        "colab": {
          "base_uri": "https://localhost:8080/"
        },
        "id": "cdbc6a73",
        "outputId": "9296711b-d8bc-4479-ad8a-dfa7aca45d55"
      },
      "outputs": [
        {
          "name": "stdout",
          "output_type": "stream",
          "text": [
            "GPU detected. Currently using: \"NVIDIA GeForce RTX 4070\"\n"
          ]
        }
      ],
      "source": [
        "# Comprobar GPU\n",
        "if torch.cuda.device_count() > 0:\n",
        "    print(f'GPU detected. Currently using: \"{torch.cuda.get_device_name(0)}\"')\n",
        "    device = torch.device(\"cuda\")\n",
        "else:\n",
        "    print('Currently using CPU. To utilize GPU acceleration, change the runtime type in the \\'runtime\\' tab.')"
      ]
    },
    {
      "cell_type": "markdown",
      "id": "c4c2500f",
      "metadata": {
        "id": "c4c2500f"
      },
      "source": [
        "## Preparación del conjunto de datos"
      ]
    },
    {
      "cell_type": "markdown",
      "id": "3ce26f8b",
      "metadata": {
        "id": "3ce26f8b"
      },
      "source": [
        "#### Carga de datos desde el drive"
      ]
    },
    {
      "cell_type": "code",
      "execution_count": null,
      "id": "9oiDtY0vZwo0",
      "metadata": {
        "colab": {
          "base_uri": "https://localhost:8080/"
        },
        "id": "9oiDtY0vZwo0",
        "outputId": "c397915c-6b06-40c4-b839-d5c237d4ac4c"
      },
      "outputs": [
        {
          "name": "stdout",
          "output_type": "stream",
          "text": [
            "Mounted at /content/drive\n"
          ]
        }
      ],
      "source": [
        "# # Montar directorio de drive\n",
        "# from google.colab import drive\n",
        "# drive.mount('/content/drive')"
      ]
    },
    {
      "cell_type": "code",
      "execution_count": null,
      "id": "WsuHM__UNpM5",
      "metadata": {
        "colab": {
          "base_uri": "https://localhost:8080/",
          "height": 702
        },
        "id": "WsuHM__UNpM5",
        "outputId": "1815044c-4ae5-48e9-e570-0bc0672794c3"
      },
      "outputs": [
        {
          "data": {
            "text/html": [
              "<div>\n",
              "<style scoped>\n",
              "    .dataframe tbody tr th:only-of-type {\n",
              "        vertical-align: middle;\n",
              "    }\n",
              "\n",
              "    .dataframe tbody tr th {\n",
              "        vertical-align: top;\n",
              "    }\n",
              "\n",
              "    .dataframe thead th {\n",
              "        text-align: right;\n",
              "    }\n",
              "</style>\n",
              "<table border=\"1\" class=\"dataframe\">\n",
              "  <thead>\n",
              "    <tr style=\"text-align: right;\">\n",
              "      <th></th>\n",
              "      <th>id_EXIST</th>\n",
              "      <th>lang</th>\n",
              "      <th>text</th>\n",
              "      <th>path_video</th>\n",
              "      <th>label_task_3_1_merged</th>\n",
              "    </tr>\n",
              "  </thead>\n",
              "  <tbody>\n",
              "    <tr>\n",
              "      <th>0</th>\n",
              "      <td>120001</td>\n",
              "      <td>es</td>\n",
              "      <td>cuando ves a las del 08 en la fiesta tu amigo el menos salido  j5 [aza red. hay zorro al raimon ha conseguido impedir el tiro de la super táctica.</td>\n",
              "      <td>videos/7281385962049998086.mp4</td>\n",
              "      <td>1</td>\n",
              "    </tr>\n",
              "    <tr>\n",
              "      <th>1</th>\n",
              "      <td>120002</td>\n",
              "      <td>es</td>\n",
              "      <td>mujer sola caminando por la calle | yo automaticamente | mujer camina sola de madrugada, automáticamente  over speed eternium levels critical wv m7_yis velocidad nc excessbeyelocipap1sss. diferentes nacionalidades, pero cuando chingan gritan todas por iguales.</td>\n",
              "      <td>videos/7164058026352168197.mp4</td>\n",
              "      <td>1</td>\n",
              "    </tr>\n",
              "    <tr>\n",
              "      <th>2</th>\n",
              "      <td>120003</td>\n",
              "      <td>es</td>\n",
              "      <td>mi amigo no le importa ni las mujeres ni las redes sociales. el pueblo es de la zona de la</td>\n",
              "      <td>videos/7248606026386263323.mp4</td>\n",
              "      <td>0</td>\n",
              "    </tr>\n",
              "    <tr>\n",
              "      <th>3</th>\n",
              "      <td>120004</td>\n",
              "      <td>es</td>\n",
              "      <td>confirman las chicas cogiendo confianza después de un año de conocerse, junto a unos randoms que acabo de encontrar por la calle. como camarón, me rompen las entrañas, me trepa como una araña, bebe el azúcar que empaña cristales de habitación, pide un par por la mañana de \"pronto y no tengo\".piu-toi-no-ten</td>\n",
              "      <td>videos/7305803156074597665.mp4</td>\n",
              "      <td>1</td>\n",
              "    </tr>\n",
              "    <tr>\n",
              "      <th>4</th>\n",
              "      <td>120005</td>\n",
              "      <td>es</td>\n",
              "      <td>aplastar la realidad la gordita del salón tiene 10 en educación física y yo tengo 7. a mí me llevan preso como diga lo que opino de esto ahora mismo. a mí me llevan preso. ¡ a mí me llevan preso.</td>\n",
              "      <td>videos/7318400739775204614.mp4</td>\n",
              "      <td>1</td>\n",
              "    </tr>\n",
              "    <tr>\n",
              "      <th>...</th>\n",
              "      <td>...</td>\n",
              "      <td>...</td>\n",
              "      <td>...</td>\n",
              "      <td>...</td>\n",
              "      <td>...</td>\n",
              "    </tr>\n",
              "    <tr>\n",
              "      <th>2503</th>\n",
              "      <td>121520</td>\n",
              "      <td>es</td>\n",
              "      <td>temach le contesta a juan guarnizo 'compa_revju bonacho voy enseñanzasla caballo pistola 0 pestan n. si salió uno que dice que soy su tío borracho machista, y le voy a decir unas enseñanzas de mi abuelo, se la regalo. porque ese vato presta a la mujer en internet por tres noventa y nueve, no sé cuánto prestaba, ya no. le voy a dejar una de mi abuelo. el caballo, la pistola y la mujer no se prestan , mi con. dejen de andar viendo a ver dónde ponen la pistola nomás.</td>\n",
              "      <td>videos/7200979592717339910.mp4</td>\n",
              "      <td>1</td>\n",
              "    </tr>\n",
              "    <tr>\n",
              "      <th>2504</th>\n",
              "      <td>121521</td>\n",
              "      <td>es</td>\n",
              "      <td>sígueme, persona, rk, nik, meuk, ad0, mefor, 74i5j, geciiento, exsonalsigueme, mamados, s@. mi compa, la acabo de mandar a la verga. me elegí a mi mismo , muy bien , mi compa , elegí la mejor venganza posible , el crecimiento personal.sí o no, que nos dieron ganas de compartir y acompañar ese compacto.</td>\n",
              "      <td>videos/7211806336047156486.mp4</td>\n",
              "      <td>0</td>\n",
              "    </tr>\n",
              "    <tr>\n",
              "      <th>2505</th>\n",
              "      <td>121522</td>\n",
              "      <td>es</td>\n",
              "      <td>vas a seguir regalando flores? no regales ni aunque te suban.  temach \"gracias por el regalo, mi amor. lo amo tanto. ¿dónde lo llevas? me encanta cómo demuestras cuánto me quieres. te amo. 14 47.\" porque a ti no te suben, suben lo que le regalas, suben a donde las llevas, suben lo que les escribes, suben todo. les encanta demostrar cuantos pendejos hay atrás de ellas , pero no suben al pendejo .</td>\n",
              "      <td>videos/7213218074936315141.mp4</td>\n",
              "      <td>1</td>\n",
              "    </tr>\n",
              "    <tr>\n",
              "      <th>2506</th>\n",
              "      <td>121523</td>\n",
              "      <td>es</td>\n",
              "      <td>héctor dice que el sábado puse un pedo en casa de su familia. todos tomamos y no me contestó. me dijo que sólo gracias. laverga porque no si la cagaste. pedí perdón, asumí la culpa. cagué la yoyo, la pedí cuando tú la pediste. perdón. una morra está diciendo que tu la pediste. entonces estás habilitando para generar una consecuencia. pero yo creo que 16 mal estuvo, no hice lo que pides. entonces pides que. el rector rosas dice  \"el sábado me puse pedo en casa de su familia. todos tomamos. no me contesta hoy, le mandé flores. sólo me dijo  \"gracias, la mando a la verga o no, porque sí la quiero. pues sí, pero ya la cagaste, para que as flores, aparte cuando tú mandas flores, cuando tú pides perdón, el pedir perdón es asumir la culpa.el pedir perdón es asumir la culpa, el pedir perdón es decir \"yo la cagué\".cuando tú pides perdón a una morra, le estás diciendo que tú la cagaste y entonces la estás habilitando para generar una consecuencia.pero es que yo creo que no estuvo mal lo que hice. entonces, ¿ para qué pides perdón?</td>\n",
              "      <td>videos/7217265848409492782.mp4</td>\n",
              "      <td>0</td>\n",
              "    </tr>\n",
              "    <tr>\n",
              "      <th>2507</th>\n",
              "      <td>121524</td>\n",
              "      <td>es</td>\n",
              "      <td>palabras que duelen  broken_heart  femach 87660 - tú engordaste 8 chile, te descuidaste. chile, tú dejaste de convivir con tus amigos, dejaste de hacer tus hobbies y dejaste de ir al gimnasio. bajaste la cabeza a todas sus locuras y te autodestruiste con tal de no perderla. al chile, mi compa, tú engordaste. al chile, tú te descuidaste. al chile, tú dejaste de convivir con tus compas. al chile, tú dejaste de hacer tus hobbies, al chile tú dejaste de ir al gimnasio, al chile tú le bajaste la cabeza a todas sus loqueras que aunque no estabas de acuerdo, con tal de no perderla, tú decías  \"sí, mi amor, lo que tú digas\". ¡tú hiciste eso! ¡tú te autodestruiste con tal de no perderla!</td>\n",
              "      <td>videos/7218429008445312261.mp4</td>\n",
              "      <td>0</td>\n",
              "    </tr>\n",
              "  </tbody>\n",
              "</table>\n",
              "<p>2508 rows × 5 columns</p>\n",
              "</div>"
            ],
            "text/plain": [
              "      id_EXIST lang  \\\n",
              "0       120001   es   \n",
              "1       120002   es   \n",
              "2       120003   es   \n",
              "3       120004   es   \n",
              "4       120005   es   \n",
              "...        ...  ...   \n",
              "2503    121520   es   \n",
              "2504    121521   es   \n",
              "2505    121522   es   \n",
              "2506    121523   es   \n",
              "2507    121524   es   \n",
              "\n",
              "                                                                                                                                                                                                                                                                                                                                                                                                                                                                                                                                                                                                                                                                                                                                                                                                                                                                                                                                                                                                                                                                               text  \\\n",
              "0                                                                                                                                                                                                                                                                                                                                                                                                                                                                                                                                                                                                                                                                                                                                                                                                                                                                                                                                cuando ves a las del 08 en la fiesta tu amigo el menos salido  j5 [aza red. hay zorro al raimon ha conseguido impedir el tiro de la super táctica.   \n",
              "1                                                                                                                                                                                                                                                                                                                                                                                                                                                                                                                                                                                                                                                                                                                                                                                                              mujer sola caminando por la calle | yo automaticamente | mujer camina sola de madrugada, automáticamente  over speed eternium levels critical wv m7_yis velocidad nc excessbeyelocipap1sss. diferentes nacionalidades, pero cuando chingan gritan todas por iguales.   \n",
              "2                                                                                                                                                                                                                                                                                                                                                                                                                                                                                                                                                                                                                                                                                                                                                                                                                                                                                                                                                                                        mi amigo no le importa ni las mujeres ni las redes sociales. el pueblo es de la zona de la   \n",
              "3                                                                                                                                                                                                                                                                                                                                                                                                                                                                                                                                                                                                                                                                                                                                                               confirman las chicas cogiendo confianza después de un año de conocerse, junto a unos randoms que acabo de encontrar por la calle. como camarón, me rompen las entrañas, me trepa como una araña, bebe el azúcar que empaña cristales de habitación, pide un par por la mañana de \"pronto y no tengo\".piu-toi-no-ten   \n",
              "4                                                                                                                                                                                                                                                                                                                                                                                                                                                                                                                                                                                                                                                                                                                                                                                                                                                                               aplastar la realidad la gordita del salón tiene 10 en educación física y yo tengo 7. a mí me llevan preso como diga lo que opino de esto ahora mismo. a mí me llevan preso. ¡ a mí me llevan preso.   \n",
              "...                                                                                                                                                                                                                                                                                                                                                                                                                                                                                                                                                                                                                                                                                                                                                                                                                                                                                                                                                                                                                                                                             ...   \n",
              "2503                                                                                                                                                                                                                                                                                                                                                                                                                                                                                                                                                                                           temach le contesta a juan guarnizo 'compa_revju bonacho voy enseñanzasla caballo pistola 0 pestan n. si salió uno que dice que soy su tío borracho machista, y le voy a decir unas enseñanzas de mi abuelo, se la regalo. porque ese vato presta a la mujer en internet por tres noventa y nueve, no sé cuánto prestaba, ya no. le voy a dejar una de mi abuelo. el caballo, la pistola y la mujer no se prestan , mi con. dejen de andar viendo a ver dónde ponen la pistola nomás.   \n",
              "2504                                                                                                                                                                                                                                                                                                                                                                                                                                                                                                                                                                                                                                                                                                                                                                sígueme, persona, rk, nik, meuk, ad0, mefor, 74i5j, geciiento, exsonalsigueme, mamados, s@. mi compa, la acabo de mandar a la verga. me elegí a mi mismo , muy bien , mi compa , elegí la mejor venganza posible , el crecimiento personal.sí o no, que nos dieron ganas de compartir y acompañar ese compacto.   \n",
              "2505                                                                                                                                                                                                                                                                                                                                                                                                                                                                                                                                                                                                                                                                 vas a seguir regalando flores? no regales ni aunque te suban.  temach \"gracias por el regalo, mi amor. lo amo tanto. ¿dónde lo llevas? me encanta cómo demuestras cuánto me quieres. te amo. 14 47.\" porque a ti no te suben, suben lo que le regalas, suben a donde las llevas, suben lo que les escribes, suben todo. les encanta demostrar cuantos pendejos hay atrás de ellas , pero no suben al pendejo .   \n",
              "2506   héctor dice que el sábado puse un pedo en casa de su familia. todos tomamos y no me contestó. me dijo que sólo gracias. laverga porque no si la cagaste. pedí perdón, asumí la culpa. cagué la yoyo, la pedí cuando tú la pediste. perdón. una morra está diciendo que tu la pediste. entonces estás habilitando para generar una consecuencia. pero yo creo que 16 mal estuvo, no hice lo que pides. entonces pides que. el rector rosas dice  \"el sábado me puse pedo en casa de su familia. todos tomamos. no me contesta hoy, le mandé flores. sólo me dijo  \"gracias, la mando a la verga o no, porque sí la quiero. pues sí, pero ya la cagaste, para que as flores, aparte cuando tú mandas flores, cuando tú pides perdón, el pedir perdón es asumir la culpa.el pedir perdón es asumir la culpa, el pedir perdón es decir \"yo la cagué\".cuando tú pides perdón a una morra, le estás diciendo que tú la cagaste y entonces la estás habilitando para generar una consecuencia.pero es que yo creo que no estuvo mal lo que hice. entonces, ¿ para qué pides perdón?   \n",
              "2507                                                                                                                                                                                                                                                                                                                                                                palabras que duelen  broken_heart  femach 87660 - tú engordaste 8 chile, te descuidaste. chile, tú dejaste de convivir con tus amigos, dejaste de hacer tus hobbies y dejaste de ir al gimnasio. bajaste la cabeza a todas sus locuras y te autodestruiste con tal de no perderla. al chile, mi compa, tú engordaste. al chile, tú te descuidaste. al chile, tú dejaste de convivir con tus compas. al chile, tú dejaste de hacer tus hobbies, al chile tú dejaste de ir al gimnasio, al chile tú le bajaste la cabeza a todas sus loqueras que aunque no estabas de acuerdo, con tal de no perderla, tú decías  \"sí, mi amor, lo que tú digas\". ¡tú hiciste eso! ¡tú te autodestruiste con tal de no perderla!   \n",
              "\n",
              "                          path_video  label_task_3_1_merged  \n",
              "0     videos/7281385962049998086.mp4                      1  \n",
              "1     videos/7164058026352168197.mp4                      1  \n",
              "2     videos/7248606026386263323.mp4                      0  \n",
              "3     videos/7305803156074597665.mp4                      1  \n",
              "4     videos/7318400739775204614.mp4                      1  \n",
              "...                              ...                    ...  \n",
              "2503  videos/7200979592717339910.mp4                      1  \n",
              "2504  videos/7211806336047156486.mp4                      0  \n",
              "2505  videos/7213218074936315141.mp4                      1  \n",
              "2506  videos/7217265848409492782.mp4                      0  \n",
              "2507  videos/7218429008445312261.mp4                      0  \n",
              "\n",
              "[2508 rows x 5 columns]"
            ]
          },
          "execution_count": 6,
          "metadata": {},
          "output_type": "execute_result"
        }
      ],
      "source": [
        "df = pd.read_csv(\"/content/drive/MyDrive/dataset/EXIST 2025 Videos Dataset/training/EXIST2025_training_task3_1_DISCARD.csv\",)\n",
        "\n",
        "del(df['Unnamed: 0'])\n",
        "\n",
        "campo_texto = 'text'\n",
        "campo_etiqueta = 'label_task_3_1_merged'\n",
        "\n",
        "clase_0 = '0'\n",
        "clase_1 = '1'\n",
        "\n",
        "df"
      ]
    },
    {
      "cell_type": "markdown",
      "id": "c62752b0",
      "metadata": {},
      "source": [
        "#### Carga de datos desde local"
      ]
    },
    {
      "cell_type": "code",
      "execution_count": 30,
      "id": "918e2b7c",
      "metadata": {},
      "outputs": [
        {
          "data": {
            "text/html": [
              "<div>\n",
              "<style scoped>\n",
              "    .dataframe tbody tr th:only-of-type {\n",
              "        vertical-align: middle;\n",
              "    }\n",
              "\n",
              "    .dataframe tbody tr th {\n",
              "        vertical-align: top;\n",
              "    }\n",
              "\n",
              "    .dataframe thead th {\n",
              "        text-align: right;\n",
              "    }\n",
              "</style>\n",
              "<table border=\"1\" class=\"dataframe\">\n",
              "  <thead>\n",
              "    <tr style=\"text-align: right;\">\n",
              "      <th></th>\n",
              "      <th>id_EXIST</th>\n",
              "      <th>lang</th>\n",
              "      <th>text</th>\n",
              "      <th>path_video</th>\n",
              "      <th>label_task_3_1_merged</th>\n",
              "    </tr>\n",
              "  </thead>\n",
              "  <tbody>\n",
              "    <tr>\n",
              "      <th>0</th>\n",
              "      <td>120001</td>\n",
              "      <td>es</td>\n",
              "      <td>cuando ves a las del 08 en la fiesta tu amigo el menos salido  j5 [aza red. hay zorro al raimon ha conseguido impedir el tiro de la super táctica.</td>\n",
              "      <td>videos/7281385962049998086.mp4</td>\n",
              "      <td>1</td>\n",
              "    </tr>\n",
              "    <tr>\n",
              "      <th>1</th>\n",
              "      <td>120002</td>\n",
              "      <td>es</td>\n",
              "      <td>mujer sola caminando por la calle | yo automaticamente | mujer camina sola de madrugada, automáticamente  over speed eternium levels critical wv m7_yis velocidad nc excessbeyelocipap1sss. diferentes nacionalidades, pero cuando chingan gritan todas por iguales.</td>\n",
              "      <td>videos/7164058026352168197.mp4</td>\n",
              "      <td>1</td>\n",
              "    </tr>\n",
              "    <tr>\n",
              "      <th>2</th>\n",
              "      <td>120003</td>\n",
              "      <td>es</td>\n",
              "      <td>mi amigo no le importa ni las mujeres ni las redes sociales. el pueblo es de la zona de la</td>\n",
              "      <td>videos/7248606026386263323.mp4</td>\n",
              "      <td>0</td>\n",
              "    </tr>\n",
              "    <tr>\n",
              "      <th>3</th>\n",
              "      <td>120004</td>\n",
              "      <td>es</td>\n",
              "      <td>confirman las chicas cogiendo confianza después de un año de conocerse, junto a unos randoms que acabo de encontrar por la calle. como camarón, me rompen las entrañas, me trepa como una araña, bebe el azúcar que empaña cristales de habitación, pide un par por la mañana de \"pronto y no tengo\".piu-toi-no-ten</td>\n",
              "      <td>videos/7305803156074597665.mp4</td>\n",
              "      <td>1</td>\n",
              "    </tr>\n",
              "    <tr>\n",
              "      <th>4</th>\n",
              "      <td>120005</td>\n",
              "      <td>es</td>\n",
              "      <td>aplastar la realidad la gordita del salón tiene 10 en educación física y yo tengo 7. a mí me llevan preso como diga lo que opino de esto ahora mismo. a mí me llevan preso. ¡ a mí me llevan preso.</td>\n",
              "      <td>videos/7318400739775204614.mp4</td>\n",
              "      <td>1</td>\n",
              "    </tr>\n",
              "    <tr>\n",
              "      <th>...</th>\n",
              "      <td>...</td>\n",
              "      <td>...</td>\n",
              "      <td>...</td>\n",
              "      <td>...</td>\n",
              "      <td>...</td>\n",
              "    </tr>\n",
              "    <tr>\n",
              "      <th>2503</th>\n",
              "      <td>121520</td>\n",
              "      <td>es</td>\n",
              "      <td>temach le contesta a juan guarnizo 'compa_revju bonacho voy enseñanzasla caballo pistola 0 pestan n. si salió uno que dice que soy su tío borracho machista, y le voy a decir unas enseñanzas de mi abuelo, se la regalo. porque ese vato presta a la mujer en internet por tres noventa y nueve, no sé cuánto prestaba, ya no. le voy a dejar una de mi abuelo. el caballo, la pistola y la mujer no se prestan , mi con. dejen de andar viendo a ver dónde ponen la pistola nomás.</td>\n",
              "      <td>videos/7200979592717339910.mp4</td>\n",
              "      <td>1</td>\n",
              "    </tr>\n",
              "    <tr>\n",
              "      <th>2504</th>\n",
              "      <td>121521</td>\n",
              "      <td>es</td>\n",
              "      <td>sígueme, persona, rk, nik, meuk, ad0, mefor, 74i5j, geciiento, exsonalsigueme, mamados, s@. mi compa, la acabo de mandar a la verga. me elegí a mi mismo , muy bien , mi compa , elegí la mejor venganza posible , el crecimiento personal.sí o no, que nos dieron ganas de compartir y acompañar ese compacto.</td>\n",
              "      <td>videos/7211806336047156486.mp4</td>\n",
              "      <td>0</td>\n",
              "    </tr>\n",
              "    <tr>\n",
              "      <th>2505</th>\n",
              "      <td>121522</td>\n",
              "      <td>es</td>\n",
              "      <td>vas a seguir regalando flores? no regales ni aunque te suban.  temach \"gracias por el regalo, mi amor. lo amo tanto. ¿dónde lo llevas? me encanta cómo demuestras cuánto me quieres. te amo. 14 47.\" porque a ti no te suben, suben lo que le regalas, suben a donde las llevas, suben lo que les escribes, suben todo. les encanta demostrar cuantos pendejos hay atrás de ellas , pero no suben al pendejo .</td>\n",
              "      <td>videos/7213218074936315141.mp4</td>\n",
              "      <td>1</td>\n",
              "    </tr>\n",
              "    <tr>\n",
              "      <th>2506</th>\n",
              "      <td>121523</td>\n",
              "      <td>es</td>\n",
              "      <td>héctor dice que el sábado puse un pedo en casa de su familia. todos tomamos y no me contestó. me dijo que sólo gracias. laverga porque no si la cagaste. pedí perdón, asumí la culpa. cagué la yoyo, la pedí cuando tú la pediste. perdón. una morra está diciendo que tu la pediste. entonces estás habilitando para generar una consecuencia. pero yo creo que 16 mal estuvo, no hice lo que pides. entonces pides que. el rector rosas dice  \"el sábado me puse pedo en casa de su familia. todos tomamos. no me contesta hoy, le mandé flores. sólo me dijo  \"gracias, la mando a la verga o no, porque sí la quiero. pues sí, pero ya la cagaste, para que as flores, aparte cuando tú mandas flores, cuando tú pides perdón, el pedir perdón es asumir la culpa.el pedir perdón es asumir la culpa, el pedir perdón es decir \"yo la cagué\".cuando tú pides perdón a una morra, le estás diciendo que tú la cagaste y entonces la estás habilitando para generar una consecuencia.pero es que yo creo que no estuvo mal lo que hice. entonces, ¿ para qué pides perdón?</td>\n",
              "      <td>videos/7217265848409492782.mp4</td>\n",
              "      <td>0</td>\n",
              "    </tr>\n",
              "    <tr>\n",
              "      <th>2507</th>\n",
              "      <td>121524</td>\n",
              "      <td>es</td>\n",
              "      <td>palabras que duelen  broken_heart  femach 87660 - tú engordaste 8 chile, te descuidaste. chile, tú dejaste de convivir con tus amigos, dejaste de hacer tus hobbies y dejaste de ir al gimnasio. bajaste la cabeza a todas sus locuras y te autodestruiste con tal de no perderla. al chile, mi compa, tú engordaste. al chile, tú te descuidaste. al chile, tú dejaste de convivir con tus compas. al chile, tú dejaste de hacer tus hobbies, al chile tú dejaste de ir al gimnasio, al chile tú le bajaste la cabeza a todas sus loqueras que aunque no estabas de acuerdo, con tal de no perderla, tú decías  \"sí, mi amor, lo que tú digas\". ¡tú hiciste eso! ¡tú te autodestruiste con tal de no perderla!</td>\n",
              "      <td>videos/7218429008445312261.mp4</td>\n",
              "      <td>0</td>\n",
              "    </tr>\n",
              "  </tbody>\n",
              "</table>\n",
              "<p>2508 rows × 5 columns</p>\n",
              "</div>"
            ],
            "text/plain": [
              "      id_EXIST lang  \\\n",
              "0       120001   es   \n",
              "1       120002   es   \n",
              "2       120003   es   \n",
              "3       120004   es   \n",
              "4       120005   es   \n",
              "...        ...  ...   \n",
              "2503    121520   es   \n",
              "2504    121521   es   \n",
              "2505    121522   es   \n",
              "2506    121523   es   \n",
              "2507    121524   es   \n",
              "\n",
              "                                                                                                                                                                                                                                                                                                                                                                                                                                                                                                                                                                                                                                                                                                                                                                                                                                                                                                                                                                                                                                                                               text  \\\n",
              "0                                                                                                                                                                                                                                                                                                                                                                                                                                                                                                                                                                                                                                                                                                                                                                                                                                                                                                                                cuando ves a las del 08 en la fiesta tu amigo el menos salido  j5 [aza red. hay zorro al raimon ha conseguido impedir el tiro de la super táctica.   \n",
              "1                                                                                                                                                                                                                                                                                                                                                                                                                                                                                                                                                                                                                                                                                                                                                                                                              mujer sola caminando por la calle | yo automaticamente | mujer camina sola de madrugada, automáticamente  over speed eternium levels critical wv m7_yis velocidad nc excessbeyelocipap1sss. diferentes nacionalidades, pero cuando chingan gritan todas por iguales.   \n",
              "2                                                                                                                                                                                                                                                                                                                                                                                                                                                                                                                                                                                                                                                                                                                                                                                                                                                                                                                                                                                        mi amigo no le importa ni las mujeres ni las redes sociales. el pueblo es de la zona de la   \n",
              "3                                                                                                                                                                                                                                                                                                                                                                                                                                                                                                                                                                                                                                                                                                                                                               confirman las chicas cogiendo confianza después de un año de conocerse, junto a unos randoms que acabo de encontrar por la calle. como camarón, me rompen las entrañas, me trepa como una araña, bebe el azúcar que empaña cristales de habitación, pide un par por la mañana de \"pronto y no tengo\".piu-toi-no-ten   \n",
              "4                                                                                                                                                                                                                                                                                                                                                                                                                                                                                                                                                                                                                                                                                                                                                                                                                                                                               aplastar la realidad la gordita del salón tiene 10 en educación física y yo tengo 7. a mí me llevan preso como diga lo que opino de esto ahora mismo. a mí me llevan preso. ¡ a mí me llevan preso.   \n",
              "...                                                                                                                                                                                                                                                                                                                                                                                                                                                                                                                                                                                                                                                                                                                                                                                                                                                                                                                                                                                                                                                                             ...   \n",
              "2503                                                                                                                                                                                                                                                                                                                                                                                                                                                                                                                                                                                           temach le contesta a juan guarnizo 'compa_revju bonacho voy enseñanzasla caballo pistola 0 pestan n. si salió uno que dice que soy su tío borracho machista, y le voy a decir unas enseñanzas de mi abuelo, se la regalo. porque ese vato presta a la mujer en internet por tres noventa y nueve, no sé cuánto prestaba, ya no. le voy a dejar una de mi abuelo. el caballo, la pistola y la mujer no se prestan , mi con. dejen de andar viendo a ver dónde ponen la pistola nomás.   \n",
              "2504                                                                                                                                                                                                                                                                                                                                                                                                                                                                                                                                                                                                                                                                                                                                                                sígueme, persona, rk, nik, meuk, ad0, mefor, 74i5j, geciiento, exsonalsigueme, mamados, s@. mi compa, la acabo de mandar a la verga. me elegí a mi mismo , muy bien , mi compa , elegí la mejor venganza posible , el crecimiento personal.sí o no, que nos dieron ganas de compartir y acompañar ese compacto.   \n",
              "2505                                                                                                                                                                                                                                                                                                                                                                                                                                                                                                                                                                                                                                                                 vas a seguir regalando flores? no regales ni aunque te suban.  temach \"gracias por el regalo, mi amor. lo amo tanto. ¿dónde lo llevas? me encanta cómo demuestras cuánto me quieres. te amo. 14 47.\" porque a ti no te suben, suben lo que le regalas, suben a donde las llevas, suben lo que les escribes, suben todo. les encanta demostrar cuantos pendejos hay atrás de ellas , pero no suben al pendejo .   \n",
              "2506   héctor dice que el sábado puse un pedo en casa de su familia. todos tomamos y no me contestó. me dijo que sólo gracias. laverga porque no si la cagaste. pedí perdón, asumí la culpa. cagué la yoyo, la pedí cuando tú la pediste. perdón. una morra está diciendo que tu la pediste. entonces estás habilitando para generar una consecuencia. pero yo creo que 16 mal estuvo, no hice lo que pides. entonces pides que. el rector rosas dice  \"el sábado me puse pedo en casa de su familia. todos tomamos. no me contesta hoy, le mandé flores. sólo me dijo  \"gracias, la mando a la verga o no, porque sí la quiero. pues sí, pero ya la cagaste, para que as flores, aparte cuando tú mandas flores, cuando tú pides perdón, el pedir perdón es asumir la culpa.el pedir perdón es asumir la culpa, el pedir perdón es decir \"yo la cagué\".cuando tú pides perdón a una morra, le estás diciendo que tú la cagaste y entonces la estás habilitando para generar una consecuencia.pero es que yo creo que no estuvo mal lo que hice. entonces, ¿ para qué pides perdón?   \n",
              "2507                                                                                                                                                                                                                                                                                                                                                                palabras que duelen  broken_heart  femach 87660 - tú engordaste 8 chile, te descuidaste. chile, tú dejaste de convivir con tus amigos, dejaste de hacer tus hobbies y dejaste de ir al gimnasio. bajaste la cabeza a todas sus locuras y te autodestruiste con tal de no perderla. al chile, mi compa, tú engordaste. al chile, tú te descuidaste. al chile, tú dejaste de convivir con tus compas. al chile, tú dejaste de hacer tus hobbies, al chile tú dejaste de ir al gimnasio, al chile tú le bajaste la cabeza a todas sus loqueras que aunque no estabas de acuerdo, con tal de no perderla, tú decías  \"sí, mi amor, lo que tú digas\". ¡tú hiciste eso! ¡tú te autodestruiste con tal de no perderla!   \n",
              "\n",
              "                          path_video  label_task_3_1_merged  \n",
              "0     videos/7281385962049998086.mp4                      1  \n",
              "1     videos/7164058026352168197.mp4                      1  \n",
              "2     videos/7248606026386263323.mp4                      0  \n",
              "3     videos/7305803156074597665.mp4                      1  \n",
              "4     videos/7318400739775204614.mp4                      1  \n",
              "...                              ...                    ...  \n",
              "2503  videos/7200979592717339910.mp4                      1  \n",
              "2504  videos/7211806336047156486.mp4                      0  \n",
              "2505  videos/7213218074936315141.mp4                      1  \n",
              "2506  videos/7217265848409492782.mp4                      0  \n",
              "2507  videos/7218429008445312261.mp4                      0  \n",
              "\n",
              "[2508 rows x 5 columns]"
            ]
          },
          "execution_count": 30,
          "metadata": {},
          "output_type": "execute_result"
        }
      ],
      "source": [
        "df = pd.read_csv(\"/home/adrian/Escritorio/DeepSexist/DatasetManagement/EXIST2025DatasetV0.3/EXIST 2025 Videos Dataset/training/EXIST2025_training_task3_1_DISCARD.csv\",)\n",
        "del(df['Unnamed: 0'])\n",
        "\n",
        "campo_texto = 'text'\n",
        "campo_etiqueta = 'label_task_3_1_merged'\n",
        "\n",
        "clase_0 = '0'\n",
        "clase_1 = '1'\n",
        "\n",
        "df"
      ]
    },
    {
      "cell_type": "code",
      "execution_count": null,
      "id": "Cw3JdTXu39wd",
      "metadata": {
        "id": "Cw3JdTXu39wd"
      },
      "outputs": [],
      "source": [
        "# # Dataset Refugiados\n",
        "# train_filename = \"/content/drive/MyDrive/Colab Notebooks/Talleres/LLMs/data/refugiados_train_df.csv\"\n",
        "# test_filename = \"/content/drive/MyDrive/Colab Notebooks/Talleres/LLMs/data/refugiados_test_df.csv\"\n",
        "# valid_filename = \"/content/drive/MyDrive/Colab Notebooks/Talleres/LLMs/data/refugiados_valid_df.csv\"\n",
        "# campo_texto = 'text'\n",
        "# campo_etiqueta = 'label'\n",
        "# clase_0 = 'NO'\n",
        "# clase_1 = 'SI'"
      ]
    },
    {
      "cell_type": "code",
      "execution_count": null,
      "id": "RASe3egw4DmH",
      "metadata": {
        "id": "RASe3egw4DmH"
      },
      "outputs": [],
      "source": [
        "# # Dataset Alimenticio\n",
        "# train_filename = \"/content/drive/MyDrive/Colab Notebooks/Talleres/LLMs/data/train_df.csv\"\n",
        "# test_filename = \"/content/drive/MyDrive/Colab Notebooks/Talleres/LLMs/data/test_df.csv\"\n",
        "# valid_filename = \"/content/drive/MyDrive/Colab Notebooks/Talleres/LLMs/data/valid_df.csv\"\n",
        "# campo_texto = 'text'\n",
        "# campo_etiqueta = 'label'\n",
        "# clase_0 = '0'\n",
        "# clase_1 = '1'"
      ]
    },
    {
      "cell_type": "code",
      "execution_count": 11,
      "id": "5ddc8dd6",
      "metadata": {},
      "outputs": [],
      "source": [
        "# Dataset EXIST 2025\n",
        "train_filename = \"/home/adrian/Escritorio/DeepSexist/DatasetManagement/EXIST2025DatasetV0.3/EXIST 2025 Videos Dataset/training/EXIST2025_training_task3_1_DISCARD.csv\"\n",
        "test_filename = \"/home/adrian/Escritorio/DeepSexist/DatasetManagement/EXIST2025DatasetV0.3/EXIST 2025 Videos Dataset/test/EXIST2025_test_clean.json\""
      ]
    },
    {
      "cell_type": "code",
      "execution_count": 31,
      "id": "p4bbodQVKiVB",
      "metadata": {
        "id": "p4bbodQVKiVB"
      },
      "outputs": [],
      "source": [
        "# Paso 1: Dividir en train + temp\n",
        "train_df, temp_df = train_test_split(\n",
        "    df,\n",
        "    test_size=0.3,\n",
        "    stratify=df[\"label_task_3_1_merged\"],\n",
        "    random_state=42\n",
        ")\n",
        "\n",
        "# Paso 2: Dividir temp en val + test\n",
        "valid_df, test_df = train_test_split(\n",
        "    temp_df,\n",
        "    test_size=0.5,\n",
        "    stratify=temp_df[\"label_task_3_1_merged\"],\n",
        "    random_state=42\n",
        ")\n"
      ]
    },
    {
      "cell_type": "code",
      "execution_count": null,
      "id": "bef75c86",
      "metadata": {
        "id": "bef75c86"
      },
      "outputs": [],
      "source": [
        "# # Cargar los conjuntos de datos de entrenamiento, prueba y validación\n",
        "# def load_data(train_file, test_file, valid_file):\n",
        "#     X_train = pd.read_csv(train_file, encoding = \"utf-8\", encoding_errors = \"replace\", sep = ',')[[campo_texto, campo_etiqueta]]\n",
        "#     X_test = pd.read_csv(test_file, encoding = \"utf-8\", encoding_errors = \"replace\", sep = ',')[[campo_texto, campo_etiqueta]]\n",
        "#     X_eval = pd.read_csv(valid_file, encoding = \"utf-8\", encoding_errors = \"replace\", sep = ',')[[campo_texto, campo_etiqueta]]\n",
        "#     return X_train, X_test, X_eval\n",
        "\n",
        "# train_df, test_df, valid_df = load_data(train_filename, test_filename, valid_filename)"
      ]
    },
    {
      "cell_type": "code",
      "execution_count": 25,
      "id": "5eff7484",
      "metadata": {},
      "outputs": [],
      "source": [
        "# Cargar los conjuntos de datos de entrenamiento y test. Creación del fichero de validación a partir del de entrenamiento\n",
        "def load_data(train_file, test_file):\n",
        "    X_train = pd.read_csv(train_file, encoding=\"utf-8\", encoding_errors=\"replace\", sep=',')\n",
        "    X_train.rename(columns={'label_task_3_1_merged': 'text'})\n",
        "    del(X_train['Unnamed: 0'])\n",
        "    X_test = pd.read_json(test_file, encoding=\"utf-8\", encoding_errors=\"replace\", orient=\"index\")\n",
        "    X_train, X_eval = train_test_split(\n",
        "        X_train,\n",
        "        test_size=0.15,\n",
        "        stratify=X_train[\"label_task_3_1_merged\"],\n",
        "        random_state=42\n",
        "    )\n",
        "    return X_train, X_test, X_eval\n",
        "\n",
        "train_df, test_df, valid_df = load_data(train_filename, test_filename)"
      ]
    },
    {
      "cell_type": "code",
      "execution_count": null,
      "id": "0zzk-B9VWc0R",
      "metadata": {
        "id": "0zzk-B9VWc0R"
      },
      "outputs": [],
      "source": [
        "# def filter_classes(df, classes_to_keep):\n",
        "#     return df[df[campo_etiqueta].isin(classes_to_keep)]\n",
        "\n",
        "# # Filtrar datasets para quedarnos con las clases 0 y 1\n",
        "# train_df = filter_classes(train_df, [clase 0, clase 1])\n",
        "# test_df = filter_classes(test_df, [clase 0, clase 1])\n",
        "# valid_df = filter_classes(valid_df, [clase 0, clase 1])"
      ]
    },
    {
      "cell_type": "code",
      "execution_count": 32,
      "id": "QhJ_YRsPrDny",
      "metadata": {
        "id": "QhJ_YRsPrDny"
      },
      "outputs": [],
      "source": [
        "X_train, X_test, X_eval = train_df, test_df, valid_df\n",
        "Y_true = X_test[campo_etiqueta]"
      ]
    },
    {
      "cell_type": "markdown",
      "id": "1242c0ad",
      "metadata": {
        "id": "1242c0ad"
      },
      "source": [
        "#### Mezclar y reorganizar los datos"
      ]
    },
    {
      "cell_type": "code",
      "execution_count": 33,
      "id": "fd5ffa8b",
      "metadata": {
        "id": "fd5ffa8b"
      },
      "outputs": [],
      "source": [
        "# Mezclar y reiniciar índices de los conjuntos de datos\n",
        "def shuffle_and_reset_index(data, seed = 10):\n",
        "    return data.sample(frac = 1, random_state = seed).reset_index(drop = True)\n",
        "\n",
        "X_train = shuffle_and_reset_index(X_train)\n",
        "X_eval = shuffle_and_reset_index(X_eval)\n",
        "X_test = X_test.reset_index(drop = True)"
      ]
    },
    {
      "cell_type": "markdown",
      "id": "3c874e7b",
      "metadata": {
        "id": "3c874e7b"
      },
      "source": [
        "#### Visualización de la distribución de clases"
      ]
    },
    {
      "cell_type": "code",
      "execution_count": 34,
      "id": "0a63bbdd",
      "metadata": {
        "colab": {
          "base_uri": "https://localhost:8080/"
        },
        "id": "0a63bbdd",
        "outputId": "ccf77230-8946-479c-9d36-4722962c1ce7"
      },
      "outputs": [
        {
          "name": "stdout",
          "output_type": "stream",
          "text": [
            "\n",
            "Distribución de clases en el conjunto de entrenamiento:\n",
            "label_task_3_1_merged\n",
            "0    914\n",
            "1    841\n",
            "Name: count, dtype: int64\n",
            "\n",
            "Distribución de clases en el conjunto de prueba:\n",
            "label_task_3_1_merged\n",
            "0    196\n",
            "1    181\n",
            "Name: count, dtype: int64\n",
            "\n",
            "Distribución de clases en el conjunto de validación:\n",
            "label_task_3_1_merged\n",
            "0    196\n",
            "1    180\n",
            "Name: count, dtype: int64\n"
          ]
        }
      ],
      "source": [
        "# Mostrar la distribución de clases en los conjuntos de datos\n",
        "def show_class_distribution(data, name):\n",
        "    print(f\"\\nDistribución de clases en el conjunto de {name}:\")\n",
        "    print(data[campo_etiqueta].value_counts())\n",
        "\n",
        "show_class_distribution(X_train, \"entrenamiento\")\n",
        "show_class_distribution(X_test, \"prueba\")\n",
        "show_class_distribution(X_eval, \"validación\")"
      ]
    },
    {
      "cell_type": "markdown",
      "id": "81d2486e",
      "metadata": {
        "id": "81d2486e"
      },
      "source": [
        "#### Generación de Prompts"
      ]
    },
    {
      "cell_type": "code",
      "execution_count": 35,
      "id": "65abe835",
      "metadata": {
        "id": "65abe835"
      },
      "outputs": [],
      "source": [
        "i_prompt = 0\n",
        "prompts = [\n",
        "            f\"\"\"\n",
        "            [INST]\n",
        "            Analiza la siguiente transcripción de video de tiktok a texto para determinar si es misógino o no.\n",
        "            Devuelve exclusivamente **solo** la etiqueta \"1\" si consideras la transcripción misógina o \"0\" si no lo es, sin texto adicional.\n",
        "            [/INST]\"\"\",\n",
        "          ]"
      ]
    },
    {
      "cell_type": "code",
      "execution_count": 36,
      "id": "2bc68516",
      "metadata": {
        "id": "2bc68516"
      },
      "outputs": [],
      "source": [
        "# Funciones para generar los prompts de entrenamiento y prueba\n",
        "def generate_prompt(data_point, prompt):\n",
        "    return f\"\"\"\n",
        "            {prompt}\n",
        "\n",
        "            [TEXT: {data_point[campo_texto]}] = {data_point[campo_etiqueta]} \"\"\".strip()\n",
        "\n",
        "def generate_test_prompt(data_point, prompt):\n",
        "    return f\"\"\"\n",
        "            {prompt}\n",
        "\n",
        "            [{data_point[campo_texto]}] = \"\"\".strip()\n",
        "\n",
        "\n",
        "# Aplicar la generación de prompts a los conjuntos de datos\n",
        "X_train = pd.DataFrame(X_train.apply(lambda row: generate_prompt(row, prompts[i_prompt]), axis=1), columns=[campo_texto])\n",
        "X_eval = pd.DataFrame(X_eval.apply(lambda row: generate_prompt(row, prompts[i_prompt]), axis=1), columns=[campo_texto])\n",
        "\n",
        "Y_true = X_test.text\n",
        "X_test = pd.DataFrame(X_test.apply(lambda row: generate_test_prompt(row, prompts[i_prompt]), axis=1), columns=[campo_texto])"
      ]
    },
    {
      "cell_type": "code",
      "execution_count": 37,
      "id": "a1a3afdd",
      "metadata": {
        "colab": {
          "base_uri": "https://localhost:8080/",
          "height": 467
        },
        "id": "a1a3afdd",
        "outputId": "b505ec34-79cf-49b5-d737-dc6fe218c90c",
        "scrolled": true
      },
      "outputs": [
        {
          "data": {
            "text/html": [
              "<div>\n",
              "<style scoped>\n",
              "    .dataframe tbody tr th:only-of-type {\n",
              "        vertical-align: middle;\n",
              "    }\n",
              "\n",
              "    .dataframe tbody tr th {\n",
              "        vertical-align: top;\n",
              "    }\n",
              "\n",
              "    .dataframe thead th {\n",
              "        text-align: right;\n",
              "    }\n",
              "</style>\n",
              "<table border=\"1\" class=\"dataframe\">\n",
              "  <thead>\n",
              "    <tr style=\"text-align: right;\">\n",
              "      <th></th>\n",
              "      <th>text</th>\n",
              "    </tr>\n",
              "  </thead>\n",
              "  <tbody>\n",
              "    <tr>\n",
              "      <th>0</th>\n",
              "      <td>[INST]\\n            Analiza la siguiente transcripción de video de tiktok a texto para determinar si es misógino o no.\\n            Devuelve exclusivamente **solo** la etiqueta \"1\" si consideras la transcripción misógina o \"0\" si no lo es, sin texto adicional.\\n            [/INST]\\n\\n            [TEXT: pt 6 — it’s 1692 and you tell your puritan gal pal that the two of you have become witches constance and i are confused about our potential as witches. we have performed rituals, but never made a deal with the devil or had sinful thoughts about men. in fact, we are known as the two most virtuous women in town. i just don't understand. perhaps there is no reasonable explanation. to be honest, my powers have been getting stronger. i can light a whole stove on fire.  constance, i do not understand. how could we be witches? we've performed no rituals. we've never made love with the devil. in fact, i've never had a sinful thought about any man. why, you and i are the two most virtuous women in town. i just don't understand. well, perhaps. i guess there's no other reasonable explanation and to be honest with you, my powers have been getting stronger. i can now set a whole stove on fire and to be honest with you it's kind of exhilarating] = 0</td>\n",
              "    </tr>\n",
              "    <tr>\n",
              "      <th>1</th>\n",
              "      <td>[INST]\\n            Analiza la siguiente transcripción de video de tiktok a texto para determinar si es misógino o no.\\n            Devuelve exclusivamente **solo** la etiqueta \"1\" si consideras la transcripción misógina o \"0\" si no lo es, sin texto adicional.\\n            [/INST]\\n\\n            [TEXT: el final face_screaming_in_fear  face_screaming_in_fear tú 3@ para compartir por wassap saldrá embarazada este año instagram  nalgaliag estoy embarazada. broma a mi familia. y ahora todo huele y sabe mejor. porque llegó a mi vida el amor de mi vida, yo se lo pedía de arriba.] = 0</td>\n",
              "    </tr>\n",
              "    <tr>\n",
              "      <th>2</th>\n",
              "      <td>[INST]\\n            Analiza la siguiente transcripción de video de tiktok a texto para determinar si es misógino o no.\\n            Devuelve exclusivamente **solo** la etiqueta \"1\" si consideras la transcripción misógina o \"0\" si no lo es, sin texto adicional.\\n            [/INST]\\n\\n            [TEXT: asignatura educación afectivo-sexual books  woman_teacher  eyes  women’s_room  men’s_room  definición de salud sexual  es el bienestar físico, emocional, mental y social en relación a la sexualidad. no se limita a la ausencia de enfermedades o disfunciones, sino que también implica defender y respetar los derechos sexuales de todas las personas.\\n\\nopinión sobre incluir esta asignatura en educación primaria  es importante incluir la educación afectivo-sexual en la educación primaria para promover la igualdad de género y prevenir la violencia y la discriminación. every second, every day, i spend hoping we never change, loving you, never wait or hesitate to tell me what is on your mind really do, into] = 0</td>\n",
              "    </tr>\n",
              "    <tr>\n",
              "      <th>3</th>\n",
              "      <td>[INST]\\n            Analiza la siguiente transcripción de video de tiktok a texto para determinar si es misógino o no.\\n            Devuelve exclusivamente **solo** la etiqueta \"1\" si consideras la transcripción misógina o \"0\" si no lo es, sin texto adicional.\\n            [/INST]\\n\\n            [TEXT: jaja los papás!  smirking_face  angela aguelar por @bazarnocturnotv. felicidades primera, segunda y tercera. ¿por qué tan escotado? información imagen edición reyna avendaño yt  bazar nocturno tv el universal. dos cosas que decirte  muchas felicidades, la primera, la segunda, nos echamos una canción, y la tercera, ¿ por qué está tan escotado ese mugrero que trae ese ?] = 1</td>\n",
              "    </tr>\n",
              "    <tr>\n",
              "      <th>4</th>\n",
              "      <td>[INST]\\n            Analiza la siguiente transcripción de video de tiktok a texto para determinar si es misógino o no.\\n            Devuelve exclusivamente **solo** la etiqueta \"1\" si consideras la transcripción misógina o \"0\" si no lo es, sin texto adicional.\\n            [/INST]\\n\\n            [TEXT: me la pelahs  nail_polish  oncoming_fist  smiling_face_with_sunglasses . 6470 ig dilari uoxi fjro {urf 31 compar- pantalla verde hace 5 día(s) pro j y sher bff sonido añadir comentario soy1 64 % 2.29 dilari uoki to_ kuri 31 compar- pantalla verde hace 5 día(s) pro jj sher bff sonido 0 añadir comentario soy1 64 % 2.29 dilari uoki hto kuri 31 compar- pantalla verde hace 5 día(s) pro j bff sonido origi añadir comentario soy1 64 % 2.29 dilari uoki {to kuri 31 compar- pantalla verde hace 5 día(s) pro j 'ff sonido origina añadir comentario soy1 64 % 2.29 dilari uoki to kuri 31 compar- pantalla verde hace 5 día(s) pro j sonido original 9 añadir comentario soy1 64 % 2.29 dilari oki hito kuri 31 compar- pantalla verde hace 5 día(s) pro j nido original - gach; añadir comentario soy1 64 % 2.29 dilari oki {to kuri 31 compar- pantalla verde hace 5 día(s) pro j io original gacha _ añadir comentario soy1 64 % 2.29 dilari uoki hito kuri 31 compar- pantalla verde hace 5 día(s) pro jj riginal gacha. _ sh añadir comentario soyit's cor time nd iizer solo es un audio no te creas ya la pues no eres que te doy un premio pro wtf por que la rubia respeta ofendes. \"sing it like girl, you know i want your love, your love was handmade for somebody like me, come on now follow my not talk too much, bravo, my friend.] = 0</td>\n",
              "    </tr>\n",
              "  </tbody>\n",
              "</table>\n",
              "</div>"
            ],
            "text/plain": [
              "                                                                                                                                                                                                                                                                                                                                                                                                                                                                                                                                                                                                                                                                                                                                                                                                                                                                                                                                                                                                                                                                                                                                                                                                                                                                                                                                                                                                                                                                                                                                                                                                                                                                               text\n",
              "0                                                                                                                                                                                                                                                                                                                                                                             [INST]\\n            Analiza la siguiente transcripción de video de tiktok a texto para determinar si es misógino o no.\\n            Devuelve exclusivamente **solo** la etiqueta \"1\" si consideras la transcripción misógina o \"0\" si no lo es, sin texto adicional.\\n            [/INST]\\n\\n            [TEXT: pt 6 — it’s 1692 and you tell your puritan gal pal that the two of you have become witches constance and i are confused about our potential as witches. we have performed rituals, but never made a deal with the devil or had sinful thoughts about men. in fact, we are known as the two most virtuous women in town. i just don't understand. perhaps there is no reasonable explanation. to be honest, my powers have been getting stronger. i can light a whole stove on fire.  constance, i do not understand. how could we be witches? we've performed no rituals. we've never made love with the devil. in fact, i've never had a sinful thought about any man. why, you and i are the two most virtuous women in town. i just don't understand. well, perhaps. i guess there's no other reasonable explanation and to be honest with you, my powers have been getting stronger. i can now set a whole stove on fire and to be honest with you it's kind of exhilarating] = 0\n",
              "1                                                                                                                                                                                                                                                                                                                                                                                                                                                                                                                                                                                                                                                                                                                                                                                                                                                                                                                                                                                                                                                                          [INST]\\n            Analiza la siguiente transcripción de video de tiktok a texto para determinar si es misógino o no.\\n            Devuelve exclusivamente **solo** la etiqueta \"1\" si consideras la transcripción misógina o \"0\" si no lo es, sin texto adicional.\\n            [/INST]\\n\\n            [TEXT: el final face_screaming_in_fear  face_screaming_in_fear tú 3@ para compartir por wassap saldrá embarazada este año instagram  nalgaliag estoy embarazada. broma a mi familia. y ahora todo huele y sabe mejor. porque llegó a mi vida el amor de mi vida, yo se lo pedía de arriba.] = 0\n",
              "2                                                                                                                                                                                                                                                                                                                                                                                                                                                                                                                                                                                                                         [INST]\\n            Analiza la siguiente transcripción de video de tiktok a texto para determinar si es misógino o no.\\n            Devuelve exclusivamente **solo** la etiqueta \"1\" si consideras la transcripción misógina o \"0\" si no lo es, sin texto adicional.\\n            [/INST]\\n\\n            [TEXT: asignatura educación afectivo-sexual books  woman_teacher  eyes  women’s_room  men’s_room  definición de salud sexual  es el bienestar físico, emocional, mental y social en relación a la sexualidad. no se limita a la ausencia de enfermedades o disfunciones, sino que también implica defender y respetar los derechos sexuales de todas las personas.\\n\\nopinión sobre incluir esta asignatura en educación primaria  es importante incluir la educación afectivo-sexual en la educación primaria para promover la igualdad de género y prevenir la violencia y la discriminación. every second, every day, i spend hoping we never change, loving you, never wait or hesitate to tell me what is on your mind really do, into] = 0\n",
              "3                                                                                                                                                                                                                                                                                                                                                                                                                                                                                                                                                                                                                                                                                                                                                                                                                                                                                                                                                                           [INST]\\n            Analiza la siguiente transcripción de video de tiktok a texto para determinar si es misógino o no.\\n            Devuelve exclusivamente **solo** la etiqueta \"1\" si consideras la transcripción misógina o \"0\" si no lo es, sin texto adicional.\\n            [/INST]\\n\\n            [TEXT: jaja los papás!  smirking_face  angela aguelar por @bazarnocturnotv. felicidades primera, segunda y tercera. ¿por qué tan escotado? información imagen edición reyna avendaño yt  bazar nocturno tv el universal. dos cosas que decirte  muchas felicidades, la primera, la segunda, nos echamos una canción, y la tercera, ¿ por qué está tan escotado ese mugrero que trae ese ?] = 1\n",
              "4  [INST]\\n            Analiza la siguiente transcripción de video de tiktok a texto para determinar si es misógino o no.\\n            Devuelve exclusivamente **solo** la etiqueta \"1\" si consideras la transcripción misógina o \"0\" si no lo es, sin texto adicional.\\n            [/INST]\\n\\n            [TEXT: me la pelahs  nail_polish  oncoming_fist  smiling_face_with_sunglasses . 6470 ig dilari uoxi fjro {urf 31 compar- pantalla verde hace 5 día(s) pro j y sher bff sonido añadir comentario soy1 64 % 2.29 dilari uoki to_ kuri 31 compar- pantalla verde hace 5 día(s) pro jj sher bff sonido 0 añadir comentario soy1 64 % 2.29 dilari uoki hto kuri 31 compar- pantalla verde hace 5 día(s) pro j bff sonido origi añadir comentario soy1 64 % 2.29 dilari uoki {to kuri 31 compar- pantalla verde hace 5 día(s) pro j 'ff sonido origina añadir comentario soy1 64 % 2.29 dilari uoki to kuri 31 compar- pantalla verde hace 5 día(s) pro j sonido original 9 añadir comentario soy1 64 % 2.29 dilari oki hito kuri 31 compar- pantalla verde hace 5 día(s) pro j nido original - gach; añadir comentario soy1 64 % 2.29 dilari oki {to kuri 31 compar- pantalla verde hace 5 día(s) pro j io original gacha _ añadir comentario soy1 64 % 2.29 dilari uoki hito kuri 31 compar- pantalla verde hace 5 día(s) pro jj riginal gacha. _ sh añadir comentario soyit's cor time nd iizer solo es un audio no te creas ya la pues no eres que te doy un premio pro wtf por que la rubia respeta ofendes. \"sing it like girl, you know i want your love, your love was handmade for somebody like me, come on now follow my not talk too much, bravo, my friend.] = 0"
            ]
          },
          "execution_count": 37,
          "metadata": {},
          "output_type": "execute_result"
        }
      ],
      "source": [
        "X_train.head()"
      ]
    },
    {
      "cell_type": "code",
      "execution_count": 38,
      "id": "f76e36ee",
      "metadata": {
        "colab": {
          "base_uri": "https://localhost:8080/",
          "height": 501
        },
        "id": "f76e36ee",
        "outputId": "99af50fb-17f1-4899-a090-7c688963abb7"
      },
      "outputs": [
        {
          "data": {
            "text/html": [
              "<div>\n",
              "<style scoped>\n",
              "    .dataframe tbody tr th:only-of-type {\n",
              "        vertical-align: middle;\n",
              "    }\n",
              "\n",
              "    .dataframe tbody tr th {\n",
              "        vertical-align: top;\n",
              "    }\n",
              "\n",
              "    .dataframe thead th {\n",
              "        text-align: right;\n",
              "    }\n",
              "</style>\n",
              "<table border=\"1\" class=\"dataframe\">\n",
              "  <thead>\n",
              "    <tr style=\"text-align: right;\">\n",
              "      <th></th>\n",
              "      <th>text</th>\n",
              "    </tr>\n",
              "  </thead>\n",
              "  <tbody>\n",
              "    <tr>\n",
              "      <th>0</th>\n",
              "      <td>[INST]\\n            Analiza la siguiente transcripción de video de tiktok a texto para determinar si es misógino o no.\\n            Devuelve exclusivamente **solo** la etiqueta \"1\" si consideras la transcripción misógina o \"0\" si no lo es, sin texto adicional.\\n            [/INST]\\n\\n            [fachauronplay smiling_face_with_sunglasses  pibas y pibes en el supermercado. pibas vs. pibes. pibardinhos superiores vs. pibes. cuando una persona mayor tarda mucho en la caja delarde, yo le respeto porque... soy feminista y vegana.los pibardillos con la tula más grande que la superioridad de los machos.¡aparte, hijo de puta!] =</td>\n",
              "    </tr>\n",
              "    <tr>\n",
              "      <th>1</th>\n",
              "      <td>[INST]\\n            Analiza la siguiente transcripción de video de tiktok a texto para determinar si es misógino o no.\\n            Devuelve exclusivamente **solo** la etiqueta \"1\" si consideras la transcripción misógina o \"0\" si no lo es, sin texto adicional.\\n            [/INST]\\n\\n            [ te despiden el 10 de septiembre de 2001. ten, eleven, thirteen, i don't fuck grasshopper, grasshopper, grasshopper, grasshopper, grasshopper, grasshopper, grasshopper, grasshopper, grasshopper, grasshopper, grasshopper, grasshopper, grasshopper, grasshopper, grasshopper, grasshopper, grasshopper, grasshopper, grasshopper, grasshopper, grasshopper, grasshopper, grasshopper, grasshopper, grasshopper, grasshopper, grasshopper, grasshopper, grasshopper, grasshopper, grasshopper, grasshopper, grasshopper, grasshopper, grasshopper, grasshopper, grasshopper, grasshopper, grasshopper, grasshopper, grasshopper, grasshopper, grasshopper, grasshopper, grasshopper, grasshopper, grasshopper, grasshopper, grasshopper, grasshopper, grasshopper, grasshopper, grasshopper, grasshopper, grasshopper, grasshopper, grasshopper, grasshopper, grasshopper, grasshopper, grasshopper, grasshopper, grasshopper, grasshopper, grasshopper, grasshopper, grasshopper, grasshopper, grasshopper, grasshopper, grasshopper, grasshopper, grasshopper, grasshopper, grasshopper, grasshopper, grasshopper, grasshopper, grasshopper, grasshopper, grasshopper, grasshopper, grasshopper,] =</td>\n",
              "    </tr>\n",
              "    <tr>\n",
              "      <th>2</th>\n",
              "      <td>[INST]\\n            Analiza la siguiente transcripción de video de tiktok a texto para determinar si es misógino o no.\\n            Devuelve exclusivamente **solo** la etiqueta \"1\" si consideras la transcripción misógina o \"0\" si no lo es, sin texto adicional.\\n            [/INST]\\n\\n            [huele a que me van a funar la cuenta  money-mouth_face  call_me_hand_light_skin_tone  no soporto ciertos ships, aunque me los muestren en pintura. mi opinión es clara. el primer disco de la banda fue \"the tomar, soraya, tomar, soraya, tomar, soraya, tomar, soraya, tomar, soraya, tomar, soraya, tomar, soraya, tomar, soraya, tomar, soraya, tomar, soraya, tomar, soraya, tomar, soraya, tomar, soraya, tomar, soraya, tomar, soraya, tomar, soraya, tomar, soraya, tomar, soraya, tomar, soraya, tomar, soraya, tomar, soraya, tomar, soraya, tomar, soraya, tomar, soraya, tomar, soraya, tomar, soraya, tomar, soraya, tomar, soraya, tomar, soraya, tomar, soraya, tomar, soraya, tomar, soraya, tomar, soraya, tomar, soraya, tomar, soraya, tomar, soraya, tomar, soraya, tomar, soraya, tomar, soraya, tomar, soraya, tomar, soraya, tomar, soraya, tomar, sorayael primer disco de la banda fue \"\"summer nature\"\".según el gobierno de san mariano, el san diego.] =</td>\n",
              "    </tr>\n",
              "    <tr>\n",
              "      <th>3</th>\n",
              "      <td>[INST]\\n            Analiza la siguiente transcripción de video de tiktok a texto para determinar si es misógino o no.\\n            Devuelve exclusivamente **solo** la etiqueta \"1\" si consideras la transcripción misógina o \"0\" si no lo es, sin texto adicional.\\n            [/INST]\\n\\n            [it probably wasn’t a big deal to her but it was a big deal to me  red_heart  text  cibsandibusu cibsandibusd kfters~rafj 1ntene5 269 0 1ki. clean the above text by removing repetitions, leaving the text concise and essential, very clean and completely readable in english with all the information   my girlfriend's daughter's not feeling well and she stayed home sick from school today. around lunchtime, she asked me, do we have any tomato soup? i said, no, we don't, sweetie, but i can make you some. she gave me this look like she didn't trust me, but she trusted me. now, i've never made tomato soup in my life, but that ain't stopping me from getting this kid some tomato soup with a grilled cheese. four tomatoes, peeled, half an onion, sh shh, we're not going to tell her about that. a bit of butter. p&amp;s. garlic. throw in some pizza squeeze. and then a couple dollops of that cream of chicken soup. some almond milk, and we're rocking and rolling. it smells great already. threw it in the old kitchenaid, blended till smooth. that onion does not exist. velvety homemade tomato soup with a perfectly cooked grilled cheese. she was happy. turned out great. good deal.] =</td>\n",
              "    </tr>\n",
              "    <tr>\n",
              "      <th>4</th>\n",
              "      <td>[INST]\\n            Analiza la siguiente transcripción de video de tiktok a texto para determinar si es misógino o no.\\n            Devuelve exclusivamente **solo** la etiqueta \"1\" si consideras la transcripción misógina o \"0\" si no lo es, sin texto adicional.\\n            [/INST]\\n\\n            [cuando te toca pediatría  woman_health_worker_light_skin_tone  rolling_on_the_floor_laughing  stethoscope  cuando toco pediatría. ¿cuántos años tienes que te importa? no seas grosera. ofrecen una disculpa, janet , por favor. no, no.] =</td>\n",
              "    </tr>\n",
              "  </tbody>\n",
              "</table>\n",
              "</div>"
            ],
            "text/plain": [
              "                                                                                                                                                                                                                                                                                                                                                                                                                                                                                                                                                                                                                                                                                                                                                                                                                                                                                                                                                                                                                                                                                                                                                                                                                                                                                                                                                                                                                                                                                                                                 text\n",
              "0                                                                                                                                                                                                                                                                                                                                                                                                                                                                                                                                                                                                                                                                                                                                                                                                                                                                               [INST]\\n            Analiza la siguiente transcripción de video de tiktok a texto para determinar si es misógino o no.\\n            Devuelve exclusivamente **solo** la etiqueta \"1\" si consideras la transcripción misógina o \"0\" si no lo es, sin texto adicional.\\n            [/INST]\\n\\n            [fachauronplay smiling_face_with_sunglasses  pibas y pibes en el supermercado. pibas vs. pibes. pibardinhos superiores vs. pibes. cuando una persona mayor tarda mucho en la caja delarde, yo le respeto porque... soy feminista y vegana.los pibardillos con la tula más grande que la superioridad de los machos.¡aparte, hijo de puta!] =\n",
              "1                   [INST]\\n            Analiza la siguiente transcripción de video de tiktok a texto para determinar si es misógino o no.\\n            Devuelve exclusivamente **solo** la etiqueta \"1\" si consideras la transcripción misógina o \"0\" si no lo es, sin texto adicional.\\n            [/INST]\\n\\n            [ te despiden el 10 de septiembre de 2001. ten, eleven, thirteen, i don't fuck grasshopper, grasshopper, grasshopper, grasshopper, grasshopper, grasshopper, grasshopper, grasshopper, grasshopper, grasshopper, grasshopper, grasshopper, grasshopper, grasshopper, grasshopper, grasshopper, grasshopper, grasshopper, grasshopper, grasshopper, grasshopper, grasshopper, grasshopper, grasshopper, grasshopper, grasshopper, grasshopper, grasshopper, grasshopper, grasshopper, grasshopper, grasshopper, grasshopper, grasshopper, grasshopper, grasshopper, grasshopper, grasshopper, grasshopper, grasshopper, grasshopper, grasshopper, grasshopper, grasshopper, grasshopper, grasshopper, grasshopper, grasshopper, grasshopper, grasshopper, grasshopper, grasshopper, grasshopper, grasshopper, grasshopper, grasshopper, grasshopper, grasshopper, grasshopper, grasshopper, grasshopper, grasshopper, grasshopper, grasshopper, grasshopper, grasshopper, grasshopper, grasshopper, grasshopper, grasshopper, grasshopper, grasshopper, grasshopper, grasshopper, grasshopper, grasshopper, grasshopper, grasshopper, grasshopper, grasshopper, grasshopper, grasshopper, grasshopper,] =\n",
              "2                                                                                                                                                                                                                                      [INST]\\n            Analiza la siguiente transcripción de video de tiktok a texto para determinar si es misógino o no.\\n            Devuelve exclusivamente **solo** la etiqueta \"1\" si consideras la transcripción misógina o \"0\" si no lo es, sin texto adicional.\\n            [/INST]\\n\\n            [huele a que me van a funar la cuenta  money-mouth_face  call_me_hand_light_skin_tone  no soporto ciertos ships, aunque me los muestren en pintura. mi opinión es clara. el primer disco de la banda fue \"the tomar, soraya, tomar, soraya, tomar, soraya, tomar, soraya, tomar, soraya, tomar, soraya, tomar, soraya, tomar, soraya, tomar, soraya, tomar, soraya, tomar, soraya, tomar, soraya, tomar, soraya, tomar, soraya, tomar, soraya, tomar, soraya, tomar, soraya, tomar, soraya, tomar, soraya, tomar, soraya, tomar, soraya, tomar, soraya, tomar, soraya, tomar, soraya, tomar, soraya, tomar, soraya, tomar, soraya, tomar, soraya, tomar, soraya, tomar, soraya, tomar, soraya, tomar, soraya, tomar, soraya, tomar, soraya, tomar, soraya, tomar, soraya, tomar, soraya, tomar, soraya, tomar, soraya, tomar, soraya, tomar, soraya, tomar, soraya, tomar, sorayael primer disco de la banda fue \"\"summer nature\"\".según el gobierno de san mariano, el san diego.] =\n",
              "3  [INST]\\n            Analiza la siguiente transcripción de video de tiktok a texto para determinar si es misógino o no.\\n            Devuelve exclusivamente **solo** la etiqueta \"1\" si consideras la transcripción misógina o \"0\" si no lo es, sin texto adicional.\\n            [/INST]\\n\\n            [it probably wasn’t a big deal to her but it was a big deal to me  red_heart  text  cibsandibusu cibsandibusd kfters~rafj 1ntene5 269 0 1ki. clean the above text by removing repetitions, leaving the text concise and essential, very clean and completely readable in english with all the information   my girlfriend's daughter's not feeling well and she stayed home sick from school today. around lunchtime, she asked me, do we have any tomato soup? i said, no, we don't, sweetie, but i can make you some. she gave me this look like she didn't trust me, but she trusted me. now, i've never made tomato soup in my life, but that ain't stopping me from getting this kid some tomato soup with a grilled cheese. four tomatoes, peeled, half an onion, sh shh, we're not going to tell her about that. a bit of butter. p&s. garlic. throw in some pizza squeeze. and then a couple dollops of that cream of chicken soup. some almond milk, and we're rocking and rolling. it smells great already. threw it in the old kitchenaid, blended till smooth. that onion does not exist. velvety homemade tomato soup with a perfectly cooked grilled cheese. she was happy. turned out great. good deal.] =\n",
              "4                                                                                                                                                                                                                                                                                                                                                                                                                                                                                                                                                                                                                                                                                                                                                                                                                                                                                                                                                                               [INST]\\n            Analiza la siguiente transcripción de video de tiktok a texto para determinar si es misógino o no.\\n            Devuelve exclusivamente **solo** la etiqueta \"1\" si consideras la transcripción misógina o \"0\" si no lo es, sin texto adicional.\\n            [/INST]\\n\\n            [cuando te toca pediatría  woman_health_worker_light_skin_tone  rolling_on_the_floor_laughing  stethoscope  cuando toco pediatría. ¿cuántos años tienes que te importa? no seas grosera. ofrecen una disculpa, janet , por favor. no, no.] ="
            ]
          },
          "execution_count": 38,
          "metadata": {},
          "output_type": "execute_result"
        }
      ],
      "source": [
        "X_test.head()"
      ]
    },
    {
      "cell_type": "markdown",
      "id": "01b1094f",
      "metadata": {
        "id": "01b1094f"
      },
      "source": [
        "#### Conversión a Dataset de HuggingFace"
      ]
    },
    {
      "cell_type": "code",
      "execution_count": 39,
      "id": "2fc67f1c",
      "metadata": {
        "id": "2fc67f1c",
        "scrolled": true
      },
      "outputs": [],
      "source": [
        "# Convertir a Dataset de HuggingFace\n",
        "train_data = Dataset.from_pandas(X_train)\n",
        "eval_data = Dataset.from_pandas(X_eval)\n",
        "test_data = Dataset.from_pandas(X_test)"
      ]
    },
    {
      "cell_type": "code",
      "execution_count": 40,
      "id": "26245a55",
      "metadata": {
        "colab": {
          "base_uri": "https://localhost:8080/"
        },
        "id": "26245a55",
        "outputId": "6bcc7e09-7d73-4e44-faaf-6335104ed945",
        "scrolled": false
      },
      "outputs": [
        {
          "data": {
            "text/plain": [
              "Dataset({\n",
              "    features: ['text'],\n",
              "    num_rows: 1755\n",
              "})"
            ]
          },
          "execution_count": 40,
          "metadata": {},
          "output_type": "execute_result"
        }
      ],
      "source": [
        "train_data"
      ]
    },
    {
      "cell_type": "code",
      "execution_count": 41,
      "id": "ElhWxTdoRWKA",
      "metadata": {
        "colab": {
          "base_uri": "https://localhost:8080/"
        },
        "id": "ElhWxTdoRWKA",
        "outputId": "6e57a73b-6df4-4b90-f1ba-27c9d7b1e1fa"
      },
      "outputs": [
        {
          "data": {
            "text/plain": [
              "Dataset({\n",
              "    features: ['text'],\n",
              "    num_rows: 376\n",
              "})"
            ]
          },
          "execution_count": 41,
          "metadata": {},
          "output_type": "execute_result"
        }
      ],
      "source": [
        "eval_data"
      ]
    },
    {
      "cell_type": "code",
      "execution_count": 42,
      "id": "MTgdD4rdUAmq",
      "metadata": {
        "colab": {
          "base_uri": "https://localhost:8080/"
        },
        "id": "MTgdD4rdUAmq",
        "outputId": "97e5ba24-22b7-4b35-91f8-6cc62f0a0d33"
      },
      "outputs": [
        {
          "data": {
            "text/plain": [
              "Dataset({\n",
              "    features: ['text'],\n",
              "    num_rows: 377\n",
              "})"
            ]
          },
          "execution_count": 42,
          "metadata": {},
          "output_type": "execute_result"
        }
      ],
      "source": [
        "test_data"
      ]
    },
    {
      "cell_type": "markdown",
      "id": "91e0fc6b",
      "metadata": {
        "id": "91e0fc6b"
      },
      "source": [
        "## Funcion de evaluación"
      ]
    },
    {
      "cell_type": "code",
      "execution_count": 44,
      "id": "82d98c01",
      "metadata": {
        "id": "82d98c01"
      },
      "outputs": [],
      "source": [
        "def evaluate(y_true, y_pred, metodo):\n",
        "    labels = [clase_0, clase_1]\n",
        "    mapping = {0: 0, 1: 1}\n",
        "\n",
        "    # Convertir etiquetas a valores numéricos usando mapeo eficiente\n",
        "    y_true = pd.Series(y_true).map(mapping).fillna(0).astype(int)\n",
        "    y_pred = pd.Series(y_pred).map(mapping).fillna(0).astype(int)\n",
        "\n",
        "    # Calcular precisión global\n",
        "    accuracy = accuracy_score(y_true, y_pred)\n",
        "    print(f'Accuracy: {accuracy:.3f}')\n",
        "\n",
        "    # Generar y mostrar el reporte de clasificación completo\n",
        "    print('\\nClassification Report:')\n",
        "    class_report = classification_report(y_true, y_pred, target_names=labels, output_dict=True)\n",
        "    print(classification_report(y_true, y_pred, target_names=labels))\n",
        "\n",
        "    # Generar y mostrar la matriz de confusión\n",
        "    print('\\nConfusion Matrix:')\n",
        "    conf_matrix = confusion_matrix(y_true, y_pred)\n",
        "    print(conf_matrix)\n",
        "\n",
        "    # Reorganizar la matriz de confusión si es necesario\n",
        "    conf_reordered = conf_matrix  # Puedes ajustar el orden si lo necesitas\n",
        "\n",
        "    # Graficar la matriz de confusión\n",
        "    plt.figure(figsize=(8, 6))\n",
        "    sns.heatmap(conf_reordered, annot=True, cmap='Reds', fmt='d', xticklabels=labels, yticklabels=labels)\n",
        "    plt.title(f'Matriz Confusion - {i_model} (Prompt {i_prompt}). {metodo}')\n",
        "    plt.ylabel('Actual')\n",
        "    plt.xlabel('Predicted')\n",
        "\n",
        "    # Guardar la matriz de confusión\n",
        "    matriz_path = f'/home/adrian/Escritorio/DeepSexist/DatasetManagement/EXIST2025DatasetV0.3/evaluation/matrices/matriz_{i_model}_prompt{i_prompt}_{metodo}.jpeg'\n",
        "    plt.savefig(matriz_path)\n",
        "    plt.show()\n",
        "\n",
        "    # Descomponer la matriz de confusión (TN, FP, FN, TP)\n",
        "    TN, FP, FN, TP = conf_matrix.ravel()\n",
        "\n",
        "    # Calcular la curva ROC\n",
        "    fpr, tpr, thresholds = roc_curve(y_true, y_pred)\n",
        "    roc_auc = auc(fpr, tpr)\n",
        "\n",
        "    # Graficar la curva ROC\n",
        "    plt.figure()\n",
        "    plt.plot(fpr, tpr, color='darkblue', lw=2, label='Curva ROC (AUC = {:.2f})'.format(roc_auc))\n",
        "    plt.plot([0, 1], [0, 1], color='lightgrey', linestyle='--')  # Línea diagonal\n",
        "    plt.xlim([0.0, 1.0])\n",
        "    plt.ylim([0.0, 1.0])\n",
        "    plt.xlabel('Tasa de Falsos Positivos')\n",
        "    plt.ylabel('Tasa de Verdaderos Positivos')\n",
        "    plt.title(f'Curva ROC - {i_model} (Prompt {i_prompt}). {metodo}')\n",
        "    plt.legend(loc='lower right')\n",
        "    plt.grid()\n",
        "\n",
        "    # Guardar la gráfica de la curva ROC\n",
        "    curva_roc_path = f'/home/adrian/Escritorio/DeepSexist/DatasetManagement/EXIST2025DatasetV0.3/evaluation/curvas/curvaroc_{i_model}_prompt{i_prompt}_{metodo}.jpeg'\n",
        "    plt.savefig(curva_roc_path)\n",
        "    plt.show()\n",
        "\n",
        "    # Extraer métricas del reporte de clasificación\n",
        "    precision_1 = class_report[clase_1]['precision']\n",
        "    recall_1 = class_report[clase_1]['recall']\n",
        "    f1_score_1 = class_report[clase_1]['f1-score']\n",
        "    support_1 = class_report[clase_1]['support']\n",
        "\n",
        "    precision_0 = class_report[clase_0]['precision']\n",
        "    recall_0 = class_report[clase_0]['recall']\n",
        "    f1_score_0 = class_report[clase_0]['f1-score']\n",
        "    support_0 = class_report[clase_0]['support']\n",
        "\n",
        "    # Asegurarse de que las métricas y la matriz se devuelvan correctamente\n",
        "    return {\n",
        "        'accuracy': accuracy,\n",
        "        'precision_1': precision_1,\n",
        "        'recall_1': recall_1,\n",
        "        'f1_score_1': f1_score_1,\n",
        "        'support_1': support_1,\n",
        "        'precision_0': precision_0,\n",
        "        'recall_0': recall_0,\n",
        "        'f1_score_0': f1_score_0,\n",
        "        'support_0': support_0,\n",
        "        'TN': TN,\n",
        "        'FP': FP,\n",
        "        'FN': FN,\n",
        "        'TP': TP,\n",
        "        'roc_auc': roc_auc,\n",
        "        'curva_roc_path': curva_roc_path,\n",
        "        'matriz_path': matriz_path\n",
        "    }\n"
      ]
    },
    {
      "cell_type": "markdown",
      "id": "b3a0d010",
      "metadata": {
        "id": "b3a0d010"
      },
      "source": [
        "## Uso del modelo"
      ]
    },
    {
      "cell_type": "markdown",
      "id": "2d81e013",
      "metadata": {
        "id": "2d81e013"
      },
      "source": [
        "#### Definición de hiperparámetros"
      ]
    },
    {
      "cell_type": "code",
      "execution_count": 45,
      "id": "0ac1d55c",
      "metadata": {
        "id": "0ac1d55c"
      },
      "outputs": [],
      "source": [
        "num_epochs = 4\n",
        "num_epochs_bloque = 2"
      ]
    },
    {
      "cell_type": "markdown",
      "id": "2d1d7698",
      "metadata": {
        "id": "2d1d7698"
      },
      "source": [
        "#### Enumeración de modelos"
      ]
    },
    {
      "cell_type": "code",
      "execution_count": 46,
      "id": "9173184a",
      "metadata": {
        "id": "9173184a"
      },
      "outputs": [],
      "source": [
        "i_model = 0\n",
        "model_names = ['meta-llama/Llama-3.2-1B-Instruct', 'tiiuae/falcon-7b', 'BSC-LT/salamandra-7b-instruct', 'meta-llama/Llama-3.2-3B-Instruct', 'Qwen/Qwen2.5-3B-Instruct', 'google/gemma-2-2b-it', 'apry/best_2b']\n",
        "model_shorts = ['llama-1b', 'falcon-7b', 'salamandra-7b', 'llama-3b', 'qwen-3b', 'gemma-2b', 'best-2b']"
      ]
    },
    {
      "cell_type": "code",
      "execution_count": 54,
      "id": "fNyaQKwwoH0z",
      "metadata": {
        "id": "fNyaQKwwoH0z"
      },
      "outputs": [],
      "source": [
        "metodo1 = 'Base'\n",
        "metodo2 = 'PreprocesadoES'"
      ]
    },
    {
      "cell_type": "markdown",
      "id": "21e98875",
      "metadata": {
        "id": "21e98875"
      },
      "source": [
        "#### Configuración del modelo y carga de tokenizer"
      ]
    },
    {
      "cell_type": "code",
      "execution_count": null,
      "id": "34f925b4",
      "metadata": {},
      "outputs": [],
      "source": [
        "# Cargamos el token de HuggingFace que lo tenemos en un fichero oculto e iniciamos sesión\n",
        "\n",
        "with open(\"/home/adrian/Escritorio/DeepSexist/DatasetManagement/EXIST2025DatasetV0.3/huggingfaceToken.txt\", \"r\") as file:\n",
        "    hf_token = file.read().strip()\n",
        "\n",
        "login(hf_token)"
      ]
    },
    {
      "cell_type": "code",
      "execution_count": null,
      "id": "e656e0ee",
      "metadata": {
        "id": "e656e0ee",
        "scrolled": true
      },
      "outputs": [],
      "source": [
        "# # Token de Hugging Face\n",
        "# hf_token = \"\"\n",
        "# login(hf_token)"
      ]
    },
    {
      "cell_type": "code",
      "execution_count": 49,
      "id": "a8092eaa",
      "metadata": {
        "id": "a8092eaa",
        "scrolled": true
      },
      "outputs": [],
      "source": [
        "def load_model_and_tokenizer(model_name, hf_token=None, quantization=True):\n",
        "    try:\n",
        "        # Configuración de cuantización en 4 bits\n",
        "        if quantization:\n",
        "            compute_dtype = getattr(torch, \"float16\")\n",
        "            bnb_config = BitsAndBytesConfig(\n",
        "                load_in_4bit=True,\n",
        "                bnb_4bit_use_double_quant=False,\n",
        "                bnb_4bit_quant_type=\"nf4\",\n",
        "                bnb_4bit_compute_dtype=compute_dtype,\n",
        "            )\n",
        "        else:\n",
        "            bnb_config = None  # Sin cuantización\n",
        "\n",
        "        # Cargar modelo con configuración de cuantización\n",
        "        model = AutoModelForCausalLM.from_pretrained(\n",
        "            model_name,\n",
        "            device_map=\"auto\",\n",
        "            quantization_config=bnb_config,\n",
        "            use_auth_token=hf_token,\n",
        "        )\n",
        "\n",
        "        # Configuraciones adicionales específicas del modelo\n",
        "        if hasattr(model.config, \"use_cache\"):\n",
        "            model.config.use_cache = False\n",
        "        if hasattr(model.config, \"pretraining_tp\"):\n",
        "            model.config.pretraining_tp = 1  # Modelos LLaMA\n",
        "\n",
        "        tokenizer = AutoTokenizer.from_pretrained(\n",
        "            model_name,\n",
        "            trust_remote_code=True,\n",
        "            padding_side=\"left\",\n",
        "            add_eos_token=True,\n",
        "            use_auth_token=hf_token,\n",
        "        )\n",
        "        tokenizer.pad_token = tokenizer.eos_token\n",
        "\n",
        "        return model, tokenizer\n",
        "\n",
        "    except Exception as e:\n",
        "        print(f\"Error al cargar el modelo {model_name}: {e}\")\n",
        "        return None, None"
      ]
    },
    {
      "cell_type": "code",
      "execution_count": 50,
      "id": "c5540e54",
      "metadata": {
        "colab": {
          "base_uri": "https://localhost:8080/",
          "height": 209,
          "referenced_widgets": [
            "20f23cdf3faf45ec9eae003d175cd67a",
            "28534f0d2d5741d38a0af90644d3a2f7",
            "270343a60b374f0a8fbd3cf9b6c6a38d",
            "0266023bb2d1438a97cfe7643255db27",
            "1e79b04c4ff94bbd9ed896558a7ed167",
            "61f44a006ba0441b9da20ea15bd38456",
            "8d032d24955a4e1aa54e0575e4e25c4f",
            "10dee1ce08cd4cb294df3677f9ee6107",
            "c65f2238d15947c3b7cd24243235c79e",
            "49466651e4a147f082abb3ac0892748f",
            "0bc11b5a67d544fea8fe03a8da58b8c1",
            "a49921035762493eabb72f5e89cbb7c2",
            "f391822e3df04f80a95dad7da8ebf264",
            "e39f4c75c60642d8882be9b007a6f48a",
            "12ff8e823c9b425bbd31492783f738b7",
            "616fcdb044664da0bb0d147635c26b57",
            "7f7eabd2f0234f59b11f4e5471be7c77",
            "12ae927f47ad4942a82c70eec937e95a",
            "96eb33c50a5f4f6f92fafacfaeb61e97",
            "5121eab25be64d1da1538e576972b103",
            "54898ec8af3940e4888f039a0405d659",
            "cf91550575d844d592d685244a47da88",
            "6e32b8c747be40c684c13a7e964585d9",
            "a7029b97df734c0ca4a23f2f376951cc",
            "dcc87ddeb6114bbeb03252442f78f447",
            "80849bdd68bb435aa8e17157687b9749",
            "d076cdf72a614551b9d5cc7910a51667",
            "e25f809a5eaa4abc988d200d111c8191",
            "16c35715dbc049438a9132fca9dd6ff4",
            "64aaebcce5974a63845a609281578b26",
            "94b65112f4e94122be6cab35676f332d",
            "650d08b9106e4567b4cd9c9381b8211b",
            "85c1b2abb74540239bb2f63dfdfb44c8",
            "32770c64b81343018930af092a0eb35d",
            "9354f2595b8745419d6e12d082bb131d",
            "a594645352a94d3f808031060b20c7b1",
            "e7374c1e23e348b7834e7850940d988c",
            "23feaa7b728f4cd884d2fcb686cd3d8e",
            "cf2858541c9c429d9075d0b39bff4571",
            "64b3a7dc24264521aba68385c97ada7f",
            "b4b6c616695a4532901878b7a0c4469c",
            "cf69d3c34b204659a75bab7b460132cc",
            "1501cd7e027e4583916b23990b57b423",
            "b4f2b7135dbf4f7c8e1304114d1f3ead",
            "0e08aa9c03b74dfdb30e835cbc1ed6b8",
            "e8a2c656acc842ccafd5f4a1c640bece",
            "da03391ecb444f3a845dd1dfa8a90e5b",
            "6429a66ba75b4c48811ff2ef857abb65",
            "9ae6c75945914142b5b32971b25fff40",
            "8abe4e17f4b543ef84424946d2adf2e5",
            "804dab627c4c4fbb983305ea6d51694e",
            "fe264be4d18344ebab38094b00a7c178",
            "8cb5496b402c4a65b192f4c7e07ea533",
            "6e7ca37a29594456abd54df5d8293fc0",
            "b2b18b14e40a4ad493ec7f54bf0f33ea",
            "9f431634fb384705805082242314943a",
            "1d2269b28c2c4376a47114305039b5c6",
            "f77f46dcf2274c26b94e88a3f35a6658",
            "f659c81341d24f4fb4c203f35e270eb6",
            "1c5796d355fe457885610ac1c8239a98",
            "236b4a552ee84188bbd82a391b64d43c",
            "3feb10a57ec2431a82aeb328e5946e5e",
            "a4aba33ae26b4786b1ffa3d40091ceff",
            "7148afba842f467eb619184b7d6238b4",
            "c7e1751a58f84cf5a90bb9b1edf553f1",
            "6389cfe743eb4dac85c92b443550d9e0"
          ]
        },
        "id": "c5540e54",
        "outputId": "b93b4bdb-2481-4363-b413-40df4123f217"
      },
      "outputs": [],
      "source": [
        "# Llamada a la función\n",
        "model_name = model_names[i_model]\n",
        "model, tokenizer = load_model_and_tokenizer(model_name)"
      ]
    },
    {
      "cell_type": "markdown",
      "id": "de40b9a5",
      "metadata": {
        "id": "de40b9a5"
      },
      "source": [
        "#### Función de predicción"
      ]
    },
    {
      "cell_type": "code",
      "execution_count": 51,
      "id": "MNfssZ6UWV3D",
      "metadata": {
        "colab": {
          "base_uri": "https://localhost:8080/",
          "height": 858
        },
        "id": "MNfssZ6UWV3D",
        "outputId": "b0f787e6-6f14-44e9-ef44-cba49f9b47f3"
      },
      "outputs": [
        {
          "data": {
            "text/html": [
              "<div>\n",
              "<style scoped>\n",
              "    .dataframe tbody tr th:only-of-type {\n",
              "        vertical-align: middle;\n",
              "    }\n",
              "\n",
              "    .dataframe tbody tr th {\n",
              "        vertical-align: top;\n",
              "    }\n",
              "\n",
              "    .dataframe thead th {\n",
              "        text-align: right;\n",
              "    }\n",
              "</style>\n",
              "<table border=\"1\" class=\"dataframe\">\n",
              "  <thead>\n",
              "    <tr style=\"text-align: right;\">\n",
              "      <th></th>\n",
              "      <th>text</th>\n",
              "    </tr>\n",
              "  </thead>\n",
              "  <tbody>\n",
              "    <tr>\n",
              "      <th>0</th>\n",
              "      <td>[INST]\\n            Analiza la siguiente transcripción de video de tiktok a texto para determinar si es misógino o no.\\n            Devuelve exclusivamente **solo** la etiqueta \"1\" si consideras la transcripción misógina o \"0\" si no lo es, sin texto adicional.\\n            [/INST]\\n\\n            [fachauronplay smiling_face_with_sunglasses  pibas y pibes en el supermercado. pibas vs. pibes. pibardinhos superiores vs. pibes. cuando una persona mayor tarda mucho en la caja delarde, yo le respeto porque... soy feminista y vegana.los pibardillos con la tula más grande que la superioridad de los machos.¡aparte, hijo de puta!] =</td>\n",
              "    </tr>\n",
              "    <tr>\n",
              "      <th>1</th>\n",
              "      <td>[INST]\\n            Analiza la siguiente transcripción de video de tiktok a texto para determinar si es misógino o no.\\n            Devuelve exclusivamente **solo** la etiqueta \"1\" si consideras la transcripción misógina o \"0\" si no lo es, sin texto adicional.\\n            [/INST]\\n\\n            [ te despiden el 10 de septiembre de 2001. ten, eleven, thirteen, i don't fuck grasshopper, grasshopper, grasshopper, grasshopper, grasshopper, grasshopper, grasshopper, grasshopper, grasshopper, grasshopper, grasshopper, grasshopper, grasshopper, grasshopper, grasshopper, grasshopper, grasshopper, grasshopper, grasshopper, grasshopper, grasshopper, grasshopper, grasshopper, grasshopper, grasshopper, grasshopper, grasshopper, grasshopper, grasshopper, grasshopper, grasshopper, grasshopper, grasshopper, grasshopper, grasshopper, grasshopper, grasshopper, grasshopper, grasshopper, grasshopper, grasshopper, grasshopper, grasshopper, grasshopper, grasshopper, grasshopper, grasshopper, grasshopper, grasshopper, grasshopper, grasshopper, grasshopper, grasshopper, grasshopper, grasshopper, grasshopper, grasshopper, grasshopper, grasshopper, grasshopper, grasshopper, grasshopper, grasshopper, grasshopper, grasshopper, grasshopper, grasshopper, grasshopper, grasshopper, grasshopper, grasshopper, grasshopper, grasshopper, grasshopper, grasshopper, grasshopper, grasshopper, grasshopper, grasshopper, grasshopper, grasshopper, grasshopper, grasshopper,] =</td>\n",
              "    </tr>\n",
              "    <tr>\n",
              "      <th>2</th>\n",
              "      <td>[INST]\\n            Analiza la siguiente transcripción de video de tiktok a texto para determinar si es misógino o no.\\n            Devuelve exclusivamente **solo** la etiqueta \"1\" si consideras la transcripción misógina o \"0\" si no lo es, sin texto adicional.\\n            [/INST]\\n\\n            [huele a que me van a funar la cuenta  money-mouth_face  call_me_hand_light_skin_tone  no soporto ciertos ships, aunque me los muestren en pintura. mi opinión es clara. el primer disco de la banda fue \"the tomar, soraya, tomar, soraya, tomar, soraya, tomar, soraya, tomar, soraya, tomar, soraya, tomar, soraya, tomar, soraya, tomar, soraya, tomar, soraya, tomar, soraya, tomar, soraya, tomar, soraya, tomar, soraya, tomar, soraya, tomar, soraya, tomar, soraya, tomar, soraya, tomar, soraya, tomar, soraya, tomar, soraya, tomar, soraya, tomar, soraya, tomar, soraya, tomar, soraya, tomar, soraya, tomar, soraya, tomar, soraya, tomar, soraya, tomar, soraya, tomar, soraya, tomar, soraya, tomar, soraya, tomar, soraya, tomar, soraya, tomar, soraya, tomar, soraya, tomar, soraya, tomar, soraya, tomar, soraya, tomar, soraya, tomar, soraya, tomar, sorayael primer disco de la banda fue \"\"summer nature\"\".según el gobierno de san mariano, el san diego.] =</td>\n",
              "    </tr>\n",
              "    <tr>\n",
              "      <th>3</th>\n",
              "      <td>[INST]\\n            Analiza la siguiente transcripción de video de tiktok a texto para determinar si es misógino o no.\\n            Devuelve exclusivamente **solo** la etiqueta \"1\" si consideras la transcripción misógina o \"0\" si no lo es, sin texto adicional.\\n            [/INST]\\n\\n            [it probably wasn’t a big deal to her but it was a big deal to me  red_heart  text  cibsandibusu cibsandibusd kfters~rafj 1ntene5 269 0 1ki. clean the above text by removing repetitions, leaving the text concise and essential, very clean and completely readable in english with all the information   my girlfriend's daughter's not feeling well and she stayed home sick from school today. around lunchtime, she asked me, do we have any tomato soup? i said, no, we don't, sweetie, but i can make you some. she gave me this look like she didn't trust me, but she trusted me. now, i've never made tomato soup in my life, but that ain't stopping me from getting this kid some tomato soup with a grilled cheese. four tomatoes, peeled, half an onion, sh shh, we're not going to tell her about that. a bit of butter. p&amp;s. garlic. throw in some pizza squeeze. and then a couple dollops of that cream of chicken soup. some almond milk, and we're rocking and rolling. it smells great already. threw it in the old kitchenaid, blended till smooth. that onion does not exist. velvety homemade tomato soup with a perfectly cooked grilled cheese. she was happy. turned out great. good deal.] =</td>\n",
              "    </tr>\n",
              "    <tr>\n",
              "      <th>4</th>\n",
              "      <td>[INST]\\n            Analiza la siguiente transcripción de video de tiktok a texto para determinar si es misógino o no.\\n            Devuelve exclusivamente **solo** la etiqueta \"1\" si consideras la transcripción misógina o \"0\" si no lo es, sin texto adicional.\\n            [/INST]\\n\\n            [cuando te toca pediatría  woman_health_worker_light_skin_tone  rolling_on_the_floor_laughing  stethoscope  cuando toco pediatría. ¿cuántos años tienes que te importa? no seas grosera. ofrecen una disculpa, janet , por favor. no, no.] =</td>\n",
              "    </tr>\n",
              "    <tr>\n",
              "      <th>...</th>\n",
              "      <td>...</td>\n",
              "    </tr>\n",
              "    <tr>\n",
              "      <th>372</th>\n",
              "      <td>[INST]\\n            Analiza la siguiente transcripción de video de tiktok a texto para determinar si es misógino o no.\\n            Devuelve exclusivamente **solo** la etiqueta \"1\" si consideras la transcripción misógina o \"0\" si no lo es, sin texto adicional.\\n            [/INST]\\n\\n            [ face_exhaling  ser mantenida significa que nos comparten las cosas porque no trabajamos. lo que es ser mantenida. nos compran las cositas ya que nosotras no trabajamos.] =</td>\n",
              "    </tr>\n",
              "    <tr>\n",
              "      <th>373</th>\n",
              "      <td>[INST]\\n            Analiza la siguiente transcripción de video de tiktok a texto para determinar si es misógino o no.\\n            Devuelve exclusivamente **solo** la etiqueta \"1\" si consideras la transcripción misógina o \"0\" si no lo es, sin texto adicional.\\n            [/INST]\\n\\n            [ in a few weeks, radical teen feminists and andrew tate fans will have to coexist in one classroom for hours on end.  the hoes go back.] =</td>\n",
              "    </tr>\n",
              "    <tr>\n",
              "      <th>374</th>\n",
              "      <td>[INST]\\n            Analiza la siguiente transcripción de video de tiktok a texto para determinar si es misógino o no.\\n            Devuelve exclusivamente **solo** la etiqueta \"1\" si consideras la transcripción misógina o \"0\" si no lo es, sin texto adicional.\\n            [/INST]\\n\\n            [ most men don't want to admit that they're in an abusive relationship. they describe the relationship and their girlfriend/wife using terms like emotional, controlling, bossy, domineering, and constant conflict. if you use words like this to describe your relationship, odds are you're being emotionally abused.  yes yes yes return it to me. oh my god. just know that i'm in it. here i am. return it to me. one second. return it to me.] =</td>\n",
              "    </tr>\n",
              "    <tr>\n",
              "      <th>375</th>\n",
              "      <td>[INST]\\n            Analiza la siguiente transcripción de video de tiktok a texto para determinar si es misógino o no.\\n            Devuelve exclusivamente **solo** la etiqueta \"1\" si consideras la transcripción misógina o \"0\" si no lo es, sin texto adicional.\\n            [/INST]\\n\\n            [how podcasters could sound if they werent so busy dissing women. pov  anti-misogynist podcast  nah, see, you say you don't understand why women say all men, but really you do. you understand that logic because you like guns, right? true. and what's one of the first safety tips they give you about guns is treat every gun like it's loaded. like it's loaded, right? exactly. even if you know it's not loaded, all guns are loaded, right? that's how you look at every gun. because you can't look at somebody's gun and tell if it's loaded or not. women are doing the exact same thing. because any man could be her assailant. she can't look at a man and be like, oh, that's the good one. so she treats all men like their potential assailants. the same way we do guns. it's the same thing.] =</td>\n",
              "    </tr>\n",
              "    <tr>\n",
              "      <th>376</th>\n",
              "      <td>[INST]\\n            Analiza la siguiente transcripción de video de tiktok a texto para determinar si es misógino o no.\\n            Devuelve exclusivamente **solo** la etiqueta \"1\" si consideras la transcripción misógina o \"0\" si no lo es, sin texto adicional.\\n            [/INST]\\n\\n            [cuando mas miedo pasaba uceda él  me enteré de que ayer saliste con tus amigas, así que hoy toca el campo por mentirme. marta uceda  no, no. i'm riding all the time.] =</td>\n",
              "    </tr>\n",
              "  </tbody>\n",
              "</table>\n",
              "<p>377 rows × 1 columns</p>\n",
              "</div>"
            ],
            "text/plain": [
              "                                                                                                                                                                                                                                                                                                                                                                                                                                                                                                                                                                                                                                                                                                                                                                                                                                                                                                                                                                                                                                                                                                                                                                                                                                                                                                                                                                                                                                                                                                                                   text\n",
              "0                                                                                                                                                                                                                                                                                                                                                                                                                                                                                                                                                                                                                                                                                                                                                                                                                                                                                 [INST]\\n            Analiza la siguiente transcripción de video de tiktok a texto para determinar si es misógino o no.\\n            Devuelve exclusivamente **solo** la etiqueta \"1\" si consideras la transcripción misógina o \"0\" si no lo es, sin texto adicional.\\n            [/INST]\\n\\n            [fachauronplay smiling_face_with_sunglasses  pibas y pibes en el supermercado. pibas vs. pibes. pibardinhos superiores vs. pibes. cuando una persona mayor tarda mucho en la caja delarde, yo le respeto porque... soy feminista y vegana.los pibardillos con la tula más grande que la superioridad de los machos.¡aparte, hijo de puta!] =\n",
              "1                     [INST]\\n            Analiza la siguiente transcripción de video de tiktok a texto para determinar si es misógino o no.\\n            Devuelve exclusivamente **solo** la etiqueta \"1\" si consideras la transcripción misógina o \"0\" si no lo es, sin texto adicional.\\n            [/INST]\\n\\n            [ te despiden el 10 de septiembre de 2001. ten, eleven, thirteen, i don't fuck grasshopper, grasshopper, grasshopper, grasshopper, grasshopper, grasshopper, grasshopper, grasshopper, grasshopper, grasshopper, grasshopper, grasshopper, grasshopper, grasshopper, grasshopper, grasshopper, grasshopper, grasshopper, grasshopper, grasshopper, grasshopper, grasshopper, grasshopper, grasshopper, grasshopper, grasshopper, grasshopper, grasshopper, grasshopper, grasshopper, grasshopper, grasshopper, grasshopper, grasshopper, grasshopper, grasshopper, grasshopper, grasshopper, grasshopper, grasshopper, grasshopper, grasshopper, grasshopper, grasshopper, grasshopper, grasshopper, grasshopper, grasshopper, grasshopper, grasshopper, grasshopper, grasshopper, grasshopper, grasshopper, grasshopper, grasshopper, grasshopper, grasshopper, grasshopper, grasshopper, grasshopper, grasshopper, grasshopper, grasshopper, grasshopper, grasshopper, grasshopper, grasshopper, grasshopper, grasshopper, grasshopper, grasshopper, grasshopper, grasshopper, grasshopper, grasshopper, grasshopper, grasshopper, grasshopper, grasshopper, grasshopper, grasshopper, grasshopper,] =\n",
              "2                                                                                                                                                                                                                                        [INST]\\n            Analiza la siguiente transcripción de video de tiktok a texto para determinar si es misógino o no.\\n            Devuelve exclusivamente **solo** la etiqueta \"1\" si consideras la transcripción misógina o \"0\" si no lo es, sin texto adicional.\\n            [/INST]\\n\\n            [huele a que me van a funar la cuenta  money-mouth_face  call_me_hand_light_skin_tone  no soporto ciertos ships, aunque me los muestren en pintura. mi opinión es clara. el primer disco de la banda fue \"the tomar, soraya, tomar, soraya, tomar, soraya, tomar, soraya, tomar, soraya, tomar, soraya, tomar, soraya, tomar, soraya, tomar, soraya, tomar, soraya, tomar, soraya, tomar, soraya, tomar, soraya, tomar, soraya, tomar, soraya, tomar, soraya, tomar, soraya, tomar, soraya, tomar, soraya, tomar, soraya, tomar, soraya, tomar, soraya, tomar, soraya, tomar, soraya, tomar, soraya, tomar, soraya, tomar, soraya, tomar, soraya, tomar, soraya, tomar, soraya, tomar, soraya, tomar, soraya, tomar, soraya, tomar, soraya, tomar, soraya, tomar, soraya, tomar, soraya, tomar, soraya, tomar, soraya, tomar, soraya, tomar, soraya, tomar, soraya, tomar, sorayael primer disco de la banda fue \"\"summer nature\"\".según el gobierno de san mariano, el san diego.] =\n",
              "3    [INST]\\n            Analiza la siguiente transcripción de video de tiktok a texto para determinar si es misógino o no.\\n            Devuelve exclusivamente **solo** la etiqueta \"1\" si consideras la transcripción misógina o \"0\" si no lo es, sin texto adicional.\\n            [/INST]\\n\\n            [it probably wasn’t a big deal to her but it was a big deal to me  red_heart  text  cibsandibusu cibsandibusd kfters~rafj 1ntene5 269 0 1ki. clean the above text by removing repetitions, leaving the text concise and essential, very clean and completely readable in english with all the information   my girlfriend's daughter's not feeling well and she stayed home sick from school today. around lunchtime, she asked me, do we have any tomato soup? i said, no, we don't, sweetie, but i can make you some. she gave me this look like she didn't trust me, but she trusted me. now, i've never made tomato soup in my life, but that ain't stopping me from getting this kid some tomato soup with a grilled cheese. four tomatoes, peeled, half an onion, sh shh, we're not going to tell her about that. a bit of butter. p&s. garlic. throw in some pizza squeeze. and then a couple dollops of that cream of chicken soup. some almond milk, and we're rocking and rolling. it smells great already. threw it in the old kitchenaid, blended till smooth. that onion does not exist. velvety homemade tomato soup with a perfectly cooked grilled cheese. she was happy. turned out great. good deal.] =\n",
              "4                                                                                                                                                                                                                                                                                                                                                                                                                                                                                                                                                                                                                                                                                                                                                                                                                                                                                                                                                                                 [INST]\\n            Analiza la siguiente transcripción de video de tiktok a texto para determinar si es misógino o no.\\n            Devuelve exclusivamente **solo** la etiqueta \"1\" si consideras la transcripción misógina o \"0\" si no lo es, sin texto adicional.\\n            [/INST]\\n\\n            [cuando te toca pediatría  woman_health_worker_light_skin_tone  rolling_on_the_floor_laughing  stethoscope  cuando toco pediatría. ¿cuántos años tienes que te importa? no seas grosera. ofrecen una disculpa, janet , por favor. no, no.] =\n",
              "..                                                                                                                                                                                                                                                                                                                                                                                                                                                                                                                                                                                                                                                                                                                                                                                                                                                                                                                                                                                                                                                                                                                                                                                                                                                                                                                                                                                                                                                                                                                                  ...\n",
              "372                                                                                                                                                                                                                                                                                                                                                                                                                                                                                                                                                                                                                                                                                                                                                                                                                                                                                                                                                                                                                                              [INST]\\n            Analiza la siguiente transcripción de video de tiktok a texto para determinar si es misógino o no.\\n            Devuelve exclusivamente **solo** la etiqueta \"1\" si consideras la transcripción misógina o \"0\" si no lo es, sin texto adicional.\\n            [/INST]\\n\\n            [ face_exhaling  ser mantenida significa que nos comparten las cosas porque no trabajamos. lo que es ser mantenida. nos compran las cositas ya que nosotras no trabajamos.] =\n",
              "373                                                                                                                                                                                                                                                                                                                                                                                                                                                                                                                                                                                                                                                                                                                                                                                                                                                                                                                                                                                                                                                                                [INST]\\n            Analiza la siguiente transcripción de video de tiktok a texto para determinar si es misógino o no.\\n            Devuelve exclusivamente **solo** la etiqueta \"1\" si consideras la transcripción misógina o \"0\" si no lo es, sin texto adicional.\\n            [/INST]\\n\\n            [ in a few weeks, radical teen feminists and andrew tate fans will have to coexist in one classroom for hours on end.  the hoes go back.] =\n",
              "374                                                                                                                                                                                                                                                                                                                                                                                                                                                                                                                                                                                                                                                                                                                                                                    [INST]\\n            Analiza la siguiente transcripción de video de tiktok a texto para determinar si es misógino o no.\\n            Devuelve exclusivamente **solo** la etiqueta \"1\" si consideras la transcripción misógina o \"0\" si no lo es, sin texto adicional.\\n            [/INST]\\n\\n            [ most men don't want to admit that they're in an abusive relationship. they describe the relationship and their girlfriend/wife using terms like emotional, controlling, bossy, domineering, and constant conflict. if you use words like this to describe your relationship, odds are you're being emotionally abused.  yes yes yes return it to me. oh my god. just know that i'm in it. here i am. return it to me. one second. return it to me.] =\n",
              "375                                                                                                                                                                                                                                                                                                                                                                                                        [INST]\\n            Analiza la siguiente transcripción de video de tiktok a texto para determinar si es misógino o no.\\n            Devuelve exclusivamente **solo** la etiqueta \"1\" si consideras la transcripción misógina o \"0\" si no lo es, sin texto adicional.\\n            [/INST]\\n\\n            [how podcasters could sound if they werent so busy dissing women. pov  anti-misogynist podcast  nah, see, you say you don't understand why women say all men, but really you do. you understand that logic because you like guns, right? true. and what's one of the first safety tips they give you about guns is treat every gun like it's loaded. like it's loaded, right? exactly. even if you know it's not loaded, all guns are loaded, right? that's how you look at every gun. because you can't look at somebody's gun and tell if it's loaded or not. women are doing the exact same thing. because any man could be her assailant. she can't look at a man and be like, oh, that's the good one. so she treats all men like their potential assailants. the same way we do guns. it's the same thing.] =\n",
              "376                                                                                                                                                                                                                                                                                                                                                                                                                                                                                                                                                                                                                                                                                                                                                                                                                                                                                                                                                                                                                                                  [INST]\\n            Analiza la siguiente transcripción de video de tiktok a texto para determinar si es misógino o no.\\n            Devuelve exclusivamente **solo** la etiqueta \"1\" si consideras la transcripción misógina o \"0\" si no lo es, sin texto adicional.\\n            [/INST]\\n\\n            [cuando mas miedo pasaba uceda él  me enteré de que ayer saliste con tus amigas, así que hoy toca el campo por mentirme. marta uceda  no, no. i'm riding all the time.] =\n",
              "\n",
              "[377 rows x 1 columns]"
            ]
          },
          "execution_count": 51,
          "metadata": {},
          "output_type": "execute_result"
        }
      ],
      "source": [
        "X_test"
      ]
    },
    {
      "cell_type": "code",
      "execution_count": 52,
      "id": "8947335f",
      "metadata": {
        "colab": {
          "base_uri": "https://localhost:8080/"
        },
        "id": "8947335f",
        "outputId": "6ee33648-4e5d-4942-ccfc-89b00d862f63"
      },
      "outputs": [
        {
          "name": "stderr",
          "output_type": "stream",
          "text": [
            "Device set to use cuda:0\n",
            " 40%|████      | 4/10 [00:00<00:00,  9.13it/s]"
          ]
        },
        {
          "name": "stdout",
          "output_type": "stream",
          "text": [
            "0\n",
            "0\n",
            "0\n",
            "1\n",
            "0\n",
            "0\n"
          ]
        },
        {
          "name": "stderr",
          "output_type": "stream",
          "text": [
            "100%|██████████| 10/10 [00:00<00:00, 13.74it/s]"
          ]
        },
        {
          "name": "stdout",
          "output_type": "stream",
          "text": [
            "-2\n",
            "1\n",
            "1\n",
            "1\n",
            "\n",
            " [0, 0, 0, 1, 0, 0, 0, 1, 1, 1]\n",
            "[False, False, False, False, False, False, False, False, False, False]\n"
          ]
        },
        {
          "name": "stderr",
          "output_type": "stream",
          "text": [
            "\n"
          ]
        }
      ],
      "source": [
        "# Función de predicción\n",
        "def predict(X_test, model, tokenizer):\n",
        "    y_pred = []\n",
        "\n",
        "    # Crear pipeline de generación de texto\n",
        "    pipe = pipeline(\n",
        "        task=\"text-generation\",\n",
        "        model=model,\n",
        "        tokenizer=tokenizer,\n",
        "        max_new_tokens=2,\n",
        "        do_sample=False,\n",
        "        return_full_text=False,\n",
        "        truncation=True\n",
        "    )\n",
        "\n",
        "    # Iterar sobre los ejemplos del dataset de prueba\n",
        "    for i in tqdm(range(len(X_test))):\n",
        "        prompt = X_test[i][campo_texto]\n",
        "\n",
        "        # Agregar token especial para evitar problemas de caracteres extraños\n",
        "        result = pipe(prompt, pad_token_id=tokenizer.eos_token_id)\n",
        "        generated_text = result[0]['generated_text'].strip().lower()\n",
        "        print(generated_text)\n",
        "\n",
        "        # Filtrar la respuesta generada y buscar etiquetas específicas \"1\" o \"0\"\n",
        "        if clase_1.lower() in generated_text and not clase_0.lower() in generated_text:\n",
        "            y_pred.append(1)\n",
        "        elif clase_0.lower() in generated_text:\n",
        "            y_pred.append(0)\n",
        "        else:\n",
        "            # Valor predeterminado si no se encuentra ni \"1\" ni \"0\"\n",
        "            y_pred.append(0)\n",
        "\n",
        "    return y_pred\n",
        "\n",
        "# Prueba de predicción\n",
        "Y_pred = predict(test_data.select(range(10)), model, tokenizer)\n",
        "print(\"\\n\", Y_pred)\n",
        "print((Y_pred == Y_true.iloc[0:10]).tolist())"
      ]
    },
    {
      "cell_type": "code",
      "execution_count": 55,
      "id": "ff66a7ee",
      "metadata": {
        "colab": {
          "base_uri": "https://localhost:8080/",
          "height": 1000
        },
        "collapsed": true,
        "id": "ff66a7ee",
        "outputId": "4666d95e-d918-4afb-dba7-3690cefb1ace",
        "scrolled": false
      },
      "outputs": [
        {
          "name": "stderr",
          "output_type": "stream",
          "text": [
            "Device set to use cuda:0\n",
            "  2%|▏         | 6/377 [00:00<00:14, 25.63it/s]"
          ]
        },
        {
          "name": "stdout",
          "output_type": "stream",
          "text": [
            "0\n",
            "0\n",
            "0\n",
            "1\n",
            "0\n",
            "0\n"
          ]
        },
        {
          "name": "stderr",
          "output_type": "stream",
          "text": [
            "  4%|▎         | 14/377 [00:00<00:11, 32.77it/s]"
          ]
        },
        {
          "name": "stdout",
          "output_type": "stream",
          "text": [
            "-2\n",
            "1\n",
            "1\n",
            "1\n",
            "1\n",
            "\"i\n",
            "1\n",
            "\"1\n"
          ]
        },
        {
          "name": "stderr",
          "output_type": "stream",
          "text": [
            "  5%|▍         | 18/377 [00:00<00:10, 32.92it/s]"
          ]
        },
        {
          "name": "stdout",
          "output_type": "stream",
          "text": [
            "1\n",
            "1\n",
            "1\n",
            "0\n",
            "0\n",
            "1\n",
            "\"hello\n"
          ]
        },
        {
          "name": "stderr",
          "output_type": "stream",
          "text": [
            "  7%|▋         | 26/377 [00:00<00:10, 32.66it/s]"
          ]
        },
        {
          "name": "stdout",
          "output_type": "stream",
          "text": [
            "1\n",
            "1\n",
            "1\n",
            "0\n",
            "0\n",
            "1\n",
            "1\n",
            "0\n"
          ]
        },
        {
          "name": "stderr",
          "output_type": "stream",
          "text": [
            "  9%|▉         | 34/377 [00:01<00:10, 34.08it/s]"
          ]
        },
        {
          "name": "stdout",
          "output_type": "stream",
          "text": [
            "\"¿\n",
            "1\n",
            "1\n",
            "0\n",
            "1\n",
            "0\n",
            "1\n"
          ]
        },
        {
          "name": "stderr",
          "output_type": "stream",
          "text": [
            " 11%|█         | 42/377 [00:01<00:09, 33.54it/s]"
          ]
        },
        {
          "name": "stdout",
          "output_type": "stream",
          "text": [
            "\"1\n",
            "1\n",
            "0\n",
            "1\n",
            "1\n",
            "1\n",
            "1\n",
            "\"¡\n"
          ]
        },
        {
          "name": "stderr",
          "output_type": "stream",
          "text": [
            " 13%|█▎        | 50/377 [00:01<00:09, 34.55it/s]"
          ]
        },
        {
          "name": "stdout",
          "output_type": "stream",
          "text": [
            "1\n",
            "1\n",
            "1\n",
            "1\n",
            "0\n",
            "1\n",
            "0\n"
          ]
        },
        {
          "name": "stderr",
          "output_type": "stream",
          "text": [
            " 15%|█▌        | 58/377 [00:01<00:09, 34.04it/s]"
          ]
        },
        {
          "name": "stdout",
          "output_type": "stream",
          "text": [
            "1\n",
            "1\n",
            "0\n",
            "1\n",
            "1\n",
            "1\n",
            "0\n"
          ]
        },
        {
          "name": "stderr",
          "output_type": "stream",
          "text": [
            " 16%|█▋        | 62/377 [00:01<00:09, 33.26it/s]"
          ]
        },
        {
          "name": "stdout",
          "output_type": "stream",
          "text": [
            "1\n",
            "1\n",
            "\"1\n",
            "0\n",
            "0\n",
            "0\n"
          ]
        },
        {
          "name": "stderr",
          "output_type": "stream",
          "text": [
            " 19%|█▊        | 70/377 [00:02<00:09, 31.38it/s]"
          ]
        },
        {
          "name": "stdout",
          "output_type": "stream",
          "text": [
            "1\n",
            "\"1\n",
            "1\n",
            "1\n",
            "1\n",
            "0\n",
            "1\n"
          ]
        },
        {
          "name": "stderr",
          "output_type": "stream",
          "text": [
            " 21%|██        | 78/377 [00:02<00:09, 31.64it/s]"
          ]
        },
        {
          "name": "stdout",
          "output_type": "stream",
          "text": [
            "\"can\n",
            "1\n",
            "1\n",
            "1\n",
            "1\n",
            "1\n",
            "\"1\n"
          ]
        },
        {
          "name": "stderr",
          "output_type": "stream",
          "text": [
            " 23%|██▎       | 86/377 [00:02<00:08, 34.02it/s]"
          ]
        },
        {
          "name": "stdout",
          "output_type": "stream",
          "text": [
            "1\n",
            "1\n",
            "1\n",
            "0\n",
            "1\n",
            "1\n",
            "0\n",
            "0\n"
          ]
        },
        {
          "name": "stderr",
          "output_type": "stream",
          "text": [
            " 24%|██▍       | 90/377 [00:02<00:08, 35.26it/s]"
          ]
        },
        {
          "name": "stdout",
          "output_type": "stream",
          "text": [
            "1\n",
            "0\n",
            "1\n",
            "\"i\n",
            "1\n",
            "1\n",
            "0\n"
          ]
        },
        {
          "name": "stderr",
          "output_type": "stream",
          "text": [
            " 26%|██▌       | 98/377 [00:02<00:08, 33.53it/s]"
          ]
        },
        {
          "name": "stdout",
          "output_type": "stream",
          "text": [
            "1\n",
            "1\n",
            "0\n",
            "\"1\n",
            "1\n",
            "1\n",
            "1\n",
            "1\n"
          ]
        },
        {
          "name": "stderr",
          "output_type": "stream",
          "text": [
            " 28%|██▊       | 106/377 [00:03<00:08, 32.69it/s]"
          ]
        },
        {
          "name": "stdout",
          "output_type": "stream",
          "text": [
            "1\n",
            "0\n",
            "\"so\n",
            "1\n",
            "\"b\n",
            "0\n",
            "0\n"
          ]
        },
        {
          "name": "stderr",
          "output_type": "stream",
          "text": [
            " 30%|███       | 114/377 [00:03<00:08, 32.15it/s]"
          ]
        },
        {
          "name": "stdout",
          "output_type": "stream",
          "text": [
            "1\n",
            "\"i\n",
            "0\n",
            "1\n",
            "\"i\n",
            "0\n",
            "1\n"
          ]
        },
        {
          "name": "stderr",
          "output_type": "stream",
          "text": [
            " 32%|███▏      | 122/377 [00:03<00:08, 31.66it/s]"
          ]
        },
        {
          "name": "stdout",
          "output_type": "stream",
          "text": [
            "1\n",
            "1\n",
            "1\n",
            "1\n",
            "\"1\n",
            "1\n",
            "\"1\n"
          ]
        },
        {
          "name": "stderr",
          "output_type": "stream",
          "text": [
            " 33%|███▎      | 126/377 [00:03<00:08, 29.75it/s]"
          ]
        },
        {
          "name": "stdout",
          "output_type": "stream",
          "text": [
            "0\n",
            "0\n",
            "0\n",
            "0\n",
            "[me\n",
            "1\n"
          ]
        },
        {
          "name": "stderr",
          "output_type": "stream",
          "text": [
            " 36%|███▌      | 134/377 [00:04<00:08, 29.33it/s]"
          ]
        },
        {
          "name": "stdout",
          "output_type": "stream",
          "text": [
            "1\n",
            "0\n",
            "2\n",
            "0\n",
            "0\n",
            "0\n"
          ]
        },
        {
          "name": "stderr",
          "output_type": "stream",
          "text": [
            " 38%|███▊      | 142/377 [00:04<00:07, 33.16it/s]"
          ]
        },
        {
          "name": "stdout",
          "output_type": "stream",
          "text": [
            "0\n",
            "1\n",
            "\"yo\n",
            "1\n",
            "\"1\n",
            "0\n",
            "\"1\n",
            "\"1\n"
          ]
        },
        {
          "name": "stderr",
          "output_type": "stream",
          "text": [
            " 39%|███▊      | 146/377 [00:04<00:07, 30.22it/s]"
          ]
        },
        {
          "name": "stdout",
          "output_type": "stream",
          "text": [
            "\"1\n",
            "\"¡\n",
            "1\n",
            "1\n",
            "0\n"
          ]
        },
        {
          "name": "stderr",
          "output_type": "stream",
          "text": [
            " 40%|███▉      | 150/377 [00:04<00:07, 30.26it/s]"
          ]
        },
        {
          "name": "stdout",
          "output_type": "stream",
          "text": [
            "\"place\n",
            "1\n",
            "\"wait\n",
            "0\n",
            "0\n",
            "1\n",
            "1\n"
          ]
        },
        {
          "name": "stderr",
          "output_type": "stream",
          "text": [
            " 42%|████▏     | 158/377 [00:04<00:07, 29.37it/s]"
          ]
        },
        {
          "name": "stdout",
          "output_type": "stream",
          "text": [
            "0\n",
            "0\n",
            "1\n",
            "1\n",
            "1\n",
            "0\n",
            "\"i\n"
          ]
        },
        {
          "name": "stderr",
          "output_type": "stream",
          "text": [
            " 44%|████▍     | 166/377 [00:05<00:06, 31.96it/s]"
          ]
        },
        {
          "name": "stdout",
          "output_type": "stream",
          "text": [
            "1\n",
            "1\n",
            "1\n",
            "0\n",
            "0\n",
            "1\n",
            "1\n"
          ]
        },
        {
          "name": "stderr",
          "output_type": "stream",
          "text": [
            " 46%|████▌     | 174/377 [00:05<00:06, 32.95it/s]"
          ]
        },
        {
          "name": "stdout",
          "output_type": "stream",
          "text": [
            "0\n",
            "1\n",
            "0\n",
            "1\n",
            "\"i\n",
            "0\n"
          ]
        },
        {
          "name": "stderr",
          "output_type": "stream",
          "text": [
            " 48%|████▊     | 182/377 [00:05<00:05, 33.16it/s]"
          ]
        },
        {
          "name": "stdout",
          "output_type": "stream",
          "text": [
            "0\n",
            "1\n",
            "0\n",
            "0\n",
            "1\n",
            "1\n",
            "\"1\n",
            "0\n"
          ]
        },
        {
          "name": "stderr",
          "output_type": "stream",
          "text": [
            " 50%|█████     | 190/377 [00:05<00:05, 34.89it/s]"
          ]
        },
        {
          "name": "stdout",
          "output_type": "stream",
          "text": [
            "0\n",
            "1\n",
            "1\n",
            "1\n",
            "\"1\n",
            "0\n",
            "1\n",
            "1\n"
          ]
        },
        {
          "name": "stderr",
          "output_type": "stream",
          "text": [
            " 51%|█████▏    | 194/377 [00:05<00:05, 34.93it/s]"
          ]
        },
        {
          "name": "stdout",
          "output_type": "stream",
          "text": [
            "1\n",
            "0\n",
            "1\n",
            "0\n",
            "0\n",
            "1\n",
            "1\n"
          ]
        },
        {
          "name": "stderr",
          "output_type": "stream",
          "text": [
            " 54%|█████▎    | 202/377 [00:06<00:05, 33.31it/s]"
          ]
        },
        {
          "name": "stdout",
          "output_type": "stream",
          "text": [
            "1\n",
            "1\n",
            "0\n",
            "0\n",
            "1\n",
            "0\n",
            "\"1\n"
          ]
        },
        {
          "name": "stderr",
          "output_type": "stream",
          "text": [
            " 56%|█████▌    | 210/377 [00:06<00:04, 33.75it/s]"
          ]
        },
        {
          "name": "stdout",
          "output_type": "stream",
          "text": [
            "1\n",
            "1\n",
            "\"1\n",
            "1\n",
            "1\n",
            "0\n",
            "0\n",
            "1\n"
          ]
        },
        {
          "name": "stderr",
          "output_type": "stream",
          "text": [
            " 58%|█████▊    | 218/377 [00:06<00:04, 32.34it/s]"
          ]
        },
        {
          "name": "stdout",
          "output_type": "stream",
          "text": [
            "1\n",
            "1\n",
            "[s\n",
            "0\n",
            "1\n",
            "0\n",
            "0\n"
          ]
        },
        {
          "name": "stderr",
          "output_type": "stream",
          "text": [
            " 60%|█████▉    | 226/377 [00:06<00:04, 33.67it/s]"
          ]
        },
        {
          "name": "stdout",
          "output_type": "stream",
          "text": [
            "0\n",
            "\"1\n",
            "0\n",
            "0\n",
            "1\n",
            "1\n",
            "1\n",
            "0\n"
          ]
        },
        {
          "name": "stderr",
          "output_type": "stream",
          "text": [
            " 62%|██████▏   | 234/377 [00:07<00:04, 34.12it/s]"
          ]
        },
        {
          "name": "stdout",
          "output_type": "stream",
          "text": [
            "\"1\n",
            "1\n",
            "1\n",
            "1\n",
            "0\n",
            "1\n",
            "1\n"
          ]
        },
        {
          "name": "stderr",
          "output_type": "stream",
          "text": [
            " 63%|██████▎   | 238/377 [00:07<00:04, 33.97it/s]"
          ]
        },
        {
          "name": "stdout",
          "output_type": "stream",
          "text": [
            "\"1\n",
            "1\n",
            "1\n",
            "0\n",
            "0\n",
            "1\n",
            "1\n"
          ]
        },
        {
          "name": "stderr",
          "output_type": "stream",
          "text": [
            " 65%|██████▌   | 246/377 [00:07<00:03, 33.89it/s]"
          ]
        },
        {
          "name": "stdout",
          "output_type": "stream",
          "text": [
            "1\n",
            "1\n",
            "1\n",
            "0\n",
            "1\n",
            "1\n",
            "1\n"
          ]
        },
        {
          "name": "stderr",
          "output_type": "stream",
          "text": [
            " 67%|██████▋   | 254/377 [00:07<00:03, 32.92it/s]"
          ]
        },
        {
          "name": "stdout",
          "output_type": "stream",
          "text": [
            "1\n",
            "1\n",
            "1\n",
            "1\n",
            "0\n",
            "1\n",
            "0\n"
          ]
        },
        {
          "name": "stderr",
          "output_type": "stream",
          "text": [
            " 70%|██████▉   | 263/377 [00:08<00:03, 35.07it/s]"
          ]
        },
        {
          "name": "stdout",
          "output_type": "stream",
          "text": [
            "0\n",
            "1\n",
            "1\n",
            "0\n",
            "\"i\n",
            "\"¡\n",
            "0\n",
            "0\n"
          ]
        },
        {
          "name": "stderr",
          "output_type": "stream",
          "text": [
            " 72%|███████▏  | 271/377 [00:08<00:03, 35.33it/s]"
          ]
        },
        {
          "name": "stdout",
          "output_type": "stream",
          "text": [
            "1\n",
            "1\n",
            "0\n",
            "0\n",
            "1\n",
            "0\n",
            "0\n",
            "0\n"
          ]
        },
        {
          "name": "stderr",
          "output_type": "stream",
          "text": [
            " 73%|███████▎  | 275/377 [00:08<00:02, 35.33it/s]"
          ]
        },
        {
          "name": "stdout",
          "output_type": "stream",
          "text": [
            "\"1\n",
            "1\n",
            "0\n",
            "0\n",
            "1\n",
            "0\n",
            "1\n"
          ]
        },
        {
          "name": "stderr",
          "output_type": "stream",
          "text": [
            " 75%|███████▌  | 283/377 [00:08<00:02, 32.63it/s]"
          ]
        },
        {
          "name": "stdout",
          "output_type": "stream",
          "text": [
            "1\n",
            "1\n",
            "1\n",
            "1\n",
            "1\n",
            "1\n",
            "1\n"
          ]
        },
        {
          "name": "stderr",
          "output_type": "stream",
          "text": [
            " 77%|███████▋  | 291/377 [00:08<00:02, 31.86it/s]"
          ]
        },
        {
          "name": "stdout",
          "output_type": "stream",
          "text": [
            "0\n",
            "0\n",
            "1\n",
            "1\n",
            "1\n",
            "1\n",
            "0\n"
          ]
        },
        {
          "name": "stderr",
          "output_type": "stream",
          "text": [
            " 78%|███████▊  | 295/377 [00:09<00:02, 32.42it/s]"
          ]
        },
        {
          "name": "stdout",
          "output_type": "stream",
          "text": [
            "1\n",
            "1\n",
            "1\n",
            "1\n",
            "1\n",
            "0\n"
          ]
        },
        {
          "name": "stderr",
          "output_type": "stream",
          "text": [
            " 80%|████████  | 303/377 [00:09<00:02, 31.57it/s]"
          ]
        },
        {
          "name": "stdout",
          "output_type": "stream",
          "text": [
            "1\n",
            "0\n",
            "0\n",
            "0\n",
            "1\n",
            "\"1\n",
            "0\n",
            "1\n"
          ]
        },
        {
          "name": "stderr",
          "output_type": "stream",
          "text": [
            " 82%|████████▏ | 311/377 [00:09<00:02, 30.60it/s]"
          ]
        },
        {
          "name": "stdout",
          "output_type": "stream",
          "text": [
            "1\n",
            "0\n",
            "0\n",
            "1\n",
            "1\n",
            "0\n"
          ]
        },
        {
          "name": "stderr",
          "output_type": "stream",
          "text": [
            " 84%|████████▎ | 315/377 [00:09<00:01, 31.99it/s]"
          ]
        },
        {
          "name": "stdout",
          "output_type": "stream",
          "text": [
            "1\n",
            "0\n",
            "1\n",
            "0\n",
            "0\n",
            "1\n"
          ]
        },
        {
          "name": "stderr",
          "output_type": "stream",
          "text": [
            " 86%|████████▌ | 323/377 [00:09<00:01, 30.25it/s]"
          ]
        },
        {
          "name": "stdout",
          "output_type": "stream",
          "text": [
            "0\n",
            "1\n",
            "1\n",
            "\"1\n",
            "1\n",
            "\"1\n",
            "0\n",
            "\"1\n"
          ]
        },
        {
          "name": "stderr",
          "output_type": "stream",
          "text": [
            " 88%|████████▊ | 331/377 [00:10<00:01, 31.91it/s]"
          ]
        },
        {
          "name": "stdout",
          "output_type": "stream",
          "text": [
            "0\n",
            "1\n",
            "0\n",
            "0\n",
            "0\n",
            "1\n",
            "0\n"
          ]
        },
        {
          "name": "stderr",
          "output_type": "stream",
          "text": [
            " 90%|████████▉ | 339/377 [00:10<00:01, 32.66it/s]"
          ]
        },
        {
          "name": "stdout",
          "output_type": "stream",
          "text": [
            "1\n",
            "1\n",
            "0\n",
            "1\n",
            "0\n",
            "0\n",
            "0\n"
          ]
        },
        {
          "name": "stderr",
          "output_type": "stream",
          "text": [
            " 92%|█████████▏| 347/377 [00:10<00:00, 33.45it/s]"
          ]
        },
        {
          "name": "stdout",
          "output_type": "stream",
          "text": [
            "0\n",
            "\"1\n",
            "0\n",
            "1\n",
            "1\n",
            "0\n",
            "1\n"
          ]
        },
        {
          "name": "stderr",
          "output_type": "stream",
          "text": [
            " 94%|█████████▍| 355/377 [00:10<00:00, 34.79it/s]"
          ]
        },
        {
          "name": "stdout",
          "output_type": "stream",
          "text": [
            "0\n",
            "0\n",
            "1\n",
            "1\n",
            "0\n",
            "0\n",
            "1\n",
            "1\n"
          ]
        },
        {
          "name": "stderr",
          "output_type": "stream",
          "text": [
            " 95%|█████████▌| 359/377 [00:11<00:00, 34.41it/s]"
          ]
        },
        {
          "name": "stdout",
          "output_type": "stream",
          "text": [
            "\"el\n",
            "0\n",
            "1\n",
            "1\n",
            "1\n",
            "1\n",
            "0\n"
          ]
        },
        {
          "name": "stderr",
          "output_type": "stream",
          "text": [
            " 97%|█████████▋| 367/377 [00:11<00:00, 33.90it/s]"
          ]
        },
        {
          "name": "stdout",
          "output_type": "stream",
          "text": [
            "1\n",
            "0\n",
            "0\n",
            "[p\n",
            "1\n",
            "1\n",
            "0\n"
          ]
        },
        {
          "name": "stderr",
          "output_type": "stream",
          "text": [
            "100%|██████████| 377/377 [00:11<00:00, 32.69it/s]"
          ]
        },
        {
          "name": "stdout",
          "output_type": "stream",
          "text": [
            "0\n",
            "\"i\n",
            "1\n",
            "0\n",
            "\"i\n",
            "1\n",
            "0\n",
            "0\n",
            "Accuracy: 0.422\n",
            "\n",
            "Classification Report:\n",
            "              precision    recall  f1-score   support\n",
            "\n",
            "           0       1.00      0.42      0.59       377\n",
            "           1       0.00      0.00      0.00         0\n",
            "\n",
            "    accuracy                           0.42       377\n",
            "   macro avg       0.50      0.21      0.30       377\n",
            "weighted avg       1.00      0.42      0.59       377\n",
            "\n",
            "\n",
            "Confusion Matrix:\n",
            "[[159 218]\n",
            " [  0   0]]\n"
          ]
        },
        {
          "name": "stderr",
          "output_type": "stream",
          "text": [
            "\n"
          ]
        },
        {
          "data": {
            "image/png": "[encoded data removed]",
            "text/plain": [
              "<Figure size 800x600 with 2 Axes>"
            ]
          },
          "metadata": {},
          "output_type": "display_data"
        },
        {
          "data": {
            "image/png": "[encoded data removed]",
            "text/plain": [
              "<Figure size 640x480 with 1 Axes>"
            ]
          },
          "metadata": {},
          "output_type": "display_data"
        },
        {
          "data": {
            "text/plain": [
              "{'accuracy': 0.4217506631299735,\n",
              " 'precision_1': 0.0,\n",
              " 'recall_1': 0.0,\n",
              " 'f1_score_1': 0.0,\n",
              " 'support_1': 0.0,\n",
              " 'precision_0': 1.0,\n",
              " 'recall_0': 0.4217506631299735,\n",
              " 'f1_score_0': 0.5932835820895522,\n",
              " 'support_0': 377.0,\n",
              " 'TN': np.int64(159),\n",
              " 'FP': np.int64(218),\n",
              " 'FN': np.int64(0),\n",
              " 'TP': np.int64(0),\n",
              " 'roc_auc': np.float64(nan),\n",
              " 'curva_roc_path': '/home/adrian/Escritorio/DeepSexist/DatasetManagement/EXIST2025DatasetV0.3/evaluation/curvas/curvaroc_0_prompt0_Base.jpeg',\n",
              " 'matriz_path': '/home/adrian/Escritorio/DeepSexist/DatasetManagement/EXIST2025DatasetV0.3/evaluation/matrices/matriz_0_prompt0_Base.jpeg'}"
            ]
          },
          "execution_count": 55,
          "metadata": {},
          "output_type": "execute_result"
        }
      ],
      "source": [
        "# Función de evaluación\n",
        "Y_pred = predict(test_data, model, tokenizer)\n",
        "evaluate(Y_true, Y_pred, metodo1)"
      ]
    },
    {
      "cell_type": "code",
      "execution_count": null,
      "id": "cMauEk3RVe0h",
      "metadata": {
        "id": "cMauEk3RVe0h"
      },
      "outputs": [],
      "source": [
        "# # Contar cuántos True y False hay en la comparación\n",
        "# true_count = sum(Y_pred == Y_true)\n",
        "# false_count = len(Y_pred) - true_count\n",
        "# print(f\"True count: {true_count}\")\n",
        "# print(f\"False count: {false_count}\")"
      ]
    },
    {
      "cell_type": "markdown",
      "id": "c99d0b7c",
      "metadata": {
        "id": "c99d0b7c"
      },
      "source": [
        "#### Configuración de PEFT (LoRA)"
      ]
    },
    {
      "cell_type": "code",
      "execution_count": 56,
      "id": "c6148b80",
      "metadata": {
        "id": "c6148b80"
      },
      "outputs": [],
      "source": [
        "from peft import LoraConfig\n",
        "\n",
        "# Configuración de LoRA (PEFT)\n",
        "def setup_peft():\n",
        "    peft_config = LoraConfig(\n",
        "        lora_alpha = 16,\n",
        "        lora_dropout = 0.05,\n",
        "        r = 64,\n",
        "        bias = \"none\",\n",
        "        task_type = \"CAUSAL_LM\"\n",
        "    )\n",
        "    return peft_config\n",
        "\n",
        "peft_config = setup_peft()"
      ]
    },
    {
      "cell_type": "markdown",
      "id": "f2fa0bbe",
      "metadata": {
        "id": "f2fa0bbe"
      },
      "source": [
        "#### Entrenamiento del modelo"
      ]
    },
    {
      "cell_type": "code",
      "execution_count": 59,
      "id": "dfSnAseLseRF",
      "metadata": {
        "colab": {
          "base_uri": "https://localhost:8080/"
        },
        "id": "dfSnAseLseRF",
        "outputId": "33dede49-be51-4a80-f1cb-b7598531e1fc"
      },
      "outputs": [
        {
          "name": "stdout",
          "output_type": "stream",
          "text": [
            "Memoria libre: 1.579155456 GB\n",
            "Memoria total: 1.081405952 GB\n"
          ]
        }
      ],
      "source": [
        "print(f\"Memoria libre: {torch.cuda.memory_reserved() / 1e9} GB\")\n",
        "print(f\"Memoria total: {torch.cuda.memory_allocated() / 1e9} GB\")"
      ]
    },
    {
      "cell_type": "code",
      "execution_count": 58,
      "id": "-gh_22VmsjkL",
      "metadata": {
        "id": "-gh_22VmsjkL"
      },
      "outputs": [],
      "source": [
        "torch.cuda.empty_cache()"
      ]
    },
    {
      "cell_type": "code",
      "execution_count": null,
      "id": "922242c1",
      "metadata": {
        "id": "922242c1"
      },
      "outputs": [],
      "source": [
        "# # Configuración del entrenamiento\n",
        "# def setup_training_arguments():\n",
        "#     return TrainingArguments(\n",
        "#         output_dir = \"logs\",\n",
        "#         num_train_epochs = num_epochs,\n",
        "#         per_device_train_batch_size = 8,\n",
        "#         gradient_accumulation_steps = 8,\n",
        "#         optim = \"paged_adamw_32bit\",\n",
        "#         save_steps = 0,\n",
        "#         logging_steps = 25,\n",
        "#         learning_rate = 5e-5,\n",
        "#         weight_decay = 0.01,\n",
        "#         fp16 = True,\n",
        "#         bf16 = False,\n",
        "#         max_grad_norm = 0.5,\n",
        "#         max_steps = -1,\n",
        "#         warmup_ratio = 0.1,\n",
        "#         group_by_length = True,\n",
        "#         lr_scheduler_type = \"cosine\",\n",
        "#         report_to = \"tensorboard\",\n",
        "#         save_strategy=\"epoch\",\n",
        "#         evaluation_strategy = \"epoch\",\n",
        "#         load_best_model_at_end = True,\n",
        "#         metric_for_best_model = \"eval_loss\",\n",
        "#         greater_is_better = False,\n",
        "#     )\n",
        "\n",
        "# training_arguments  =  setup_training_arguments()\n",
        "\n",
        "# # Inicialización del trainer\n",
        "# trainer = SFTTrainer(\n",
        "#     model = model,\n",
        "#     train_dataset = train_data,\n",
        "#     eval_dataset = eval_data,\n",
        "#     peft_config = peft_config,\n",
        "#     dataset_text_field = campo_texto,\n",
        "#     tokenizer = tokenizer,\n",
        "#     args = training_arguments,\n",
        "#     packing = False,\n",
        "#     max_seq_length = 256,\n",
        "#     callbacks = [\n",
        "#         EarlyStoppingCallback(early_stopping_patience = 5)\n",
        "#     ],\n",
        "# )"
      ]
    },
    {
      "cell_type": "code",
      "execution_count": null,
      "id": "CvRsKuS85zxd",
      "metadata": {
        "id": "CvRsKuS85zxd"
      },
      "outputs": [],
      "source": [
        "# trainer.train()\n",
        "# # Guardar el modelo entrenado\n",
        "# trainer.model.save_pretrained(f\"/content/drive/MyDrive/Colab Notebooks/Talleres/LLMs/models/{model_shorts[i_model]}_prompt{i_prompt}_{num_epochs}_{metodo2}\")"
      ]
    },
    {
      "cell_type": "code",
      "execution_count": 1,
      "id": "vIjsGJQhf3__",
      "metadata": {
        "colab": {
          "base_uri": "https://localhost:8080/",
          "height": 311,
          "referenced_widgets": [
            "0deb1508b6da4d2d9753260dc77903b3",
            "09a514818f324cfda3c58ab7762c75a8",
            "09e020f8be734571956a0ee25734739d",
            "d8a0b45062ea470eb6f0e58ab49501f0",
            "13b4fa3474534a6eada0dc4f52cdb0b9",
            "f6e9e10b74b946faa9b18036ceb09ee1",
            "d5e8e7f6f41b4c909e3b5e427dc91bba",
            "853de05d09714907bdd67bea6bb76b17",
            "a039827612bd4352a5bd5ea70c3594cf",
            "b96e87e331b148f4b3bc4cf4a7bfa725",
            "b13eb53fcac648998b5edf7321990373",
            "9c3d332ec9084595a5d9a194d6083bee",
            "3f2f38344ad1472198fd5d83a8b7e6ef",
            "30da3f153e5446c7b049e8cec587abfa",
            "c5b6e50d071d43d28a3a0250bc8d2f45",
            "25ca95d596574c7ab24a47482fd1e2d4",
            "c2d9f38a58b643c1a775239f15f2617f",
            "5d076dc3fa7d4f80bce379cd7bcaa8c0",
            "4fa23b0693d34c74a13fc470ed2f8701",
            "613547033fa74e43b06fc1181c2e069a",
            "d6807aa155e2476d814773baf3894b77",
            "21ff2246632a4907953fa8fe9e1f0fd2",
            "4ae9b1d2d7a643968dafd96c08ef6c66",
            "f6c8058caac34cac924374bb29260655",
            "1443621a77de461abbf3ad89ffcdc464",
            "5bbcfd82359245699a303818a79beb47",
            "aba5f1fc4e0845db956fd7e89b23f563",
            "eff443f383f74bf39e62319686623f6e",
            "6798e28cde7f4a28aa65eda752239de2",
            "bf815939bd5640e183e2c158c69d3f87",
            "56ebbfdc7b4645c1beb8df9d1b4e6b74",
            "1c211a08cdc043fcb22578d45a155fd6",
            "8e8260c29b334dc8803d77d915c308fb",
            "8ffeef395fca4f9caf84fc52087bfed0",
            "db939081dba742bc858d0f9fe16402d1",
            "1cffd1df6ce04c458046089a833a809f",
            "a5e21f4d8b584af0a8b2722c8f46360a",
            "f6728cb4c37e4e5eb71ac84b0482c551",
            "a9f0165888534d74a586b84483af49de",
            "415118f92f4b48f9a401107654019148",
            "e05c5f3a86a549f7a64718e73d8d2af2",
            "697bda19e23a48d5819ee8c9c397a3aa",
            "8f65c65faa5d44d685d216edfb4a724b",
            "2ece4ae5ae99476f8c98a1af5b7c491b",
            "a41ff7cb5fc148e6a610b0556b8b7f5f",
            "b69b1ee46d7148bba88e5ca2be634703",
            "b6fdd173be53406e8ba87db65ae3c19a",
            "04f03026d55c434aabaa565a7e84ceab",
            "db7b8e62a839453280aba29c42325ea3",
            "b53a7cf1a36849eba6fe3f72673546f6",
            "12feeefaef084250bfb97a3b25766435",
            "76ef140dcb2d4705b15d01887ade438d",
            "9a1b05f49e5246a1b1b3c65ff96e415f",
            "ca90b102c1944ccda6f458fad0f3f7df",
            "4cefcff109bf45a6893ee9f1fc87c32f",
            "171d3f9319474ae7940ccf4332ef0a0a",
            "1894833d6543497381bb4cfac5f33f59",
            "ff934f49322f41b698d0a4bddda7cb55",
            "f27afcd6a6004754bce2f1f6fb2c2765",
            "92fc215802d94525846f8720c19eb562",
            "bd6a8b67d2e54a02a3b658dddab5ac69",
            "3888a20537974a9185d2275ccc679152",
            "bcf041e94b2843b8bc7b974de13f1cab",
            "b37a8645690f4a5bbf05ac5d53fe13a5",
            "1bbfe93e449340a789a29905542d5aef",
            "bd79496848714ca9ae831b0ba205844f",
            "6c0065fd08cf40cf82d1e5dabf34eeb5",
            "ae3239f766dc483982ab47dabcad7bfb",
            "9e63ca92f5bf48be9454ede77c395808",
            "e17f9cc64afa479e815e4bf2559b1b82",
            "cb70840e709b4cb9aef9ff52d6a39071",
            "8e7480bb18cc46d7a484861edfc83301",
            "1bf60eba309a4bedbf064da1e150e269",
            "6698ca41246f4b1ea07cb97781656b0a",
            "c51c70a65bec4fedaeecb48367a2e99c",
            "93cb8088529f417484d587dad62669b5",
            "f98ef15c90dc435aa71a45acdd15a2bf",
            "6ac6490f0dd74bcd8fba6e5b1dfdbc68",
            "ae9a6eefc65d4650bfebcefd7bebcd3c",
            "6dbda0d093c941bc980ab9c4398a2014",
            "019adcdbe829458f99e82632ed1f8baf",
            "20de3547aed648f5883131fdb9170653",
            "298ae45f19af4b86b7e6caaffc0a9437",
            "02ab853ed1354ca984136b96c6f131d7",
            "88bdcd429088401ebac250496be8f729",
            "8c8c13099ad64982adc11d43f5c8b5aa",
            "d002d11606634c11849464632ba8c2fc",
            "3f18da0f5139407fa1fb6024738612a5"
          ]
        },
        "id": "vIjsGJQhf3__",
        "outputId": "02008a76-2093-43b0-d8b7-821847e56155"
      },
      "outputs": [
        {
          "ename": "NameError",
          "evalue": "name 'TrainingArguments' is not defined",
          "output_type": "error",
          "traceback": [
            "\u001b[0;31m---------------------------------------------------------------------------\u001b[0m",
            "\u001b[0;31mNameError\u001b[0m                                 Traceback (most recent call last)",
            "Cell \u001b[0;32mIn[1], line 28\u001b[0m\n\u001b[1;32m      2\u001b[0m \u001b[38;5;28;01mdef\u001b[39;00m \u001b[38;5;21msetup_training_arguments\u001b[39m():\n\u001b[1;32m      3\u001b[0m     \u001b[38;5;28;01mreturn\u001b[39;00m TrainingArguments(\n\u001b[1;32m      4\u001b[0m         output_dir \u001b[38;5;241m=\u001b[39m \u001b[38;5;124m\"\u001b[39m\u001b[38;5;124mlogs\u001b[39m\u001b[38;5;124m\"\u001b[39m,\n\u001b[1;32m      5\u001b[0m         num_train_epochs \u001b[38;5;241m=\u001b[39m num_epochs_bloque,\n\u001b[0;32m   (...)\u001b[0m\n\u001b[1;32m     25\u001b[0m         greater_is_better \u001b[38;5;241m=\u001b[39m \u001b[38;5;28;01mFalse\u001b[39;00m,\n\u001b[1;32m     26\u001b[0m     )\n\u001b[0;32m---> 28\u001b[0m training_arguments \u001b[38;5;241m=\u001b[39m setup_training_arguments()\n\u001b[1;32m     30\u001b[0m \u001b[38;5;66;03m# Inicialización del trainer\u001b[39;00m\n\u001b[1;32m     31\u001b[0m trainer \u001b[38;5;241m=\u001b[39m SFTTrainer(\n\u001b[1;32m     32\u001b[0m     model \u001b[38;5;241m=\u001b[39m model,\n\u001b[1;32m     33\u001b[0m     train_dataset \u001b[38;5;241m=\u001b[39m train_data,\n\u001b[0;32m   (...)\u001b[0m\n\u001b[1;32m     43\u001b[0m     ],\n\u001b[1;32m     44\u001b[0m )\n",
            "Cell \u001b[0;32mIn[1], line 3\u001b[0m, in \u001b[0;36msetup_training_arguments\u001b[0;34m()\u001b[0m\n\u001b[1;32m      2\u001b[0m \u001b[38;5;28;01mdef\u001b[39;00m \u001b[38;5;21msetup_training_arguments\u001b[39m():\n\u001b[0;32m----> 3\u001b[0m     \u001b[38;5;28;01mreturn\u001b[39;00m TrainingArguments(\n\u001b[1;32m      4\u001b[0m         output_dir \u001b[38;5;241m=\u001b[39m \u001b[38;5;124m\"\u001b[39m\u001b[38;5;124mlogs\u001b[39m\u001b[38;5;124m\"\u001b[39m,\n\u001b[1;32m      5\u001b[0m         num_train_epochs \u001b[38;5;241m=\u001b[39m num_epochs_bloque,\n\u001b[1;32m      6\u001b[0m         per_device_train_batch_size \u001b[38;5;241m=\u001b[39m \u001b[38;5;241m8\u001b[39m,\n\u001b[1;32m      7\u001b[0m         gradient_accumulation_steps \u001b[38;5;241m=\u001b[39m \u001b[38;5;241m8\u001b[39m,\n\u001b[1;32m      8\u001b[0m         optim \u001b[38;5;241m=\u001b[39m \u001b[38;5;124m\"\u001b[39m\u001b[38;5;124mpaged_adamw_32bit\u001b[39m\u001b[38;5;124m\"\u001b[39m,\n\u001b[1;32m      9\u001b[0m         save_steps \u001b[38;5;241m=\u001b[39m \u001b[38;5;241m0\u001b[39m,\n\u001b[1;32m     10\u001b[0m         logging_steps \u001b[38;5;241m=\u001b[39m \u001b[38;5;241m25\u001b[39m,\n\u001b[1;32m     11\u001b[0m         learning_rate \u001b[38;5;241m=\u001b[39m \u001b[38;5;241m5e-5\u001b[39m,\n\u001b[1;32m     12\u001b[0m         weight_decay \u001b[38;5;241m=\u001b[39m \u001b[38;5;241m0.01\u001b[39m,\n\u001b[1;32m     13\u001b[0m         fp16 \u001b[38;5;241m=\u001b[39m \u001b[38;5;28;01mTrue\u001b[39;00m,\n\u001b[1;32m     14\u001b[0m         bf16 \u001b[38;5;241m=\u001b[39m \u001b[38;5;28;01mFalse\u001b[39;00m,\n\u001b[1;32m     15\u001b[0m         max_grad_norm \u001b[38;5;241m=\u001b[39m \u001b[38;5;241m0.5\u001b[39m,\n\u001b[1;32m     16\u001b[0m         max_steps \u001b[38;5;241m=\u001b[39m \u001b[38;5;241m-\u001b[39m\u001b[38;5;241m1\u001b[39m,\n\u001b[1;32m     17\u001b[0m         warmup_ratio \u001b[38;5;241m=\u001b[39m \u001b[38;5;241m0.1\u001b[39m,\n\u001b[1;32m     18\u001b[0m         group_by_length \u001b[38;5;241m=\u001b[39m \u001b[38;5;28;01mTrue\u001b[39;00m,\n\u001b[1;32m     19\u001b[0m         lr_scheduler_type \u001b[38;5;241m=\u001b[39m \u001b[38;5;124m\"\u001b[39m\u001b[38;5;124mcosine\u001b[39m\u001b[38;5;124m\"\u001b[39m,\n\u001b[1;32m     20\u001b[0m         report_to \u001b[38;5;241m=\u001b[39m \u001b[38;5;124m\"\u001b[39m\u001b[38;5;124mtensorboard\u001b[39m\u001b[38;5;124m\"\u001b[39m,\n\u001b[1;32m     21\u001b[0m         save_strategy \u001b[38;5;241m=\u001b[39m \u001b[38;5;124m\"\u001b[39m\u001b[38;5;124mepoch\u001b[39m\u001b[38;5;124m\"\u001b[39m,\n\u001b[1;32m     22\u001b[0m         evaluation_strategy \u001b[38;5;241m=\u001b[39m \u001b[38;5;124m\"\u001b[39m\u001b[38;5;124mepoch\u001b[39m\u001b[38;5;124m\"\u001b[39m,\n\u001b[1;32m     23\u001b[0m         load_best_model_at_end \u001b[38;5;241m=\u001b[39m \u001b[38;5;28;01mTrue\u001b[39;00m,\n\u001b[1;32m     24\u001b[0m         metric_for_best_model \u001b[38;5;241m=\u001b[39m \u001b[38;5;124m\"\u001b[39m\u001b[38;5;124meval_loss\u001b[39m\u001b[38;5;124m\"\u001b[39m,\n\u001b[1;32m     25\u001b[0m         greater_is_better \u001b[38;5;241m=\u001b[39m \u001b[38;5;28;01mFalse\u001b[39;00m,\n\u001b[1;32m     26\u001b[0m     )\n",
            "\u001b[0;31mNameError\u001b[0m: name 'TrainingArguments' is not defined"
          ]
        }
      ],
      "source": [
        "# Configuración del entrenamiento\n",
        "def setup_training_arguments():\n",
        "    return TrainingArguments(\n",
        "        output_dir = \"logs\",\n",
        "        num_train_epochs = num_epochs_bloque,\n",
        "        per_device_train_batch_size = 8,\n",
        "        gradient_accumulation_steps = 8,\n",
        "        optim = \"paged_adamw_32bit\",\n",
        "        save_steps = 0,\n",
        "        logging_steps = 25,\n",
        "        learning_rate = 5e-5,\n",
        "        weight_decay = 0.01,\n",
        "        fp16 = True,\n",
        "        bf16 = False,\n",
        "        max_grad_norm = 0.5,\n",
        "        max_steps = -1,\n",
        "        warmup_ratio = 0.1,\n",
        "        group_by_length = True,\n",
        "        lr_scheduler_type = \"cosine\",\n",
        "        report_to = \"tensorboard\",\n",
        "        save_strategy = \"epoch\",\n",
        "        evaluation_strategy = \"epoch\",\n",
        "        load_best_model_at_end = True,\n",
        "        metric_for_best_model = \"eval_loss\",\n",
        "        greater_is_better = False,\n",
        "    )\n",
        "\n",
        "training_arguments = setup_training_arguments()\n",
        "\n",
        "# Inicialización del trainer\n",
        "trainer = SFTTrainer(\n",
        "    model = model,\n",
        "    train_dataset = train_data,\n",
        "    eval_dataset = eval_data,\n",
        "    peft_config = peft_config,\n",
        "    #dataset_text_field = campo_texto,\n",
        "    #tokenizer = tokenizer,\n",
        "    args = training_arguments,\n",
        "    #packing = False,\n",
        "    #max_seq_length = 256,\n",
        "    callbacks = [\n",
        "        EarlyStoppingCallback(early_stopping_patience = 5)\n",
        "    ],\n",
        ")"
      ]
    },
    {
      "cell_type": "code",
      "execution_count": 42,
      "id": "z5-rAb9JfeaF",
      "metadata": {
        "colab": {
          "base_uri": "https://localhost:8080/",
          "height": 428
        },
        "id": "z5-rAb9JfeaF",
        "outputId": "6aa47d16-98d3-49f4-e0ea-e8d8c2623c59"
      },
      "outputs": [
        {
          "name": "stdout",
          "output_type": "stream",
          "text": [
            "Entrenando bloque 1 de 2 épocas...\n"
          ]
        },
        {
          "ename": "OutOfMemoryError",
          "evalue": "CUDA out of memory. Tried to allocate 64.00 MiB. GPU 0 has a total capacity of 14.74 GiB of which 52.12 MiB is free. Process 2853 has 14.69 GiB memory in use. Of the allocated memory 14.44 GiB is allocated by PyTorch, and 120.91 MiB is reserved by PyTorch but unallocated. If reserved but unallocated memory is large try setting PYTORCH_CUDA_ALLOC_CONF=expandable_segments:True to avoid fragmentation.  See documentation for Memory Management  (https://pytorch.org/docs/stable/notes/cuda.html#environment-variables)",
          "output_type": "error",
          "traceback": [
            "\u001b[0;31m---------------------------------------------------------------------------\u001b[0m",
            "\u001b[0;31mOutOfMemoryError\u001b[0m                          Traceback (most recent call last)",
            "\u001b[0;32m<ipython-input-42-c30b3ac01c3d>\u001b[0m in \u001b[0;36m<cell line: 0>\u001b[0;34m()\u001b[0m\n\u001b[1;32m      2\u001b[0m \u001b[0;32mfor\u001b[0m \u001b[0mblock\u001b[0m \u001b[0;32min\u001b[0m \u001b[0mrange\u001b[0m\u001b[0;34m(\u001b[0m\u001b[0;36m1\u001b[0m\u001b[0;34m,\u001b[0m \u001b[0;34m(\u001b[0m\u001b[0mnum_epochs\u001b[0m \u001b[0;34m//\u001b[0m \u001b[0mnum_epochs_bloque\u001b[0m\u001b[0;34m)\u001b[0m \u001b[0;34m+\u001b[0m \u001b[0;36m1\u001b[0m\u001b[0;34m)\u001b[0m\u001b[0;34m:\u001b[0m\u001b[0;34m\u001b[0m\u001b[0;34m\u001b[0m\u001b[0m\n\u001b[1;32m      3\u001b[0m     \u001b[0mprint\u001b[0m\u001b[0;34m(\u001b[0m\u001b[0;34mf\"Entrenando bloque {block} de {num_epochs_bloque} épocas...\"\u001b[0m\u001b[0;34m)\u001b[0m\u001b[0;34m\u001b[0m\u001b[0;34m\u001b[0m\u001b[0m\n\u001b[0;32m----> 4\u001b[0;31m     \u001b[0mtrainer\u001b[0m\u001b[0;34m.\u001b[0m\u001b[0mtrain\u001b[0m\u001b[0;34m(\u001b[0m\u001b[0;34m)\u001b[0m\u001b[0;34m\u001b[0m\u001b[0;34m\u001b[0m\u001b[0m\n\u001b[0m\u001b[1;32m      5\u001b[0m \u001b[0;34m\u001b[0m\u001b[0m\n\u001b[1;32m      6\u001b[0m     \u001b[0;31m# Guardar cada 2 bloques\u001b[0m\u001b[0;34m\u001b[0m\u001b[0;34m\u001b[0m\u001b[0m\n",
            "\u001b[0;32m/usr/local/lib/python3.11/dist-packages/transformers/trainer.py\u001b[0m in \u001b[0;36mtrain\u001b[0;34m(self, resume_from_checkpoint, trial, ignore_keys_for_eval, **kwargs)\u001b[0m\n\u001b[1;32m   2243\u001b[0m                 \u001b[0mhf_hub_utils\u001b[0m\u001b[0;34m.\u001b[0m\u001b[0menable_progress_bars\u001b[0m\u001b[0;34m(\u001b[0m\u001b[0;34m)\u001b[0m\u001b[0;34m\u001b[0m\u001b[0;34m\u001b[0m\u001b[0m\n\u001b[1;32m   2244\u001b[0m         \u001b[0;32melse\u001b[0m\u001b[0;34m:\u001b[0m\u001b[0;34m\u001b[0m\u001b[0;34m\u001b[0m\u001b[0m\n\u001b[0;32m-> 2245\u001b[0;31m             return inner_training_loop(\n\u001b[0m\u001b[1;32m   2246\u001b[0m                 \u001b[0margs\u001b[0m\u001b[0;34m=\u001b[0m\u001b[0margs\u001b[0m\u001b[0;34m,\u001b[0m\u001b[0;34m\u001b[0m\u001b[0;34m\u001b[0m\u001b[0m\n\u001b[1;32m   2247\u001b[0m                 \u001b[0mresume_from_checkpoint\u001b[0m\u001b[0;34m=\u001b[0m\u001b[0mresume_from_checkpoint\u001b[0m\u001b[0;34m,\u001b[0m\u001b[0;34m\u001b[0m\u001b[0;34m\u001b[0m\u001b[0m\n",
            "\u001b[0;32m/usr/local/lib/python3.11/dist-packages/transformers/trainer.py\u001b[0m in \u001b[0;36m_inner_training_loop\u001b[0;34m(self, batch_size, args, resume_from_checkpoint, trial, ignore_keys_for_eval)\u001b[0m\n\u001b[1;32m   2554\u001b[0m                     )\n\u001b[1;32m   2555\u001b[0m                     \u001b[0;32mwith\u001b[0m \u001b[0mcontext\u001b[0m\u001b[0;34m(\u001b[0m\u001b[0;34m)\u001b[0m\u001b[0;34m:\u001b[0m\u001b[0;34m\u001b[0m\u001b[0;34m\u001b[0m\u001b[0m\n\u001b[0;32m-> 2556\u001b[0;31m                         \u001b[0mtr_loss_step\u001b[0m \u001b[0;34m=\u001b[0m \u001b[0mself\u001b[0m\u001b[0;34m.\u001b[0m\u001b[0mtraining_step\u001b[0m\u001b[0;34m(\u001b[0m\u001b[0mmodel\u001b[0m\u001b[0;34m,\u001b[0m \u001b[0minputs\u001b[0m\u001b[0;34m,\u001b[0m \u001b[0mnum_items_in_batch\u001b[0m\u001b[0;34m)\u001b[0m\u001b[0;34m\u001b[0m\u001b[0;34m\u001b[0m\u001b[0m\n\u001b[0m\u001b[1;32m   2557\u001b[0m \u001b[0;34m\u001b[0m\u001b[0m\n\u001b[1;32m   2558\u001b[0m                     if (\n",
            "\u001b[0;32m/usr/local/lib/python3.11/dist-packages/transformers/trainer.py\u001b[0m in \u001b[0;36mtraining_step\u001b[0;34m(self, model, inputs, num_items_in_batch)\u001b[0m\n\u001b[1;32m   3716\u001b[0m \u001b[0;34m\u001b[0m\u001b[0m\n\u001b[1;32m   3717\u001b[0m         \u001b[0;32mwith\u001b[0m \u001b[0mself\u001b[0m\u001b[0;34m.\u001b[0m\u001b[0mcompute_loss_context_manager\u001b[0m\u001b[0;34m(\u001b[0m\u001b[0;34m)\u001b[0m\u001b[0;34m:\u001b[0m\u001b[0;34m\u001b[0m\u001b[0;34m\u001b[0m\u001b[0m\n\u001b[0;32m-> 3718\u001b[0;31m             \u001b[0mloss\u001b[0m \u001b[0;34m=\u001b[0m \u001b[0mself\u001b[0m\u001b[0;34m.\u001b[0m\u001b[0mcompute_loss\u001b[0m\u001b[0;34m(\u001b[0m\u001b[0mmodel\u001b[0m\u001b[0;34m,\u001b[0m \u001b[0minputs\u001b[0m\u001b[0;34m,\u001b[0m \u001b[0mnum_items_in_batch\u001b[0m\u001b[0;34m=\u001b[0m\u001b[0mnum_items_in_batch\u001b[0m\u001b[0;34m)\u001b[0m\u001b[0;34m\u001b[0m\u001b[0;34m\u001b[0m\u001b[0m\n\u001b[0m\u001b[1;32m   3719\u001b[0m \u001b[0;34m\u001b[0m\u001b[0m\n\u001b[1;32m   3720\u001b[0m         \u001b[0;32mdel\u001b[0m \u001b[0minputs\u001b[0m\u001b[0;34m\u001b[0m\u001b[0;34m\u001b[0m\u001b[0m\n",
            "\u001b[0;32m/usr/local/lib/python3.11/dist-packages/trl/trainer/sft_trainer.py\u001b[0m in \u001b[0;36mcompute_loss\u001b[0;34m(self, model, inputs, return_outputs, num_items_in_batch)\u001b[0m\n\u001b[1;32m    556\u001b[0m         \"\"\"\n\u001b[1;32m    557\u001b[0m         \u001b[0mmode\u001b[0m \u001b[0;34m=\u001b[0m \u001b[0;34m\"eval\"\u001b[0m \u001b[0;32mif\u001b[0m \u001b[0mself\u001b[0m\u001b[0;34m.\u001b[0m\u001b[0mcontrol\u001b[0m\u001b[0;34m.\u001b[0m\u001b[0mshould_evaluate\u001b[0m \u001b[0;32melse\u001b[0m \u001b[0;34m\"train\"\u001b[0m\u001b[0;34m\u001b[0m\u001b[0;34m\u001b[0m\u001b[0m\n\u001b[0;32m--> 558\u001b[0;31m         (loss, outputs) = super().compute_loss(\n\u001b[0m\u001b[1;32m    559\u001b[0m             \u001b[0mmodel\u001b[0m\u001b[0;34m,\u001b[0m \u001b[0minputs\u001b[0m\u001b[0;34m,\u001b[0m \u001b[0mreturn_outputs\u001b[0m\u001b[0;34m=\u001b[0m\u001b[0;32mTrue\u001b[0m\u001b[0;34m,\u001b[0m \u001b[0mnum_items_in_batch\u001b[0m\u001b[0;34m=\u001b[0m\u001b[0mnum_items_in_batch\u001b[0m\u001b[0;34m\u001b[0m\u001b[0;34m\u001b[0m\u001b[0m\n\u001b[1;32m    560\u001b[0m         )\n",
            "\u001b[0;32m/usr/local/lib/python3.11/dist-packages/transformers/trainer.py\u001b[0m in \u001b[0;36mcompute_loss\u001b[0;34m(self, model, inputs, return_outputs, num_items_in_batch)\u001b[0m\n\u001b[1;32m   3781\u001b[0m                 \u001b[0mloss_kwargs\u001b[0m\u001b[0;34m[\u001b[0m\u001b[0;34m\"num_items_in_batch\"\u001b[0m\u001b[0;34m]\u001b[0m \u001b[0;34m=\u001b[0m \u001b[0mnum_items_in_batch\u001b[0m\u001b[0;34m\u001b[0m\u001b[0;34m\u001b[0m\u001b[0m\n\u001b[1;32m   3782\u001b[0m             \u001b[0minputs\u001b[0m \u001b[0;34m=\u001b[0m \u001b[0;34m{\u001b[0m\u001b[0;34m**\u001b[0m\u001b[0minputs\u001b[0m\u001b[0;34m,\u001b[0m \u001b[0;34m**\u001b[0m\u001b[0mloss_kwargs\u001b[0m\u001b[0;34m}\u001b[0m\u001b[0;34m\u001b[0m\u001b[0;34m\u001b[0m\u001b[0m\n\u001b[0;32m-> 3783\u001b[0;31m         \u001b[0moutputs\u001b[0m \u001b[0;34m=\u001b[0m \u001b[0mmodel\u001b[0m\u001b[0;34m(\u001b[0m\u001b[0;34m**\u001b[0m\u001b[0minputs\u001b[0m\u001b[0;34m)\u001b[0m\u001b[0;34m\u001b[0m\u001b[0;34m\u001b[0m\u001b[0m\n\u001b[0m\u001b[1;32m   3784\u001b[0m         \u001b[0;31m# Save past state if it exists\u001b[0m\u001b[0;34m\u001b[0m\u001b[0;34m\u001b[0m\u001b[0m\n\u001b[1;32m   3785\u001b[0m         \u001b[0;31m# TODO: this needs to be fixed and made cleaner later.\u001b[0m\u001b[0;34m\u001b[0m\u001b[0;34m\u001b[0m\u001b[0m\n",
            "\u001b[0;32m/usr/local/lib/python3.11/dist-packages/torch/nn/modules/module.py\u001b[0m in \u001b[0;36m_wrapped_call_impl\u001b[0;34m(self, *args, **kwargs)\u001b[0m\n\u001b[1;32m   1737\u001b[0m             \u001b[0;32mreturn\u001b[0m \u001b[0mself\u001b[0m\u001b[0;34m.\u001b[0m\u001b[0m_compiled_call_impl\u001b[0m\u001b[0;34m(\u001b[0m\u001b[0;34m*\u001b[0m\u001b[0margs\u001b[0m\u001b[0;34m,\u001b[0m \u001b[0;34m**\u001b[0m\u001b[0mkwargs\u001b[0m\u001b[0;34m)\u001b[0m  \u001b[0;31m# type: ignore[misc]\u001b[0m\u001b[0;34m\u001b[0m\u001b[0;34m\u001b[0m\u001b[0m\n\u001b[1;32m   1738\u001b[0m         \u001b[0;32melse\u001b[0m\u001b[0;34m:\u001b[0m\u001b[0;34m\u001b[0m\u001b[0;34m\u001b[0m\u001b[0m\n\u001b[0;32m-> 1739\u001b[0;31m             \u001b[0;32mreturn\u001b[0m \u001b[0mself\u001b[0m\u001b[0;34m.\u001b[0m\u001b[0m_call_impl\u001b[0m\u001b[0;34m(\u001b[0m\u001b[0;34m*\u001b[0m\u001b[0margs\u001b[0m\u001b[0;34m,\u001b[0m \u001b[0;34m**\u001b[0m\u001b[0mkwargs\u001b[0m\u001b[0;34m)\u001b[0m\u001b[0;34m\u001b[0m\u001b[0;34m\u001b[0m\u001b[0m\n\u001b[0m\u001b[1;32m   1740\u001b[0m \u001b[0;34m\u001b[0m\u001b[0m\n\u001b[1;32m   1741\u001b[0m     \u001b[0;31m# torchrec tests the code consistency with the following code\u001b[0m\u001b[0;34m\u001b[0m\u001b[0;34m\u001b[0m\u001b[0m\n",
            "\u001b[0;32m/usr/local/lib/python3.11/dist-packages/torch/nn/modules/module.py\u001b[0m in \u001b[0;36m_call_impl\u001b[0;34m(self, *args, **kwargs)\u001b[0m\n\u001b[1;32m   1748\u001b[0m                 \u001b[0;32mor\u001b[0m \u001b[0m_global_backward_pre_hooks\u001b[0m \u001b[0;32mor\u001b[0m \u001b[0m_global_backward_hooks\u001b[0m\u001b[0;34m\u001b[0m\u001b[0;34m\u001b[0m\u001b[0m\n\u001b[1;32m   1749\u001b[0m                 or _global_forward_hooks or _global_forward_pre_hooks):\n\u001b[0;32m-> 1750\u001b[0;31m             \u001b[0;32mreturn\u001b[0m \u001b[0mforward_call\u001b[0m\u001b[0;34m(\u001b[0m\u001b[0;34m*\u001b[0m\u001b[0margs\u001b[0m\u001b[0;34m,\u001b[0m \u001b[0;34m**\u001b[0m\u001b[0mkwargs\u001b[0m\u001b[0;34m)\u001b[0m\u001b[0;34m\u001b[0m\u001b[0;34m\u001b[0m\u001b[0m\n\u001b[0m\u001b[1;32m   1751\u001b[0m \u001b[0;34m\u001b[0m\u001b[0m\n\u001b[1;32m   1752\u001b[0m         \u001b[0mresult\u001b[0m \u001b[0;34m=\u001b[0m \u001b[0;32mNone\u001b[0m\u001b[0;34m\u001b[0m\u001b[0;34m\u001b[0m\u001b[0m\n",
            "\u001b[0;32m/usr/local/lib/python3.11/dist-packages/accelerate/utils/operations.py\u001b[0m in \u001b[0;36mforward\u001b[0;34m(*args, **kwargs)\u001b[0m\n\u001b[1;32m    817\u001b[0m \u001b[0;34m\u001b[0m\u001b[0m\n\u001b[1;32m    818\u001b[0m     \u001b[0;32mdef\u001b[0m \u001b[0mforward\u001b[0m\u001b[0;34m(\u001b[0m\u001b[0;34m*\u001b[0m\u001b[0margs\u001b[0m\u001b[0;34m,\u001b[0m \u001b[0;34m**\u001b[0m\u001b[0mkwargs\u001b[0m\u001b[0;34m)\u001b[0m\u001b[0;34m:\u001b[0m\u001b[0;34m\u001b[0m\u001b[0;34m\u001b[0m\u001b[0m\n\u001b[0;32m--> 819\u001b[0;31m         \u001b[0;32mreturn\u001b[0m \u001b[0mmodel_forward\u001b[0m\u001b[0;34m(\u001b[0m\u001b[0;34m*\u001b[0m\u001b[0margs\u001b[0m\u001b[0;34m,\u001b[0m \u001b[0;34m**\u001b[0m\u001b[0mkwargs\u001b[0m\u001b[0;34m)\u001b[0m\u001b[0;34m\u001b[0m\u001b[0;34m\u001b[0m\u001b[0m\n\u001b[0m\u001b[1;32m    820\u001b[0m \u001b[0;34m\u001b[0m\u001b[0m\n\u001b[1;32m    821\u001b[0m     \u001b[0;31m# To act like a decorator so that it can be popped when doing `extract_model_from_parallel`\u001b[0m\u001b[0;34m\u001b[0m\u001b[0;34m\u001b[0m\u001b[0m\n",
            "\u001b[0;32m/usr/local/lib/python3.11/dist-packages/accelerate/utils/operations.py\u001b[0m in \u001b[0;36m__call__\u001b[0;34m(self, *args, **kwargs)\u001b[0m\n\u001b[1;32m    805\u001b[0m \u001b[0;34m\u001b[0m\u001b[0m\n\u001b[1;32m    806\u001b[0m     \u001b[0;32mdef\u001b[0m \u001b[0m__call__\u001b[0m\u001b[0;34m(\u001b[0m\u001b[0mself\u001b[0m\u001b[0;34m,\u001b[0m \u001b[0;34m*\u001b[0m\u001b[0margs\u001b[0m\u001b[0;34m,\u001b[0m \u001b[0;34m**\u001b[0m\u001b[0mkwargs\u001b[0m\u001b[0;34m)\u001b[0m\u001b[0;34m:\u001b[0m\u001b[0;34m\u001b[0m\u001b[0;34m\u001b[0m\u001b[0m\n\u001b[0;32m--> 807\u001b[0;31m         \u001b[0;32mreturn\u001b[0m \u001b[0mconvert_to_fp32\u001b[0m\u001b[0;34m(\u001b[0m\u001b[0mself\u001b[0m\u001b[0;34m.\u001b[0m\u001b[0mmodel_forward\u001b[0m\u001b[0;34m(\u001b[0m\u001b[0;34m*\u001b[0m\u001b[0margs\u001b[0m\u001b[0;34m,\u001b[0m \u001b[0;34m**\u001b[0m\u001b[0mkwargs\u001b[0m\u001b[0;34m)\u001b[0m\u001b[0;34m)\u001b[0m\u001b[0;34m\u001b[0m\u001b[0;34m\u001b[0m\u001b[0m\n\u001b[0m\u001b[1;32m    808\u001b[0m \u001b[0;34m\u001b[0m\u001b[0m\n\u001b[1;32m    809\u001b[0m     \u001b[0;32mdef\u001b[0m \u001b[0m__getstate__\u001b[0m\u001b[0;34m(\u001b[0m\u001b[0mself\u001b[0m\u001b[0;34m)\u001b[0m\u001b[0;34m:\u001b[0m\u001b[0;34m\u001b[0m\u001b[0;34m\u001b[0m\u001b[0m\n",
            "\u001b[0;32m/usr/local/lib/python3.11/dist-packages/torch/amp/autocast_mode.py\u001b[0m in \u001b[0;36mdecorate_autocast\u001b[0;34m(*args, **kwargs)\u001b[0m\n\u001b[1;32m     42\u001b[0m     \u001b[0;32mdef\u001b[0m \u001b[0mdecorate_autocast\u001b[0m\u001b[0;34m(\u001b[0m\u001b[0;34m*\u001b[0m\u001b[0margs\u001b[0m\u001b[0;34m,\u001b[0m \u001b[0;34m**\u001b[0m\u001b[0mkwargs\u001b[0m\u001b[0;34m)\u001b[0m\u001b[0;34m:\u001b[0m\u001b[0;34m\u001b[0m\u001b[0;34m\u001b[0m\u001b[0m\n\u001b[1;32m     43\u001b[0m         \u001b[0;32mwith\u001b[0m \u001b[0mautocast_instance\u001b[0m\u001b[0;34m:\u001b[0m\u001b[0;34m\u001b[0m\u001b[0;34m\u001b[0m\u001b[0m\n\u001b[0;32m---> 44\u001b[0;31m             \u001b[0;32mreturn\u001b[0m \u001b[0mfunc\u001b[0m\u001b[0;34m(\u001b[0m\u001b[0;34m*\u001b[0m\u001b[0margs\u001b[0m\u001b[0;34m,\u001b[0m \u001b[0;34m**\u001b[0m\u001b[0mkwargs\u001b[0m\u001b[0;34m)\u001b[0m\u001b[0;34m\u001b[0m\u001b[0;34m\u001b[0m\u001b[0m\n\u001b[0m\u001b[1;32m     45\u001b[0m \u001b[0;34m\u001b[0m\u001b[0m\n\u001b[1;32m     46\u001b[0m     \u001b[0mdecorate_autocast\u001b[0m\u001b[0;34m.\u001b[0m\u001b[0m__script_unsupported\u001b[0m \u001b[0;34m=\u001b[0m \u001b[0;34m\"@autocast() decorator is not supported in script mode\"\u001b[0m  \u001b[0;31m# type: ignore[attr-defined]\u001b[0m\u001b[0;34m\u001b[0m\u001b[0;34m\u001b[0m\u001b[0m\n",
            "\u001b[0;32m/usr/local/lib/python3.11/dist-packages/accelerate/utils/operations.py\u001b[0m in \u001b[0;36mforward\u001b[0;34m(*args, **kwargs)\u001b[0m\n\u001b[1;32m    817\u001b[0m \u001b[0;34m\u001b[0m\u001b[0m\n\u001b[1;32m    818\u001b[0m     \u001b[0;32mdef\u001b[0m \u001b[0mforward\u001b[0m\u001b[0;34m(\u001b[0m\u001b[0;34m*\u001b[0m\u001b[0margs\u001b[0m\u001b[0;34m,\u001b[0m \u001b[0;34m**\u001b[0m\u001b[0mkwargs\u001b[0m\u001b[0;34m)\u001b[0m\u001b[0;34m:\u001b[0m\u001b[0;34m\u001b[0m\u001b[0;34m\u001b[0m\u001b[0m\n\u001b[0;32m--> 819\u001b[0;31m         \u001b[0;32mreturn\u001b[0m \u001b[0mmodel_forward\u001b[0m\u001b[0;34m(\u001b[0m\u001b[0;34m*\u001b[0m\u001b[0margs\u001b[0m\u001b[0;34m,\u001b[0m \u001b[0;34m**\u001b[0m\u001b[0mkwargs\u001b[0m\u001b[0;34m)\u001b[0m\u001b[0;34m\u001b[0m\u001b[0;34m\u001b[0m\u001b[0m\n\u001b[0m\u001b[1;32m    820\u001b[0m \u001b[0;34m\u001b[0m\u001b[0m\n\u001b[1;32m    821\u001b[0m     \u001b[0;31m# To act like a decorator so that it can be popped when doing `extract_model_from_parallel`\u001b[0m\u001b[0;34m\u001b[0m\u001b[0;34m\u001b[0m\u001b[0m\n",
            "\u001b[0;32m/usr/local/lib/python3.11/dist-packages/accelerate/utils/operations.py\u001b[0m in \u001b[0;36m__call__\u001b[0;34m(self, *args, **kwargs)\u001b[0m\n\u001b[1;32m    805\u001b[0m \u001b[0;34m\u001b[0m\u001b[0m\n\u001b[1;32m    806\u001b[0m     \u001b[0;32mdef\u001b[0m \u001b[0m__call__\u001b[0m\u001b[0;34m(\u001b[0m\u001b[0mself\u001b[0m\u001b[0;34m,\u001b[0m \u001b[0;34m*\u001b[0m\u001b[0margs\u001b[0m\u001b[0;34m,\u001b[0m \u001b[0;34m**\u001b[0m\u001b[0mkwargs\u001b[0m\u001b[0;34m)\u001b[0m\u001b[0;34m:\u001b[0m\u001b[0;34m\u001b[0m\u001b[0;34m\u001b[0m\u001b[0m\n\u001b[0;32m--> 807\u001b[0;31m         \u001b[0;32mreturn\u001b[0m \u001b[0mconvert_to_fp32\u001b[0m\u001b[0;34m(\u001b[0m\u001b[0mself\u001b[0m\u001b[0;34m.\u001b[0m\u001b[0mmodel_forward\u001b[0m\u001b[0;34m(\u001b[0m\u001b[0;34m*\u001b[0m\u001b[0margs\u001b[0m\u001b[0;34m,\u001b[0m \u001b[0;34m**\u001b[0m\u001b[0mkwargs\u001b[0m\u001b[0;34m)\u001b[0m\u001b[0;34m)\u001b[0m\u001b[0;34m\u001b[0m\u001b[0;34m\u001b[0m\u001b[0m\n\u001b[0m\u001b[1;32m    808\u001b[0m \u001b[0;34m\u001b[0m\u001b[0m\n\u001b[1;32m    809\u001b[0m     \u001b[0;32mdef\u001b[0m \u001b[0m__getstate__\u001b[0m\u001b[0;34m(\u001b[0m\u001b[0mself\u001b[0m\u001b[0;34m)\u001b[0m\u001b[0;34m:\u001b[0m\u001b[0;34m\u001b[0m\u001b[0;34m\u001b[0m\u001b[0m\n",
            "\u001b[0;32m/usr/local/lib/python3.11/dist-packages/torch/amp/autocast_mode.py\u001b[0m in \u001b[0;36mdecorate_autocast\u001b[0;34m(*args, **kwargs)\u001b[0m\n\u001b[1;32m     42\u001b[0m     \u001b[0;32mdef\u001b[0m \u001b[0mdecorate_autocast\u001b[0m\u001b[0;34m(\u001b[0m\u001b[0;34m*\u001b[0m\u001b[0margs\u001b[0m\u001b[0;34m,\u001b[0m \u001b[0;34m**\u001b[0m\u001b[0mkwargs\u001b[0m\u001b[0;34m)\u001b[0m\u001b[0;34m:\u001b[0m\u001b[0;34m\u001b[0m\u001b[0;34m\u001b[0m\u001b[0m\n\u001b[1;32m     43\u001b[0m         \u001b[0;32mwith\u001b[0m \u001b[0mautocast_instance\u001b[0m\u001b[0;34m:\u001b[0m\u001b[0;34m\u001b[0m\u001b[0;34m\u001b[0m\u001b[0m\n\u001b[0;32m---> 44\u001b[0;31m             \u001b[0;32mreturn\u001b[0m \u001b[0mfunc\u001b[0m\u001b[0;34m(\u001b[0m\u001b[0;34m*\u001b[0m\u001b[0margs\u001b[0m\u001b[0;34m,\u001b[0m \u001b[0;34m**\u001b[0m\u001b[0mkwargs\u001b[0m\u001b[0;34m)\u001b[0m\u001b[0;34m\u001b[0m\u001b[0;34m\u001b[0m\u001b[0m\n\u001b[0m\u001b[1;32m     45\u001b[0m \u001b[0;34m\u001b[0m\u001b[0m\n\u001b[1;32m     46\u001b[0m     \u001b[0mdecorate_autocast\u001b[0m\u001b[0;34m.\u001b[0m\u001b[0m__script_unsupported\u001b[0m \u001b[0;34m=\u001b[0m \u001b[0;34m\"@autocast() decorator is not supported in script mode\"\u001b[0m  \u001b[0;31m# type: ignore[attr-defined]\u001b[0m\u001b[0;34m\u001b[0m\u001b[0;34m\u001b[0m\u001b[0m\n",
            "\u001b[0;32m/usr/local/lib/python3.11/dist-packages/peft/peft_model.py\u001b[0m in \u001b[0;36mforward\u001b[0;34m(self, input_ids, attention_mask, inputs_embeds, labels, output_attentions, output_hidden_states, return_dict, task_ids, **kwargs)\u001b[0m\n\u001b[1;32m   1717\u001b[0m             \u001b[0;32mwith\u001b[0m \u001b[0mself\u001b[0m\u001b[0;34m.\u001b[0m\u001b[0m_enable_peft_forward_hooks\u001b[0m\u001b[0;34m(\u001b[0m\u001b[0;34m**\u001b[0m\u001b[0mkwargs\u001b[0m\u001b[0;34m)\u001b[0m\u001b[0;34m:\u001b[0m\u001b[0;34m\u001b[0m\u001b[0;34m\u001b[0m\u001b[0m\n\u001b[1;32m   1718\u001b[0m                 \u001b[0mkwargs\u001b[0m \u001b[0;34m=\u001b[0m \u001b[0;34m{\u001b[0m\u001b[0mk\u001b[0m\u001b[0;34m:\u001b[0m \u001b[0mv\u001b[0m \u001b[0;32mfor\u001b[0m \u001b[0mk\u001b[0m\u001b[0;34m,\u001b[0m \u001b[0mv\u001b[0m \u001b[0;32min\u001b[0m \u001b[0mkwargs\u001b[0m\u001b[0;34m.\u001b[0m\u001b[0mitems\u001b[0m\u001b[0;34m(\u001b[0m\u001b[0;34m)\u001b[0m \u001b[0;32mif\u001b[0m \u001b[0mk\u001b[0m \u001b[0;32mnot\u001b[0m \u001b[0;32min\u001b[0m \u001b[0mself\u001b[0m\u001b[0;34m.\u001b[0m\u001b[0mspecial_peft_forward_args\u001b[0m\u001b[0;34m}\u001b[0m\u001b[0;34m\u001b[0m\u001b[0;34m\u001b[0m\u001b[0m\n\u001b[0;32m-> 1719\u001b[0;31m                 return self.base_model(\n\u001b[0m\u001b[1;32m   1720\u001b[0m                     \u001b[0minput_ids\u001b[0m\u001b[0;34m=\u001b[0m\u001b[0minput_ids\u001b[0m\u001b[0;34m,\u001b[0m\u001b[0;34m\u001b[0m\u001b[0;34m\u001b[0m\u001b[0m\n\u001b[1;32m   1721\u001b[0m                     \u001b[0mattention_mask\u001b[0m\u001b[0;34m=\u001b[0m\u001b[0mattention_mask\u001b[0m\u001b[0;34m,\u001b[0m\u001b[0;34m\u001b[0m\u001b[0;34m\u001b[0m\u001b[0m\n",
            "\u001b[0;32m/usr/local/lib/python3.11/dist-packages/torch/nn/modules/module.py\u001b[0m in \u001b[0;36m_wrapped_call_impl\u001b[0;34m(self, *args, **kwargs)\u001b[0m\n\u001b[1;32m   1737\u001b[0m             \u001b[0;32mreturn\u001b[0m \u001b[0mself\u001b[0m\u001b[0;34m.\u001b[0m\u001b[0m_compiled_call_impl\u001b[0m\u001b[0;34m(\u001b[0m\u001b[0;34m*\u001b[0m\u001b[0margs\u001b[0m\u001b[0;34m,\u001b[0m \u001b[0;34m**\u001b[0m\u001b[0mkwargs\u001b[0m\u001b[0;34m)\u001b[0m  \u001b[0;31m# type: ignore[misc]\u001b[0m\u001b[0;34m\u001b[0m\u001b[0;34m\u001b[0m\u001b[0m\n\u001b[1;32m   1738\u001b[0m         \u001b[0;32melse\u001b[0m\u001b[0;34m:\u001b[0m\u001b[0;34m\u001b[0m\u001b[0;34m\u001b[0m\u001b[0m\n\u001b[0;32m-> 1739\u001b[0;31m             \u001b[0;32mreturn\u001b[0m \u001b[0mself\u001b[0m\u001b[0;34m.\u001b[0m\u001b[0m_call_impl\u001b[0m\u001b[0;34m(\u001b[0m\u001b[0;34m*\u001b[0m\u001b[0margs\u001b[0m\u001b[0;34m,\u001b[0m \u001b[0;34m**\u001b[0m\u001b[0mkwargs\u001b[0m\u001b[0;34m)\u001b[0m\u001b[0;34m\u001b[0m\u001b[0;34m\u001b[0m\u001b[0m\n\u001b[0m\u001b[1;32m   1740\u001b[0m \u001b[0;34m\u001b[0m\u001b[0m\n\u001b[1;32m   1741\u001b[0m     \u001b[0;31m# torchrec tests the code consistency with the following code\u001b[0m\u001b[0;34m\u001b[0m\u001b[0;34m\u001b[0m\u001b[0m\n",
            "\u001b[0;32m/usr/local/lib/python3.11/dist-packages/torch/nn/modules/module.py\u001b[0m in \u001b[0;36m_call_impl\u001b[0;34m(self, *args, **kwargs)\u001b[0m\n\u001b[1;32m   1748\u001b[0m                 \u001b[0;32mor\u001b[0m \u001b[0m_global_backward_pre_hooks\u001b[0m \u001b[0;32mor\u001b[0m \u001b[0m_global_backward_hooks\u001b[0m\u001b[0;34m\u001b[0m\u001b[0;34m\u001b[0m\u001b[0m\n\u001b[1;32m   1749\u001b[0m                 or _global_forward_hooks or _global_forward_pre_hooks):\n\u001b[0;32m-> 1750\u001b[0;31m             \u001b[0;32mreturn\u001b[0m \u001b[0mforward_call\u001b[0m\u001b[0;34m(\u001b[0m\u001b[0;34m*\u001b[0m\u001b[0margs\u001b[0m\u001b[0;34m,\u001b[0m \u001b[0;34m**\u001b[0m\u001b[0mkwargs\u001b[0m\u001b[0;34m)\u001b[0m\u001b[0;34m\u001b[0m\u001b[0;34m\u001b[0m\u001b[0m\n\u001b[0m\u001b[1;32m   1751\u001b[0m \u001b[0;34m\u001b[0m\u001b[0m\n\u001b[1;32m   1752\u001b[0m         \u001b[0mresult\u001b[0m \u001b[0;34m=\u001b[0m \u001b[0;32mNone\u001b[0m\u001b[0;34m\u001b[0m\u001b[0;34m\u001b[0m\u001b[0m\n",
            "\u001b[0;32m/usr/local/lib/python3.11/dist-packages/peft/tuners/tuners_utils.py\u001b[0m in \u001b[0;36mforward\u001b[0;34m(self, *args, **kwargs)\u001b[0m\n\u001b[1;32m    195\u001b[0m \u001b[0;34m\u001b[0m\u001b[0m\n\u001b[1;32m    196\u001b[0m     \u001b[0;32mdef\u001b[0m \u001b[0mforward\u001b[0m\u001b[0;34m(\u001b[0m\u001b[0mself\u001b[0m\u001b[0;34m,\u001b[0m \u001b[0;34m*\u001b[0m\u001b[0margs\u001b[0m\u001b[0;34m:\u001b[0m \u001b[0mAny\u001b[0m\u001b[0;34m,\u001b[0m \u001b[0;34m**\u001b[0m\u001b[0mkwargs\u001b[0m\u001b[0;34m:\u001b[0m \u001b[0mAny\u001b[0m\u001b[0;34m)\u001b[0m\u001b[0;34m:\u001b[0m\u001b[0;34m\u001b[0m\u001b[0;34m\u001b[0m\u001b[0m\n\u001b[0;32m--> 197\u001b[0;31m         \u001b[0;32mreturn\u001b[0m \u001b[0mself\u001b[0m\u001b[0;34m.\u001b[0m\u001b[0mmodel\u001b[0m\u001b[0;34m.\u001b[0m\u001b[0mforward\u001b[0m\u001b[0;34m(\u001b[0m\u001b[0;34m*\u001b[0m\u001b[0margs\u001b[0m\u001b[0;34m,\u001b[0m \u001b[0;34m**\u001b[0m\u001b[0mkwargs\u001b[0m\u001b[0;34m)\u001b[0m\u001b[0;34m\u001b[0m\u001b[0;34m\u001b[0m\u001b[0m\n\u001b[0m\u001b[1;32m    198\u001b[0m \u001b[0;34m\u001b[0m\u001b[0m\n\u001b[1;32m    199\u001b[0m     \u001b[0;32mdef\u001b[0m \u001b[0m_pre_injection_hook\u001b[0m\u001b[0;34m(\u001b[0m\u001b[0mself\u001b[0m\u001b[0;34m,\u001b[0m \u001b[0mmodel\u001b[0m\u001b[0;34m:\u001b[0m \u001b[0mnn\u001b[0m\u001b[0;34m.\u001b[0m\u001b[0mModule\u001b[0m\u001b[0;34m,\u001b[0m \u001b[0mconfig\u001b[0m\u001b[0;34m:\u001b[0m \u001b[0mPeftConfig\u001b[0m\u001b[0;34m,\u001b[0m \u001b[0madapter_name\u001b[0m\u001b[0;34m:\u001b[0m \u001b[0mstr\u001b[0m\u001b[0;34m)\u001b[0m \u001b[0;34m->\u001b[0m \u001b[0;32mNone\u001b[0m\u001b[0;34m:\u001b[0m\u001b[0;34m\u001b[0m\u001b[0;34m\u001b[0m\u001b[0m\n",
            "\u001b[0;32m/usr/local/lib/python3.11/dist-packages/transformers/utils/deprecation.py\u001b[0m in \u001b[0;36mwrapped_func\u001b[0;34m(*args, **kwargs)\u001b[0m\n\u001b[1;32m    170\u001b[0m                 \u001b[0mwarnings\u001b[0m\u001b[0;34m.\u001b[0m\u001b[0mwarn\u001b[0m\u001b[0;34m(\u001b[0m\u001b[0mmessage\u001b[0m\u001b[0;34m,\u001b[0m \u001b[0mFutureWarning\u001b[0m\u001b[0;34m,\u001b[0m \u001b[0mstacklevel\u001b[0m\u001b[0;34m=\u001b[0m\u001b[0;36m2\u001b[0m\u001b[0;34m)\u001b[0m\u001b[0;34m\u001b[0m\u001b[0;34m\u001b[0m\u001b[0m\n\u001b[1;32m    171\u001b[0m \u001b[0;34m\u001b[0m\u001b[0m\n\u001b[0;32m--> 172\u001b[0;31m             \u001b[0;32mreturn\u001b[0m \u001b[0mfunc\u001b[0m\u001b[0;34m(\u001b[0m\u001b[0;34m*\u001b[0m\u001b[0margs\u001b[0m\u001b[0;34m,\u001b[0m \u001b[0;34m**\u001b[0m\u001b[0mkwargs\u001b[0m\u001b[0;34m)\u001b[0m\u001b[0;34m\u001b[0m\u001b[0;34m\u001b[0m\u001b[0m\n\u001b[0m\u001b[1;32m    173\u001b[0m \u001b[0;34m\u001b[0m\u001b[0m\n\u001b[1;32m    174\u001b[0m         \u001b[0;32mreturn\u001b[0m \u001b[0mwrapped_func\u001b[0m\u001b[0;34m\u001b[0m\u001b[0;34m\u001b[0m\u001b[0m\n",
            "\u001b[0;32m/usr/local/lib/python3.11/dist-packages/transformers/models/llama/modeling_llama.py\u001b[0m in \u001b[0;36mforward\u001b[0;34m(self, input_ids, attention_mask, position_ids, past_key_values, inputs_embeds, labels, use_cache, output_attentions, output_hidden_states, return_dict, cache_position, logits_to_keep, **kwargs)\u001b[0m\n\u001b[1;32m    851\u001b[0m \u001b[0;34m\u001b[0m\u001b[0m\n\u001b[1;32m    852\u001b[0m         \u001b[0;31m# decoder outputs consists of (dec_features, layer_state, dec_hidden, dec_attn)\u001b[0m\u001b[0;34m\u001b[0m\u001b[0;34m\u001b[0m\u001b[0m\n\u001b[0;32m--> 853\u001b[0;31m         outputs = self.model(\n\u001b[0m\u001b[1;32m    854\u001b[0m             \u001b[0minput_ids\u001b[0m\u001b[0;34m=\u001b[0m\u001b[0minput_ids\u001b[0m\u001b[0;34m,\u001b[0m\u001b[0;34m\u001b[0m\u001b[0;34m\u001b[0m\u001b[0m\n\u001b[1;32m    855\u001b[0m             \u001b[0mattention_mask\u001b[0m\u001b[0;34m=\u001b[0m\u001b[0mattention_mask\u001b[0m\u001b[0;34m,\u001b[0m\u001b[0;34m\u001b[0m\u001b[0;34m\u001b[0m\u001b[0m\n",
            "\u001b[0;32m/usr/local/lib/python3.11/dist-packages/torch/nn/modules/module.py\u001b[0m in \u001b[0;36m_wrapped_call_impl\u001b[0;34m(self, *args, **kwargs)\u001b[0m\n\u001b[1;32m   1737\u001b[0m             \u001b[0;32mreturn\u001b[0m \u001b[0mself\u001b[0m\u001b[0;34m.\u001b[0m\u001b[0m_compiled_call_impl\u001b[0m\u001b[0;34m(\u001b[0m\u001b[0;34m*\u001b[0m\u001b[0margs\u001b[0m\u001b[0;34m,\u001b[0m \u001b[0;34m**\u001b[0m\u001b[0mkwargs\u001b[0m\u001b[0;34m)\u001b[0m  \u001b[0;31m# type: ignore[misc]\u001b[0m\u001b[0;34m\u001b[0m\u001b[0;34m\u001b[0m\u001b[0m\n\u001b[1;32m   1738\u001b[0m         \u001b[0;32melse\u001b[0m\u001b[0;34m:\u001b[0m\u001b[0;34m\u001b[0m\u001b[0;34m\u001b[0m\u001b[0m\n\u001b[0;32m-> 1739\u001b[0;31m             \u001b[0;32mreturn\u001b[0m \u001b[0mself\u001b[0m\u001b[0;34m.\u001b[0m\u001b[0m_call_impl\u001b[0m\u001b[0;34m(\u001b[0m\u001b[0;34m*\u001b[0m\u001b[0margs\u001b[0m\u001b[0;34m,\u001b[0m \u001b[0;34m**\u001b[0m\u001b[0mkwargs\u001b[0m\u001b[0;34m)\u001b[0m\u001b[0;34m\u001b[0m\u001b[0;34m\u001b[0m\u001b[0m\n\u001b[0m\u001b[1;32m   1740\u001b[0m \u001b[0;34m\u001b[0m\u001b[0m\n\u001b[1;32m   1741\u001b[0m     \u001b[0;31m# torchrec tests the code consistency with the following code\u001b[0m\u001b[0;34m\u001b[0m\u001b[0;34m\u001b[0m\u001b[0m\n",
            "\u001b[0;32m/usr/local/lib/python3.11/dist-packages/torch/nn/modules/module.py\u001b[0m in \u001b[0;36m_call_impl\u001b[0;34m(self, *args, **kwargs)\u001b[0m\n\u001b[1;32m   1748\u001b[0m                 \u001b[0;32mor\u001b[0m \u001b[0m_global_backward_pre_hooks\u001b[0m \u001b[0;32mor\u001b[0m \u001b[0m_global_backward_hooks\u001b[0m\u001b[0;34m\u001b[0m\u001b[0;34m\u001b[0m\u001b[0m\n\u001b[1;32m   1749\u001b[0m                 or _global_forward_hooks or _global_forward_pre_hooks):\n\u001b[0;32m-> 1750\u001b[0;31m             \u001b[0;32mreturn\u001b[0m \u001b[0mforward_call\u001b[0m\u001b[0;34m(\u001b[0m\u001b[0;34m*\u001b[0m\u001b[0margs\u001b[0m\u001b[0;34m,\u001b[0m \u001b[0;34m**\u001b[0m\u001b[0mkwargs\u001b[0m\u001b[0;34m)\u001b[0m\u001b[0;34m\u001b[0m\u001b[0;34m\u001b[0m\u001b[0m\n\u001b[0m\u001b[1;32m   1751\u001b[0m \u001b[0;34m\u001b[0m\u001b[0m\n\u001b[1;32m   1752\u001b[0m         \u001b[0mresult\u001b[0m \u001b[0;34m=\u001b[0m \u001b[0;32mNone\u001b[0m\u001b[0;34m\u001b[0m\u001b[0;34m\u001b[0m\u001b[0m\n",
            "\u001b[0;32m/usr/local/lib/python3.11/dist-packages/transformers/models/llama/modeling_llama.py\u001b[0m in \u001b[0;36mforward\u001b[0;34m(self, input_ids, attention_mask, position_ids, past_key_values, inputs_embeds, use_cache, output_attentions, output_hidden_states, return_dict, cache_position, **flash_attn_kwargs)\u001b[0m\n\u001b[1;32m    599\u001b[0m                 )\n\u001b[1;32m    600\u001b[0m             \u001b[0;32melse\u001b[0m\u001b[0;34m:\u001b[0m\u001b[0;34m\u001b[0m\u001b[0;34m\u001b[0m\u001b[0m\n\u001b[0;32m--> 601\u001b[0;31m                 layer_outputs = decoder_layer(\n\u001b[0m\u001b[1;32m    602\u001b[0m                     \u001b[0mhidden_states\u001b[0m\u001b[0;34m,\u001b[0m\u001b[0;34m\u001b[0m\u001b[0;34m\u001b[0m\u001b[0m\n\u001b[1;32m    603\u001b[0m                     \u001b[0mattention_mask\u001b[0m\u001b[0;34m=\u001b[0m\u001b[0mcausal_mask\u001b[0m\u001b[0;34m,\u001b[0m\u001b[0;34m\u001b[0m\u001b[0;34m\u001b[0m\u001b[0m\n",
            "\u001b[0;32m/usr/local/lib/python3.11/dist-packages/torch/nn/modules/module.py\u001b[0m in \u001b[0;36m_wrapped_call_impl\u001b[0;34m(self, *args, **kwargs)\u001b[0m\n\u001b[1;32m   1737\u001b[0m             \u001b[0;32mreturn\u001b[0m \u001b[0mself\u001b[0m\u001b[0;34m.\u001b[0m\u001b[0m_compiled_call_impl\u001b[0m\u001b[0;34m(\u001b[0m\u001b[0;34m*\u001b[0m\u001b[0margs\u001b[0m\u001b[0;34m,\u001b[0m \u001b[0;34m**\u001b[0m\u001b[0mkwargs\u001b[0m\u001b[0;34m)\u001b[0m  \u001b[0;31m# type: ignore[misc]\u001b[0m\u001b[0;34m\u001b[0m\u001b[0;34m\u001b[0m\u001b[0m\n\u001b[1;32m   1738\u001b[0m         \u001b[0;32melse\u001b[0m\u001b[0;34m:\u001b[0m\u001b[0;34m\u001b[0m\u001b[0;34m\u001b[0m\u001b[0m\n\u001b[0;32m-> 1739\u001b[0;31m             \u001b[0;32mreturn\u001b[0m \u001b[0mself\u001b[0m\u001b[0;34m.\u001b[0m\u001b[0m_call_impl\u001b[0m\u001b[0;34m(\u001b[0m\u001b[0;34m*\u001b[0m\u001b[0margs\u001b[0m\u001b[0;34m,\u001b[0m \u001b[0;34m**\u001b[0m\u001b[0mkwargs\u001b[0m\u001b[0;34m)\u001b[0m\u001b[0;34m\u001b[0m\u001b[0;34m\u001b[0m\u001b[0m\n\u001b[0m\u001b[1;32m   1740\u001b[0m \u001b[0;34m\u001b[0m\u001b[0m\n\u001b[1;32m   1741\u001b[0m     \u001b[0;31m# torchrec tests the code consistency with the following code\u001b[0m\u001b[0;34m\u001b[0m\u001b[0;34m\u001b[0m\u001b[0m\n",
            "\u001b[0;32m/usr/local/lib/python3.11/dist-packages/torch/nn/modules/module.py\u001b[0m in \u001b[0;36m_call_impl\u001b[0;34m(self, *args, **kwargs)\u001b[0m\n\u001b[1;32m   1748\u001b[0m                 \u001b[0;32mor\u001b[0m \u001b[0m_global_backward_pre_hooks\u001b[0m \u001b[0;32mor\u001b[0m \u001b[0m_global_backward_hooks\u001b[0m\u001b[0;34m\u001b[0m\u001b[0;34m\u001b[0m\u001b[0m\n\u001b[1;32m   1749\u001b[0m                 or _global_forward_hooks or _global_forward_pre_hooks):\n\u001b[0;32m-> 1750\u001b[0;31m             \u001b[0;32mreturn\u001b[0m \u001b[0mforward_call\u001b[0m\u001b[0;34m(\u001b[0m\u001b[0;34m*\u001b[0m\u001b[0margs\u001b[0m\u001b[0;34m,\u001b[0m \u001b[0;34m**\u001b[0m\u001b[0mkwargs\u001b[0m\u001b[0;34m)\u001b[0m\u001b[0;34m\u001b[0m\u001b[0;34m\u001b[0m\u001b[0m\n\u001b[0m\u001b[1;32m   1751\u001b[0m \u001b[0;34m\u001b[0m\u001b[0m\n\u001b[1;32m   1752\u001b[0m         \u001b[0mresult\u001b[0m \u001b[0;34m=\u001b[0m \u001b[0;32mNone\u001b[0m\u001b[0;34m\u001b[0m\u001b[0;34m\u001b[0m\u001b[0m\n",
            "\u001b[0;32m/usr/local/lib/python3.11/dist-packages/transformers/models/llama/modeling_llama.py\u001b[0m in \u001b[0;36mforward\u001b[0;34m(self, hidden_states, attention_mask, position_ids, past_key_value, output_attentions, use_cache, cache_position, position_embeddings, **kwargs)\u001b[0m\n\u001b[1;32m    341\u001b[0m \u001b[0;34m\u001b[0m\u001b[0m\n\u001b[1;32m    342\u001b[0m         \u001b[0;31m# Self Attention\u001b[0m\u001b[0;34m\u001b[0m\u001b[0;34m\u001b[0m\u001b[0m\n\u001b[0;32m--> 343\u001b[0;31m         hidden_states, self_attn_weights = self.self_attn(\n\u001b[0m\u001b[1;32m    344\u001b[0m             \u001b[0mhidden_states\u001b[0m\u001b[0;34m=\u001b[0m\u001b[0mhidden_states\u001b[0m\u001b[0;34m,\u001b[0m\u001b[0;34m\u001b[0m\u001b[0;34m\u001b[0m\u001b[0m\n\u001b[1;32m    345\u001b[0m             \u001b[0mattention_mask\u001b[0m\u001b[0;34m=\u001b[0m\u001b[0mattention_mask\u001b[0m\u001b[0;34m,\u001b[0m\u001b[0;34m\u001b[0m\u001b[0;34m\u001b[0m\u001b[0m\n",
            "\u001b[0;32m/usr/local/lib/python3.11/dist-packages/torch/nn/modules/module.py\u001b[0m in \u001b[0;36m_wrapped_call_impl\u001b[0;34m(self, *args, **kwargs)\u001b[0m\n\u001b[1;32m   1737\u001b[0m             \u001b[0;32mreturn\u001b[0m \u001b[0mself\u001b[0m\u001b[0;34m.\u001b[0m\u001b[0m_compiled_call_impl\u001b[0m\u001b[0;34m(\u001b[0m\u001b[0;34m*\u001b[0m\u001b[0margs\u001b[0m\u001b[0;34m,\u001b[0m \u001b[0;34m**\u001b[0m\u001b[0mkwargs\u001b[0m\u001b[0;34m)\u001b[0m  \u001b[0;31m# type: ignore[misc]\u001b[0m\u001b[0;34m\u001b[0m\u001b[0;34m\u001b[0m\u001b[0m\n\u001b[1;32m   1738\u001b[0m         \u001b[0;32melse\u001b[0m\u001b[0;34m:\u001b[0m\u001b[0;34m\u001b[0m\u001b[0;34m\u001b[0m\u001b[0m\n\u001b[0;32m-> 1739\u001b[0;31m             \u001b[0;32mreturn\u001b[0m \u001b[0mself\u001b[0m\u001b[0;34m.\u001b[0m\u001b[0m_call_impl\u001b[0m\u001b[0;34m(\u001b[0m\u001b[0;34m*\u001b[0m\u001b[0margs\u001b[0m\u001b[0;34m,\u001b[0m \u001b[0;34m**\u001b[0m\u001b[0mkwargs\u001b[0m\u001b[0;34m)\u001b[0m\u001b[0;34m\u001b[0m\u001b[0;34m\u001b[0m\u001b[0m\n\u001b[0m\u001b[1;32m   1740\u001b[0m \u001b[0;34m\u001b[0m\u001b[0m\n\u001b[1;32m   1741\u001b[0m     \u001b[0;31m# torchrec tests the code consistency with the following code\u001b[0m\u001b[0;34m\u001b[0m\u001b[0;34m\u001b[0m\u001b[0m\n",
            "\u001b[0;32m/usr/local/lib/python3.11/dist-packages/torch/nn/modules/module.py\u001b[0m in \u001b[0;36m_call_impl\u001b[0;34m(self, *args, **kwargs)\u001b[0m\n\u001b[1;32m   1748\u001b[0m                 \u001b[0;32mor\u001b[0m \u001b[0m_global_backward_pre_hooks\u001b[0m \u001b[0;32mor\u001b[0m \u001b[0m_global_backward_hooks\u001b[0m\u001b[0;34m\u001b[0m\u001b[0;34m\u001b[0m\u001b[0m\n\u001b[1;32m   1749\u001b[0m                 or _global_forward_hooks or _global_forward_pre_hooks):\n\u001b[0;32m-> 1750\u001b[0;31m             \u001b[0;32mreturn\u001b[0m \u001b[0mforward_call\u001b[0m\u001b[0;34m(\u001b[0m\u001b[0;34m*\u001b[0m\u001b[0margs\u001b[0m\u001b[0;34m,\u001b[0m \u001b[0;34m**\u001b[0m\u001b[0mkwargs\u001b[0m\u001b[0;34m)\u001b[0m\u001b[0;34m\u001b[0m\u001b[0;34m\u001b[0m\u001b[0m\n\u001b[0m\u001b[1;32m   1751\u001b[0m \u001b[0;34m\u001b[0m\u001b[0m\n\u001b[1;32m   1752\u001b[0m         \u001b[0mresult\u001b[0m \u001b[0;34m=\u001b[0m \u001b[0;32mNone\u001b[0m\u001b[0;34m\u001b[0m\u001b[0;34m\u001b[0m\u001b[0m\n",
            "\u001b[0;32m/usr/local/lib/python3.11/dist-packages/transformers/models/llama/modeling_llama.py\u001b[0m in \u001b[0;36mforward\u001b[0;34m(self, hidden_states, position_embeddings, attention_mask, past_key_value, cache_position, **kwargs)\u001b[0m\n\u001b[1;32m    275\u001b[0m         \u001b[0mhidden_shape\u001b[0m \u001b[0;34m=\u001b[0m \u001b[0;34m(\u001b[0m\u001b[0;34m*\u001b[0m\u001b[0minput_shape\u001b[0m\u001b[0;34m,\u001b[0m \u001b[0;34m-\u001b[0m\u001b[0;36m1\u001b[0m\u001b[0;34m,\u001b[0m \u001b[0mself\u001b[0m\u001b[0;34m.\u001b[0m\u001b[0mhead_dim\u001b[0m\u001b[0;34m)\u001b[0m\u001b[0;34m\u001b[0m\u001b[0;34m\u001b[0m\u001b[0m\n\u001b[1;32m    276\u001b[0m \u001b[0;34m\u001b[0m\u001b[0m\n\u001b[0;32m--> 277\u001b[0;31m         \u001b[0mquery_states\u001b[0m \u001b[0;34m=\u001b[0m \u001b[0mself\u001b[0m\u001b[0;34m.\u001b[0m\u001b[0mq_proj\u001b[0m\u001b[0;34m(\u001b[0m\u001b[0mhidden_states\u001b[0m\u001b[0;34m)\u001b[0m\u001b[0;34m.\u001b[0m\u001b[0mview\u001b[0m\u001b[0;34m(\u001b[0m\u001b[0mhidden_shape\u001b[0m\u001b[0;34m)\u001b[0m\u001b[0;34m.\u001b[0m\u001b[0mtranspose\u001b[0m\u001b[0;34m(\u001b[0m\u001b[0;36m1\u001b[0m\u001b[0;34m,\u001b[0m \u001b[0;36m2\u001b[0m\u001b[0;34m)\u001b[0m\u001b[0;34m\u001b[0m\u001b[0;34m\u001b[0m\u001b[0m\n\u001b[0m\u001b[1;32m    278\u001b[0m         \u001b[0mkey_states\u001b[0m \u001b[0;34m=\u001b[0m \u001b[0mself\u001b[0m\u001b[0;34m.\u001b[0m\u001b[0mk_proj\u001b[0m\u001b[0;34m(\u001b[0m\u001b[0mhidden_states\u001b[0m\u001b[0;34m)\u001b[0m\u001b[0;34m.\u001b[0m\u001b[0mview\u001b[0m\u001b[0;34m(\u001b[0m\u001b[0mhidden_shape\u001b[0m\u001b[0;34m)\u001b[0m\u001b[0;34m.\u001b[0m\u001b[0mtranspose\u001b[0m\u001b[0;34m(\u001b[0m\u001b[0;36m1\u001b[0m\u001b[0;34m,\u001b[0m \u001b[0;36m2\u001b[0m\u001b[0;34m)\u001b[0m\u001b[0;34m\u001b[0m\u001b[0;34m\u001b[0m\u001b[0m\n\u001b[1;32m    279\u001b[0m         \u001b[0mvalue_states\u001b[0m \u001b[0;34m=\u001b[0m \u001b[0mself\u001b[0m\u001b[0;34m.\u001b[0m\u001b[0mv_proj\u001b[0m\u001b[0;34m(\u001b[0m\u001b[0mhidden_states\u001b[0m\u001b[0;34m)\u001b[0m\u001b[0;34m.\u001b[0m\u001b[0mview\u001b[0m\u001b[0;34m(\u001b[0m\u001b[0mhidden_shape\u001b[0m\u001b[0;34m)\u001b[0m\u001b[0;34m.\u001b[0m\u001b[0mtranspose\u001b[0m\u001b[0;34m(\u001b[0m\u001b[0;36m1\u001b[0m\u001b[0;34m,\u001b[0m \u001b[0;36m2\u001b[0m\u001b[0;34m)\u001b[0m\u001b[0;34m\u001b[0m\u001b[0;34m\u001b[0m\u001b[0m\n",
            "\u001b[0;32m/usr/local/lib/python3.11/dist-packages/torch/nn/modules/module.py\u001b[0m in \u001b[0;36m_wrapped_call_impl\u001b[0;34m(self, *args, **kwargs)\u001b[0m\n\u001b[1;32m   1737\u001b[0m             \u001b[0;32mreturn\u001b[0m \u001b[0mself\u001b[0m\u001b[0;34m.\u001b[0m\u001b[0m_compiled_call_impl\u001b[0m\u001b[0;34m(\u001b[0m\u001b[0;34m*\u001b[0m\u001b[0margs\u001b[0m\u001b[0;34m,\u001b[0m \u001b[0;34m**\u001b[0m\u001b[0mkwargs\u001b[0m\u001b[0;34m)\u001b[0m  \u001b[0;31m# type: ignore[misc]\u001b[0m\u001b[0;34m\u001b[0m\u001b[0;34m\u001b[0m\u001b[0m\n\u001b[1;32m   1738\u001b[0m         \u001b[0;32melse\u001b[0m\u001b[0;34m:\u001b[0m\u001b[0;34m\u001b[0m\u001b[0;34m\u001b[0m\u001b[0m\n\u001b[0;32m-> 1739\u001b[0;31m             \u001b[0;32mreturn\u001b[0m \u001b[0mself\u001b[0m\u001b[0;34m.\u001b[0m\u001b[0m_call_impl\u001b[0m\u001b[0;34m(\u001b[0m\u001b[0;34m*\u001b[0m\u001b[0margs\u001b[0m\u001b[0;34m,\u001b[0m \u001b[0;34m**\u001b[0m\u001b[0mkwargs\u001b[0m\u001b[0;34m)\u001b[0m\u001b[0;34m\u001b[0m\u001b[0;34m\u001b[0m\u001b[0m\n\u001b[0m\u001b[1;32m   1740\u001b[0m \u001b[0;34m\u001b[0m\u001b[0m\n\u001b[1;32m   1741\u001b[0m     \u001b[0;31m# torchrec tests the code consistency with the following code\u001b[0m\u001b[0;34m\u001b[0m\u001b[0;34m\u001b[0m\u001b[0m\n",
            "\u001b[0;32m/usr/local/lib/python3.11/dist-packages/torch/nn/modules/module.py\u001b[0m in \u001b[0;36m_call_impl\u001b[0;34m(self, *args, **kwargs)\u001b[0m\n\u001b[1;32m   1748\u001b[0m                 \u001b[0;32mor\u001b[0m \u001b[0m_global_backward_pre_hooks\u001b[0m \u001b[0;32mor\u001b[0m \u001b[0m_global_backward_hooks\u001b[0m\u001b[0;34m\u001b[0m\u001b[0;34m\u001b[0m\u001b[0m\n\u001b[1;32m   1749\u001b[0m                 or _global_forward_hooks or _global_forward_pre_hooks):\n\u001b[0;32m-> 1750\u001b[0;31m             \u001b[0;32mreturn\u001b[0m \u001b[0mforward_call\u001b[0m\u001b[0;34m(\u001b[0m\u001b[0;34m*\u001b[0m\u001b[0margs\u001b[0m\u001b[0;34m,\u001b[0m \u001b[0;34m**\u001b[0m\u001b[0mkwargs\u001b[0m\u001b[0;34m)\u001b[0m\u001b[0;34m\u001b[0m\u001b[0;34m\u001b[0m\u001b[0m\n\u001b[0m\u001b[1;32m   1751\u001b[0m \u001b[0;34m\u001b[0m\u001b[0m\n\u001b[1;32m   1752\u001b[0m         \u001b[0mresult\u001b[0m \u001b[0;34m=\u001b[0m \u001b[0;32mNone\u001b[0m\u001b[0;34m\u001b[0m\u001b[0;34m\u001b[0m\u001b[0m\n",
            "\u001b[0;32m/usr/local/lib/python3.11/dist-packages/peft/tuners/lora/bnb.py\u001b[0m in \u001b[0;36mforward\u001b[0;34m(self, x, *args, **kwargs)\u001b[0m\n\u001b[1;32m    494\u001b[0m                 \u001b[0mresult\u001b[0m \u001b[0;34m=\u001b[0m \u001b[0mself\u001b[0m\u001b[0;34m.\u001b[0m\u001b[0mbase_layer\u001b[0m\u001b[0;34m(\u001b[0m\u001b[0mx\u001b[0m\u001b[0;34m,\u001b[0m \u001b[0;34m*\u001b[0m\u001b[0margs\u001b[0m\u001b[0;34m,\u001b[0m \u001b[0;34m**\u001b[0m\u001b[0mkwargs\u001b[0m\u001b[0;34m)\u001b[0m\u001b[0;34m\u001b[0m\u001b[0;34m\u001b[0m\u001b[0m\n\u001b[1;32m    495\u001b[0m             \u001b[0;32melse\u001b[0m\u001b[0;34m:\u001b[0m\u001b[0;34m\u001b[0m\u001b[0;34m\u001b[0m\u001b[0m\n\u001b[0;32m--> 496\u001b[0;31m                 \u001b[0mresult\u001b[0m \u001b[0;34m=\u001b[0m \u001b[0mself\u001b[0m\u001b[0;34m.\u001b[0m\u001b[0mbase_layer\u001b[0m\u001b[0;34m(\u001b[0m\u001b[0mx\u001b[0m\u001b[0;34m,\u001b[0m \u001b[0;34m*\u001b[0m\u001b[0margs\u001b[0m\u001b[0;34m,\u001b[0m \u001b[0;34m**\u001b[0m\u001b[0mkwargs\u001b[0m\u001b[0;34m)\u001b[0m\u001b[0;34m\u001b[0m\u001b[0;34m\u001b[0m\u001b[0m\n\u001b[0m\u001b[1;32m    497\u001b[0m                 \u001b[0;31m# As per Tim Dettmers, for 4bit, we need to defensively clone here.\u001b[0m\u001b[0;34m\u001b[0m\u001b[0;34m\u001b[0m\u001b[0m\n\u001b[1;32m    498\u001b[0m                 \u001b[0;31m# The reason is that in some cases, an error can occur that backprop\u001b[0m\u001b[0;34m\u001b[0m\u001b[0;34m\u001b[0m\u001b[0m\n",
            "\u001b[0;32m/usr/local/lib/python3.11/dist-packages/torch/nn/modules/module.py\u001b[0m in \u001b[0;36m_wrapped_call_impl\u001b[0;34m(self, *args, **kwargs)\u001b[0m\n\u001b[1;32m   1737\u001b[0m             \u001b[0;32mreturn\u001b[0m \u001b[0mself\u001b[0m\u001b[0;34m.\u001b[0m\u001b[0m_compiled_call_impl\u001b[0m\u001b[0;34m(\u001b[0m\u001b[0;34m*\u001b[0m\u001b[0margs\u001b[0m\u001b[0;34m,\u001b[0m \u001b[0;34m**\u001b[0m\u001b[0mkwargs\u001b[0m\u001b[0;34m)\u001b[0m  \u001b[0;31m# type: ignore[misc]\u001b[0m\u001b[0;34m\u001b[0m\u001b[0;34m\u001b[0m\u001b[0m\n\u001b[1;32m   1738\u001b[0m         \u001b[0;32melse\u001b[0m\u001b[0;34m:\u001b[0m\u001b[0;34m\u001b[0m\u001b[0;34m\u001b[0m\u001b[0m\n\u001b[0;32m-> 1739\u001b[0;31m             \u001b[0;32mreturn\u001b[0m \u001b[0mself\u001b[0m\u001b[0;34m.\u001b[0m\u001b[0m_call_impl\u001b[0m\u001b[0;34m(\u001b[0m\u001b[0;34m*\u001b[0m\u001b[0margs\u001b[0m\u001b[0;34m,\u001b[0m \u001b[0;34m**\u001b[0m\u001b[0mkwargs\u001b[0m\u001b[0;34m)\u001b[0m\u001b[0;34m\u001b[0m\u001b[0;34m\u001b[0m\u001b[0m\n\u001b[0m\u001b[1;32m   1740\u001b[0m \u001b[0;34m\u001b[0m\u001b[0m\n\u001b[1;32m   1741\u001b[0m     \u001b[0;31m# torchrec tests the code consistency with the following code\u001b[0m\u001b[0;34m\u001b[0m\u001b[0;34m\u001b[0m\u001b[0m\n",
            "\u001b[0;32m/usr/local/lib/python3.11/dist-packages/torch/nn/modules/module.py\u001b[0m in \u001b[0;36m_call_impl\u001b[0;34m(self, *args, **kwargs)\u001b[0m\n\u001b[1;32m   1748\u001b[0m                 \u001b[0;32mor\u001b[0m \u001b[0m_global_backward_pre_hooks\u001b[0m \u001b[0;32mor\u001b[0m \u001b[0m_global_backward_hooks\u001b[0m\u001b[0;34m\u001b[0m\u001b[0;34m\u001b[0m\u001b[0m\n\u001b[1;32m   1749\u001b[0m                 or _global_forward_hooks or _global_forward_pre_hooks):\n\u001b[0;32m-> 1750\u001b[0;31m             \u001b[0;32mreturn\u001b[0m \u001b[0mforward_call\u001b[0m\u001b[0;34m(\u001b[0m\u001b[0;34m*\u001b[0m\u001b[0margs\u001b[0m\u001b[0;34m,\u001b[0m \u001b[0;34m**\u001b[0m\u001b[0mkwargs\u001b[0m\u001b[0;34m)\u001b[0m\u001b[0;34m\u001b[0m\u001b[0;34m\u001b[0m\u001b[0m\n\u001b[0m\u001b[1;32m   1751\u001b[0m \u001b[0;34m\u001b[0m\u001b[0m\n\u001b[1;32m   1752\u001b[0m         \u001b[0mresult\u001b[0m \u001b[0;34m=\u001b[0m \u001b[0;32mNone\u001b[0m\u001b[0;34m\u001b[0m\u001b[0;34m\u001b[0m\u001b[0m\n",
            "\u001b[0;32m/usr/local/lib/python3.11/dist-packages/bitsandbytes/nn/modules.py\u001b[0m in \u001b[0;36mforward\u001b[0;34m(self, x)\u001b[0m\n\u001b[1;32m    482\u001b[0m         \u001b[0mbias\u001b[0m \u001b[0;34m=\u001b[0m \u001b[0;32mNone\u001b[0m \u001b[0;32mif\u001b[0m \u001b[0mself\u001b[0m\u001b[0;34m.\u001b[0m\u001b[0mbias\u001b[0m \u001b[0;32mis\u001b[0m \u001b[0;32mNone\u001b[0m \u001b[0;32melse\u001b[0m \u001b[0mself\u001b[0m\u001b[0;34m.\u001b[0m\u001b[0mbias\u001b[0m\u001b[0;34m.\u001b[0m\u001b[0mto\u001b[0m\u001b[0;34m(\u001b[0m\u001b[0mself\u001b[0m\u001b[0;34m.\u001b[0m\u001b[0mcompute_dtype\u001b[0m\u001b[0;34m)\u001b[0m\u001b[0;34m\u001b[0m\u001b[0;34m\u001b[0m\u001b[0m\n\u001b[1;32m    483\u001b[0m \u001b[0;34m\u001b[0m\u001b[0m\n\u001b[0;32m--> 484\u001b[0;31m         \u001b[0;32mreturn\u001b[0m \u001b[0mbnb\u001b[0m\u001b[0;34m.\u001b[0m\u001b[0mmatmul_4bit\u001b[0m\u001b[0;34m(\u001b[0m\u001b[0mx\u001b[0m\u001b[0;34m,\u001b[0m \u001b[0mself\u001b[0m\u001b[0;34m.\u001b[0m\u001b[0mweight\u001b[0m\u001b[0;34m.\u001b[0m\u001b[0mt\u001b[0m\u001b[0;34m(\u001b[0m\u001b[0;34m)\u001b[0m\u001b[0;34m,\u001b[0m \u001b[0mbias\u001b[0m\u001b[0;34m=\u001b[0m\u001b[0mbias\u001b[0m\u001b[0;34m,\u001b[0m \u001b[0mquant_state\u001b[0m\u001b[0;34m=\u001b[0m\u001b[0mself\u001b[0m\u001b[0;34m.\u001b[0m\u001b[0mweight\u001b[0m\u001b[0;34m.\u001b[0m\u001b[0mquant_state\u001b[0m\u001b[0;34m)\u001b[0m\u001b[0;34m.\u001b[0m\u001b[0mto\u001b[0m\u001b[0;34m(\u001b[0m\u001b[0minp_dtype\u001b[0m\u001b[0;34m)\u001b[0m\u001b[0;34m\u001b[0m\u001b[0;34m\u001b[0m\u001b[0m\n\u001b[0m\u001b[1;32m    485\u001b[0m \u001b[0;34m\u001b[0m\u001b[0m\n\u001b[1;32m    486\u001b[0m \u001b[0;34m\u001b[0m\u001b[0m\n",
            "\u001b[0;31mOutOfMemoryError\u001b[0m: CUDA out of memory. Tried to allocate 64.00 MiB. GPU 0 has a total capacity of 14.74 GiB of which 52.12 MiB is free. Process 2853 has 14.69 GiB memory in use. Of the allocated memory 14.44 GiB is allocated by PyTorch, and 120.91 MiB is reserved by PyTorch but unallocated. If reserved but unallocated memory is large try setting PYTORCH_CUDA_ALLOC_CONF=expandable_segments:True to avoid fragmentation.  See documentation for Memory Management  (https://pytorch.org/docs/stable/notes/cuda.html#environment-variables)"
          ]
        }
      ],
      "source": [
        "# Entrenar en bloques de num_epochs_bloque épocas\n",
        "for block in range(1, (num_epochs // num_epochs_bloque) + 1):\n",
        "    print(f\"Entrenando bloque {block} de {num_epochs_bloque} épocas...\")\n",
        "    trainer.train()\n",
        "\n",
        "    # Guardar cada 2 bloques\n",
        "    if block % 2 == 0:\n",
        "        checkpoint_dir = (\n",
        "            f\"/content/drive/MyDrive/Colab Notebooks/Talleres/LLMs/models_checks/\"\n",
        "            f\"{model_shorts[i_model]}_prompt{i_prompt}_{num_epochs}_epoch{block * 10}_{metodo2}\"\n",
        "        )\n",
        "        trainer.model.save_pretrained(checkpoint_dir)\n",
        "        tokenizer.save_pretrained(checkpoint_dir)\n",
        "        print(f\"Modelo temporal guardado en: {checkpoint_dir}\")"
      ]
    },
    {
      "cell_type": "code",
      "execution_count": null,
      "id": "BIHKa6DugCrB",
      "metadata": {
        "id": "BIHKa6DugCrB"
      },
      "outputs": [],
      "source": [
        "# Guardar el modelo final\n",
        "final_model_dir = f\"/content/drive/MyDrive/Colab Notebooks/Talleres/LLMs/models/{model_shorts[i_model]}_prompt{i_prompt}_{num_epochs}_{metodo2}\"\n",
        "trainer.model.save_pretrained(final_model_dir)\n",
        "tokenizer.save_pretrained(final_model_dir)\n",
        "\n",
        "print(f\"Modelo final guardado en: {final_model_dir}\")"
      ]
    },
    {
      "cell_type": "code",
      "execution_count": null,
      "id": "ABepZhFf53Bg",
      "metadata": {
        "id": "ABepZhFf53Bg"
      },
      "outputs": [],
      "source": [
        "# # Cargar modelo entrenado\n",
        "# model_path = f\"/content/drive/MyDrive/Colab Notebooks/Talleres/LLMs/models/{model_shorts[i_model]}_prompt{i_prompt}_{metodo1}\"\n",
        "# model = AutoModelForCausalLM.from_pretrained(model_path, device_map=\"auto\")"
      ]
    },
    {
      "cell_type": "code",
      "execution_count": null,
      "id": "rLQzTDM1tHV2",
      "metadata": {
        "id": "rLQzTDM1tHV2"
      },
      "outputs": [],
      "source": [
        "torch.cuda.empty_cache()"
      ]
    },
    {
      "cell_type": "markdown",
      "id": "ed65262d",
      "metadata": {
        "id": "ed65262d"
      },
      "source": [
        "#### Predicción final"
      ]
    },
    {
      "cell_type": "code",
      "execution_count": null,
      "id": "2f52b4dc",
      "metadata": {
        "id": "2f52b4dc",
        "scrolled": true
      },
      "outputs": [],
      "source": [
        "# Predicción después del entrenamiento\n",
        "Y_pred = predict(test_data, model, tokenizer)\n",
        "\n",
        "# Guardar resultados en archivo CSV\n",
        "predictions = pd.DataFrame({'label': test_df[campo_texto],\n",
        "                           'Y_true': test_df[campo_etiqueta],\n",
        "                           'Y_pred': Y_pred})\n",
        "\n",
        "predictions.to_csv(f\"/content/drive/MyDrive/Colab Notebooks/Talleres/LLMs/preds/test_predictions_{model_shorts[i_model]}_prompt{i_prompt}_{num_epochs}.csv\", index=False)"
      ]
    },
    {
      "cell_type": "markdown",
      "id": "20298501",
      "metadata": {
        "id": "20298501"
      },
      "source": [
        "#### Evaluación de las predicciones"
      ]
    },
    {
      "cell_type": "code",
      "execution_count": null,
      "id": "4a1d55c9",
      "metadata": {
        "id": "4a1d55c9",
        "scrolled": true
      },
      "outputs": [],
      "source": [
        "# Evaluar predicciones y obtener las métricas\n",
        "metrics = evaluate(Y_true, Y_pred, metodo2)"
      ]
    },
    {
      "cell_type": "markdown",
      "id": "2a24a840",
      "metadata": {
        "id": "2a24a840"
      },
      "source": [
        "#### Grabado de las evaluaciones"
      ]
    },
    {
      "cell_type": "code",
      "execution_count": null,
      "id": "22086732",
      "metadata": {
        "id": "22086732"
      },
      "outputs": [],
      "source": [
        "results_file = \"/content/drive/MyDrive/Colab Notebooks/Talleres/LLMs/resultados.csv\"\n",
        "\n",
        "# Comprobar si el archivo existe\n",
        "if os.path.exists(results_file):\n",
        "    # Si existe, cargar el CSV existente\n",
        "    df_results = pd.read_csv(results_file)\n",
        "else:\n",
        "    # Si no existe, crear un DataFrame vacío\n",
        "    df_results = pd.DataFrame(columns=['i_prompt', 'model', 'epochs', 'accuracy', 'precision_si', 'recall_si',\n",
        "                                       'f1_score_si', 'support_si', 'precision_no', 'recall_no',\n",
        "                                       'f1_score_no', 'support_no', 'TN', 'FP', 'FN', 'TP', 'roc_auc'])\n",
        "\n",
        "# Crear una fila con las métricas y la información adicional\n",
        "fila = {\n",
        "    'i_prompt': i_prompt,\n",
        "    'model': model_name,\n",
        "    'epochs': num_epochs,\n",
        "    'accuracy': metrics['accuracy'],\n",
        "    'precision_si': metrics['precision_1'],\n",
        "    'recall_si': metrics['recall_1'],\n",
        "    'f1_score_si': metrics['f1_score_1'],\n",
        "    'support_si': metrics['support_1'],\n",
        "    'precision_no': metrics['precision_0'],\n",
        "    'recall_no': metrics['recall_0'],\n",
        "    'f1_score_no': metrics['f1_score_0'],\n",
        "    'support_no': metrics['support_0'],\n",
        "    'TN': metrics['TN'],\n",
        "    'FP': metrics['FP'],\n",
        "    'FN': metrics['FN'],\n",
        "    'TP': metrics['TP'],\n",
        "    'roc_auc': metrics['roc_auc']\n",
        "}\n",
        "\n",
        "# Agregar la fila al DataFrame\n",
        "df_results = pd.concat([df_results, pd.DataFrame([fila])], ignore_index=True)\n",
        "\n",
        "# Guardar el DataFrame actualizado de nuevo en el archivo CSV\n",
        "df_results.to_csv(results_file, index=False)\n",
        "\n",
        "print(f\"Métricas guardadas correctamente en {results_file}\")"
      ]
    }
  ],
  "metadata": {
    "accelerator": "GPU",
    "colab": {
      "gpuType": "T4",
      "provenance": []
    },
    "kernelspec": {
      "display_name": "cudaenv",
      "language": "python",
      "name": "python3"
    },
    "language_info": {
      "codemirror_mode": {
        "name": "ipython",
        "version": 3
      },
      "file_extension": ".py",
      "mimetype": "text/x-python",
      "name": "python",
      "nbconvert_exporter": "python",
      "pygments_lexer": "ipython3",
      "version": "3.11.5"
    },
    "widgets": {
      "application/vnd.jupyter.widget-state+json": {
        "019adcdbe829458f99e82632ed1f8baf": {
          "model_module": "@jupyter-widgets/controls",
          "model_module_version": "1.5.0",
          "model_name": "HTMLModel",
          "state": {
            "_dom_classes": [],
            "_model_module": "@jupyter-widgets/controls",
            "_model_module_version": "1.5.0",
            "_model_name": "HTMLModel",
            "_view_count": null,
            "_view_module": "@jupyter-widgets/controls",
            "_view_module_version": "1.5.0",
            "_view_name": "HTMLView",
            "description": "",
            "description_tooltip": null,
            "layout": "IPY_MODEL_d002d11606634c11849464632ba8c2fc",
            "placeholder": "​",
            "style": "IPY_MODEL_3f18da0f5139407fa1fb6024738612a5",
            "value": " 376/376 [00:00&lt;00:00, 8481.91 examples/s]"
          }
        },
        "0266023bb2d1438a97cfe7643255db27": {
          "model_module": "@jupyter-widgets/controls",
          "model_module_version": "1.5.0",
          "model_name": "HTMLModel",
          "state": {
            "_dom_classes": [],
            "_model_module": "@jupyter-widgets/controls",
            "_model_module_version": "1.5.0",
            "_model_name": "HTMLModel",
            "_view_count": null,
            "_view_module": "@jupyter-widgets/controls",
            "_view_module_version": "1.5.0",
            "_view_name": "HTMLView",
            "description": "",
            "description_tooltip": null,
            "layout": "IPY_MODEL_49466651e4a147f082abb3ac0892748f",
            "placeholder": "​",
            "style": "IPY_MODEL_0bc11b5a67d544fea8fe03a8da58b8c1",
            "value": " 877/877 [00:00&lt;00:00, 38.7kB/s]"
          }
        },
        "02ab853ed1354ca984136b96c6f131d7": {
          "model_module": "@jupyter-widgets/controls",
          "model_module_version": "1.5.0",
          "model_name": "DescriptionStyleModel",
          "state": {
            "_model_module": "@jupyter-widgets/controls",
            "_model_module_version": "1.5.0",
            "_model_name": "DescriptionStyleModel",
            "_view_count": null,
            "_view_module": "@jupyter-widgets/base",
            "_view_module_version": "1.2.0",
            "_view_name": "StyleView",
            "description_width": ""
          }
        },
        "04f03026d55c434aabaa565a7e84ceab": {
          "model_module": "@jupyter-widgets/controls",
          "model_module_version": "1.5.0",
          "model_name": "HTMLModel",
          "state": {
            "_dom_classes": [],
            "_model_module": "@jupyter-widgets/controls",
            "_model_module_version": "1.5.0",
            "_model_name": "HTMLModel",
            "_view_count": null,
            "_view_module": "@jupyter-widgets/controls",
            "_view_module_version": "1.5.0",
            "_view_name": "HTMLView",
            "description": "",
            "description_tooltip": null,
            "layout": "IPY_MODEL_ca90b102c1944ccda6f458fad0f3f7df",
            "placeholder": "​",
            "style": "IPY_MODEL_4cefcff109bf45a6893ee9f1fc87c32f",
            "value": " 376/376 [00:00&lt;00:00, 9214.32 examples/s]"
          }
        },
        "09a514818f324cfda3c58ab7762c75a8": {
          "model_module": "@jupyter-widgets/controls",
          "model_module_version": "1.5.0",
          "model_name": "HTMLModel",
          "state": {
            "_dom_classes": [],
            "_model_module": "@jupyter-widgets/controls",
            "_model_module_version": "1.5.0",
            "_model_name": "HTMLModel",
            "_view_count": null,
            "_view_module": "@jupyter-widgets/controls",
            "_view_module_version": "1.5.0",
            "_view_name": "HTMLView",
            "description": "",
            "description_tooltip": null,
            "layout": "IPY_MODEL_f6e9e10b74b946faa9b18036ceb09ee1",
            "placeholder": "​",
            "style": "IPY_MODEL_d5e8e7f6f41b4c909e3b5e427dc91bba",
            "value": "Converting train dataset to ChatML: 100%"
          }
        },
        "09e020f8be734571956a0ee25734739d": {
          "model_module": "@jupyter-widgets/controls",
          "model_module_version": "1.5.0",
          "model_name": "FloatProgressModel",
          "state": {
            "_dom_classes": [],
            "_model_module": "@jupyter-widgets/controls",
            "_model_module_version": "1.5.0",
            "_model_name": "FloatProgressModel",
            "_view_count": null,
            "_view_module": "@jupyter-widgets/controls",
            "_view_module_version": "1.5.0",
            "_view_name": "ProgressView",
            "bar_style": "success",
            "description": "",
            "description_tooltip": null,
            "layout": "IPY_MODEL_853de05d09714907bdd67bea6bb76b17",
            "max": 1755,
            "min": 0,
            "orientation": "horizontal",
            "style": "IPY_MODEL_a039827612bd4352a5bd5ea70c3594cf",
            "value": 1755
          }
        },
        "0bc11b5a67d544fea8fe03a8da58b8c1": {
          "model_module": "@jupyter-widgets/controls",
          "model_module_version": "1.5.0",
          "model_name": "DescriptionStyleModel",
          "state": {
            "_model_module": "@jupyter-widgets/controls",
            "_model_module_version": "1.5.0",
            "_model_name": "DescriptionStyleModel",
            "_view_count": null,
            "_view_module": "@jupyter-widgets/base",
            "_view_module_version": "1.2.0",
            "_view_name": "StyleView",
            "description_width": ""
          }
        },
        "0deb1508b6da4d2d9753260dc77903b3": {
          "model_module": "@jupyter-widgets/controls",
          "model_module_version": "1.5.0",
          "model_name": "HBoxModel",
          "state": {
            "_dom_classes": [],
            "_model_module": "@jupyter-widgets/controls",
            "_model_module_version": "1.5.0",
            "_model_name": "HBoxModel",
            "_view_count": null,
            "_view_module": "@jupyter-widgets/controls",
            "_view_module_version": "1.5.0",
            "_view_name": "HBoxView",
            "box_style": "",
            "children": [
              "IPY_MODEL_09a514818f324cfda3c58ab7762c75a8",
              "IPY_MODEL_09e020f8be734571956a0ee25734739d",
              "IPY_MODEL_d8a0b45062ea470eb6f0e58ab49501f0"
            ],
            "layout": "IPY_MODEL_13b4fa3474534a6eada0dc4f52cdb0b9"
          }
        },
        "0e08aa9c03b74dfdb30e835cbc1ed6b8": {
          "model_module": "@jupyter-widgets/controls",
          "model_module_version": "1.5.0",
          "model_name": "HBoxModel",
          "state": {
            "_dom_classes": [],
            "_model_module": "@jupyter-widgets/controls",
            "_model_module_version": "1.5.0",
            "_model_name": "HBoxModel",
            "_view_count": null,
            "_view_module": "@jupyter-widgets/controls",
            "_view_module_version": "1.5.0",
            "_view_name": "HBoxView",
            "box_style": "",
            "children": [
              "IPY_MODEL_e8a2c656acc842ccafd5f4a1c640bece",
              "IPY_MODEL_da03391ecb444f3a845dd1dfa8a90e5b",
              "IPY_MODEL_6429a66ba75b4c48811ff2ef857abb65"
            ],
            "layout": "IPY_MODEL_9ae6c75945914142b5b32971b25fff40"
          }
        },
        "10dee1ce08cd4cb294df3677f9ee6107": {
          "model_module": "@jupyter-widgets/base",
          "model_module_version": "1.2.0",
          "model_name": "LayoutModel",
          "state": {
            "_model_module": "@jupyter-widgets/base",
            "_model_module_version": "1.2.0",
            "_model_name": "LayoutModel",
            "_view_count": null,
            "_view_module": "@jupyter-widgets/base",
            "_view_module_version": "1.2.0",
            "_view_name": "LayoutView",
            "align_content": null,
            "align_items": null,
            "align_self": null,
            "border": null,
            "bottom": null,
            "display": null,
            "flex": null,
            "flex_flow": null,
            "grid_area": null,
            "grid_auto_columns": null,
            "grid_auto_flow": null,
            "grid_auto_rows": null,
            "grid_column": null,
            "grid_gap": null,
            "grid_row": null,
            "grid_template_areas": null,
            "grid_template_columns": null,
            "grid_template_rows": null,
            "height": null,
            "justify_content": null,
            "justify_items": null,
            "left": null,
            "margin": null,
            "max_height": null,
            "max_width": null,
            "min_height": null,
            "min_width": null,
            "object_fit": null,
            "object_position": null,
            "order": null,
            "overflow": null,
            "overflow_x": null,
            "overflow_y": null,
            "padding": null,
            "right": null,
            "top": null,
            "visibility": null,
            "width": null
          }
        },
        "12ae927f47ad4942a82c70eec937e95a": {
          "model_module": "@jupyter-widgets/controls",
          "model_module_version": "1.5.0",
          "model_name": "DescriptionStyleModel",
          "state": {
            "_model_module": "@jupyter-widgets/controls",
            "_model_module_version": "1.5.0",
            "_model_name": "DescriptionStyleModel",
            "_view_count": null,
            "_view_module": "@jupyter-widgets/base",
            "_view_module_version": "1.2.0",
            "_view_name": "StyleView",
            "description_width": ""
          }
        },
        "12feeefaef084250bfb97a3b25766435": {
          "model_module": "@jupyter-widgets/controls",
          "model_module_version": "1.5.0",
          "model_name": "DescriptionStyleModel",
          "state": {
            "_model_module": "@jupyter-widgets/controls",
            "_model_module_version": "1.5.0",
            "_model_name": "DescriptionStyleModel",
            "_view_count": null,
            "_view_module": "@jupyter-widgets/base",
            "_view_module_version": "1.2.0",
            "_view_name": "StyleView",
            "description_width": ""
          }
        },
        "12ff8e823c9b425bbd31492783f738b7": {
          "model_module": "@jupyter-widgets/controls",
          "model_module_version": "1.5.0",
          "model_name": "HTMLModel",
          "state": {
            "_dom_classes": [],
            "_model_module": "@jupyter-widgets/controls",
            "_model_module_version": "1.5.0",
            "_model_name": "HTMLModel",
            "_view_count": null,
            "_view_module": "@jupyter-widgets/controls",
            "_view_module_version": "1.5.0",
            "_view_name": "HTMLView",
            "description": "",
            "description_tooltip": null,
            "layout": "IPY_MODEL_54898ec8af3940e4888f039a0405d659",
            "placeholder": "​",
            "style": "IPY_MODEL_cf91550575d844d592d685244a47da88",
            "value": " 2.47G/2.47G [00:16&lt;00:00, 252MB/s]"
          }
        },
        "13b4fa3474534a6eada0dc4f52cdb0b9": {
          "model_module": "@jupyter-widgets/base",
          "model_module_version": "1.2.0",
          "model_name": "LayoutModel",
          "state": {
            "_model_module": "@jupyter-widgets/base",
            "_model_module_version": "1.2.0",
            "_model_name": "LayoutModel",
            "_view_count": null,
            "_view_module": "@jupyter-widgets/base",
            "_view_module_version": "1.2.0",
            "_view_name": "LayoutView",
            "align_content": null,
            "align_items": null,
            "align_self": null,
            "border": null,
            "bottom": null,
            "display": null,
            "flex": null,
            "flex_flow": null,
            "grid_area": null,
            "grid_auto_columns": null,
            "grid_auto_flow": null,
            "grid_auto_rows": null,
            "grid_column": null,
            "grid_gap": null,
            "grid_row": null,
            "grid_template_areas": null,
            "grid_template_columns": null,
            "grid_template_rows": null,
            "height": null,
            "justify_content": null,
            "justify_items": null,
            "left": null,
            "margin": null,
            "max_height": null,
            "max_width": null,
            "min_height": null,
            "min_width": null,
            "object_fit": null,
            "object_position": null,
            "order": null,
            "overflow": null,
            "overflow_x": null,
            "overflow_y": null,
            "padding": null,
            "right": null,
            "top": null,
            "visibility": null,
            "width": null
          }
        },
        "1443621a77de461abbf3ad89ffcdc464": {
          "model_module": "@jupyter-widgets/controls",
          "model_module_version": "1.5.0",
          "model_name": "FloatProgressModel",
          "state": {
            "_dom_classes": [],
            "_model_module": "@jupyter-widgets/controls",
            "_model_module_version": "1.5.0",
            "_model_name": "FloatProgressModel",
            "_view_count": null,
            "_view_module": "@jupyter-widgets/controls",
            "_view_module_version": "1.5.0",
            "_view_name": "ProgressView",
            "bar_style": "success",
            "description": "",
            "description_tooltip": null,
            "layout": "IPY_MODEL_bf815939bd5640e183e2c158c69d3f87",
            "max": 1755,
            "min": 0,
            "orientation": "horizontal",
            "style": "IPY_MODEL_56ebbfdc7b4645c1beb8df9d1b4e6b74",
            "value": 1755
          }
        },
        "1501cd7e027e4583916b23990b57b423": {
          "model_module": "@jupyter-widgets/base",
          "model_module_version": "1.2.0",
          "model_name": "LayoutModel",
          "state": {
            "_model_module": "@jupyter-widgets/base",
            "_model_module_version": "1.2.0",
            "_model_name": "LayoutModel",
            "_view_count": null,
            "_view_module": "@jupyter-widgets/base",
            "_view_module_version": "1.2.0",
            "_view_name": "LayoutView",
            "align_content": null,
            "align_items": null,
            "align_self": null,
            "border": null,
            "bottom": null,
            "display": null,
            "flex": null,
            "flex_flow": null,
            "grid_area": null,
            "grid_auto_columns": null,
            "grid_auto_flow": null,
            "grid_auto_rows": null,
            "grid_column": null,
            "grid_gap": null,
            "grid_row": null,
            "grid_template_areas": null,
            "grid_template_columns": null,
            "grid_template_rows": null,
            "height": null,
            "justify_content": null,
            "justify_items": null,
            "left": null,
            "margin": null,
            "max_height": null,
            "max_width": null,
            "min_height": null,
            "min_width": null,
            "object_fit": null,
            "object_position": null,
            "order": null,
            "overflow": null,
            "overflow_x": null,
            "overflow_y": null,
            "padding": null,
            "right": null,
            "top": null,
            "visibility": null,
            "width": null
          }
        },
        "16c35715dbc049438a9132fca9dd6ff4": {
          "model_module": "@jupyter-widgets/controls",
          "model_module_version": "1.5.0",
          "model_name": "DescriptionStyleModel",
          "state": {
            "_model_module": "@jupyter-widgets/controls",
            "_model_module_version": "1.5.0",
            "_model_name": "DescriptionStyleModel",
            "_view_count": null,
            "_view_module": "@jupyter-widgets/base",
            "_view_module_version": "1.2.0",
            "_view_name": "StyleView",
            "description_width": ""
          }
        },
        "171d3f9319474ae7940ccf4332ef0a0a": {
          "model_module": "@jupyter-widgets/controls",
          "model_module_version": "1.5.0",
          "model_name": "HBoxModel",
          "state": {
            "_dom_classes": [],
            "_model_module": "@jupyter-widgets/controls",
            "_model_module_version": "1.5.0",
            "_model_name": "HBoxModel",
            "_view_count": null,
            "_view_module": "@jupyter-widgets/controls",
            "_view_module_version": "1.5.0",
            "_view_name": "HBoxView",
            "box_style": "",
            "children": [
              "IPY_MODEL_1894833d6543497381bb4cfac5f33f59",
              "IPY_MODEL_ff934f49322f41b698d0a4bddda7cb55",
              "IPY_MODEL_f27afcd6a6004754bce2f1f6fb2c2765"
            ],
            "layout": "IPY_MODEL_92fc215802d94525846f8720c19eb562"
          }
        },
        "1894833d6543497381bb4cfac5f33f59": {
          "model_module": "@jupyter-widgets/controls",
          "model_module_version": "1.5.0",
          "model_name": "HTMLModel",
          "state": {
            "_dom_classes": [],
            "_model_module": "@jupyter-widgets/controls",
            "_model_module_version": "1.5.0",
            "_model_name": "HTMLModel",
            "_view_count": null,
            "_view_module": "@jupyter-widgets/controls",
            "_view_module_version": "1.5.0",
            "_view_name": "HTMLView",
            "description": "",
            "description_tooltip": null,
            "layout": "IPY_MODEL_bd6a8b67d2e54a02a3b658dddab5ac69",
            "placeholder": "​",
            "style": "IPY_MODEL_3888a20537974a9185d2275ccc679152",
            "value": "Applying chat template to eval dataset: 100%"
          }
        },
        "1bbfe93e449340a789a29905542d5aef": {
          "model_module": "@jupyter-widgets/base",
          "model_module_version": "1.2.0",
          "model_name": "LayoutModel",
          "state": {
            "_model_module": "@jupyter-widgets/base",
            "_model_module_version": "1.2.0",
            "_model_name": "LayoutModel",
            "_view_count": null,
            "_view_module": "@jupyter-widgets/base",
            "_view_module_version": "1.2.0",
            "_view_name": "LayoutView",
            "align_content": null,
            "align_items": null,
            "align_self": null,
            "border": null,
            "bottom": null,
            "display": null,
            "flex": null,
            "flex_flow": null,
            "grid_area": null,
            "grid_auto_columns": null,
            "grid_auto_flow": null,
            "grid_auto_rows": null,
            "grid_column": null,
            "grid_gap": null,
            "grid_row": null,
            "grid_template_areas": null,
            "grid_template_columns": null,
            "grid_template_rows": null,
            "height": null,
            "justify_content": null,
            "justify_items": null,
            "left": null,
            "margin": null,
            "max_height": null,
            "max_width": null,
            "min_height": null,
            "min_width": null,
            "object_fit": null,
            "object_position": null,
            "order": null,
            "overflow": null,
            "overflow_x": null,
            "overflow_y": null,
            "padding": null,
            "right": null,
            "top": null,
            "visibility": null,
            "width": null
          }
        },
        "1bf60eba309a4bedbf064da1e150e269": {
          "model_module": "@jupyter-widgets/controls",
          "model_module_version": "1.5.0",
          "model_name": "DescriptionStyleModel",
          "state": {
            "_model_module": "@jupyter-widgets/controls",
            "_model_module_version": "1.5.0",
            "_model_name": "DescriptionStyleModel",
            "_view_count": null,
            "_view_module": "@jupyter-widgets/base",
            "_view_module_version": "1.2.0",
            "_view_name": "StyleView",
            "description_width": ""
          }
        },
        "1c211a08cdc043fcb22578d45a155fd6": {
          "model_module": "@jupyter-widgets/base",
          "model_module_version": "1.2.0",
          "model_name": "LayoutModel",
          "state": {
            "_model_module": "@jupyter-widgets/base",
            "_model_module_version": "1.2.0",
            "_model_name": "LayoutModel",
            "_view_count": null,
            "_view_module": "@jupyter-widgets/base",
            "_view_module_version": "1.2.0",
            "_view_name": "LayoutView",
            "align_content": null,
            "align_items": null,
            "align_self": null,
            "border": null,
            "bottom": null,
            "display": null,
            "flex": null,
            "flex_flow": null,
            "grid_area": null,
            "grid_auto_columns": null,
            "grid_auto_flow": null,
            "grid_auto_rows": null,
            "grid_column": null,
            "grid_gap": null,
            "grid_row": null,
            "grid_template_areas": null,
            "grid_template_columns": null,
            "grid_template_rows": null,
            "height": null,
            "justify_content": null,
            "justify_items": null,
            "left": null,
            "margin": null,
            "max_height": null,
            "max_width": null,
            "min_height": null,
            "min_width": null,
            "object_fit": null,
            "object_position": null,
            "order": null,
            "overflow": null,
            "overflow_x": null,
            "overflow_y": null,
            "padding": null,
            "right": null,
            "top": null,
            "visibility": null,
            "width": null
          }
        },
        "1c5796d355fe457885610ac1c8239a98": {
          "model_module": "@jupyter-widgets/base",
          "model_module_version": "1.2.0",
          "model_name": "LayoutModel",
          "state": {
            "_model_module": "@jupyter-widgets/base",
            "_model_module_version": "1.2.0",
            "_model_name": "LayoutModel",
            "_view_count": null,
            "_view_module": "@jupyter-widgets/base",
            "_view_module_version": "1.2.0",
            "_view_name": "LayoutView",
            "align_content": null,
            "align_items": null,
            "align_self": null,
            "border": null,
            "bottom": null,
            "display": null,
            "flex": null,
            "flex_flow": null,
            "grid_area": null,
            "grid_auto_columns": null,
            "grid_auto_flow": null,
            "grid_auto_rows": null,
            "grid_column": null,
            "grid_gap": null,
            "grid_row": null,
            "grid_template_areas": null,
            "grid_template_columns": null,
            "grid_template_rows": null,
            "height": null,
            "justify_content": null,
            "justify_items": null,
            "left": null,
            "margin": null,
            "max_height": null,
            "max_width": null,
            "min_height": null,
            "min_width": null,
            "object_fit": null,
            "object_position": null,
            "order": null,
            "overflow": null,
            "overflow_x": null,
            "overflow_y": null,
            "padding": null,
            "right": null,
            "top": null,
            "visibility": null,
            "width": null
          }
        },
        "1cffd1df6ce04c458046089a833a809f": {
          "model_module": "@jupyter-widgets/controls",
          "model_module_version": "1.5.0",
          "model_name": "FloatProgressModel",
          "state": {
            "_dom_classes": [],
            "_model_module": "@jupyter-widgets/controls",
            "_model_module_version": "1.5.0",
            "_model_name": "FloatProgressModel",
            "_view_count": null,
            "_view_module": "@jupyter-widgets/controls",
            "_view_module_version": "1.5.0",
            "_view_name": "ProgressView",
            "bar_style": "success",
            "description": "",
            "description_tooltip": null,
            "layout": "IPY_MODEL_e05c5f3a86a549f7a64718e73d8d2af2",
            "max": 1755,
            "min": 0,
            "orientation": "horizontal",
            "style": "IPY_MODEL_697bda19e23a48d5819ee8c9c397a3aa",
            "value": 1755
          }
        },
        "1d2269b28c2c4376a47114305039b5c6": {
          "model_module": "@jupyter-widgets/controls",
          "model_module_version": "1.5.0",
          "model_name": "HTMLModel",
          "state": {
            "_dom_classes": [],
            "_model_module": "@jupyter-widgets/controls",
            "_model_module_version": "1.5.0",
            "_model_name": "HTMLModel",
            "_view_count": null,
            "_view_module": "@jupyter-widgets/controls",
            "_view_module_version": "1.5.0",
            "_view_name": "HTMLView",
            "description": "",
            "description_tooltip": null,
            "layout": "IPY_MODEL_236b4a552ee84188bbd82a391b64d43c",
            "placeholder": "​",
            "style": "IPY_MODEL_3feb10a57ec2431a82aeb328e5946e5e",
            "value": "special_tokens_map.json: 100%"
          }
        },
        "1e79b04c4ff94bbd9ed896558a7ed167": {
          "model_module": "@jupyter-widgets/base",
          "model_module_version": "1.2.0",
          "model_name": "LayoutModel",
          "state": {
            "_model_module": "@jupyter-widgets/base",
            "_model_module_version": "1.2.0",
            "_model_name": "LayoutModel",
            "_view_count": null,
            "_view_module": "@jupyter-widgets/base",
            "_view_module_version": "1.2.0",
            "_view_name": "LayoutView",
            "align_content": null,
            "align_items": null,
            "align_self": null,
            "border": null,
            "bottom": null,
            "display": null,
            "flex": null,
            "flex_flow": null,
            "grid_area": null,
            "grid_auto_columns": null,
            "grid_auto_flow": null,
            "grid_auto_rows": null,
            "grid_column": null,
            "grid_gap": null,
            "grid_row": null,
            "grid_template_areas": null,
            "grid_template_columns": null,
            "grid_template_rows": null,
            "height": null,
            "justify_content": null,
            "justify_items": null,
            "left": null,
            "margin": null,
            "max_height": null,
            "max_width": null,
            "min_height": null,
            "min_width": null,
            "object_fit": null,
            "object_position": null,
            "order": null,
            "overflow": null,
            "overflow_x": null,
            "overflow_y": null,
            "padding": null,
            "right": null,
            "top": null,
            "visibility": null,
            "width": null
          }
        },
        "20de3547aed648f5883131fdb9170653": {
          "model_module": "@jupyter-widgets/base",
          "model_module_version": "1.2.0",
          "model_name": "LayoutModel",
          "state": {
            "_model_module": "@jupyter-widgets/base",
            "_model_module_version": "1.2.0",
            "_model_name": "LayoutModel",
            "_view_count": null,
            "_view_module": "@jupyter-widgets/base",
            "_view_module_version": "1.2.0",
            "_view_name": "LayoutView",
            "align_content": null,
            "align_items": null,
            "align_self": null,
            "border": null,
            "bottom": null,
            "display": null,
            "flex": null,
            "flex_flow": null,
            "grid_area": null,
            "grid_auto_columns": null,
            "grid_auto_flow": null,
            "grid_auto_rows": null,
            "grid_column": null,
            "grid_gap": null,
            "grid_row": null,
            "grid_template_areas": null,
            "grid_template_columns": null,
            "grid_template_rows": null,
            "height": null,
            "justify_content": null,
            "justify_items": null,
            "left": null,
            "margin": null,
            "max_height": null,
            "max_width": null,
            "min_height": null,
            "min_width": null,
            "object_fit": null,
            "object_position": null,
            "order": null,
            "overflow": null,
            "overflow_x": null,
            "overflow_y": null,
            "padding": null,
            "right": null,
            "top": null,
            "visibility": null,
            "width": null
          }
        },
        "20f23cdf3faf45ec9eae003d175cd67a": {
          "model_module": "@jupyter-widgets/controls",
          "model_module_version": "1.5.0",
          "model_name": "HBoxModel",
          "state": {
            "_dom_classes": [],
            "_model_module": "@jupyter-widgets/controls",
            "_model_module_version": "1.5.0",
            "_model_name": "HBoxModel",
            "_view_count": null,
            "_view_module": "@jupyter-widgets/controls",
            "_view_module_version": "1.5.0",
            "_view_name": "HBoxView",
            "box_style": "",
            "children": [
              "IPY_MODEL_28534f0d2d5741d38a0af90644d3a2f7",
              "IPY_MODEL_270343a60b374f0a8fbd3cf9b6c6a38d",
              "IPY_MODEL_0266023bb2d1438a97cfe7643255db27"
            ],
            "layout": "IPY_MODEL_1e79b04c4ff94bbd9ed896558a7ed167"
          }
        },
        "21ff2246632a4907953fa8fe9e1f0fd2": {
          "model_module": "@jupyter-widgets/controls",
          "model_module_version": "1.5.0",
          "model_name": "DescriptionStyleModel",
          "state": {
            "_model_module": "@jupyter-widgets/controls",
            "_model_module_version": "1.5.0",
            "_model_name": "DescriptionStyleModel",
            "_view_count": null,
            "_view_module": "@jupyter-widgets/base",
            "_view_module_version": "1.2.0",
            "_view_name": "StyleView",
            "description_width": ""
          }
        },
        "236b4a552ee84188bbd82a391b64d43c": {
          "model_module": "@jupyter-widgets/base",
          "model_module_version": "1.2.0",
          "model_name": "LayoutModel",
          "state": {
            "_model_module": "@jupyter-widgets/base",
            "_model_module_version": "1.2.0",
            "_model_name": "LayoutModel",
            "_view_count": null,
            "_view_module": "@jupyter-widgets/base",
            "_view_module_version": "1.2.0",
            "_view_name": "LayoutView",
            "align_content": null,
            "align_items": null,
            "align_self": null,
            "border": null,
            "bottom": null,
            "display": null,
            "flex": null,
            "flex_flow": null,
            "grid_area": null,
            "grid_auto_columns": null,
            "grid_auto_flow": null,
            "grid_auto_rows": null,
            "grid_column": null,
            "grid_gap": null,
            "grid_row": null,
            "grid_template_areas": null,
            "grid_template_columns": null,
            "grid_template_rows": null,
            "height": null,
            "justify_content": null,
            "justify_items": null,
            "left": null,
            "margin": null,
            "max_height": null,
            "max_width": null,
            "min_height": null,
            "min_width": null,
            "object_fit": null,
            "object_position": null,
            "order": null,
            "overflow": null,
            "overflow_x": null,
            "overflow_y": null,
            "padding": null,
            "right": null,
            "top": null,
            "visibility": null,
            "width": null
          }
        },
        "23feaa7b728f4cd884d2fcb686cd3d8e": {
          "model_module": "@jupyter-widgets/base",
          "model_module_version": "1.2.0",
          "model_name": "LayoutModel",
          "state": {
            "_model_module": "@jupyter-widgets/base",
            "_model_module_version": "1.2.0",
            "_model_name": "LayoutModel",
            "_view_count": null,
            "_view_module": "@jupyter-widgets/base",
            "_view_module_version": "1.2.0",
            "_view_name": "LayoutView",
            "align_content": null,
            "align_items": null,
            "align_self": null,
            "border": null,
            "bottom": null,
            "display": null,
            "flex": null,
            "flex_flow": null,
            "grid_area": null,
            "grid_auto_columns": null,
            "grid_auto_flow": null,
            "grid_auto_rows": null,
            "grid_column": null,
            "grid_gap": null,
            "grid_row": null,
            "grid_template_areas": null,
            "grid_template_columns": null,
            "grid_template_rows": null,
            "height": null,
            "justify_content": null,
            "justify_items": null,
            "left": null,
            "margin": null,
            "max_height": null,
            "max_width": null,
            "min_height": null,
            "min_width": null,
            "object_fit": null,
            "object_position": null,
            "order": null,
            "overflow": null,
            "overflow_x": null,
            "overflow_y": null,
            "padding": null,
            "right": null,
            "top": null,
            "visibility": null,
            "width": null
          }
        },
        "25ca95d596574c7ab24a47482fd1e2d4": {
          "model_module": "@jupyter-widgets/base",
          "model_module_version": "1.2.0",
          "model_name": "LayoutModel",
          "state": {
            "_model_module": "@jupyter-widgets/base",
            "_model_module_version": "1.2.0",
            "_model_name": "LayoutModel",
            "_view_count": null,
            "_view_module": "@jupyter-widgets/base",
            "_view_module_version": "1.2.0",
            "_view_name": "LayoutView",
            "align_content": null,
            "align_items": null,
            "align_self": null,
            "border": null,
            "bottom": null,
            "display": null,
            "flex": null,
            "flex_flow": null,
            "grid_area": null,
            "grid_auto_columns": null,
            "grid_auto_flow": null,
            "grid_auto_rows": null,
            "grid_column": null,
            "grid_gap": null,
            "grid_row": null,
            "grid_template_areas": null,
            "grid_template_columns": null,
            "grid_template_rows": null,
            "height": null,
            "justify_content": null,
            "justify_items": null,
            "left": null,
            "margin": null,
            "max_height": null,
            "max_width": null,
            "min_height": null,
            "min_width": null,
            "object_fit": null,
            "object_position": null,
            "order": null,
            "overflow": null,
            "overflow_x": null,
            "overflow_y": null,
            "padding": null,
            "right": null,
            "top": null,
            "visibility": null,
            "width": null
          }
        },
        "270343a60b374f0a8fbd3cf9b6c6a38d": {
          "model_module": "@jupyter-widgets/controls",
          "model_module_version": "1.5.0",
          "model_name": "FloatProgressModel",
          "state": {
            "_dom_classes": [],
            "_model_module": "@jupyter-widgets/controls",
            "_model_module_version": "1.5.0",
            "_model_name": "FloatProgressModel",
            "_view_count": null,
            "_view_module": "@jupyter-widgets/controls",
            "_view_module_version": "1.5.0",
            "_view_name": "ProgressView",
            "bar_style": "success",
            "description": "",
            "description_tooltip": null,
            "layout": "IPY_MODEL_10dee1ce08cd4cb294df3677f9ee6107",
            "max": 877,
            "min": 0,
            "orientation": "horizontal",
            "style": "IPY_MODEL_c65f2238d15947c3b7cd24243235c79e",
            "value": 877
          }
        },
        "28534f0d2d5741d38a0af90644d3a2f7": {
          "model_module": "@jupyter-widgets/controls",
          "model_module_version": "1.5.0",
          "model_name": "HTMLModel",
          "state": {
            "_dom_classes": [],
            "_model_module": "@jupyter-widgets/controls",
            "_model_module_version": "1.5.0",
            "_model_name": "HTMLModel",
            "_view_count": null,
            "_view_module": "@jupyter-widgets/controls",
            "_view_module_version": "1.5.0",
            "_view_name": "HTMLView",
            "description": "",
            "description_tooltip": null,
            "layout": "IPY_MODEL_61f44a006ba0441b9da20ea15bd38456",
            "placeholder": "​",
            "style": "IPY_MODEL_8d032d24955a4e1aa54e0575e4e25c4f",
            "value": "config.json: 100%"
          }
        },
        "298ae45f19af4b86b7e6caaffc0a9437": {
          "model_module": "@jupyter-widgets/base",
          "model_module_version": "1.2.0",
          "model_name": "LayoutModel",
          "state": {
            "_model_module": "@jupyter-widgets/base",
            "_model_module_version": "1.2.0",
            "_model_name": "LayoutModel",
            "_view_count": null,
            "_view_module": "@jupyter-widgets/base",
            "_view_module_version": "1.2.0",
            "_view_name": "LayoutView",
            "align_content": null,
            "align_items": null,
            "align_self": null,
            "border": null,
            "bottom": null,
            "display": null,
            "flex": null,
            "flex_flow": null,
            "grid_area": null,
            "grid_auto_columns": null,
            "grid_auto_flow": null,
            "grid_auto_rows": null,
            "grid_column": null,
            "grid_gap": null,
            "grid_row": null,
            "grid_template_areas": null,
            "grid_template_columns": null,
            "grid_template_rows": null,
            "height": null,
            "justify_content": null,
            "justify_items": null,
            "left": null,
            "margin": null,
            "max_height": null,
            "max_width": null,
            "min_height": null,
            "min_width": null,
            "object_fit": null,
            "object_position": null,
            "order": null,
            "overflow": null,
            "overflow_x": null,
            "overflow_y": null,
            "padding": null,
            "right": null,
            "top": null,
            "visibility": null,
            "width": null
          }
        },
        "2ece4ae5ae99476f8c98a1af5b7c491b": {
          "model_module": "@jupyter-widgets/controls",
          "model_module_version": "1.5.0",
          "model_name": "DescriptionStyleModel",
          "state": {
            "_model_module": "@jupyter-widgets/controls",
            "_model_module_version": "1.5.0",
            "_model_name": "DescriptionStyleModel",
            "_view_count": null,
            "_view_module": "@jupyter-widgets/base",
            "_view_module_version": "1.2.0",
            "_view_name": "StyleView",
            "description_width": ""
          }
        },
        "30da3f153e5446c7b049e8cec587abfa": {
          "model_module": "@jupyter-widgets/controls",
          "model_module_version": "1.5.0",
          "model_name": "FloatProgressModel",
          "state": {
            "_dom_classes": [],
            "_model_module": "@jupyter-widgets/controls",
            "_model_module_version": "1.5.0",
            "_model_name": "FloatProgressModel",
            "_view_count": null,
            "_view_module": "@jupyter-widgets/controls",
            "_view_module_version": "1.5.0",
            "_view_name": "ProgressView",
            "bar_style": "success",
            "description": "",
            "description_tooltip": null,
            "layout": "IPY_MODEL_4fa23b0693d34c74a13fc470ed2f8701",
            "max": 1755,
            "min": 0,
            "orientation": "horizontal",
            "style": "IPY_MODEL_613547033fa74e43b06fc1181c2e069a",
            "value": 1755
          }
        },
        "32770c64b81343018930af092a0eb35d": {
          "model_module": "@jupyter-widgets/controls",
          "model_module_version": "1.5.0",
          "model_name": "HBoxModel",
          "state": {
            "_dom_classes": [],
            "_model_module": "@jupyter-widgets/controls",
            "_model_module_version": "1.5.0",
            "_model_name": "HBoxModel",
            "_view_count": null,
            "_view_module": "@jupyter-widgets/controls",
            "_view_module_version": "1.5.0",
            "_view_name": "HBoxView",
            "box_style": "",
            "children": [
              "IPY_MODEL_9354f2595b8745419d6e12d082bb131d",
              "IPY_MODEL_a594645352a94d3f808031060b20c7b1",
              "IPY_MODEL_e7374c1e23e348b7834e7850940d988c"
            ],
            "layout": "IPY_MODEL_23feaa7b728f4cd884d2fcb686cd3d8e"
          }
        },
        "3888a20537974a9185d2275ccc679152": {
          "model_module": "@jupyter-widgets/controls",
          "model_module_version": "1.5.0",
          "model_name": "DescriptionStyleModel",
          "state": {
            "_model_module": "@jupyter-widgets/controls",
            "_model_module_version": "1.5.0",
            "_model_name": "DescriptionStyleModel",
            "_view_count": null,
            "_view_module": "@jupyter-widgets/base",
            "_view_module_version": "1.2.0",
            "_view_name": "StyleView",
            "description_width": ""
          }
        },
        "3f18da0f5139407fa1fb6024738612a5": {
          "model_module": "@jupyter-widgets/controls",
          "model_module_version": "1.5.0",
          "model_name": "DescriptionStyleModel",
          "state": {
            "_model_module": "@jupyter-widgets/controls",
            "_model_module_version": "1.5.0",
            "_model_name": "DescriptionStyleModel",
            "_view_count": null,
            "_view_module": "@jupyter-widgets/base",
            "_view_module_version": "1.2.0",
            "_view_name": "StyleView",
            "description_width": ""
          }
        },
        "3f2f38344ad1472198fd5d83a8b7e6ef": {
          "model_module": "@jupyter-widgets/controls",
          "model_module_version": "1.5.0",
          "model_name": "HTMLModel",
          "state": {
            "_dom_classes": [],
            "_model_module": "@jupyter-widgets/controls",
            "_model_module_version": "1.5.0",
            "_model_name": "HTMLModel",
            "_view_count": null,
            "_view_module": "@jupyter-widgets/controls",
            "_view_module_version": "1.5.0",
            "_view_name": "HTMLView",
            "description": "",
            "description_tooltip": null,
            "layout": "IPY_MODEL_c2d9f38a58b643c1a775239f15f2617f",
            "placeholder": "​",
            "style": "IPY_MODEL_5d076dc3fa7d4f80bce379cd7bcaa8c0",
            "value": "Applying chat template to train dataset: 100%"
          }
        },
        "3feb10a57ec2431a82aeb328e5946e5e": {
          "model_module": "@jupyter-widgets/controls",
          "model_module_version": "1.5.0",
          "model_name": "DescriptionStyleModel",
          "state": {
            "_model_module": "@jupyter-widgets/controls",
            "_model_module_version": "1.5.0",
            "_model_name": "DescriptionStyleModel",
            "_view_count": null,
            "_view_module": "@jupyter-widgets/base",
            "_view_module_version": "1.2.0",
            "_view_name": "StyleView",
            "description_width": ""
          }
        },
        "415118f92f4b48f9a401107654019148": {
          "model_module": "@jupyter-widgets/controls",
          "model_module_version": "1.5.0",
          "model_name": "DescriptionStyleModel",
          "state": {
            "_model_module": "@jupyter-widgets/controls",
            "_model_module_version": "1.5.0",
            "_model_name": "DescriptionStyleModel",
            "_view_count": null,
            "_view_module": "@jupyter-widgets/base",
            "_view_module_version": "1.2.0",
            "_view_name": "StyleView",
            "description_width": ""
          }
        },
        "49466651e4a147f082abb3ac0892748f": {
          "model_module": "@jupyter-widgets/base",
          "model_module_version": "1.2.0",
          "model_name": "LayoutModel",
          "state": {
            "_model_module": "@jupyter-widgets/base",
            "_model_module_version": "1.2.0",
            "_model_name": "LayoutModel",
            "_view_count": null,
            "_view_module": "@jupyter-widgets/base",
            "_view_module_version": "1.2.0",
            "_view_name": "LayoutView",
            "align_content": null,
            "align_items": null,
            "align_self": null,
            "border": null,
            "bottom": null,
            "display": null,
            "flex": null,
            "flex_flow": null,
            "grid_area": null,
            "grid_auto_columns": null,
            "grid_auto_flow": null,
            "grid_auto_rows": null,
            "grid_column": null,
            "grid_gap": null,
            "grid_row": null,
            "grid_template_areas": null,
            "grid_template_columns": null,
            "grid_template_rows": null,
            "height": null,
            "justify_content": null,
            "justify_items": null,
            "left": null,
            "margin": null,
            "max_height": null,
            "max_width": null,
            "min_height": null,
            "min_width": null,
            "object_fit": null,
            "object_position": null,
            "order": null,
            "overflow": null,
            "overflow_x": null,
            "overflow_y": null,
            "padding": null,
            "right": null,
            "top": null,
            "visibility": null,
            "width": null
          }
        },
        "4ae9b1d2d7a643968dafd96c08ef6c66": {
          "model_module": "@jupyter-widgets/controls",
          "model_module_version": "1.5.0",
          "model_name": "HBoxModel",
          "state": {
            "_dom_classes": [],
            "_model_module": "@jupyter-widgets/controls",
            "_model_module_version": "1.5.0",
            "_model_name": "HBoxModel",
            "_view_count": null,
            "_view_module": "@jupyter-widgets/controls",
            "_view_module_version": "1.5.0",
            "_view_name": "HBoxView",
            "box_style": "",
            "children": [
              "IPY_MODEL_f6c8058caac34cac924374bb29260655",
              "IPY_MODEL_1443621a77de461abbf3ad89ffcdc464",
              "IPY_MODEL_5bbcfd82359245699a303818a79beb47"
            ],
            "layout": "IPY_MODEL_aba5f1fc4e0845db956fd7e89b23f563"
          }
        },
        "4cefcff109bf45a6893ee9f1fc87c32f": {
          "model_module": "@jupyter-widgets/controls",
          "model_module_version": "1.5.0",
          "model_name": "DescriptionStyleModel",
          "state": {
            "_model_module": "@jupyter-widgets/controls",
            "_model_module_version": "1.5.0",
            "_model_name": "DescriptionStyleModel",
            "_view_count": null,
            "_view_module": "@jupyter-widgets/base",
            "_view_module_version": "1.2.0",
            "_view_name": "StyleView",
            "description_width": ""
          }
        },
        "4fa23b0693d34c74a13fc470ed2f8701": {
          "model_module": "@jupyter-widgets/base",
          "model_module_version": "1.2.0",
          "model_name": "LayoutModel",
          "state": {
            "_model_module": "@jupyter-widgets/base",
            "_model_module_version": "1.2.0",
            "_model_name": "LayoutModel",
            "_view_count": null,
            "_view_module": "@jupyter-widgets/base",
            "_view_module_version": "1.2.0",
            "_view_name": "LayoutView",
            "align_content": null,
            "align_items": null,
            "align_self": null,
            "border": null,
            "bottom": null,
            "display": null,
            "flex": null,
            "flex_flow": null,
            "grid_area": null,
            "grid_auto_columns": null,
            "grid_auto_flow": null,
            "grid_auto_rows": null,
            "grid_column": null,
            "grid_gap": null,
            "grid_row": null,
            "grid_template_areas": null,
            "grid_template_columns": null,
            "grid_template_rows": null,
            "height": null,
            "justify_content": null,
            "justify_items": null,
            "left": null,
            "margin": null,
            "max_height": null,
            "max_width": null,
            "min_height": null,
            "min_width": null,
            "object_fit": null,
            "object_position": null,
            "order": null,
            "overflow": null,
            "overflow_x": null,
            "overflow_y": null,
            "padding": null,
            "right": null,
            "top": null,
            "visibility": null,
            "width": null
          }
        },
        "5121eab25be64d1da1538e576972b103": {
          "model_module": "@jupyter-widgets/controls",
          "model_module_version": "1.5.0",
          "model_name": "ProgressStyleModel",
          "state": {
            "_model_module": "@jupyter-widgets/controls",
            "_model_module_version": "1.5.0",
            "_model_name": "ProgressStyleModel",
            "_view_count": null,
            "_view_module": "@jupyter-widgets/base",
            "_view_module_version": "1.2.0",
            "_view_name": "StyleView",
            "bar_color": null,
            "description_width": ""
          }
        },
        "54898ec8af3940e4888f039a0405d659": {
          "model_module": "@jupyter-widgets/base",
          "model_module_version": "1.2.0",
          "model_name": "LayoutModel",
          "state": {
            "_model_module": "@jupyter-widgets/base",
            "_model_module_version": "1.2.0",
            "_model_name": "LayoutModel",
            "_view_count": null,
            "_view_module": "@jupyter-widgets/base",
            "_view_module_version": "1.2.0",
            "_view_name": "LayoutView",
            "align_content": null,
            "align_items": null,
            "align_self": null,
            "border": null,
            "bottom": null,
            "display": null,
            "flex": null,
            "flex_flow": null,
            "grid_area": null,
            "grid_auto_columns": null,
            "grid_auto_flow": null,
            "grid_auto_rows": null,
            "grid_column": null,
            "grid_gap": null,
            "grid_row": null,
            "grid_template_areas": null,
            "grid_template_columns": null,
            "grid_template_rows": null,
            "height": null,
            "justify_content": null,
            "justify_items": null,
            "left": null,
            "margin": null,
            "max_height": null,
            "max_width": null,
            "min_height": null,
            "min_width": null,
            "object_fit": null,
            "object_position": null,
            "order": null,
            "overflow": null,
            "overflow_x": null,
            "overflow_y": null,
            "padding": null,
            "right": null,
            "top": null,
            "visibility": null,
            "width": null
          }
        },
        "56ebbfdc7b4645c1beb8df9d1b4e6b74": {
          "model_module": "@jupyter-widgets/controls",
          "model_module_version": "1.5.0",
          "model_name": "ProgressStyleModel",
          "state": {
            "_model_module": "@jupyter-widgets/controls",
            "_model_module_version": "1.5.0",
            "_model_name": "ProgressStyleModel",
            "_view_count": null,
            "_view_module": "@jupyter-widgets/base",
            "_view_module_version": "1.2.0",
            "_view_name": "StyleView",
            "bar_color": null,
            "description_width": ""
          }
        },
        "5bbcfd82359245699a303818a79beb47": {
          "model_module": "@jupyter-widgets/controls",
          "model_module_version": "1.5.0",
          "model_name": "HTMLModel",
          "state": {
            "_dom_classes": [],
            "_model_module": "@jupyter-widgets/controls",
            "_model_module_version": "1.5.0",
            "_model_name": "HTMLModel",
            "_view_count": null,
            "_view_module": "@jupyter-widgets/controls",
            "_view_module_version": "1.5.0",
            "_view_name": "HTMLView",
            "description": "",
            "description_tooltip": null,
            "layout": "IPY_MODEL_1c211a08cdc043fcb22578d45a155fd6",
            "placeholder": "​",
            "style": "IPY_MODEL_8e8260c29b334dc8803d77d915c308fb",
            "value": " 1755/1755 [00:03&lt;00:00, 573.85 examples/s]"
          }
        },
        "5d076dc3fa7d4f80bce379cd7bcaa8c0": {
          "model_module": "@jupyter-widgets/controls",
          "model_module_version": "1.5.0",
          "model_name": "DescriptionStyleModel",
          "state": {
            "_model_module": "@jupyter-widgets/controls",
            "_model_module_version": "1.5.0",
            "_model_name": "DescriptionStyleModel",
            "_view_count": null,
            "_view_module": "@jupyter-widgets/base",
            "_view_module_version": "1.2.0",
            "_view_name": "StyleView",
            "description_width": ""
          }
        },
        "613547033fa74e43b06fc1181c2e069a": {
          "model_module": "@jupyter-widgets/controls",
          "model_module_version": "1.5.0",
          "model_name": "ProgressStyleModel",
          "state": {
            "_model_module": "@jupyter-widgets/controls",
            "_model_module_version": "1.5.0",
            "_model_name": "ProgressStyleModel",
            "_view_count": null,
            "_view_module": "@jupyter-widgets/base",
            "_view_module_version": "1.2.0",
            "_view_name": "StyleView",
            "bar_color": null,
            "description_width": ""
          }
        },
        "616fcdb044664da0bb0d147635c26b57": {
          "model_module": "@jupyter-widgets/base",
          "model_module_version": "1.2.0",
          "model_name": "LayoutModel",
          "state": {
            "_model_module": "@jupyter-widgets/base",
            "_model_module_version": "1.2.0",
            "_model_name": "LayoutModel",
            "_view_count": null,
            "_view_module": "@jupyter-widgets/base",
            "_view_module_version": "1.2.0",
            "_view_name": "LayoutView",
            "align_content": null,
            "align_items": null,
            "align_self": null,
            "border": null,
            "bottom": null,
            "display": null,
            "flex": null,
            "flex_flow": null,
            "grid_area": null,
            "grid_auto_columns": null,
            "grid_auto_flow": null,
            "grid_auto_rows": null,
            "grid_column": null,
            "grid_gap": null,
            "grid_row": null,
            "grid_template_areas": null,
            "grid_template_columns": null,
            "grid_template_rows": null,
            "height": null,
            "justify_content": null,
            "justify_items": null,
            "left": null,
            "margin": null,
            "max_height": null,
            "max_width": null,
            "min_height": null,
            "min_width": null,
            "object_fit": null,
            "object_position": null,
            "order": null,
            "overflow": null,
            "overflow_x": null,
            "overflow_y": null,
            "padding": null,
            "right": null,
            "top": null,
            "visibility": null,
            "width": null
          }
        },
        "61f44a006ba0441b9da20ea15bd38456": {
          "model_module": "@jupyter-widgets/base",
          "model_module_version": "1.2.0",
          "model_name": "LayoutModel",
          "state": {
            "_model_module": "@jupyter-widgets/base",
            "_model_module_version": "1.2.0",
            "_model_name": "LayoutModel",
            "_view_count": null,
            "_view_module": "@jupyter-widgets/base",
            "_view_module_version": "1.2.0",
            "_view_name": "LayoutView",
            "align_content": null,
            "align_items": null,
            "align_self": null,
            "border": null,
            "bottom": null,
            "display": null,
            "flex": null,
            "flex_flow": null,
            "grid_area": null,
            "grid_auto_columns": null,
            "grid_auto_flow": null,
            "grid_auto_rows": null,
            "grid_column": null,
            "grid_gap": null,
            "grid_row": null,
            "grid_template_areas": null,
            "grid_template_columns": null,
            "grid_template_rows": null,
            "height": null,
            "justify_content": null,
            "justify_items": null,
            "left": null,
            "margin": null,
            "max_height": null,
            "max_width": null,
            "min_height": null,
            "min_width": null,
            "object_fit": null,
            "object_position": null,
            "order": null,
            "overflow": null,
            "overflow_x": null,
            "overflow_y": null,
            "padding": null,
            "right": null,
            "top": null,
            "visibility": null,
            "width": null
          }
        },
        "6389cfe743eb4dac85c92b443550d9e0": {
          "model_module": "@jupyter-widgets/controls",
          "model_module_version": "1.5.0",
          "model_name": "DescriptionStyleModel",
          "state": {
            "_model_module": "@jupyter-widgets/controls",
            "_model_module_version": "1.5.0",
            "_model_name": "DescriptionStyleModel",
            "_view_count": null,
            "_view_module": "@jupyter-widgets/base",
            "_view_module_version": "1.2.0",
            "_view_name": "StyleView",
            "description_width": ""
          }
        },
        "6429a66ba75b4c48811ff2ef857abb65": {
          "model_module": "@jupyter-widgets/controls",
          "model_module_version": "1.5.0",
          "model_name": "HTMLModel",
          "state": {
            "_dom_classes": [],
            "_model_module": "@jupyter-widgets/controls",
            "_model_module_version": "1.5.0",
            "_model_name": "HTMLModel",
            "_view_count": null,
            "_view_module": "@jupyter-widgets/controls",
            "_view_module_version": "1.5.0",
            "_view_name": "HTMLView",
            "description": "",
            "description_tooltip": null,
            "layout": "IPY_MODEL_6e7ca37a29594456abd54df5d8293fc0",
            "placeholder": "​",
            "style": "IPY_MODEL_b2b18b14e40a4ad493ec7f54bf0f33ea",
            "value": " 9.09M/9.09M [00:00&lt;00:00, 13.6MB/s]"
          }
        },
        "64aaebcce5974a63845a609281578b26": {
          "model_module": "@jupyter-widgets/base",
          "model_module_version": "1.2.0",
          "model_name": "LayoutModel",
          "state": {
            "_model_module": "@jupyter-widgets/base",
            "_model_module_version": "1.2.0",
            "_model_name": "LayoutModel",
            "_view_count": null,
            "_view_module": "@jupyter-widgets/base",
            "_view_module_version": "1.2.0",
            "_view_name": "LayoutView",
            "align_content": null,
            "align_items": null,
            "align_self": null,
            "border": null,
            "bottom": null,
            "display": null,
            "flex": null,
            "flex_flow": null,
            "grid_area": null,
            "grid_auto_columns": null,
            "grid_auto_flow": null,
            "grid_auto_rows": null,
            "grid_column": null,
            "grid_gap": null,
            "grid_row": null,
            "grid_template_areas": null,
            "grid_template_columns": null,
            "grid_template_rows": null,
            "height": null,
            "justify_content": null,
            "justify_items": null,
            "left": null,
            "margin": null,
            "max_height": null,
            "max_width": null,
            "min_height": null,
            "min_width": null,
            "object_fit": null,
            "object_position": null,
            "order": null,
            "overflow": null,
            "overflow_x": null,
            "overflow_y": null,
            "padding": null,
            "right": null,
            "top": null,
            "visibility": null,
            "width": null
          }
        },
        "64b3a7dc24264521aba68385c97ada7f": {
          "model_module": "@jupyter-widgets/controls",
          "model_module_version": "1.5.0",
          "model_name": "DescriptionStyleModel",
          "state": {
            "_model_module": "@jupyter-widgets/controls",
            "_model_module_version": "1.5.0",
            "_model_name": "DescriptionStyleModel",
            "_view_count": null,
            "_view_module": "@jupyter-widgets/base",
            "_view_module_version": "1.2.0",
            "_view_name": "StyleView",
            "description_width": ""
          }
        },
        "650d08b9106e4567b4cd9c9381b8211b": {
          "model_module": "@jupyter-widgets/base",
          "model_module_version": "1.2.0",
          "model_name": "LayoutModel",
          "state": {
            "_model_module": "@jupyter-widgets/base",
            "_model_module_version": "1.2.0",
            "_model_name": "LayoutModel",
            "_view_count": null,
            "_view_module": "@jupyter-widgets/base",
            "_view_module_version": "1.2.0",
            "_view_name": "LayoutView",
            "align_content": null,
            "align_items": null,
            "align_self": null,
            "border": null,
            "bottom": null,
            "display": null,
            "flex": null,
            "flex_flow": null,
            "grid_area": null,
            "grid_auto_columns": null,
            "grid_auto_flow": null,
            "grid_auto_rows": null,
            "grid_column": null,
            "grid_gap": null,
            "grid_row": null,
            "grid_template_areas": null,
            "grid_template_columns": null,
            "grid_template_rows": null,
            "height": null,
            "justify_content": null,
            "justify_items": null,
            "left": null,
            "margin": null,
            "max_height": null,
            "max_width": null,
            "min_height": null,
            "min_width": null,
            "object_fit": null,
            "object_position": null,
            "order": null,
            "overflow": null,
            "overflow_x": null,
            "overflow_y": null,
            "padding": null,
            "right": null,
            "top": null,
            "visibility": null,
            "width": null
          }
        },
        "6698ca41246f4b1ea07cb97781656b0a": {
          "model_module": "@jupyter-widgets/base",
          "model_module_version": "1.2.0",
          "model_name": "LayoutModel",
          "state": {
            "_model_module": "@jupyter-widgets/base",
            "_model_module_version": "1.2.0",
            "_model_name": "LayoutModel",
            "_view_count": null,
            "_view_module": "@jupyter-widgets/base",
            "_view_module_version": "1.2.0",
            "_view_name": "LayoutView",
            "align_content": null,
            "align_items": null,
            "align_self": null,
            "border": null,
            "bottom": null,
            "display": null,
            "flex": null,
            "flex_flow": null,
            "grid_area": null,
            "grid_auto_columns": null,
            "grid_auto_flow": null,
            "grid_auto_rows": null,
            "grid_column": null,
            "grid_gap": null,
            "grid_row": null,
            "grid_template_areas": null,
            "grid_template_columns": null,
            "grid_template_rows": null,
            "height": null,
            "justify_content": null,
            "justify_items": null,
            "left": null,
            "margin": null,
            "max_height": null,
            "max_width": null,
            "min_height": null,
            "min_width": null,
            "object_fit": null,
            "object_position": null,
            "order": null,
            "overflow": null,
            "overflow_x": null,
            "overflow_y": null,
            "padding": null,
            "right": null,
            "top": null,
            "visibility": null,
            "width": null
          }
        },
        "6798e28cde7f4a28aa65eda752239de2": {
          "model_module": "@jupyter-widgets/controls",
          "model_module_version": "1.5.0",
          "model_name": "DescriptionStyleModel",
          "state": {
            "_model_module": "@jupyter-widgets/controls",
            "_model_module_version": "1.5.0",
            "_model_name": "DescriptionStyleModel",
            "_view_count": null,
            "_view_module": "@jupyter-widgets/base",
            "_view_module_version": "1.2.0",
            "_view_name": "StyleView",
            "description_width": ""
          }
        },
        "697bda19e23a48d5819ee8c9c397a3aa": {
          "model_module": "@jupyter-widgets/controls",
          "model_module_version": "1.5.0",
          "model_name": "ProgressStyleModel",
          "state": {
            "_model_module": "@jupyter-widgets/controls",
            "_model_module_version": "1.5.0",
            "_model_name": "ProgressStyleModel",
            "_view_count": null,
            "_view_module": "@jupyter-widgets/base",
            "_view_module_version": "1.2.0",
            "_view_name": "StyleView",
            "bar_color": null,
            "description_width": ""
          }
        },
        "6ac6490f0dd74bcd8fba6e5b1dfdbc68": {
          "model_module": "@jupyter-widgets/controls",
          "model_module_version": "1.5.0",
          "model_name": "HBoxModel",
          "state": {
            "_dom_classes": [],
            "_model_module": "@jupyter-widgets/controls",
            "_model_module_version": "1.5.0",
            "_model_name": "HBoxModel",
            "_view_count": null,
            "_view_module": "@jupyter-widgets/controls",
            "_view_module_version": "1.5.0",
            "_view_name": "HBoxView",
            "box_style": "",
            "children": [
              "IPY_MODEL_ae9a6eefc65d4650bfebcefd7bebcd3c",
              "IPY_MODEL_6dbda0d093c941bc980ab9c4398a2014",
              "IPY_MODEL_019adcdbe829458f99e82632ed1f8baf"
            ],
            "layout": "IPY_MODEL_20de3547aed648f5883131fdb9170653"
          }
        },
        "6c0065fd08cf40cf82d1e5dabf34eeb5": {
          "model_module": "@jupyter-widgets/controls",
          "model_module_version": "1.5.0",
          "model_name": "HBoxModel",
          "state": {
            "_dom_classes": [],
            "_model_module": "@jupyter-widgets/controls",
            "_model_module_version": "1.5.0",
            "_model_name": "HBoxModel",
            "_view_count": null,
            "_view_module": "@jupyter-widgets/controls",
            "_view_module_version": "1.5.0",
            "_view_name": "HBoxView",
            "box_style": "",
            "children": [
              "IPY_MODEL_ae3239f766dc483982ab47dabcad7bfb",
              "IPY_MODEL_9e63ca92f5bf48be9454ede77c395808",
              "IPY_MODEL_e17f9cc64afa479e815e4bf2559b1b82"
            ],
            "layout": "IPY_MODEL_cb70840e709b4cb9aef9ff52d6a39071"
          }
        },
        "6dbda0d093c941bc980ab9c4398a2014": {
          "model_module": "@jupyter-widgets/controls",
          "model_module_version": "1.5.0",
          "model_name": "FloatProgressModel",
          "state": {
            "_dom_classes": [],
            "_model_module": "@jupyter-widgets/controls",
            "_model_module_version": "1.5.0",
            "_model_name": "FloatProgressModel",
            "_view_count": null,
            "_view_module": "@jupyter-widgets/controls",
            "_view_module_version": "1.5.0",
            "_view_name": "ProgressView",
            "bar_style": "success",
            "description": "",
            "description_tooltip": null,
            "layout": "IPY_MODEL_88bdcd429088401ebac250496be8f729",
            "max": 376,
            "min": 0,
            "orientation": "horizontal",
            "style": "IPY_MODEL_8c8c13099ad64982adc11d43f5c8b5aa",
            "value": 376
          }
        },
        "6e32b8c747be40c684c13a7e964585d9": {
          "model_module": "@jupyter-widgets/controls",
          "model_module_version": "1.5.0",
          "model_name": "HBoxModel",
          "state": {
            "_dom_classes": [],
            "_model_module": "@jupyter-widgets/controls",
            "_model_module_version": "1.5.0",
            "_model_name": "HBoxModel",
            "_view_count": null,
            "_view_module": "@jupyter-widgets/controls",
            "_view_module_version": "1.5.0",
            "_view_name": "HBoxView",
            "box_style": "",
            "children": [
              "IPY_MODEL_a7029b97df734c0ca4a23f2f376951cc",
              "IPY_MODEL_dcc87ddeb6114bbeb03252442f78f447",
              "IPY_MODEL_80849bdd68bb435aa8e17157687b9749"
            ],
            "layout": "IPY_MODEL_d076cdf72a614551b9d5cc7910a51667"
          }
        },
        "6e7ca37a29594456abd54df5d8293fc0": {
          "model_module": "@jupyter-widgets/base",
          "model_module_version": "1.2.0",
          "model_name": "LayoutModel",
          "state": {
            "_model_module": "@jupyter-widgets/base",
            "_model_module_version": "1.2.0",
            "_model_name": "LayoutModel",
            "_view_count": null,
            "_view_module": "@jupyter-widgets/base",
            "_view_module_version": "1.2.0",
            "_view_name": "LayoutView",
            "align_content": null,
            "align_items": null,
            "align_self": null,
            "border": null,
            "bottom": null,
            "display": null,
            "flex": null,
            "flex_flow": null,
            "grid_area": null,
            "grid_auto_columns": null,
            "grid_auto_flow": null,
            "grid_auto_rows": null,
            "grid_column": null,
            "grid_gap": null,
            "grid_row": null,
            "grid_template_areas": null,
            "grid_template_columns": null,
            "grid_template_rows": null,
            "height": null,
            "justify_content": null,
            "justify_items": null,
            "left": null,
            "margin": null,
            "max_height": null,
            "max_width": null,
            "min_height": null,
            "min_width": null,
            "object_fit": null,
            "object_position": null,
            "order": null,
            "overflow": null,
            "overflow_x": null,
            "overflow_y": null,
            "padding": null,
            "right": null,
            "top": null,
            "visibility": null,
            "width": null
          }
        },
        "7148afba842f467eb619184b7d6238b4": {
          "model_module": "@jupyter-widgets/controls",
          "model_module_version": "1.5.0",
          "model_name": "ProgressStyleModel",
          "state": {
            "_model_module": "@jupyter-widgets/controls",
            "_model_module_version": "1.5.0",
            "_model_name": "ProgressStyleModel",
            "_view_count": null,
            "_view_module": "@jupyter-widgets/base",
            "_view_module_version": "1.2.0",
            "_view_name": "StyleView",
            "bar_color": null,
            "description_width": ""
          }
        },
        "76ef140dcb2d4705b15d01887ade438d": {
          "model_module": "@jupyter-widgets/base",
          "model_module_version": "1.2.0",
          "model_name": "LayoutModel",
          "state": {
            "_model_module": "@jupyter-widgets/base",
            "_model_module_version": "1.2.0",
            "_model_name": "LayoutModel",
            "_view_count": null,
            "_view_module": "@jupyter-widgets/base",
            "_view_module_version": "1.2.0",
            "_view_name": "LayoutView",
            "align_content": null,
            "align_items": null,
            "align_self": null,
            "border": null,
            "bottom": null,
            "display": null,
            "flex": null,
            "flex_flow": null,
            "grid_area": null,
            "grid_auto_columns": null,
            "grid_auto_flow": null,
            "grid_auto_rows": null,
            "grid_column": null,
            "grid_gap": null,
            "grid_row": null,
            "grid_template_areas": null,
            "grid_template_columns": null,
            "grid_template_rows": null,
            "height": null,
            "justify_content": null,
            "justify_items": null,
            "left": null,
            "margin": null,
            "max_height": null,
            "max_width": null,
            "min_height": null,
            "min_width": null,
            "object_fit": null,
            "object_position": null,
            "order": null,
            "overflow": null,
            "overflow_x": null,
            "overflow_y": null,
            "padding": null,
            "right": null,
            "top": null,
            "visibility": null,
            "width": null
          }
        },
        "7f7eabd2f0234f59b11f4e5471be7c77": {
          "model_module": "@jupyter-widgets/base",
          "model_module_version": "1.2.0",
          "model_name": "LayoutModel",
          "state": {
            "_model_module": "@jupyter-widgets/base",
            "_model_module_version": "1.2.0",
            "_model_name": "LayoutModel",
            "_view_count": null,
            "_view_module": "@jupyter-widgets/base",
            "_view_module_version": "1.2.0",
            "_view_name": "LayoutView",
            "align_content": null,
            "align_items": null,
            "align_self": null,
            "border": null,
            "bottom": null,
            "display": null,
            "flex": null,
            "flex_flow": null,
            "grid_area": null,
            "grid_auto_columns": null,
            "grid_auto_flow": null,
            "grid_auto_rows": null,
            "grid_column": null,
            "grid_gap": null,
            "grid_row": null,
            "grid_template_areas": null,
            "grid_template_columns": null,
            "grid_template_rows": null,
            "height": null,
            "justify_content": null,
            "justify_items": null,
            "left": null,
            "margin": null,
            "max_height": null,
            "max_width": null,
            "min_height": null,
            "min_width": null,
            "object_fit": null,
            "object_position": null,
            "order": null,
            "overflow": null,
            "overflow_x": null,
            "overflow_y": null,
            "padding": null,
            "right": null,
            "top": null,
            "visibility": null,
            "width": null
          }
        },
        "804dab627c4c4fbb983305ea6d51694e": {
          "model_module": "@jupyter-widgets/controls",
          "model_module_version": "1.5.0",
          "model_name": "DescriptionStyleModel",
          "state": {
            "_model_module": "@jupyter-widgets/controls",
            "_model_module_version": "1.5.0",
            "_model_name": "DescriptionStyleModel",
            "_view_count": null,
            "_view_module": "@jupyter-widgets/base",
            "_view_module_version": "1.2.0",
            "_view_name": "StyleView",
            "description_width": ""
          }
        },
        "80849bdd68bb435aa8e17157687b9749": {
          "model_module": "@jupyter-widgets/controls",
          "model_module_version": "1.5.0",
          "model_name": "HTMLModel",
          "state": {
            "_dom_classes": [],
            "_model_module": "@jupyter-widgets/controls",
            "_model_module_version": "1.5.0",
            "_model_name": "HTMLModel",
            "_view_count": null,
            "_view_module": "@jupyter-widgets/controls",
            "_view_module_version": "1.5.0",
            "_view_name": "HTMLView",
            "description": "",
            "description_tooltip": null,
            "layout": "IPY_MODEL_650d08b9106e4567b4cd9c9381b8211b",
            "placeholder": "​",
            "style": "IPY_MODEL_85c1b2abb74540239bb2f63dfdfb44c8",
            "value": " 189/189 [00:00&lt;00:00, 15.7kB/s]"
          }
        },
        "853de05d09714907bdd67bea6bb76b17": {
          "model_module": "@jupyter-widgets/base",
          "model_module_version": "1.2.0",
          "model_name": "LayoutModel",
          "state": {
            "_model_module": "@jupyter-widgets/base",
            "_model_module_version": "1.2.0",
            "_model_name": "LayoutModel",
            "_view_count": null,
            "_view_module": "@jupyter-widgets/base",
            "_view_module_version": "1.2.0",
            "_view_name": "LayoutView",
            "align_content": null,
            "align_items": null,
            "align_self": null,
            "border": null,
            "bottom": null,
            "display": null,
            "flex": null,
            "flex_flow": null,
            "grid_area": null,
            "grid_auto_columns": null,
            "grid_auto_flow": null,
            "grid_auto_rows": null,
            "grid_column": null,
            "grid_gap": null,
            "grid_row": null,
            "grid_template_areas": null,
            "grid_template_columns": null,
            "grid_template_rows": null,
            "height": null,
            "justify_content": null,
            "justify_items": null,
            "left": null,
            "margin": null,
            "max_height": null,
            "max_width": null,
            "min_height": null,
            "min_width": null,
            "object_fit": null,
            "object_position": null,
            "order": null,
            "overflow": null,
            "overflow_x": null,
            "overflow_y": null,
            "padding": null,
            "right": null,
            "top": null,
            "visibility": null,
            "width": null
          }
        },
        "85c1b2abb74540239bb2f63dfdfb44c8": {
          "model_module": "@jupyter-widgets/controls",
          "model_module_version": "1.5.0",
          "model_name": "DescriptionStyleModel",
          "state": {
            "_model_module": "@jupyter-widgets/controls",
            "_model_module_version": "1.5.0",
            "_model_name": "DescriptionStyleModel",
            "_view_count": null,
            "_view_module": "@jupyter-widgets/base",
            "_view_module_version": "1.2.0",
            "_view_name": "StyleView",
            "description_width": ""
          }
        },
        "88bdcd429088401ebac250496be8f729": {
          "model_module": "@jupyter-widgets/base",
          "model_module_version": "1.2.0",
          "model_name": "LayoutModel",
          "state": {
            "_model_module": "@jupyter-widgets/base",
            "_model_module_version": "1.2.0",
            "_model_name": "LayoutModel",
            "_view_count": null,
            "_view_module": "@jupyter-widgets/base",
            "_view_module_version": "1.2.0",
            "_view_name": "LayoutView",
            "align_content": null,
            "align_items": null,
            "align_self": null,
            "border": null,
            "bottom": null,
            "display": null,
            "flex": null,
            "flex_flow": null,
            "grid_area": null,
            "grid_auto_columns": null,
            "grid_auto_flow": null,
            "grid_auto_rows": null,
            "grid_column": null,
            "grid_gap": null,
            "grid_row": null,
            "grid_template_areas": null,
            "grid_template_columns": null,
            "grid_template_rows": null,
            "height": null,
            "justify_content": null,
            "justify_items": null,
            "left": null,
            "margin": null,
            "max_height": null,
            "max_width": null,
            "min_height": null,
            "min_width": null,
            "object_fit": null,
            "object_position": null,
            "order": null,
            "overflow": null,
            "overflow_x": null,
            "overflow_y": null,
            "padding": null,
            "right": null,
            "top": null,
            "visibility": null,
            "width": null
          }
        },
        "8abe4e17f4b543ef84424946d2adf2e5": {
          "model_module": "@jupyter-widgets/base",
          "model_module_version": "1.2.0",
          "model_name": "LayoutModel",
          "state": {
            "_model_module": "@jupyter-widgets/base",
            "_model_module_version": "1.2.0",
            "_model_name": "LayoutModel",
            "_view_count": null,
            "_view_module": "@jupyter-widgets/base",
            "_view_module_version": "1.2.0",
            "_view_name": "LayoutView",
            "align_content": null,
            "align_items": null,
            "align_self": null,
            "border": null,
            "bottom": null,
            "display": null,
            "flex": null,
            "flex_flow": null,
            "grid_area": null,
            "grid_auto_columns": null,
            "grid_auto_flow": null,
            "grid_auto_rows": null,
            "grid_column": null,
            "grid_gap": null,
            "grid_row": null,
            "grid_template_areas": null,
            "grid_template_columns": null,
            "grid_template_rows": null,
            "height": null,
            "justify_content": null,
            "justify_items": null,
            "left": null,
            "margin": null,
            "max_height": null,
            "max_width": null,
            "min_height": null,
            "min_width": null,
            "object_fit": null,
            "object_position": null,
            "order": null,
            "overflow": null,
            "overflow_x": null,
            "overflow_y": null,
            "padding": null,
            "right": null,
            "top": null,
            "visibility": null,
            "width": null
          }
        },
        "8c8c13099ad64982adc11d43f5c8b5aa": {
          "model_module": "@jupyter-widgets/controls",
          "model_module_version": "1.5.0",
          "model_name": "ProgressStyleModel",
          "state": {
            "_model_module": "@jupyter-widgets/controls",
            "_model_module_version": "1.5.0",
            "_model_name": "ProgressStyleModel",
            "_view_count": null,
            "_view_module": "@jupyter-widgets/base",
            "_view_module_version": "1.2.0",
            "_view_name": "StyleView",
            "bar_color": null,
            "description_width": ""
          }
        },
        "8cb5496b402c4a65b192f4c7e07ea533": {
          "model_module": "@jupyter-widgets/controls",
          "model_module_version": "1.5.0",
          "model_name": "ProgressStyleModel",
          "state": {
            "_model_module": "@jupyter-widgets/controls",
            "_model_module_version": "1.5.0",
            "_model_name": "ProgressStyleModel",
            "_view_count": null,
            "_view_module": "@jupyter-widgets/base",
            "_view_module_version": "1.2.0",
            "_view_name": "StyleView",
            "bar_color": null,
            "description_width": ""
          }
        },
        "8d032d24955a4e1aa54e0575e4e25c4f": {
          "model_module": "@jupyter-widgets/controls",
          "model_module_version": "1.5.0",
          "model_name": "DescriptionStyleModel",
          "state": {
            "_model_module": "@jupyter-widgets/controls",
            "_model_module_version": "1.5.0",
            "_model_name": "DescriptionStyleModel",
            "_view_count": null,
            "_view_module": "@jupyter-widgets/base",
            "_view_module_version": "1.2.0",
            "_view_name": "StyleView",
            "description_width": ""
          }
        },
        "8e7480bb18cc46d7a484861edfc83301": {
          "model_module": "@jupyter-widgets/base",
          "model_module_version": "1.2.0",
          "model_name": "LayoutModel",
          "state": {
            "_model_module": "@jupyter-widgets/base",
            "_model_module_version": "1.2.0",
            "_model_name": "LayoutModel",
            "_view_count": null,
            "_view_module": "@jupyter-widgets/base",
            "_view_module_version": "1.2.0",
            "_view_name": "LayoutView",
            "align_content": null,
            "align_items": null,
            "align_self": null,
            "border": null,
            "bottom": null,
            "display": null,
            "flex": null,
            "flex_flow": null,
            "grid_area": null,
            "grid_auto_columns": null,
            "grid_auto_flow": null,
            "grid_auto_rows": null,
            "grid_column": null,
            "grid_gap": null,
            "grid_row": null,
            "grid_template_areas": null,
            "grid_template_columns": null,
            "grid_template_rows": null,
            "height": null,
            "justify_content": null,
            "justify_items": null,
            "left": null,
            "margin": null,
            "max_height": null,
            "max_width": null,
            "min_height": null,
            "min_width": null,
            "object_fit": null,
            "object_position": null,
            "order": null,
            "overflow": null,
            "overflow_x": null,
            "overflow_y": null,
            "padding": null,
            "right": null,
            "top": null,
            "visibility": null,
            "width": null
          }
        },
        "8e8260c29b334dc8803d77d915c308fb": {
          "model_module": "@jupyter-widgets/controls",
          "model_module_version": "1.5.0",
          "model_name": "DescriptionStyleModel",
          "state": {
            "_model_module": "@jupyter-widgets/controls",
            "_model_module_version": "1.5.0",
            "_model_name": "DescriptionStyleModel",
            "_view_count": null,
            "_view_module": "@jupyter-widgets/base",
            "_view_module_version": "1.2.0",
            "_view_name": "StyleView",
            "description_width": ""
          }
        },
        "8f65c65faa5d44d685d216edfb4a724b": {
          "model_module": "@jupyter-widgets/base",
          "model_module_version": "1.2.0",
          "model_name": "LayoutModel",
          "state": {
            "_model_module": "@jupyter-widgets/base",
            "_model_module_version": "1.2.0",
            "_model_name": "LayoutModel",
            "_view_count": null,
            "_view_module": "@jupyter-widgets/base",
            "_view_module_version": "1.2.0",
            "_view_name": "LayoutView",
            "align_content": null,
            "align_items": null,
            "align_self": null,
            "border": null,
            "bottom": null,
            "display": null,
            "flex": null,
            "flex_flow": null,
            "grid_area": null,
            "grid_auto_columns": null,
            "grid_auto_flow": null,
            "grid_auto_rows": null,
            "grid_column": null,
            "grid_gap": null,
            "grid_row": null,
            "grid_template_areas": null,
            "grid_template_columns": null,
            "grid_template_rows": null,
            "height": null,
            "justify_content": null,
            "justify_items": null,
            "left": null,
            "margin": null,
            "max_height": null,
            "max_width": null,
            "min_height": null,
            "min_width": null,
            "object_fit": null,
            "object_position": null,
            "order": null,
            "overflow": null,
            "overflow_x": null,
            "overflow_y": null,
            "padding": null,
            "right": null,
            "top": null,
            "visibility": null,
            "width": null
          }
        },
        "8ffeef395fca4f9caf84fc52087bfed0": {
          "model_module": "@jupyter-widgets/controls",
          "model_module_version": "1.5.0",
          "model_name": "HBoxModel",
          "state": {
            "_dom_classes": [],
            "_model_module": "@jupyter-widgets/controls",
            "_model_module_version": "1.5.0",
            "_model_name": "HBoxModel",
            "_view_count": null,
            "_view_module": "@jupyter-widgets/controls",
            "_view_module_version": "1.5.0",
            "_view_name": "HBoxView",
            "box_style": "",
            "children": [
              "IPY_MODEL_db939081dba742bc858d0f9fe16402d1",
              "IPY_MODEL_1cffd1df6ce04c458046089a833a809f",
              "IPY_MODEL_a5e21f4d8b584af0a8b2722c8f46360a"
            ],
            "layout": "IPY_MODEL_f6728cb4c37e4e5eb71ac84b0482c551"
          }
        },
        "92fc215802d94525846f8720c19eb562": {
          "model_module": "@jupyter-widgets/base",
          "model_module_version": "1.2.0",
          "model_name": "LayoutModel",
          "state": {
            "_model_module": "@jupyter-widgets/base",
            "_model_module_version": "1.2.0",
            "_model_name": "LayoutModel",
            "_view_count": null,
            "_view_module": "@jupyter-widgets/base",
            "_view_module_version": "1.2.0",
            "_view_name": "LayoutView",
            "align_content": null,
            "align_items": null,
            "align_self": null,
            "border": null,
            "bottom": null,
            "display": null,
            "flex": null,
            "flex_flow": null,
            "grid_area": null,
            "grid_auto_columns": null,
            "grid_auto_flow": null,
            "grid_auto_rows": null,
            "grid_column": null,
            "grid_gap": null,
            "grid_row": null,
            "grid_template_areas": null,
            "grid_template_columns": null,
            "grid_template_rows": null,
            "height": null,
            "justify_content": null,
            "justify_items": null,
            "left": null,
            "margin": null,
            "max_height": null,
            "max_width": null,
            "min_height": null,
            "min_width": null,
            "object_fit": null,
            "object_position": null,
            "order": null,
            "overflow": null,
            "overflow_x": null,
            "overflow_y": null,
            "padding": null,
            "right": null,
            "top": null,
            "visibility": null,
            "width": null
          }
        },
        "9354f2595b8745419d6e12d082bb131d": {
          "model_module": "@jupyter-widgets/controls",
          "model_module_version": "1.5.0",
          "model_name": "HTMLModel",
          "state": {
            "_dom_classes": [],
            "_model_module": "@jupyter-widgets/controls",
            "_model_module_version": "1.5.0",
            "_model_name": "HTMLModel",
            "_view_count": null,
            "_view_module": "@jupyter-widgets/controls",
            "_view_module_version": "1.5.0",
            "_view_name": "HTMLView",
            "description": "",
            "description_tooltip": null,
            "layout": "IPY_MODEL_cf2858541c9c429d9075d0b39bff4571",
            "placeholder": "​",
            "style": "IPY_MODEL_64b3a7dc24264521aba68385c97ada7f",
            "value": "tokenizer_config.json: 100%"
          }
        },
        "93cb8088529f417484d587dad62669b5": {
          "model_module": "@jupyter-widgets/base",
          "model_module_version": "1.2.0",
          "model_name": "LayoutModel",
          "state": {
            "_model_module": "@jupyter-widgets/base",
            "_model_module_version": "1.2.0",
            "_model_name": "LayoutModel",
            "_view_count": null,
            "_view_module": "@jupyter-widgets/base",
            "_view_module_version": "1.2.0",
            "_view_name": "LayoutView",
            "align_content": null,
            "align_items": null,
            "align_self": null,
            "border": null,
            "bottom": null,
            "display": null,
            "flex": null,
            "flex_flow": null,
            "grid_area": null,
            "grid_auto_columns": null,
            "grid_auto_flow": null,
            "grid_auto_rows": null,
            "grid_column": null,
            "grid_gap": null,
            "grid_row": null,
            "grid_template_areas": null,
            "grid_template_columns": null,
            "grid_template_rows": null,
            "height": null,
            "justify_content": null,
            "justify_items": null,
            "left": null,
            "margin": null,
            "max_height": null,
            "max_width": null,
            "min_height": null,
            "min_width": null,
            "object_fit": null,
            "object_position": null,
            "order": null,
            "overflow": null,
            "overflow_x": null,
            "overflow_y": null,
            "padding": null,
            "right": null,
            "top": null,
            "visibility": null,
            "width": null
          }
        },
        "94b65112f4e94122be6cab35676f332d": {
          "model_module": "@jupyter-widgets/controls",
          "model_module_version": "1.5.0",
          "model_name": "ProgressStyleModel",
          "state": {
            "_model_module": "@jupyter-widgets/controls",
            "_model_module_version": "1.5.0",
            "_model_name": "ProgressStyleModel",
            "_view_count": null,
            "_view_module": "@jupyter-widgets/base",
            "_view_module_version": "1.2.0",
            "_view_name": "StyleView",
            "bar_color": null,
            "description_width": ""
          }
        },
        "96eb33c50a5f4f6f92fafacfaeb61e97": {
          "model_module": "@jupyter-widgets/base",
          "model_module_version": "1.2.0",
          "model_name": "LayoutModel",
          "state": {
            "_model_module": "@jupyter-widgets/base",
            "_model_module_version": "1.2.0",
            "_model_name": "LayoutModel",
            "_view_count": null,
            "_view_module": "@jupyter-widgets/base",
            "_view_module_version": "1.2.0",
            "_view_name": "LayoutView",
            "align_content": null,
            "align_items": null,
            "align_self": null,
            "border": null,
            "bottom": null,
            "display": null,
            "flex": null,
            "flex_flow": null,
            "grid_area": null,
            "grid_auto_columns": null,
            "grid_auto_flow": null,
            "grid_auto_rows": null,
            "grid_column": null,
            "grid_gap": null,
            "grid_row": null,
            "grid_template_areas": null,
            "grid_template_columns": null,
            "grid_template_rows": null,
            "height": null,
            "justify_content": null,
            "justify_items": null,
            "left": null,
            "margin": null,
            "max_height": null,
            "max_width": null,
            "min_height": null,
            "min_width": null,
            "object_fit": null,
            "object_position": null,
            "order": null,
            "overflow": null,
            "overflow_x": null,
            "overflow_y": null,
            "padding": null,
            "right": null,
            "top": null,
            "visibility": null,
            "width": null
          }
        },
        "9a1b05f49e5246a1b1b3c65ff96e415f": {
          "model_module": "@jupyter-widgets/controls",
          "model_module_version": "1.5.0",
          "model_name": "ProgressStyleModel",
          "state": {
            "_model_module": "@jupyter-widgets/controls",
            "_model_module_version": "1.5.0",
            "_model_name": "ProgressStyleModel",
            "_view_count": null,
            "_view_module": "@jupyter-widgets/base",
            "_view_module_version": "1.2.0",
            "_view_name": "StyleView",
            "bar_color": null,
            "description_width": ""
          }
        },
        "9ae6c75945914142b5b32971b25fff40": {
          "model_module": "@jupyter-widgets/base",
          "model_module_version": "1.2.0",
          "model_name": "LayoutModel",
          "state": {
            "_model_module": "@jupyter-widgets/base",
            "_model_module_version": "1.2.0",
            "_model_name": "LayoutModel",
            "_view_count": null,
            "_view_module": "@jupyter-widgets/base",
            "_view_module_version": "1.2.0",
            "_view_name": "LayoutView",
            "align_content": null,
            "align_items": null,
            "align_self": null,
            "border": null,
            "bottom": null,
            "display": null,
            "flex": null,
            "flex_flow": null,
            "grid_area": null,
            "grid_auto_columns": null,
            "grid_auto_flow": null,
            "grid_auto_rows": null,
            "grid_column": null,
            "grid_gap": null,
            "grid_row": null,
            "grid_template_areas": null,
            "grid_template_columns": null,
            "grid_template_rows": null,
            "height": null,
            "justify_content": null,
            "justify_items": null,
            "left": null,
            "margin": null,
            "max_height": null,
            "max_width": null,
            "min_height": null,
            "min_width": null,
            "object_fit": null,
            "object_position": null,
            "order": null,
            "overflow": null,
            "overflow_x": null,
            "overflow_y": null,
            "padding": null,
            "right": null,
            "top": null,
            "visibility": null,
            "width": null
          }
        },
        "9c3d332ec9084595a5d9a194d6083bee": {
          "model_module": "@jupyter-widgets/controls",
          "model_module_version": "1.5.0",
          "model_name": "HBoxModel",
          "state": {
            "_dom_classes": [],
            "_model_module": "@jupyter-widgets/controls",
            "_model_module_version": "1.5.0",
            "_model_name": "HBoxModel",
            "_view_count": null,
            "_view_module": "@jupyter-widgets/controls",
            "_view_module_version": "1.5.0",
            "_view_name": "HBoxView",
            "box_style": "",
            "children": [
              "IPY_MODEL_3f2f38344ad1472198fd5d83a8b7e6ef",
              "IPY_MODEL_30da3f153e5446c7b049e8cec587abfa",
              "IPY_MODEL_c5b6e50d071d43d28a3a0250bc8d2f45"
            ],
            "layout": "IPY_MODEL_25ca95d596574c7ab24a47482fd1e2d4"
          }
        },
        "9e63ca92f5bf48be9454ede77c395808": {
          "model_module": "@jupyter-widgets/controls",
          "model_module_version": "1.5.0",
          "model_name": "FloatProgressModel",
          "state": {
            "_dom_classes": [],
            "_model_module": "@jupyter-widgets/controls",
            "_model_module_version": "1.5.0",
            "_model_name": "FloatProgressModel",
            "_view_count": null,
            "_view_module": "@jupyter-widgets/controls",
            "_view_module_version": "1.5.0",
            "_view_name": "ProgressView",
            "bar_style": "success",
            "description": "",
            "description_tooltip": null,
            "layout": "IPY_MODEL_6698ca41246f4b1ea07cb97781656b0a",
            "max": 376,
            "min": 0,
            "orientation": "horizontal",
            "style": "IPY_MODEL_c51c70a65bec4fedaeecb48367a2e99c",
            "value": 376
          }
        },
        "9f431634fb384705805082242314943a": {
          "model_module": "@jupyter-widgets/controls",
          "model_module_version": "1.5.0",
          "model_name": "HBoxModel",
          "state": {
            "_dom_classes": [],
            "_model_module": "@jupyter-widgets/controls",
            "_model_module_version": "1.5.0",
            "_model_name": "HBoxModel",
            "_view_count": null,
            "_view_module": "@jupyter-widgets/controls",
            "_view_module_version": "1.5.0",
            "_view_name": "HBoxView",
            "box_style": "",
            "children": [
              "IPY_MODEL_1d2269b28c2c4376a47114305039b5c6",
              "IPY_MODEL_f77f46dcf2274c26b94e88a3f35a6658",
              "IPY_MODEL_f659c81341d24f4fb4c203f35e270eb6"
            ],
            "layout": "IPY_MODEL_1c5796d355fe457885610ac1c8239a98"
          }
        },
        "a039827612bd4352a5bd5ea70c3594cf": {
          "model_module": "@jupyter-widgets/controls",
          "model_module_version": "1.5.0",
          "model_name": "ProgressStyleModel",
          "state": {
            "_model_module": "@jupyter-widgets/controls",
            "_model_module_version": "1.5.0",
            "_model_name": "ProgressStyleModel",
            "_view_count": null,
            "_view_module": "@jupyter-widgets/base",
            "_view_module_version": "1.2.0",
            "_view_name": "StyleView",
            "bar_color": null,
            "description_width": ""
          }
        },
        "a41ff7cb5fc148e6a610b0556b8b7f5f": {
          "model_module": "@jupyter-widgets/controls",
          "model_module_version": "1.5.0",
          "model_name": "HBoxModel",
          "state": {
            "_dom_classes": [],
            "_model_module": "@jupyter-widgets/controls",
            "_model_module_version": "1.5.0",
            "_model_name": "HBoxModel",
            "_view_count": null,
            "_view_module": "@jupyter-widgets/controls",
            "_view_module_version": "1.5.0",
            "_view_name": "HBoxView",
            "box_style": "",
            "children": [
              "IPY_MODEL_b69b1ee46d7148bba88e5ca2be634703",
              "IPY_MODEL_b6fdd173be53406e8ba87db65ae3c19a",
              "IPY_MODEL_04f03026d55c434aabaa565a7e84ceab"
            ],
            "layout": "IPY_MODEL_db7b8e62a839453280aba29c42325ea3"
          }
        },
        "a49921035762493eabb72f5e89cbb7c2": {
          "model_module": "@jupyter-widgets/controls",
          "model_module_version": "1.5.0",
          "model_name": "HBoxModel",
          "state": {
            "_dom_classes": [],
            "_model_module": "@jupyter-widgets/controls",
            "_model_module_version": "1.5.0",
            "_model_name": "HBoxModel",
            "_view_count": null,
            "_view_module": "@jupyter-widgets/controls",
            "_view_module_version": "1.5.0",
            "_view_name": "HBoxView",
            "box_style": "",
            "children": [
              "IPY_MODEL_f391822e3df04f80a95dad7da8ebf264",
              "IPY_MODEL_e39f4c75c60642d8882be9b007a6f48a",
              "IPY_MODEL_12ff8e823c9b425bbd31492783f738b7"
            ],
            "layout": "IPY_MODEL_616fcdb044664da0bb0d147635c26b57"
          }
        },
        "a4aba33ae26b4786b1ffa3d40091ceff": {
          "model_module": "@jupyter-widgets/base",
          "model_module_version": "1.2.0",
          "model_name": "LayoutModel",
          "state": {
            "_model_module": "@jupyter-widgets/base",
            "_model_module_version": "1.2.0",
            "_model_name": "LayoutModel",
            "_view_count": null,
            "_view_module": "@jupyter-widgets/base",
            "_view_module_version": "1.2.0",
            "_view_name": "LayoutView",
            "align_content": null,
            "align_items": null,
            "align_self": null,
            "border": null,
            "bottom": null,
            "display": null,
            "flex": null,
            "flex_flow": null,
            "grid_area": null,
            "grid_auto_columns": null,
            "grid_auto_flow": null,
            "grid_auto_rows": null,
            "grid_column": null,
            "grid_gap": null,
            "grid_row": null,
            "grid_template_areas": null,
            "grid_template_columns": null,
            "grid_template_rows": null,
            "height": null,
            "justify_content": null,
            "justify_items": null,
            "left": null,
            "margin": null,
            "max_height": null,
            "max_width": null,
            "min_height": null,
            "min_width": null,
            "object_fit": null,
            "object_position": null,
            "order": null,
            "overflow": null,
            "overflow_x": null,
            "overflow_y": null,
            "padding": null,
            "right": null,
            "top": null,
            "visibility": null,
            "width": null
          }
        },
        "a594645352a94d3f808031060b20c7b1": {
          "model_module": "@jupyter-widgets/controls",
          "model_module_version": "1.5.0",
          "model_name": "FloatProgressModel",
          "state": {
            "_dom_classes": [],
            "_model_module": "@jupyter-widgets/controls",
            "_model_module_version": "1.5.0",
            "_model_name": "FloatProgressModel",
            "_view_count": null,
            "_view_module": "@jupyter-widgets/controls",
            "_view_module_version": "1.5.0",
            "_view_name": "ProgressView",
            "bar_style": "success",
            "description": "",
            "description_tooltip": null,
            "layout": "IPY_MODEL_b4b6c616695a4532901878b7a0c4469c",
            "max": 54528,
            "min": 0,
            "orientation": "horizontal",
            "style": "IPY_MODEL_cf69d3c34b204659a75bab7b460132cc",
            "value": 54528
          }
        },
        "a5e21f4d8b584af0a8b2722c8f46360a": {
          "model_module": "@jupyter-widgets/controls",
          "model_module_version": "1.5.0",
          "model_name": "HTMLModel",
          "state": {
            "_dom_classes": [],
            "_model_module": "@jupyter-widgets/controls",
            "_model_module_version": "1.5.0",
            "_model_name": "HTMLModel",
            "_view_count": null,
            "_view_module": "@jupyter-widgets/controls",
            "_view_module_version": "1.5.0",
            "_view_name": "HTMLView",
            "description": "",
            "description_tooltip": null,
            "layout": "IPY_MODEL_8f65c65faa5d44d685d216edfb4a724b",
            "placeholder": "​",
            "style": "IPY_MODEL_2ece4ae5ae99476f8c98a1af5b7c491b",
            "value": " 1755/1755 [00:00&lt;00:00, 31377.23 examples/s]"
          }
        },
        "a7029b97df734c0ca4a23f2f376951cc": {
          "model_module": "@jupyter-widgets/controls",
          "model_module_version": "1.5.0",
          "model_name": "HTMLModel",
          "state": {
            "_dom_classes": [],
            "_model_module": "@jupyter-widgets/controls",
            "_model_module_version": "1.5.0",
            "_model_name": "HTMLModel",
            "_view_count": null,
            "_view_module": "@jupyter-widgets/controls",
            "_view_module_version": "1.5.0",
            "_view_name": "HTMLView",
            "description": "",
            "description_tooltip": null,
            "layout": "IPY_MODEL_e25f809a5eaa4abc988d200d111c8191",
            "placeholder": "​",
            "style": "IPY_MODEL_16c35715dbc049438a9132fca9dd6ff4",
            "value": "generation_config.json: 100%"
          }
        },
        "a9f0165888534d74a586b84483af49de": {
          "model_module": "@jupyter-widgets/base",
          "model_module_version": "1.2.0",
          "model_name": "LayoutModel",
          "state": {
            "_model_module": "@jupyter-widgets/base",
            "_model_module_version": "1.2.0",
            "_model_name": "LayoutModel",
            "_view_count": null,
            "_view_module": "@jupyter-widgets/base",
            "_view_module_version": "1.2.0",
            "_view_name": "LayoutView",
            "align_content": null,
            "align_items": null,
            "align_self": null,
            "border": null,
            "bottom": null,
            "display": null,
            "flex": null,
            "flex_flow": null,
            "grid_area": null,
            "grid_auto_columns": null,
            "grid_auto_flow": null,
            "grid_auto_rows": null,
            "grid_column": null,
            "grid_gap": null,
            "grid_row": null,
            "grid_template_areas": null,
            "grid_template_columns": null,
            "grid_template_rows": null,
            "height": null,
            "justify_content": null,
            "justify_items": null,
            "left": null,
            "margin": null,
            "max_height": null,
            "max_width": null,
            "min_height": null,
            "min_width": null,
            "object_fit": null,
            "object_position": null,
            "order": null,
            "overflow": null,
            "overflow_x": null,
            "overflow_y": null,
            "padding": null,
            "right": null,
            "top": null,
            "visibility": null,
            "width": null
          }
        },
        "aba5f1fc4e0845db956fd7e89b23f563": {
          "model_module": "@jupyter-widgets/base",
          "model_module_version": "1.2.0",
          "model_name": "LayoutModel",
          "state": {
            "_model_module": "@jupyter-widgets/base",
            "_model_module_version": "1.2.0",
            "_model_name": "LayoutModel",
            "_view_count": null,
            "_view_module": "@jupyter-widgets/base",
            "_view_module_version": "1.2.0",
            "_view_name": "LayoutView",
            "align_content": null,
            "align_items": null,
            "align_self": null,
            "border": null,
            "bottom": null,
            "display": null,
            "flex": null,
            "flex_flow": null,
            "grid_area": null,
            "grid_auto_columns": null,
            "grid_auto_flow": null,
            "grid_auto_rows": null,
            "grid_column": null,
            "grid_gap": null,
            "grid_row": null,
            "grid_template_areas": null,
            "grid_template_columns": null,
            "grid_template_rows": null,
            "height": null,
            "justify_content": null,
            "justify_items": null,
            "left": null,
            "margin": null,
            "max_height": null,
            "max_width": null,
            "min_height": null,
            "min_width": null,
            "object_fit": null,
            "object_position": null,
            "order": null,
            "overflow": null,
            "overflow_x": null,
            "overflow_y": null,
            "padding": null,
            "right": null,
            "top": null,
            "visibility": null,
            "width": null
          }
        },
        "ae3239f766dc483982ab47dabcad7bfb": {
          "model_module": "@jupyter-widgets/controls",
          "model_module_version": "1.5.0",
          "model_name": "HTMLModel",
          "state": {
            "_dom_classes": [],
            "_model_module": "@jupyter-widgets/controls",
            "_model_module_version": "1.5.0",
            "_model_name": "HTMLModel",
            "_view_count": null,
            "_view_module": "@jupyter-widgets/controls",
            "_view_module_version": "1.5.0",
            "_view_name": "HTMLView",
            "description": "",
            "description_tooltip": null,
            "layout": "IPY_MODEL_8e7480bb18cc46d7a484861edfc83301",
            "placeholder": "​",
            "style": "IPY_MODEL_1bf60eba309a4bedbf064da1e150e269",
            "value": "Tokenizing eval dataset: 100%"
          }
        },
        "ae9a6eefc65d4650bfebcefd7bebcd3c": {
          "model_module": "@jupyter-widgets/controls",
          "model_module_version": "1.5.0",
          "model_name": "HTMLModel",
          "state": {
            "_dom_classes": [],
            "_model_module": "@jupyter-widgets/controls",
            "_model_module_version": "1.5.0",
            "_model_name": "HTMLModel",
            "_view_count": null,
            "_view_module": "@jupyter-widgets/controls",
            "_view_module_version": "1.5.0",
            "_view_name": "HTMLView",
            "description": "",
            "description_tooltip": null,
            "layout": "IPY_MODEL_298ae45f19af4b86b7e6caaffc0a9437",
            "placeholder": "​",
            "style": "IPY_MODEL_02ab853ed1354ca984136b96c6f131d7",
            "value": "Truncating eval dataset: 100%"
          }
        },
        "b13eb53fcac648998b5edf7321990373": {
          "model_module": "@jupyter-widgets/controls",
          "model_module_version": "1.5.0",
          "model_name": "DescriptionStyleModel",
          "state": {
            "_model_module": "@jupyter-widgets/controls",
            "_model_module_version": "1.5.0",
            "_model_name": "DescriptionStyleModel",
            "_view_count": null,
            "_view_module": "@jupyter-widgets/base",
            "_view_module_version": "1.2.0",
            "_view_name": "StyleView",
            "description_width": ""
          }
        },
        "b2b18b14e40a4ad493ec7f54bf0f33ea": {
          "model_module": "@jupyter-widgets/controls",
          "model_module_version": "1.5.0",
          "model_name": "DescriptionStyleModel",
          "state": {
            "_model_module": "@jupyter-widgets/controls",
            "_model_module_version": "1.5.0",
            "_model_name": "DescriptionStyleModel",
            "_view_count": null,
            "_view_module": "@jupyter-widgets/base",
            "_view_module_version": "1.2.0",
            "_view_name": "StyleView",
            "description_width": ""
          }
        },
        "b37a8645690f4a5bbf05ac5d53fe13a5": {
          "model_module": "@jupyter-widgets/controls",
          "model_module_version": "1.5.0",
          "model_name": "ProgressStyleModel",
          "state": {
            "_model_module": "@jupyter-widgets/controls",
            "_model_module_version": "1.5.0",
            "_model_name": "ProgressStyleModel",
            "_view_count": null,
            "_view_module": "@jupyter-widgets/base",
            "_view_module_version": "1.2.0",
            "_view_name": "StyleView",
            "bar_color": null,
            "description_width": ""
          }
        },
        "b4b6c616695a4532901878b7a0c4469c": {
          "model_module": "@jupyter-widgets/base",
          "model_module_version": "1.2.0",
          "model_name": "LayoutModel",
          "state": {
            "_model_module": "@jupyter-widgets/base",
            "_model_module_version": "1.2.0",
            "_model_name": "LayoutModel",
            "_view_count": null,
            "_view_module": "@jupyter-widgets/base",
            "_view_module_version": "1.2.0",
            "_view_name": "LayoutView",
            "align_content": null,
            "align_items": null,
            "align_self": null,
            "border": null,
            "bottom": null,
            "display": null,
            "flex": null,
            "flex_flow": null,
            "grid_area": null,
            "grid_auto_columns": null,
            "grid_auto_flow": null,
            "grid_auto_rows": null,
            "grid_column": null,
            "grid_gap": null,
            "grid_row": null,
            "grid_template_areas": null,
            "grid_template_columns": null,
            "grid_template_rows": null,
            "height": null,
            "justify_content": null,
            "justify_items": null,
            "left": null,
            "margin": null,
            "max_height": null,
            "max_width": null,
            "min_height": null,
            "min_width": null,
            "object_fit": null,
            "object_position": null,
            "order": null,
            "overflow": null,
            "overflow_x": null,
            "overflow_y": null,
            "padding": null,
            "right": null,
            "top": null,
            "visibility": null,
            "width": null
          }
        },
        "b4f2b7135dbf4f7c8e1304114d1f3ead": {
          "model_module": "@jupyter-widgets/controls",
          "model_module_version": "1.5.0",
          "model_name": "DescriptionStyleModel",
          "state": {
            "_model_module": "@jupyter-widgets/controls",
            "_model_module_version": "1.5.0",
            "_model_name": "DescriptionStyleModel",
            "_view_count": null,
            "_view_module": "@jupyter-widgets/base",
            "_view_module_version": "1.2.0",
            "_view_name": "StyleView",
            "description_width": ""
          }
        },
        "b53a7cf1a36849eba6fe3f72673546f6": {
          "model_module": "@jupyter-widgets/base",
          "model_module_version": "1.2.0",
          "model_name": "LayoutModel",
          "state": {
            "_model_module": "@jupyter-widgets/base",
            "_model_module_version": "1.2.0",
            "_model_name": "LayoutModel",
            "_view_count": null,
            "_view_module": "@jupyter-widgets/base",
            "_view_module_version": "1.2.0",
            "_view_name": "LayoutView",
            "align_content": null,
            "align_items": null,
            "align_self": null,
            "border": null,
            "bottom": null,
            "display": null,
            "flex": null,
            "flex_flow": null,
            "grid_area": null,
            "grid_auto_columns": null,
            "grid_auto_flow": null,
            "grid_auto_rows": null,
            "grid_column": null,
            "grid_gap": null,
            "grid_row": null,
            "grid_template_areas": null,
            "grid_template_columns": null,
            "grid_template_rows": null,
            "height": null,
            "justify_content": null,
            "justify_items": null,
            "left": null,
            "margin": null,
            "max_height": null,
            "max_width": null,
            "min_height": null,
            "min_width": null,
            "object_fit": null,
            "object_position": null,
            "order": null,
            "overflow": null,
            "overflow_x": null,
            "overflow_y": null,
            "padding": null,
            "right": null,
            "top": null,
            "visibility": null,
            "width": null
          }
        },
        "b69b1ee46d7148bba88e5ca2be634703": {
          "model_module": "@jupyter-widgets/controls",
          "model_module_version": "1.5.0",
          "model_name": "HTMLModel",
          "state": {
            "_dom_classes": [],
            "_model_module": "@jupyter-widgets/controls",
            "_model_module_version": "1.5.0",
            "_model_name": "HTMLModel",
            "_view_count": null,
            "_view_module": "@jupyter-widgets/controls",
            "_view_module_version": "1.5.0",
            "_view_name": "HTMLView",
            "description": "",
            "description_tooltip": null,
            "layout": "IPY_MODEL_b53a7cf1a36849eba6fe3f72673546f6",
            "placeholder": "​",
            "style": "IPY_MODEL_12feeefaef084250bfb97a3b25766435",
            "value": "Converting eval dataset to ChatML: 100%"
          }
        },
        "b6fdd173be53406e8ba87db65ae3c19a": {
          "model_module": "@jupyter-widgets/controls",
          "model_module_version": "1.5.0",
          "model_name": "FloatProgressModel",
          "state": {
            "_dom_classes": [],
            "_model_module": "@jupyter-widgets/controls",
            "_model_module_version": "1.5.0",
            "_model_name": "FloatProgressModel",
            "_view_count": null,
            "_view_module": "@jupyter-widgets/controls",
            "_view_module_version": "1.5.0",
            "_view_name": "ProgressView",
            "bar_style": "success",
            "description": "",
            "description_tooltip": null,
            "layout": "IPY_MODEL_76ef140dcb2d4705b15d01887ade438d",
            "max": 376,
            "min": 0,
            "orientation": "horizontal",
            "style": "IPY_MODEL_9a1b05f49e5246a1b1b3c65ff96e415f",
            "value": 376
          }
        },
        "b96e87e331b148f4b3bc4cf4a7bfa725": {
          "model_module": "@jupyter-widgets/base",
          "model_module_version": "1.2.0",
          "model_name": "LayoutModel",
          "state": {
            "_model_module": "@jupyter-widgets/base",
            "_model_module_version": "1.2.0",
            "_model_name": "LayoutModel",
            "_view_count": null,
            "_view_module": "@jupyter-widgets/base",
            "_view_module_version": "1.2.0",
            "_view_name": "LayoutView",
            "align_content": null,
            "align_items": null,
            "align_self": null,
            "border": null,
            "bottom": null,
            "display": null,
            "flex": null,
            "flex_flow": null,
            "grid_area": null,
            "grid_auto_columns": null,
            "grid_auto_flow": null,
            "grid_auto_rows": null,
            "grid_column": null,
            "grid_gap": null,
            "grid_row": null,
            "grid_template_areas": null,
            "grid_template_columns": null,
            "grid_template_rows": null,
            "height": null,
            "justify_content": null,
            "justify_items": null,
            "left": null,
            "margin": null,
            "max_height": null,
            "max_width": null,
            "min_height": null,
            "min_width": null,
            "object_fit": null,
            "object_position": null,
            "order": null,
            "overflow": null,
            "overflow_x": null,
            "overflow_y": null,
            "padding": null,
            "right": null,
            "top": null,
            "visibility": null,
            "width": null
          }
        },
        "bcf041e94b2843b8bc7b974de13f1cab": {
          "model_module": "@jupyter-widgets/base",
          "model_module_version": "1.2.0",
          "model_name": "LayoutModel",
          "state": {
            "_model_module": "@jupyter-widgets/base",
            "_model_module_version": "1.2.0",
            "_model_name": "LayoutModel",
            "_view_count": null,
            "_view_module": "@jupyter-widgets/base",
            "_view_module_version": "1.2.0",
            "_view_name": "LayoutView",
            "align_content": null,
            "align_items": null,
            "align_self": null,
            "border": null,
            "bottom": null,
            "display": null,
            "flex": null,
            "flex_flow": null,
            "grid_area": null,
            "grid_auto_columns": null,
            "grid_auto_flow": null,
            "grid_auto_rows": null,
            "grid_column": null,
            "grid_gap": null,
            "grid_row": null,
            "grid_template_areas": null,
            "grid_template_columns": null,
            "grid_template_rows": null,
            "height": null,
            "justify_content": null,
            "justify_items": null,
            "left": null,
            "margin": null,
            "max_height": null,
            "max_width": null,
            "min_height": null,
            "min_width": null,
            "object_fit": null,
            "object_position": null,
            "order": null,
            "overflow": null,
            "overflow_x": null,
            "overflow_y": null,
            "padding": null,
            "right": null,
            "top": null,
            "visibility": null,
            "width": null
          }
        },
        "bd6a8b67d2e54a02a3b658dddab5ac69": {
          "model_module": "@jupyter-widgets/base",
          "model_module_version": "1.2.0",
          "model_name": "LayoutModel",
          "state": {
            "_model_module": "@jupyter-widgets/base",
            "_model_module_version": "1.2.0",
            "_model_name": "LayoutModel",
            "_view_count": null,
            "_view_module": "@jupyter-widgets/base",
            "_view_module_version": "1.2.0",
            "_view_name": "LayoutView",
            "align_content": null,
            "align_items": null,
            "align_self": null,
            "border": null,
            "bottom": null,
            "display": null,
            "flex": null,
            "flex_flow": null,
            "grid_area": null,
            "grid_auto_columns": null,
            "grid_auto_flow": null,
            "grid_auto_rows": null,
            "grid_column": null,
            "grid_gap": null,
            "grid_row": null,
            "grid_template_areas": null,
            "grid_template_columns": null,
            "grid_template_rows": null,
            "height": null,
            "justify_content": null,
            "justify_items": null,
            "left": null,
            "margin": null,
            "max_height": null,
            "max_width": null,
            "min_height": null,
            "min_width": null,
            "object_fit": null,
            "object_position": null,
            "order": null,
            "overflow": null,
            "overflow_x": null,
            "overflow_y": null,
            "padding": null,
            "right": null,
            "top": null,
            "visibility": null,
            "width": null
          }
        },
        "bd79496848714ca9ae831b0ba205844f": {
          "model_module": "@jupyter-widgets/controls",
          "model_module_version": "1.5.0",
          "model_name": "DescriptionStyleModel",
          "state": {
            "_model_module": "@jupyter-widgets/controls",
            "_model_module_version": "1.5.0",
            "_model_name": "DescriptionStyleModel",
            "_view_count": null,
            "_view_module": "@jupyter-widgets/base",
            "_view_module_version": "1.2.0",
            "_view_name": "StyleView",
            "description_width": ""
          }
        },
        "bf815939bd5640e183e2c158c69d3f87": {
          "model_module": "@jupyter-widgets/base",
          "model_module_version": "1.2.0",
          "model_name": "LayoutModel",
          "state": {
            "_model_module": "@jupyter-widgets/base",
            "_model_module_version": "1.2.0",
            "_model_name": "LayoutModel",
            "_view_count": null,
            "_view_module": "@jupyter-widgets/base",
            "_view_module_version": "1.2.0",
            "_view_name": "LayoutView",
            "align_content": null,
            "align_items": null,
            "align_self": null,
            "border": null,
            "bottom": null,
            "display": null,
            "flex": null,
            "flex_flow": null,
            "grid_area": null,
            "grid_auto_columns": null,
            "grid_auto_flow": null,
            "grid_auto_rows": null,
            "grid_column": null,
            "grid_gap": null,
            "grid_row": null,
            "grid_template_areas": null,
            "grid_template_columns": null,
            "grid_template_rows": null,
            "height": null,
            "justify_content": null,
            "justify_items": null,
            "left": null,
            "margin": null,
            "max_height": null,
            "max_width": null,
            "min_height": null,
            "min_width": null,
            "object_fit": null,
            "object_position": null,
            "order": null,
            "overflow": null,
            "overflow_x": null,
            "overflow_y": null,
            "padding": null,
            "right": null,
            "top": null,
            "visibility": null,
            "width": null
          }
        },
        "c2d9f38a58b643c1a775239f15f2617f": {
          "model_module": "@jupyter-widgets/base",
          "model_module_version": "1.2.0",
          "model_name": "LayoutModel",
          "state": {
            "_model_module": "@jupyter-widgets/base",
            "_model_module_version": "1.2.0",
            "_model_name": "LayoutModel",
            "_view_count": null,
            "_view_module": "@jupyter-widgets/base",
            "_view_module_version": "1.2.0",
            "_view_name": "LayoutView",
            "align_content": null,
            "align_items": null,
            "align_self": null,
            "border": null,
            "bottom": null,
            "display": null,
            "flex": null,
            "flex_flow": null,
            "grid_area": null,
            "grid_auto_columns": null,
            "grid_auto_flow": null,
            "grid_auto_rows": null,
            "grid_column": null,
            "grid_gap": null,
            "grid_row": null,
            "grid_template_areas": null,
            "grid_template_columns": null,
            "grid_template_rows": null,
            "height": null,
            "justify_content": null,
            "justify_items": null,
            "left": null,
            "margin": null,
            "max_height": null,
            "max_width": null,
            "min_height": null,
            "min_width": null,
            "object_fit": null,
            "object_position": null,
            "order": null,
            "overflow": null,
            "overflow_x": null,
            "overflow_y": null,
            "padding": null,
            "right": null,
            "top": null,
            "visibility": null,
            "width": null
          }
        },
        "c51c70a65bec4fedaeecb48367a2e99c": {
          "model_module": "@jupyter-widgets/controls",
          "model_module_version": "1.5.0",
          "model_name": "ProgressStyleModel",
          "state": {
            "_model_module": "@jupyter-widgets/controls",
            "_model_module_version": "1.5.0",
            "_model_name": "ProgressStyleModel",
            "_view_count": null,
            "_view_module": "@jupyter-widgets/base",
            "_view_module_version": "1.2.0",
            "_view_name": "StyleView",
            "bar_color": null,
            "description_width": ""
          }
        },
        "c5b6e50d071d43d28a3a0250bc8d2f45": {
          "model_module": "@jupyter-widgets/controls",
          "model_module_version": "1.5.0",
          "model_name": "HTMLModel",
          "state": {
            "_dom_classes": [],
            "_model_module": "@jupyter-widgets/controls",
            "_model_module_version": "1.5.0",
            "_model_name": "HTMLModel",
            "_view_count": null,
            "_view_module": "@jupyter-widgets/controls",
            "_view_module_version": "1.5.0",
            "_view_name": "HTMLView",
            "description": "",
            "description_tooltip": null,
            "layout": "IPY_MODEL_d6807aa155e2476d814773baf3894b77",
            "placeholder": "​",
            "style": "IPY_MODEL_21ff2246632a4907953fa8fe9e1f0fd2",
            "value": " 1755/1755 [00:00&lt;00:00, 11526.22 examples/s]"
          }
        },
        "c65f2238d15947c3b7cd24243235c79e": {
          "model_module": "@jupyter-widgets/controls",
          "model_module_version": "1.5.0",
          "model_name": "ProgressStyleModel",
          "state": {
            "_model_module": "@jupyter-widgets/controls",
            "_model_module_version": "1.5.0",
            "_model_name": "ProgressStyleModel",
            "_view_count": null,
            "_view_module": "@jupyter-widgets/base",
            "_view_module_version": "1.2.0",
            "_view_name": "StyleView",
            "bar_color": null,
            "description_width": ""
          }
        },
        "c7e1751a58f84cf5a90bb9b1edf553f1": {
          "model_module": "@jupyter-widgets/base",
          "model_module_version": "1.2.0",
          "model_name": "LayoutModel",
          "state": {
            "_model_module": "@jupyter-widgets/base",
            "_model_module_version": "1.2.0",
            "_model_name": "LayoutModel",
            "_view_count": null,
            "_view_module": "@jupyter-widgets/base",
            "_view_module_version": "1.2.0",
            "_view_name": "LayoutView",
            "align_content": null,
            "align_items": null,
            "align_self": null,
            "border": null,
            "bottom": null,
            "display": null,
            "flex": null,
            "flex_flow": null,
            "grid_area": null,
            "grid_auto_columns": null,
            "grid_auto_flow": null,
            "grid_auto_rows": null,
            "grid_column": null,
            "grid_gap": null,
            "grid_row": null,
            "grid_template_areas": null,
            "grid_template_columns": null,
            "grid_template_rows": null,
            "height": null,
            "justify_content": null,
            "justify_items": null,
            "left": null,
            "margin": null,
            "max_height": null,
            "max_width": null,
            "min_height": null,
            "min_width": null,
            "object_fit": null,
            "object_position": null,
            "order": null,
            "overflow": null,
            "overflow_x": null,
            "overflow_y": null,
            "padding": null,
            "right": null,
            "top": null,
            "visibility": null,
            "width": null
          }
        },
        "ca90b102c1944ccda6f458fad0f3f7df": {
          "model_module": "@jupyter-widgets/base",
          "model_module_version": "1.2.0",
          "model_name": "LayoutModel",
          "state": {
            "_model_module": "@jupyter-widgets/base",
            "_model_module_version": "1.2.0",
            "_model_name": "LayoutModel",
            "_view_count": null,
            "_view_module": "@jupyter-widgets/base",
            "_view_module_version": "1.2.0",
            "_view_name": "LayoutView",
            "align_content": null,
            "align_items": null,
            "align_self": null,
            "border": null,
            "bottom": null,
            "display": null,
            "flex": null,
            "flex_flow": null,
            "grid_area": null,
            "grid_auto_columns": null,
            "grid_auto_flow": null,
            "grid_auto_rows": null,
            "grid_column": null,
            "grid_gap": null,
            "grid_row": null,
            "grid_template_areas": null,
            "grid_template_columns": null,
            "grid_template_rows": null,
            "height": null,
            "justify_content": null,
            "justify_items": null,
            "left": null,
            "margin": null,
            "max_height": null,
            "max_width": null,
            "min_height": null,
            "min_width": null,
            "object_fit": null,
            "object_position": null,
            "order": null,
            "overflow": null,
            "overflow_x": null,
            "overflow_y": null,
            "padding": null,
            "right": null,
            "top": null,
            "visibility": null,
            "width": null
          }
        },
        "cb70840e709b4cb9aef9ff52d6a39071": {
          "model_module": "@jupyter-widgets/base",
          "model_module_version": "1.2.0",
          "model_name": "LayoutModel",
          "state": {
            "_model_module": "@jupyter-widgets/base",
            "_model_module_version": "1.2.0",
            "_model_name": "LayoutModel",
            "_view_count": null,
            "_view_module": "@jupyter-widgets/base",
            "_view_module_version": "1.2.0",
            "_view_name": "LayoutView",
            "align_content": null,
            "align_items": null,
            "align_self": null,
            "border": null,
            "bottom": null,
            "display": null,
            "flex": null,
            "flex_flow": null,
            "grid_area": null,
            "grid_auto_columns": null,
            "grid_auto_flow": null,
            "grid_auto_rows": null,
            "grid_column": null,
            "grid_gap": null,
            "grid_row": null,
            "grid_template_areas": null,
            "grid_template_columns": null,
            "grid_template_rows": null,
            "height": null,
            "justify_content": null,
            "justify_items": null,
            "left": null,
            "margin": null,
            "max_height": null,
            "max_width": null,
            "min_height": null,
            "min_width": null,
            "object_fit": null,
            "object_position": null,
            "order": null,
            "overflow": null,
            "overflow_x": null,
            "overflow_y": null,
            "padding": null,
            "right": null,
            "top": null,
            "visibility": null,
            "width": null
          }
        },
        "cf2858541c9c429d9075d0b39bff4571": {
          "model_module": "@jupyter-widgets/base",
          "model_module_version": "1.2.0",
          "model_name": "LayoutModel",
          "state": {
            "_model_module": "@jupyter-widgets/base",
            "_model_module_version": "1.2.0",
            "_model_name": "LayoutModel",
            "_view_count": null,
            "_view_module": "@jupyter-widgets/base",
            "_view_module_version": "1.2.0",
            "_view_name": "LayoutView",
            "align_content": null,
            "align_items": null,
            "align_self": null,
            "border": null,
            "bottom": null,
            "display": null,
            "flex": null,
            "flex_flow": null,
            "grid_area": null,
            "grid_auto_columns": null,
            "grid_auto_flow": null,
            "grid_auto_rows": null,
            "grid_column": null,
            "grid_gap": null,
            "grid_row": null,
            "grid_template_areas": null,
            "grid_template_columns": null,
            "grid_template_rows": null,
            "height": null,
            "justify_content": null,
            "justify_items": null,
            "left": null,
            "margin": null,
            "max_height": null,
            "max_width": null,
            "min_height": null,
            "min_width": null,
            "object_fit": null,
            "object_position": null,
            "order": null,
            "overflow": null,
            "overflow_x": null,
            "overflow_y": null,
            "padding": null,
            "right": null,
            "top": null,
            "visibility": null,
            "width": null
          }
        },
        "cf69d3c34b204659a75bab7b460132cc": {
          "model_module": "@jupyter-widgets/controls",
          "model_module_version": "1.5.0",
          "model_name": "ProgressStyleModel",
          "state": {
            "_model_module": "@jupyter-widgets/controls",
            "_model_module_version": "1.5.0",
            "_model_name": "ProgressStyleModel",
            "_view_count": null,
            "_view_module": "@jupyter-widgets/base",
            "_view_module_version": "1.2.0",
            "_view_name": "StyleView",
            "bar_color": null,
            "description_width": ""
          }
        },
        "cf91550575d844d592d685244a47da88": {
          "model_module": "@jupyter-widgets/controls",
          "model_module_version": "1.5.0",
          "model_name": "DescriptionStyleModel",
          "state": {
            "_model_module": "@jupyter-widgets/controls",
            "_model_module_version": "1.5.0",
            "_model_name": "DescriptionStyleModel",
            "_view_count": null,
            "_view_module": "@jupyter-widgets/base",
            "_view_module_version": "1.2.0",
            "_view_name": "StyleView",
            "description_width": ""
          }
        },
        "d002d11606634c11849464632ba8c2fc": {
          "model_module": "@jupyter-widgets/base",
          "model_module_version": "1.2.0",
          "model_name": "LayoutModel",
          "state": {
            "_model_module": "@jupyter-widgets/base",
            "_model_module_version": "1.2.0",
            "_model_name": "LayoutModel",
            "_view_count": null,
            "_view_module": "@jupyter-widgets/base",
            "_view_module_version": "1.2.0",
            "_view_name": "LayoutView",
            "align_content": null,
            "align_items": null,
            "align_self": null,
            "border": null,
            "bottom": null,
            "display": null,
            "flex": null,
            "flex_flow": null,
            "grid_area": null,
            "grid_auto_columns": null,
            "grid_auto_flow": null,
            "grid_auto_rows": null,
            "grid_column": null,
            "grid_gap": null,
            "grid_row": null,
            "grid_template_areas": null,
            "grid_template_columns": null,
            "grid_template_rows": null,
            "height": null,
            "justify_content": null,
            "justify_items": null,
            "left": null,
            "margin": null,
            "max_height": null,
            "max_width": null,
            "min_height": null,
            "min_width": null,
            "object_fit": null,
            "object_position": null,
            "order": null,
            "overflow": null,
            "overflow_x": null,
            "overflow_y": null,
            "padding": null,
            "right": null,
            "top": null,
            "visibility": null,
            "width": null
          }
        },
        "d076cdf72a614551b9d5cc7910a51667": {
          "model_module": "@jupyter-widgets/base",
          "model_module_version": "1.2.0",
          "model_name": "LayoutModel",
          "state": {
            "_model_module": "@jupyter-widgets/base",
            "_model_module_version": "1.2.0",
            "_model_name": "LayoutModel",
            "_view_count": null,
            "_view_module": "@jupyter-widgets/base",
            "_view_module_version": "1.2.0",
            "_view_name": "LayoutView",
            "align_content": null,
            "align_items": null,
            "align_self": null,
            "border": null,
            "bottom": null,
            "display": null,
            "flex": null,
            "flex_flow": null,
            "grid_area": null,
            "grid_auto_columns": null,
            "grid_auto_flow": null,
            "grid_auto_rows": null,
            "grid_column": null,
            "grid_gap": null,
            "grid_row": null,
            "grid_template_areas": null,
            "grid_template_columns": null,
            "grid_template_rows": null,
            "height": null,
            "justify_content": null,
            "justify_items": null,
            "left": null,
            "margin": null,
            "max_height": null,
            "max_width": null,
            "min_height": null,
            "min_width": null,
            "object_fit": null,
            "object_position": null,
            "order": null,
            "overflow": null,
            "overflow_x": null,
            "overflow_y": null,
            "padding": null,
            "right": null,
            "top": null,
            "visibility": null,
            "width": null
          }
        },
        "d5e8e7f6f41b4c909e3b5e427dc91bba": {
          "model_module": "@jupyter-widgets/controls",
          "model_module_version": "1.5.0",
          "model_name": "DescriptionStyleModel",
          "state": {
            "_model_module": "@jupyter-widgets/controls",
            "_model_module_version": "1.5.0",
            "_model_name": "DescriptionStyleModel",
            "_view_count": null,
            "_view_module": "@jupyter-widgets/base",
            "_view_module_version": "1.2.0",
            "_view_name": "StyleView",
            "description_width": ""
          }
        },
        "d6807aa155e2476d814773baf3894b77": {
          "model_module": "@jupyter-widgets/base",
          "model_module_version": "1.2.0",
          "model_name": "LayoutModel",
          "state": {
            "_model_module": "@jupyter-widgets/base",
            "_model_module_version": "1.2.0",
            "_model_name": "LayoutModel",
            "_view_count": null,
            "_view_module": "@jupyter-widgets/base",
            "_view_module_version": "1.2.0",
            "_view_name": "LayoutView",
            "align_content": null,
            "align_items": null,
            "align_self": null,
            "border": null,
            "bottom": null,
            "display": null,
            "flex": null,
            "flex_flow": null,
            "grid_area": null,
            "grid_auto_columns": null,
            "grid_auto_flow": null,
            "grid_auto_rows": null,
            "grid_column": null,
            "grid_gap": null,
            "grid_row": null,
            "grid_template_areas": null,
            "grid_template_columns": null,
            "grid_template_rows": null,
            "height": null,
            "justify_content": null,
            "justify_items": null,
            "left": null,
            "margin": null,
            "max_height": null,
            "max_width": null,
            "min_height": null,
            "min_width": null,
            "object_fit": null,
            "object_position": null,
            "order": null,
            "overflow": null,
            "overflow_x": null,
            "overflow_y": null,
            "padding": null,
            "right": null,
            "top": null,
            "visibility": null,
            "width": null
          }
        },
        "d8a0b45062ea470eb6f0e58ab49501f0": {
          "model_module": "@jupyter-widgets/controls",
          "model_module_version": "1.5.0",
          "model_name": "HTMLModel",
          "state": {
            "_dom_classes": [],
            "_model_module": "@jupyter-widgets/controls",
            "_model_module_version": "1.5.0",
            "_model_name": "HTMLModel",
            "_view_count": null,
            "_view_module": "@jupyter-widgets/controls",
            "_view_module_version": "1.5.0",
            "_view_name": "HTMLView",
            "description": "",
            "description_tooltip": null,
            "layout": "IPY_MODEL_b96e87e331b148f4b3bc4cf4a7bfa725",
            "placeholder": "​",
            "style": "IPY_MODEL_b13eb53fcac648998b5edf7321990373",
            "value": " 1755/1755 [00:00&lt;00:00, 9626.06 examples/s]"
          }
        },
        "da03391ecb444f3a845dd1dfa8a90e5b": {
          "model_module": "@jupyter-widgets/controls",
          "model_module_version": "1.5.0",
          "model_name": "FloatProgressModel",
          "state": {
            "_dom_classes": [],
            "_model_module": "@jupyter-widgets/controls",
            "_model_module_version": "1.5.0",
            "_model_name": "FloatProgressModel",
            "_view_count": null,
            "_view_module": "@jupyter-widgets/controls",
            "_view_module_version": "1.5.0",
            "_view_name": "ProgressView",
            "bar_style": "success",
            "description": "",
            "description_tooltip": null,
            "layout": "IPY_MODEL_fe264be4d18344ebab38094b00a7c178",
            "max": 9085657,
            "min": 0,
            "orientation": "horizontal",
            "style": "IPY_MODEL_8cb5496b402c4a65b192f4c7e07ea533",
            "value": 9085657
          }
        },
        "db7b8e62a839453280aba29c42325ea3": {
          "model_module": "@jupyter-widgets/base",
          "model_module_version": "1.2.0",
          "model_name": "LayoutModel",
          "state": {
            "_model_module": "@jupyter-widgets/base",
            "_model_module_version": "1.2.0",
            "_model_name": "LayoutModel",
            "_view_count": null,
            "_view_module": "@jupyter-widgets/base",
            "_view_module_version": "1.2.0",
            "_view_name": "LayoutView",
            "align_content": null,
            "align_items": null,
            "align_self": null,
            "border": null,
            "bottom": null,
            "display": null,
            "flex": null,
            "flex_flow": null,
            "grid_area": null,
            "grid_auto_columns": null,
            "grid_auto_flow": null,
            "grid_auto_rows": null,
            "grid_column": null,
            "grid_gap": null,
            "grid_row": null,
            "grid_template_areas": null,
            "grid_template_columns": null,
            "grid_template_rows": null,
            "height": null,
            "justify_content": null,
            "justify_items": null,
            "left": null,
            "margin": null,
            "max_height": null,
            "max_width": null,
            "min_height": null,
            "min_width": null,
            "object_fit": null,
            "object_position": null,
            "order": null,
            "overflow": null,
            "overflow_x": null,
            "overflow_y": null,
            "padding": null,
            "right": null,
            "top": null,
            "visibility": null,
            "width": null
          }
        },
        "db939081dba742bc858d0f9fe16402d1": {
          "model_module": "@jupyter-widgets/controls",
          "model_module_version": "1.5.0",
          "model_name": "HTMLModel",
          "state": {
            "_dom_classes": [],
            "_model_module": "@jupyter-widgets/controls",
            "_model_module_version": "1.5.0",
            "_model_name": "HTMLModel",
            "_view_count": null,
            "_view_module": "@jupyter-widgets/controls",
            "_view_module_version": "1.5.0",
            "_view_name": "HTMLView",
            "description": "",
            "description_tooltip": null,
            "layout": "IPY_MODEL_a9f0165888534d74a586b84483af49de",
            "placeholder": "​",
            "style": "IPY_MODEL_415118f92f4b48f9a401107654019148",
            "value": "Truncating train dataset: 100%"
          }
        },
        "dcc87ddeb6114bbeb03252442f78f447": {
          "model_module": "@jupyter-widgets/controls",
          "model_module_version": "1.5.0",
          "model_name": "FloatProgressModel",
          "state": {
            "_dom_classes": [],
            "_model_module": "@jupyter-widgets/controls",
            "_model_module_version": "1.5.0",
            "_model_name": "FloatProgressModel",
            "_view_count": null,
            "_view_module": "@jupyter-widgets/controls",
            "_view_module_version": "1.5.0",
            "_view_name": "ProgressView",
            "bar_style": "success",
            "description": "",
            "description_tooltip": null,
            "layout": "IPY_MODEL_64aaebcce5974a63845a609281578b26",
            "max": 189,
            "min": 0,
            "orientation": "horizontal",
            "style": "IPY_MODEL_94b65112f4e94122be6cab35676f332d",
            "value": 189
          }
        },
        "e05c5f3a86a549f7a64718e73d8d2af2": {
          "model_module": "@jupyter-widgets/base",
          "model_module_version": "1.2.0",
          "model_name": "LayoutModel",
          "state": {
            "_model_module": "@jupyter-widgets/base",
            "_model_module_version": "1.2.0",
            "_model_name": "LayoutModel",
            "_view_count": null,
            "_view_module": "@jupyter-widgets/base",
            "_view_module_version": "1.2.0",
            "_view_name": "LayoutView",
            "align_content": null,
            "align_items": null,
            "align_self": null,
            "border": null,
            "bottom": null,
            "display": null,
            "flex": null,
            "flex_flow": null,
            "grid_area": null,
            "grid_auto_columns": null,
            "grid_auto_flow": null,
            "grid_auto_rows": null,
            "grid_column": null,
            "grid_gap": null,
            "grid_row": null,
            "grid_template_areas": null,
            "grid_template_columns": null,
            "grid_template_rows": null,
            "height": null,
            "justify_content": null,
            "justify_items": null,
            "left": null,
            "margin": null,
            "max_height": null,
            "max_width": null,
            "min_height": null,
            "min_width": null,
            "object_fit": null,
            "object_position": null,
            "order": null,
            "overflow": null,
            "overflow_x": null,
            "overflow_y": null,
            "padding": null,
            "right": null,
            "top": null,
            "visibility": null,
            "width": null
          }
        },
        "e17f9cc64afa479e815e4bf2559b1b82": {
          "model_module": "@jupyter-widgets/controls",
          "model_module_version": "1.5.0",
          "model_name": "HTMLModel",
          "state": {
            "_dom_classes": [],
            "_model_module": "@jupyter-widgets/controls",
            "_model_module_version": "1.5.0",
            "_model_name": "HTMLModel",
            "_view_count": null,
            "_view_module": "@jupyter-widgets/controls",
            "_view_module_version": "1.5.0",
            "_view_name": "HTMLView",
            "description": "",
            "description_tooltip": null,
            "layout": "IPY_MODEL_93cb8088529f417484d587dad62669b5",
            "placeholder": "​",
            "style": "IPY_MODEL_f98ef15c90dc435aa71a45acdd15a2bf",
            "value": " 376/376 [00:00&lt;00:00, 733.43 examples/s]"
          }
        },
        "e25f809a5eaa4abc988d200d111c8191": {
          "model_module": "@jupyter-widgets/base",
          "model_module_version": "1.2.0",
          "model_name": "LayoutModel",
          "state": {
            "_model_module": "@jupyter-widgets/base",
            "_model_module_version": "1.2.0",
            "_model_name": "LayoutModel",
            "_view_count": null,
            "_view_module": "@jupyter-widgets/base",
            "_view_module_version": "1.2.0",
            "_view_name": "LayoutView",
            "align_content": null,
            "align_items": null,
            "align_self": null,
            "border": null,
            "bottom": null,
            "display": null,
            "flex": null,
            "flex_flow": null,
            "grid_area": null,
            "grid_auto_columns": null,
            "grid_auto_flow": null,
            "grid_auto_rows": null,
            "grid_column": null,
            "grid_gap": null,
            "grid_row": null,
            "grid_template_areas": null,
            "grid_template_columns": null,
            "grid_template_rows": null,
            "height": null,
            "justify_content": null,
            "justify_items": null,
            "left": null,
            "margin": null,
            "max_height": null,
            "max_width": null,
            "min_height": null,
            "min_width": null,
            "object_fit": null,
            "object_position": null,
            "order": null,
            "overflow": null,
            "overflow_x": null,
            "overflow_y": null,
            "padding": null,
            "right": null,
            "top": null,
            "visibility": null,
            "width": null
          }
        },
        "e39f4c75c60642d8882be9b007a6f48a": {
          "model_module": "@jupyter-widgets/controls",
          "model_module_version": "1.5.0",
          "model_name": "FloatProgressModel",
          "state": {
            "_dom_classes": [],
            "_model_module": "@jupyter-widgets/controls",
            "_model_module_version": "1.5.0",
            "_model_name": "FloatProgressModel",
            "_view_count": null,
            "_view_module": "@jupyter-widgets/controls",
            "_view_module_version": "1.5.0",
            "_view_name": "ProgressView",
            "bar_style": "success",
            "description": "",
            "description_tooltip": null,
            "layout": "IPY_MODEL_96eb33c50a5f4f6f92fafacfaeb61e97",
            "max": 2471645608,
            "min": 0,
            "orientation": "horizontal",
            "style": "IPY_MODEL_5121eab25be64d1da1538e576972b103",
            "value": 2471645608
          }
        },
        "e7374c1e23e348b7834e7850940d988c": {
          "model_module": "@jupyter-widgets/controls",
          "model_module_version": "1.5.0",
          "model_name": "HTMLModel",
          "state": {
            "_dom_classes": [],
            "_model_module": "@jupyter-widgets/controls",
            "_model_module_version": "1.5.0",
            "_model_name": "HTMLModel",
            "_view_count": null,
            "_view_module": "@jupyter-widgets/controls",
            "_view_module_version": "1.5.0",
            "_view_name": "HTMLView",
            "description": "",
            "description_tooltip": null,
            "layout": "IPY_MODEL_1501cd7e027e4583916b23990b57b423",
            "placeholder": "​",
            "style": "IPY_MODEL_b4f2b7135dbf4f7c8e1304114d1f3ead",
            "value": " 54.5k/54.5k [00:00&lt;00:00, 4.24MB/s]"
          }
        },
        "e8a2c656acc842ccafd5f4a1c640bece": {
          "model_module": "@jupyter-widgets/controls",
          "model_module_version": "1.5.0",
          "model_name": "HTMLModel",
          "state": {
            "_dom_classes": [],
            "_model_module": "@jupyter-widgets/controls",
            "_model_module_version": "1.5.0",
            "_model_name": "HTMLModel",
            "_view_count": null,
            "_view_module": "@jupyter-widgets/controls",
            "_view_module_version": "1.5.0",
            "_view_name": "HTMLView",
            "description": "",
            "description_tooltip": null,
            "layout": "IPY_MODEL_8abe4e17f4b543ef84424946d2adf2e5",
            "placeholder": "​",
            "style": "IPY_MODEL_804dab627c4c4fbb983305ea6d51694e",
            "value": "tokenizer.json: 100%"
          }
        },
        "eff443f383f74bf39e62319686623f6e": {
          "model_module": "@jupyter-widgets/base",
          "model_module_version": "1.2.0",
          "model_name": "LayoutModel",
          "state": {
            "_model_module": "@jupyter-widgets/base",
            "_model_module_version": "1.2.0",
            "_model_name": "LayoutModel",
            "_view_count": null,
            "_view_module": "@jupyter-widgets/base",
            "_view_module_version": "1.2.0",
            "_view_name": "LayoutView",
            "align_content": null,
            "align_items": null,
            "align_self": null,
            "border": null,
            "bottom": null,
            "display": null,
            "flex": null,
            "flex_flow": null,
            "grid_area": null,
            "grid_auto_columns": null,
            "grid_auto_flow": null,
            "grid_auto_rows": null,
            "grid_column": null,
            "grid_gap": null,
            "grid_row": null,
            "grid_template_areas": null,
            "grid_template_columns": null,
            "grid_template_rows": null,
            "height": null,
            "justify_content": null,
            "justify_items": null,
            "left": null,
            "margin": null,
            "max_height": null,
            "max_width": null,
            "min_height": null,
            "min_width": null,
            "object_fit": null,
            "object_position": null,
            "order": null,
            "overflow": null,
            "overflow_x": null,
            "overflow_y": null,
            "padding": null,
            "right": null,
            "top": null,
            "visibility": null,
            "width": null
          }
        },
        "f27afcd6a6004754bce2f1f6fb2c2765": {
          "model_module": "@jupyter-widgets/controls",
          "model_module_version": "1.5.0",
          "model_name": "HTMLModel",
          "state": {
            "_dom_classes": [],
            "_model_module": "@jupyter-widgets/controls",
            "_model_module_version": "1.5.0",
            "_model_name": "HTMLModel",
            "_view_count": null,
            "_view_module": "@jupyter-widgets/controls",
            "_view_module_version": "1.5.0",
            "_view_name": "HTMLView",
            "description": "",
            "description_tooltip": null,
            "layout": "IPY_MODEL_1bbfe93e449340a789a29905542d5aef",
            "placeholder": "​",
            "style": "IPY_MODEL_bd79496848714ca9ae831b0ba205844f",
            "value": " 376/376 [00:00&lt;00:00, 7368.64 examples/s]"
          }
        },
        "f391822e3df04f80a95dad7da8ebf264": {
          "model_module": "@jupyter-widgets/controls",
          "model_module_version": "1.5.0",
          "model_name": "HTMLModel",
          "state": {
            "_dom_classes": [],
            "_model_module": "@jupyter-widgets/controls",
            "_model_module_version": "1.5.0",
            "_model_name": "HTMLModel",
            "_view_count": null,
            "_view_module": "@jupyter-widgets/controls",
            "_view_module_version": "1.5.0",
            "_view_name": "HTMLView",
            "description": "",
            "description_tooltip": null,
            "layout": "IPY_MODEL_7f7eabd2f0234f59b11f4e5471be7c77",
            "placeholder": "​",
            "style": "IPY_MODEL_12ae927f47ad4942a82c70eec937e95a",
            "value": "model.safetensors: 100%"
          }
        },
        "f659c81341d24f4fb4c203f35e270eb6": {
          "model_module": "@jupyter-widgets/controls",
          "model_module_version": "1.5.0",
          "model_name": "HTMLModel",
          "state": {
            "_dom_classes": [],
            "_model_module": "@jupyter-widgets/controls",
            "_model_module_version": "1.5.0",
            "_model_name": "HTMLModel",
            "_view_count": null,
            "_view_module": "@jupyter-widgets/controls",
            "_view_module_version": "1.5.0",
            "_view_name": "HTMLView",
            "description": "",
            "description_tooltip": null,
            "layout": "IPY_MODEL_c7e1751a58f84cf5a90bb9b1edf553f1",
            "placeholder": "​",
            "style": "IPY_MODEL_6389cfe743eb4dac85c92b443550d9e0",
            "value": " 296/296 [00:00&lt;00:00, 30.0kB/s]"
          }
        },
        "f6728cb4c37e4e5eb71ac84b0482c551": {
          "model_module": "@jupyter-widgets/base",
          "model_module_version": "1.2.0",
          "model_name": "LayoutModel",
          "state": {
            "_model_module": "@jupyter-widgets/base",
            "_model_module_version": "1.2.0",
            "_model_name": "LayoutModel",
            "_view_count": null,
            "_view_module": "@jupyter-widgets/base",
            "_view_module_version": "1.2.0",
            "_view_name": "LayoutView",
            "align_content": null,
            "align_items": null,
            "align_self": null,
            "border": null,
            "bottom": null,
            "display": null,
            "flex": null,
            "flex_flow": null,
            "grid_area": null,
            "grid_auto_columns": null,
            "grid_auto_flow": null,
            "grid_auto_rows": null,
            "grid_column": null,
            "grid_gap": null,
            "grid_row": null,
            "grid_template_areas": null,
            "grid_template_columns": null,
            "grid_template_rows": null,
            "height": null,
            "justify_content": null,
            "justify_items": null,
            "left": null,
            "margin": null,
            "max_height": null,
            "max_width": null,
            "min_height": null,
            "min_width": null,
            "object_fit": null,
            "object_position": null,
            "order": null,
            "overflow": null,
            "overflow_x": null,
            "overflow_y": null,
            "padding": null,
            "right": null,
            "top": null,
            "visibility": null,
            "width": null
          }
        },
        "f6c8058caac34cac924374bb29260655": {
          "model_module": "@jupyter-widgets/controls",
          "model_module_version": "1.5.0",
          "model_name": "HTMLModel",
          "state": {
            "_dom_classes": [],
            "_model_module": "@jupyter-widgets/controls",
            "_model_module_version": "1.5.0",
            "_model_name": "HTMLModel",
            "_view_count": null,
            "_view_module": "@jupyter-widgets/controls",
            "_view_module_version": "1.5.0",
            "_view_name": "HTMLView",
            "description": "",
            "description_tooltip": null,
            "layout": "IPY_MODEL_eff443f383f74bf39e62319686623f6e",
            "placeholder": "​",
            "style": "IPY_MODEL_6798e28cde7f4a28aa65eda752239de2",
            "value": "Tokenizing train dataset: 100%"
          }
        },
        "f6e9e10b74b946faa9b18036ceb09ee1": {
          "model_module": "@jupyter-widgets/base",
          "model_module_version": "1.2.0",
          "model_name": "LayoutModel",
          "state": {
            "_model_module": "@jupyter-widgets/base",
            "_model_module_version": "1.2.0",
            "_model_name": "LayoutModel",
            "_view_count": null,
            "_view_module": "@jupyter-widgets/base",
            "_view_module_version": "1.2.0",
            "_view_name": "LayoutView",
            "align_content": null,
            "align_items": null,
            "align_self": null,
            "border": null,
            "bottom": null,
            "display": null,
            "flex": null,
            "flex_flow": null,
            "grid_area": null,
            "grid_auto_columns": null,
            "grid_auto_flow": null,
            "grid_auto_rows": null,
            "grid_column": null,
            "grid_gap": null,
            "grid_row": null,
            "grid_template_areas": null,
            "grid_template_columns": null,
            "grid_template_rows": null,
            "height": null,
            "justify_content": null,
            "justify_items": null,
            "left": null,
            "margin": null,
            "max_height": null,
            "max_width": null,
            "min_height": null,
            "min_width": null,
            "object_fit": null,
            "object_position": null,
            "order": null,
            "overflow": null,
            "overflow_x": null,
            "overflow_y": null,
            "padding": null,
            "right": null,
            "top": null,
            "visibility": null,
            "width": null
          }
        },
        "f77f46dcf2274c26b94e88a3f35a6658": {
          "model_module": "@jupyter-widgets/controls",
          "model_module_version": "1.5.0",
          "model_name": "FloatProgressModel",
          "state": {
            "_dom_classes": [],
            "_model_module": "@jupyter-widgets/controls",
            "_model_module_version": "1.5.0",
            "_model_name": "FloatProgressModel",
            "_view_count": null,
            "_view_module": "@jupyter-widgets/controls",
            "_view_module_version": "1.5.0",
            "_view_name": "ProgressView",
            "bar_style": "success",
            "description": "",
            "description_tooltip": null,
            "layout": "IPY_MODEL_a4aba33ae26b4786b1ffa3d40091ceff",
            "max": 296,
            "min": 0,
            "orientation": "horizontal",
            "style": "IPY_MODEL_7148afba842f467eb619184b7d6238b4",
            "value": 296
          }
        },
        "f98ef15c90dc435aa71a45acdd15a2bf": {
          "model_module": "@jupyter-widgets/controls",
          "model_module_version": "1.5.0",
          "model_name": "DescriptionStyleModel",
          "state": {
            "_model_module": "@jupyter-widgets/controls",
            "_model_module_version": "1.5.0",
            "_model_name": "DescriptionStyleModel",
            "_view_count": null,
            "_view_module": "@jupyter-widgets/base",
            "_view_module_version": "1.2.0",
            "_view_name": "StyleView",
            "description_width": ""
          }
        },
        "fe264be4d18344ebab38094b00a7c178": {
          "model_module": "@jupyter-widgets/base",
          "model_module_version": "1.2.0",
          "model_name": "LayoutModel",
          "state": {
            "_model_module": "@jupyter-widgets/base",
            "_model_module_version": "1.2.0",
            "_model_name": "LayoutModel",
            "_view_count": null,
            "_view_module": "@jupyter-widgets/base",
            "_view_module_version": "1.2.0",
            "_view_name": "LayoutView",
            "align_content": null,
            "align_items": null,
            "align_self": null,
            "border": null,
            "bottom": null,
            "display": null,
            "flex": null,
            "flex_flow": null,
            "grid_area": null,
            "grid_auto_columns": null,
            "grid_auto_flow": null,
            "grid_auto_rows": null,
            "grid_column": null,
            "grid_gap": null,
            "grid_row": null,
            "grid_template_areas": null,
            "grid_template_columns": null,
            "grid_template_rows": null,
            "height": null,
            "justify_content": null,
            "justify_items": null,
            "left": null,
            "margin": null,
            "max_height": null,
            "max_width": null,
            "min_height": null,
            "min_width": null,
            "object_fit": null,
            "object_position": null,
            "order": null,
            "overflow": null,
            "overflow_x": null,
            "overflow_y": null,
            "padding": null,
            "right": null,
            "top": null,
            "visibility": null,
            "width": null
          }
        },
        "ff934f49322f41b698d0a4bddda7cb55": {
          "model_module": "@jupyter-widgets/controls",
          "model_module_version": "1.5.0",
          "model_name": "FloatProgressModel",
          "state": {
            "_dom_classes": [],
            "_model_module": "@jupyter-widgets/controls",
            "_model_module_version": "1.5.0",
            "_model_name": "FloatProgressModel",
            "_view_count": null,
            "_view_module": "@jupyter-widgets/controls",
            "_view_module_version": "1.5.0",
            "_view_name": "ProgressView",
            "bar_style": "success",
            "description": "",
            "description_tooltip": null,
            "layout": "IPY_MODEL_bcf041e94b2843b8bc7b974de13f1cab",
            "max": 376,
            "min": 0,
            "orientation": "horizontal",
            "style": "IPY_MODEL_b37a8645690f4a5bbf05ac5d53fe13a5",
            "value": 376
          }
        }
      }
    }
  },
  "nbformat": 4,
  "nbformat_minor": 5
}

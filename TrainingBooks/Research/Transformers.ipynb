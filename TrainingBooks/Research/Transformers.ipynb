{
 "cells": [
  {
   "cell_type": "markdown",
   "id": "fb7dd9f1",
   "metadata": {},
   "source": [
    "Con respecto al cuaderno de **Transformers**:\n",
    "- Comparar 3 Transformers *multilingual*\n",
    "- Comparar 3 por *separado* (español/inglés), es decir 3 de español y 3 de inglés\n",
    "    - Otra opción es traducir y pasárselo al modelo del otro idioma. \n",
    "- El mejor de los dos apartados anteriores le hacemos optimización de hiperparámetros (5 o 6 hiperparámetros)"
   ]
  }
 ],
 "metadata": {
  "language_info": {
   "name": "python"
  }
 },
 "nbformat": 4,
 "nbformat_minor": 5
}

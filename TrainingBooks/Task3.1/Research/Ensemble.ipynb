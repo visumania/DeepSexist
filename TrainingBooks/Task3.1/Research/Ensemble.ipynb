{
 "cells": [
  {
   "cell_type": "markdown",
   "id": "72fc6de6",
   "metadata": {},
   "source": [
    "El objetivo de este cuaderno es hacer un ensemble entre el mejor modelo de los cuadernos *LLM.ipynb* y *Transformers.ipynb*, junto con un modelo que trabaje con imágenes y otro modelo que trabaje con videos.\n",
    "\n",
    "En este cuaderno también haremos un análisis de errores. "
   ]
  }
 ],
 "metadata": {
  "language_info": {
   "name": "python"
  }
 },
 "nbformat": 4,
 "nbformat_minor": 5
}

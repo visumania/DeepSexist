{
 "cells": [
  {
   "cell_type": "markdown",
   "id": "13898455",
   "metadata": {},
   "source": [
    "El objetivo de este cuaderno es comparar 3 LLMs y seleccionar el mejor"
   ]
  }
 ],
 "metadata": {
  "language_info": {
   "name": "python"
  }
 },
 "nbformat": 4,
 "nbformat_minor": 5
}

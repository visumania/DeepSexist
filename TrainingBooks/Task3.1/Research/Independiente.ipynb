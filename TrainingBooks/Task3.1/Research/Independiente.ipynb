{
 "cells": [
  {
   "cell_type": "markdown",
   "id": "c07f1b2b",
   "metadata": {},
   "source": [
    "El nombre de este cuaderno hace referencia a que lo trabajado aquí es **independiente** a la competición de *EXIST 2025*. Vamos a trabajar sobre el perspectivismo del hombre y la mujer:\n",
    "\n",
    "- Entrenar mejor Transformer por separado (diviendo en hombre y mujer) y comparar el resultado con el mejor Transformer del cuaderno *Transformers.ipynb*.\n",
    "- Coger el mejor LLM del cuaderno *LLM.ipynb* y a través del prompt le indico si es hombre o mujer. "
   ]
  }
 ],
 "metadata": {
  "language_info": {
   "name": "python"
  }
 },
 "nbformat": 4,
 "nbformat_minor": 5
}

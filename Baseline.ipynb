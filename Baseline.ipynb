{
  "nbformat": 4,
  "nbformat_minor": 0,
  "metadata": {
    "colab": {
      "provenance": [],
      "authorship_tag": "ABX9TyN2Kb7ePrV/r0one1YHEJIP",
      "include_colab_link": true
    },
    "kernelspec": {
      "name": "python3",
      "display_name": "Python 3"
    },
    "language_info": {
      "name": "python"
    }
  },
  "cells": [
    {
      "cell_type": "markdown",
      "metadata": {
        "id": "view-in-github",
        "colab_type": "text"
      },
      "source": [
        "<a href=\"https://colab.research.google.com/github/visumania/DeepSexist/blob/main/Baseline.ipynb\" target=\"_parent\"><img src=\"https://colab.research.google.com/assets/colab-badge.svg\" alt=\"Open In Colab\"/></a>"
      ]
    },
    {
      "cell_type": "code",
      "source": [
        "# Montura de google colab para poder leer/escribir en Google Drive\n",
        "from google.colab import drive\n",
        "drive.mount('/content/drive')"
      ],
      "metadata": {
        "colab": {
          "base_uri": "https://localhost:8080/"
        },
        "id": "OhsvIKpgPjNl",
        "outputId": "cd016196-9867-45be-98bf-07fb61689ccf"
      },
      "execution_count": 1,
      "outputs": [
        {
          "output_type": "stream",
          "name": "stdout",
          "text": [
            "Mounted at /content/drive\n"
          ]
        }
      ]
    },
    {
      "cell_type": "markdown",
      "source": [
        "Importación de librerías necesarias"
      ],
      "metadata": {
        "id": "TFRoFREmP54T"
      }
    },
    {
      "cell_type": "code",
      "source": [
        "import pandas as pd"
      ],
      "metadata": {
        "id": "aCyNQu2rP5Y5"
      },
      "execution_count": 2,
      "outputs": []
    },
    {
      "cell_type": "markdown",
      "source": [
        "Lectura y tratamiento de los datos del fichero"
      ],
      "metadata": {
        "id": "n1H-Tj35P_GM"
      }
    },
    {
      "cell_type": "code",
      "source": [
        "df = pd.read_json('/content/drive/MyDrive/EXIST 2025 Videos Dataset/training/EXIST2025_training.json', orient='index') # Lectura del dataset desde Drive\n",
        "df.reset_index(drop=True, inplace=True) # Reseteamos el index del dataframe\n",
        "df = df.drop(columns=[\"id_Tiktok\", \"id_EXIST\", \"video\", \"url\", \"annotators\", \"gender_annotators\", \"labels_task3_2\", \"split\"]) # Eliminación de columnas que no son relevantes del dataframe"
      ],
      "metadata": {
        "id": "GFbV9G6gQDKG"
      },
      "execution_count": 4,
      "outputs": []
    },
    {
      "cell_type": "code",
      "source": [
        "# Distribución de datos importantes en el fichero\n",
        "\n",
        "print(\"Distribución del número de anotadores\")\n",
        "print(df.value_counts(\"number_annotators\"))\n",
        "\n",
        "print(\"\\nDistribución del idioma\")\n",
        "print(df.value_counts(\"lang\"))\n",
        "\n",
        "print(\"\\nDistribución del etiquetado para la tarea 1\")\n",
        "print(df['labels_task3_1'].value_counts())\n",
        "\n",
        "print(\"\\nDistribución del etiquetado para la tarea 3\")\n",
        "print(df['labels_task3_3'].value_counts())"
      ],
      "metadata": {
        "colab": {
          "base_uri": "https://localhost:8080/"
        },
        "id": "xFOMgm0ppAvZ",
        "outputId": "4ef61c5f-09ba-40cf-8be2-417a3dd63676"
      },
      "execution_count": 5,
      "outputs": [
        {
          "output_type": "stream",
          "name": "stdout",
          "text": [
            "Distribución del número de anotadores\n",
            "number_annotators\n",
            "2    1780\n",
            "3     744\n",
            "Name: count, dtype: int64\n",
            "\n",
            "Distribución del idioma\n",
            "lang\n",
            "es    1524\n",
            "en    1000\n",
            "Name: count, dtype: int64\n",
            "\n",
            "Distribución del etiquetado para la tarea 1\n",
            "labels_task3_1\n",
            "[NO, NO]               1069\n",
            "[YES, YES]              711\n",
            "[YES, NO, YES]          255\n",
            "[NO, YES, NO]           140\n",
            "[YES, YES, YES]         108\n",
            "[NO, YES, YES]          101\n",
            "[YES, NO, NO]            62\n",
            "[UNKNOWN, NO, NO]        20\n",
            "[UNKNOWN, YES, YES]      19\n",
            "[NO, UNKNOWN, NO]        15\n",
            "[UNKNOWN, YES, NO]        7\n",
            "[UNKNOWN, NO, YES]        6\n",
            "[YES, UNKNOWN, YES]       4\n",
            "[YES, YES, NO]            4\n",
            "[YES, UNKNOWN, NO]        2\n",
            "[NO, UNKNOWN, YES]        1\n",
            "Name: count, dtype: int64\n",
            "\n",
            "Distribución del etiquetado para la tarea 3\n",
            "labels_task3_3\n",
            "[[-], [-]]                                                                                                               1069\n",
            "[[STEREOTYPING-DOMINANCE], [STEREOTYPING-DOMINANCE]]                                                                      234\n",
            "[[STEREOTYPING-DOMINANCE], [-], [STEREOTYPING-DOMINANCE]]                                                                  74\n",
            "[[-], [STEREOTYPING-DOMINANCE], [-]]                                                                                       74\n",
            "[[IDEOLOGICAL-INEQUALITY], [IDEOLOGICAL-INEQUALITY]]                                                                       52\n",
            "                                                                                                                         ... \n",
            "[[IDEOLOGICAL-INEQUALITY, STEREOTYPING-DOMINANCE, MISOGYNY-NON-SEXUAL-VIOLENCE], [STEREOTYPING-DOMINANCE]]                  1\n",
            "[[IDEOLOGICAL-INEQUALITY], [STEREOTYPING-DOMINANCE], [STEREOTYPING-DOMINANCE, MISOGYNY-NON-SEXUAL-VIOLENCE]]                1\n",
            "[[STEREOTYPING-DOMINANCE, MISOGYNY-NON-SEXUAL-VIOLENCE], [-], [STEREOTYPING-DOMINANCE, MISOGYNY-NON-SEXUAL-VIOLENCE]]       1\n",
            "[[OBJECTIFICATION], [STEREOTYPING-DOMINANCE], [STEREOTYPING-DOMINANCE, OBJECTIFICATION]]                                    1\n",
            "[[IDEOLOGICAL-INEQUALITY], [OBJECTIFICATION]]                                                                               1\n",
            "Name: count, Length: 292, dtype: int64\n"
          ]
        }
      ]
    },
    {
      "cell_type": "markdown",
      "source": [
        "Tratamiento del fichero orifinal para generar uno nuevo en donde solamente se recoja la información relevante para la tarea 3.1\n",
        "\n",
        "La primera tarea es una clasificación binaria. Los sistemas tienen que decidir si un vídeo dado contiene o no expresiones o comportamientos sexistas (es decir, es sexista en sí mismo, describe una situación sexista o critica un comportamiento sexista), y clasificarlos según dos categorías: **YES** y **NO**"
      ],
      "metadata": {
        "id": "voJWd5ckLZzH"
      }
    },
    {
      "cell_type": "code",
      "source": [
        "# Eliminamos la columna correspondiente a la tarea 3.3\n",
        "df_3_1 = df.drop(columns=[\"labels_task3_3\"])\n",
        "\n",
        "# Expande la columna labels_task3_1 en varias columnas\n",
        "df_3_1_expanded = df_3_1[\"labels_task3_1\"].apply(pd.Series)\n",
        "\n",
        "# Renombra las columnas resultantes para mayor claridad\n",
        "df_3_1_expanded.columns = [f\"labels_task_3_1_{i+1}\" for i in range(df_3_1_expanded.shape[1])]\n",
        "\n",
        "# Une con el dataframe original sin la columna original\n",
        "df_3_1 = pd.concat([df_3_1.drop(columns=[\"labels_task3_1\"]), df_3_1_expanded], axis=1)\n",
        "\n",
        "# Pasamos a binario los valores YES y NO\n",
        "df_3_1.iloc[:, 4:] = df_3_1.iloc[:, 4:].replace({\"YES\": int(1), \"NO\": int(0)})\n",
        "\n",
        "# # Esto se hace si queremos determinar si un valor específico de una fila/columna de un dataframe es NaN\n",
        "# # print(pd.isna(df_3_1.at[0, 'labels_task_3_1_3']))\n",
        "\n",
        "df_3_1.iloc[:, 6] = df_3_1.iloc[:, 6].astype(\"Int64\")  # Pasamos los valores binarios de la última columna a int64 --> Tipo entero que soporta NaN\n",
        "\n",
        "# print(str(type(df_3_1.iloc[0,6]))==\"<class 'pandas._libs.missing.NAType'>\")\n",
        "\n",
        "print(df_3_1['labels_task_3_1_1'].value_counts())\n",
        "print(df_3_1['labels_task_3_1_2'].value_counts())\n",
        "print(df_3_1['labels_task_3_1_3'].value_counts())\n",
        "\n",
        "# df_3_1"
      ],
      "metadata": {
        "id": "sJEQQTZ4qlRo",
        "outputId": "701af3e3-a30a-485c-a48a-e1684301a6d6",
        "colab": {
          "base_uri": "https://localhost:8080/"
        }
      },
      "execution_count": 6,
      "outputs": [
        {
          "output_type": "stream",
          "name": "stdout",
          "text": [
            "labels_task_3_1_1\n",
            "0          1326\n",
            "1          1146\n",
            "UNKNOWN      52\n",
            "Name: count, dtype: int64\n",
            "labels_task_3_1_2\n",
            "0          1412\n",
            "1          1090\n",
            "UNKNOWN      22\n",
            "Name: count, dtype: int64\n",
            "labels_task_3_1_3\n",
            "1    494\n",
            "0    250\n",
            "Name: count, dtype: int64\n"
          ]
        },
        {
          "output_type": "stream",
          "name": "stderr",
          "text": [
            "<ipython-input-6-7a2f2c4d8e45>:14: FutureWarning: Downcasting behavior in `replace` is deprecated and will be removed in a future version. To retain the old behavior, explicitly call `result.infer_objects(copy=False)`. To opt-in to the future behavior, set `pd.set_option('future.no_silent_downcasting', True)`\n",
            "  df_3_1.iloc[:, 4:] = df_3_1.iloc[:, 4:].replace({\"YES\": int(1), \"NO\": int(0)})\n"
          ]
        }
      ]
    },
    {
      "cell_type": "markdown",
      "source": [
        "Unificado de las anotaciones de los diferentes anotadores/as por mayoría: Si tiene 3 anotadores se unifica en el etiquetado que haya predominado en cada anotador/a.\n",
        "Si hay 2 anotadores/as y conflictos habrá que decidir si dejarlo como 0 o 1"
      ],
      "metadata": {
        "id": "gaxNR6oP29sO"
      }
    },
    {
      "cell_type": "code",
      "source": [
        "df_3_1[\"label_task_3_1_merged\"] = 0 # Creación de una nueva columna en donde recogeremos la unión de la etiquetas impuestas por los/las anotadores/as"
      ],
      "metadata": {
        "id": "C6wT7N326oTx"
      },
      "execution_count": 7,
      "outputs": []
    },
    {
      "cell_type": "code",
      "source": [
        "print(str(df_3_1.iloc[1]['labels_task_3_1_3']) == '<NA>')\n",
        "print(df_3_1.iloc[0]['labels_task_3_1_1'] == 'UNKNOWN')"
      ],
      "metadata": {
        "id": "Bqg0k2olNMiP",
        "outputId": "0d5f6535-741c-4dbc-b280-16a3d4483d19",
        "colab": {
          "base_uri": "https://localhost:8080/"
        }
      },
      "execution_count": 8,
      "outputs": [
        {
          "output_type": "stream",
          "name": "stdout",
          "text": [
            "True\n",
            "False\n"
          ]
        }
      ]
    },
    {
      "cell_type": "code",
      "source": [
        "for i in range(df_3_1.shape[0]):\n",
        "  votacionPositiva = votacionNegativa = 0\n",
        "  numeroAnotadores = df_3_1.iloc[i]['number_annotators'] # Asimilamos que el número de anotadores es el que nos dice la columna pero lo verificaremos en las siguientes filas de código\n",
        "\n",
        "  if df_3_1.iloc[i]['labels_task_3_1_1'] == 0:\n",
        "    votacionNegativa += 1\n",
        "  elif df_3_1.iloc[i]['labels_task_3_1_1'] == 1:\n",
        "    votacionPositiva += 1\n",
        "  elif df_3_1.iloc[i]['labels_task_3_1_1'] == 'UNKNOWN': # En caso de que el etiquetado sea UNKNOWN (contabiliza al anotador pero no nos aporta información por lo que podemos descartarlo)\n",
        "    numeroAnotadores -= 1\n",
        "\n",
        "  if df_3_1.iloc[i]['labels_task_3_1_2'] == 0:\n",
        "    votacionNegativa += 1\n",
        "  elif df_3_1.iloc[i]['labels_task_3_1_2'] == 1:\n",
        "    votacionPositiva += 1\n",
        "  elif df_3_1.iloc[i]['labels_task_3_1_2'] == 'UNKNOWN': # En caso de que el etiquetado sea UNKNOWN (contabiliza al anotador pero no nos aporta información por lo que podemos descartarlo)\n",
        "    numeroAnotadores -= 1\n",
        "\n",
        "  if str(df_3_1.iloc[i]['labels_task_3_1_3']) == '0':\n",
        "    votacionNegativa += 1\n",
        "  elif str(df_3_1.iloc[i]['labels_task_3_1_3']) == '1':\n",
        "    votacionPositiva += 1\n",
        "\n",
        "  if numeroAnotadores == 3:\n",
        "    if votacionPositiva > votacionNegativa:\n",
        "      df_3_1.at[i, 'label_task_3_1_merged'] = 1\n",
        "    elif votacionPositiva < votacionNegativa:\n",
        "      df_3_1.at[i, 'label_task_3_1_merged'] = 0\n",
        "\n",
        "  if numeroAnotadores == 2:\n",
        "    if votacionPositiva == 2:\n",
        "      df_3_1.at[i, 'label_task_3_1_merged'] = 1\n",
        "    elif votacionNegativa == 2:\n",
        "      df_3_1.at[i, 'label_task_3_1_merged'] = 0\n",
        "    elif votacionNegativa == votacionPositiva == 1:\n",
        "      df_3_1.at[i, 'label_task_3_1_merged'] = 'To_delete' # CONFLICTO. Tenemos 3 opciones etiquetar 0, etiquetar 1 o descartar la fila\n",
        "\n",
        "# df_3_1"
      ],
      "metadata": {
        "id": "Hisx5c8JdbVX",
        "colab": {
          "base_uri": "https://localhost:8080/"
        },
        "outputId": "ab9d13de-d7a6-4019-ca8d-49248854113e"
      },
      "execution_count": 9,
      "outputs": [
        {
          "output_type": "stream",
          "name": "stderr",
          "text": [
            "<ipython-input-9-d46e6eb9da8f>:36: FutureWarning: Setting an item of incompatible dtype is deprecated and will raise an error in a future version of pandas. Value 'To_delete' has dtype incompatible with int64, please explicitly cast to a compatible dtype first.\n",
            "  df_3_1.at[i, 'label_task_3_1_merged'] = 'To_delete' # CONFLICTO. Tenemos 3 opciones etiquetar 0, etiquetar 1 o descartar la fila\n"
          ]
        }
      ]
    },
    {
      "cell_type": "code",
      "source": [
        "df_3_1 = df_3_1.drop(columns=[\"number_annotators\",\"labels_task_3_1_1\", \"labels_task_3_1_2\", \"labels_task_3_1_3\"])"
      ],
      "metadata": {
        "id": "n72wBTHtcQ7t"
      },
      "execution_count": 10,
      "outputs": []
    },
    {
      "cell_type": "code",
      "source": [
        "# Distribución del etiquetado después del tratado inicial de los datos\n",
        "print(df_3_1['label_task_3_1_merged'].value_counts())"
      ],
      "metadata": {
        "id": "qjsVXetbc0aO",
        "outputId": "0472d178-5f7f-4c23-981c-8af3f42f6c80",
        "colab": {
          "base_uri": "https://localhost:8080/"
        }
      },
      "execution_count": 13,
      "outputs": [
        {
          "output_type": "stream",
          "name": "stdout",
          "text": [
            "label_task_3_1_merged\n",
            "0    1306\n",
            "1    1202\n",
            "Name: count, dtype: int64\n"
          ]
        }
      ]
    },
    {
      "cell_type": "code",
      "source": [
        "# Eliminación de las filas del dataframe que son conflictivas (2 anotadores con 2 etiquetas distintas)\n",
        "\n",
        "df_3_1 = df_3_1.drop(df_3_1[df_3_1['label_task_3_1_merged'] == 'To_delete'].index)\n",
        "df_3_1.reset_index(drop=True, inplace=True)"
      ],
      "metadata": {
        "id": "RkenRt3OjwLR"
      },
      "execution_count": 12,
      "outputs": []
    },
    {
      "cell_type": "code",
      "source": [
        "df_3_1"
      ],
      "metadata": {
        "id": "mF_VuUuJkI2L",
        "outputId": "8ecf136f-34ec-4074-99af-1a133d63f0e6",
        "colab": {
          "base_uri": "https://localhost:8080/",
          "height": 424
        }
      },
      "execution_count": 14,
      "outputs": [
        {
          "output_type": "execute_result",
          "data": {
            "text/plain": [
              "     lang                                               text  \\\n",
              "0      es   cuando ves a las del 08 en la fiesta tu amigo...   \n",
              "1      es  mujer sola caminando por la calle | yo automat...   \n",
              "2      es   mi amigo no le importa ni las mujeres ni las ...   \n",
              "3      es  confirman las chicas cogiendo confianza despué...   \n",
              "4      es  aplastar la realidad la gordita del salón tien...   \n",
              "...   ...                                                ...   \n",
              "2503   es  temach le contesta a juan guarnizo 'compa_revj...   \n",
              "2504   es   sígueme, persona, rk, nik, meuk, ad0, mefor, ...   \n",
              "2505   es  vas a seguir regalando flores? no regales ni a...   \n",
              "2506   es   héctor dice que el sábado puse un pedo en cas...   \n",
              "2507   es  palabras que duelen  broken_heart  femach 8766...   \n",
              "\n",
              "                          path_video label_task_3_1_merged  \n",
              "0     videos/7281385962049998086.mp4                     1  \n",
              "1     videos/7164058026352168197.mp4                     1  \n",
              "2     videos/7248606026386263323.mp4                     0  \n",
              "3     videos/7305803156074597665.mp4                     1  \n",
              "4     videos/7318400739775204614.mp4                     1  \n",
              "...                              ...                   ...  \n",
              "2503  videos/7200979592717339910.mp4                     1  \n",
              "2504  videos/7211806336047156486.mp4                     0  \n",
              "2505  videos/7213218074936315141.mp4                     1  \n",
              "2506  videos/7217265848409492782.mp4                     0  \n",
              "2507  videos/7218429008445312261.mp4                     0  \n",
              "\n",
              "[2508 rows x 4 columns]"
            ],
            "text/html": [
              "\n",
              "  <div id=\"df-42d57897-5fdd-4e79-8d26-5a4dc2aec88d\" class=\"colab-df-container\">\n",
              "    <div>\n",
              "<style scoped>\n",
              "    .dataframe tbody tr th:only-of-type {\n",
              "        vertical-align: middle;\n",
              "    }\n",
              "\n",
              "    .dataframe tbody tr th {\n",
              "        vertical-align: top;\n",
              "    }\n",
              "\n",
              "    .dataframe thead th {\n",
              "        text-align: right;\n",
              "    }\n",
              "</style>\n",
              "<table border=\"1\" class=\"dataframe\">\n",
              "  <thead>\n",
              "    <tr style=\"text-align: right;\">\n",
              "      <th></th>\n",
              "      <th>lang</th>\n",
              "      <th>text</th>\n",
              "      <th>path_video</th>\n",
              "      <th>label_task_3_1_merged</th>\n",
              "    </tr>\n",
              "  </thead>\n",
              "  <tbody>\n",
              "    <tr>\n",
              "      <th>0</th>\n",
              "      <td>es</td>\n",
              "      <td>cuando ves a las del 08 en la fiesta tu amigo...</td>\n",
              "      <td>videos/7281385962049998086.mp4</td>\n",
              "      <td>1</td>\n",
              "    </tr>\n",
              "    <tr>\n",
              "      <th>1</th>\n",
              "      <td>es</td>\n",
              "      <td>mujer sola caminando por la calle | yo automat...</td>\n",
              "      <td>videos/7164058026352168197.mp4</td>\n",
              "      <td>1</td>\n",
              "    </tr>\n",
              "    <tr>\n",
              "      <th>2</th>\n",
              "      <td>es</td>\n",
              "      <td>mi amigo no le importa ni las mujeres ni las ...</td>\n",
              "      <td>videos/7248606026386263323.mp4</td>\n",
              "      <td>0</td>\n",
              "    </tr>\n",
              "    <tr>\n",
              "      <th>3</th>\n",
              "      <td>es</td>\n",
              "      <td>confirman las chicas cogiendo confianza despué...</td>\n",
              "      <td>videos/7305803156074597665.mp4</td>\n",
              "      <td>1</td>\n",
              "    </tr>\n",
              "    <tr>\n",
              "      <th>4</th>\n",
              "      <td>es</td>\n",
              "      <td>aplastar la realidad la gordita del salón tien...</td>\n",
              "      <td>videos/7318400739775204614.mp4</td>\n",
              "      <td>1</td>\n",
              "    </tr>\n",
              "    <tr>\n",
              "      <th>...</th>\n",
              "      <td>...</td>\n",
              "      <td>...</td>\n",
              "      <td>...</td>\n",
              "      <td>...</td>\n",
              "    </tr>\n",
              "    <tr>\n",
              "      <th>2503</th>\n",
              "      <td>es</td>\n",
              "      <td>temach le contesta a juan guarnizo 'compa_revj...</td>\n",
              "      <td>videos/7200979592717339910.mp4</td>\n",
              "      <td>1</td>\n",
              "    </tr>\n",
              "    <tr>\n",
              "      <th>2504</th>\n",
              "      <td>es</td>\n",
              "      <td>sígueme, persona, rk, nik, meuk, ad0, mefor, ...</td>\n",
              "      <td>videos/7211806336047156486.mp4</td>\n",
              "      <td>0</td>\n",
              "    </tr>\n",
              "    <tr>\n",
              "      <th>2505</th>\n",
              "      <td>es</td>\n",
              "      <td>vas a seguir regalando flores? no regales ni a...</td>\n",
              "      <td>videos/7213218074936315141.mp4</td>\n",
              "      <td>1</td>\n",
              "    </tr>\n",
              "    <tr>\n",
              "      <th>2506</th>\n",
              "      <td>es</td>\n",
              "      <td>héctor dice que el sábado puse un pedo en cas...</td>\n",
              "      <td>videos/7217265848409492782.mp4</td>\n",
              "      <td>0</td>\n",
              "    </tr>\n",
              "    <tr>\n",
              "      <th>2507</th>\n",
              "      <td>es</td>\n",
              "      <td>palabras que duelen  broken_heart  femach 8766...</td>\n",
              "      <td>videos/7218429008445312261.mp4</td>\n",
              "      <td>0</td>\n",
              "    </tr>\n",
              "  </tbody>\n",
              "</table>\n",
              "<p>2508 rows × 4 columns</p>\n",
              "</div>\n",
              "    <div class=\"colab-df-buttons\">\n",
              "\n",
              "  <div class=\"colab-df-container\">\n",
              "    <button class=\"colab-df-convert\" onclick=\"convertToInteractive('df-42d57897-5fdd-4e79-8d26-5a4dc2aec88d')\"\n",
              "            title=\"Convert this dataframe to an interactive table.\"\n",
              "            style=\"display:none;\">\n",
              "\n",
              "  <svg xmlns=\"http://www.w3.org/2000/svg\" height=\"24px\" viewBox=\"0 -960 960 960\">\n",
              "    <path d=\"M120-120v-720h720v720H120Zm60-500h600v-160H180v160Zm220 220h160v-160H400v160Zm0 220h160v-160H400v160ZM180-400h160v-160H180v160Zm440 0h160v-160H620v160ZM180-180h160v-160H180v160Zm440 0h160v-160H620v160Z\"/>\n",
              "  </svg>\n",
              "    </button>\n",
              "\n",
              "  <style>\n",
              "    .colab-df-container {\n",
              "      display:flex;\n",
              "      gap: 12px;\n",
              "    }\n",
              "\n",
              "    .colab-df-convert {\n",
              "      background-color: #E8F0FE;\n",
              "      border: none;\n",
              "      border-radius: 50%;\n",
              "      cursor: pointer;\n",
              "      display: none;\n",
              "      fill: #1967D2;\n",
              "      height: 32px;\n",
              "      padding: 0 0 0 0;\n",
              "      width: 32px;\n",
              "    }\n",
              "\n",
              "    .colab-df-convert:hover {\n",
              "      background-color: #E2EBFA;\n",
              "      box-shadow: 0px 1px 2px rgba(60, 64, 67, 0.3), 0px 1px 3px 1px rgba(60, 64, 67, 0.15);\n",
              "      fill: #174EA6;\n",
              "    }\n",
              "\n",
              "    .colab-df-buttons div {\n",
              "      margin-bottom: 4px;\n",
              "    }\n",
              "\n",
              "    [theme=dark] .colab-df-convert {\n",
              "      background-color: #3B4455;\n",
              "      fill: #D2E3FC;\n",
              "    }\n",
              "\n",
              "    [theme=dark] .colab-df-convert:hover {\n",
              "      background-color: #434B5C;\n",
              "      box-shadow: 0px 1px 3px 1px rgba(0, 0, 0, 0.15);\n",
              "      filter: drop-shadow(0px 1px 2px rgba(0, 0, 0, 0.3));\n",
              "      fill: #FFFFFF;\n",
              "    }\n",
              "  </style>\n",
              "\n",
              "    <script>\n",
              "      const buttonEl =\n",
              "        document.querySelector('#df-42d57897-5fdd-4e79-8d26-5a4dc2aec88d button.colab-df-convert');\n",
              "      buttonEl.style.display =\n",
              "        google.colab.kernel.accessAllowed ? 'block' : 'none';\n",
              "\n",
              "      async function convertToInteractive(key) {\n",
              "        const element = document.querySelector('#df-42d57897-5fdd-4e79-8d26-5a4dc2aec88d');\n",
              "        const dataTable =\n",
              "          await google.colab.kernel.invokeFunction('convertToInteractive',\n",
              "                                                    [key], {});\n",
              "        if (!dataTable) return;\n",
              "\n",
              "        const docLinkHtml = 'Like what you see? Visit the ' +\n",
              "          '<a target=\"_blank\" href=https://colab.research.google.com/notebooks/data_table.ipynb>data table notebook</a>'\n",
              "          + ' to learn more about interactive tables.';\n",
              "        element.innerHTML = '';\n",
              "        dataTable['output_type'] = 'display_data';\n",
              "        await google.colab.output.renderOutput(dataTable, element);\n",
              "        const docLink = document.createElement('div');\n",
              "        docLink.innerHTML = docLinkHtml;\n",
              "        element.appendChild(docLink);\n",
              "      }\n",
              "    </script>\n",
              "  </div>\n",
              "\n",
              "\n",
              "<div id=\"df-f3c1ca2d-42e9-41f9-8520-18e7516ac373\">\n",
              "  <button class=\"colab-df-quickchart\" onclick=\"quickchart('df-f3c1ca2d-42e9-41f9-8520-18e7516ac373')\"\n",
              "            title=\"Suggest charts\"\n",
              "            style=\"display:none;\">\n",
              "\n",
              "<svg xmlns=\"http://www.w3.org/2000/svg\" height=\"24px\"viewBox=\"0 0 24 24\"\n",
              "     width=\"24px\">\n",
              "    <g>\n",
              "        <path d=\"M19 3H5c-1.1 0-2 .9-2 2v14c0 1.1.9 2 2 2h14c1.1 0 2-.9 2-2V5c0-1.1-.9-2-2-2zM9 17H7v-7h2v7zm4 0h-2V7h2v10zm4 0h-2v-4h2v4z\"/>\n",
              "    </g>\n",
              "</svg>\n",
              "  </button>\n",
              "\n",
              "<style>\n",
              "  .colab-df-quickchart {\n",
              "      --bg-color: #E8F0FE;\n",
              "      --fill-color: #1967D2;\n",
              "      --hover-bg-color: #E2EBFA;\n",
              "      --hover-fill-color: #174EA6;\n",
              "      --disabled-fill-color: #AAA;\n",
              "      --disabled-bg-color: #DDD;\n",
              "  }\n",
              "\n",
              "  [theme=dark] .colab-df-quickchart {\n",
              "      --bg-color: #3B4455;\n",
              "      --fill-color: #D2E3FC;\n",
              "      --hover-bg-color: #434B5C;\n",
              "      --hover-fill-color: #FFFFFF;\n",
              "      --disabled-bg-color: #3B4455;\n",
              "      --disabled-fill-color: #666;\n",
              "  }\n",
              "\n",
              "  .colab-df-quickchart {\n",
              "    background-color: var(--bg-color);\n",
              "    border: none;\n",
              "    border-radius: 50%;\n",
              "    cursor: pointer;\n",
              "    display: none;\n",
              "    fill: var(--fill-color);\n",
              "    height: 32px;\n",
              "    padding: 0;\n",
              "    width: 32px;\n",
              "  }\n",
              "\n",
              "  .colab-df-quickchart:hover {\n",
              "    background-color: var(--hover-bg-color);\n",
              "    box-shadow: 0 1px 2px rgba(60, 64, 67, 0.3), 0 1px 3px 1px rgba(60, 64, 67, 0.15);\n",
              "    fill: var(--button-hover-fill-color);\n",
              "  }\n",
              "\n",
              "  .colab-df-quickchart-complete:disabled,\n",
              "  .colab-df-quickchart-complete:disabled:hover {\n",
              "    background-color: var(--disabled-bg-color);\n",
              "    fill: var(--disabled-fill-color);\n",
              "    box-shadow: none;\n",
              "  }\n",
              "\n",
              "  .colab-df-spinner {\n",
              "    border: 2px solid var(--fill-color);\n",
              "    border-color: transparent;\n",
              "    border-bottom-color: var(--fill-color);\n",
              "    animation:\n",
              "      spin 1s steps(1) infinite;\n",
              "  }\n",
              "\n",
              "  @keyframes spin {\n",
              "    0% {\n",
              "      border-color: transparent;\n",
              "      border-bottom-color: var(--fill-color);\n",
              "      border-left-color: var(--fill-color);\n",
              "    }\n",
              "    20% {\n",
              "      border-color: transparent;\n",
              "      border-left-color: var(--fill-color);\n",
              "      border-top-color: var(--fill-color);\n",
              "    }\n",
              "    30% {\n",
              "      border-color: transparent;\n",
              "      border-left-color: var(--fill-color);\n",
              "      border-top-color: var(--fill-color);\n",
              "      border-right-color: var(--fill-color);\n",
              "    }\n",
              "    40% {\n",
              "      border-color: transparent;\n",
              "      border-right-color: var(--fill-color);\n",
              "      border-top-color: var(--fill-color);\n",
              "    }\n",
              "    60% {\n",
              "      border-color: transparent;\n",
              "      border-right-color: var(--fill-color);\n",
              "    }\n",
              "    80% {\n",
              "      border-color: transparent;\n",
              "      border-right-color: var(--fill-color);\n",
              "      border-bottom-color: var(--fill-color);\n",
              "    }\n",
              "    90% {\n",
              "      border-color: transparent;\n",
              "      border-bottom-color: var(--fill-color);\n",
              "    }\n",
              "  }\n",
              "</style>\n",
              "\n",
              "  <script>\n",
              "    async function quickchart(key) {\n",
              "      const quickchartButtonEl =\n",
              "        document.querySelector('#' + key + ' button');\n",
              "      quickchartButtonEl.disabled = true;  // To prevent multiple clicks.\n",
              "      quickchartButtonEl.classList.add('colab-df-spinner');\n",
              "      try {\n",
              "        const charts = await google.colab.kernel.invokeFunction(\n",
              "            'suggestCharts', [key], {});\n",
              "      } catch (error) {\n",
              "        console.error('Error during call to suggestCharts:', error);\n",
              "      }\n",
              "      quickchartButtonEl.classList.remove('colab-df-spinner');\n",
              "      quickchartButtonEl.classList.add('colab-df-quickchart-complete');\n",
              "    }\n",
              "    (() => {\n",
              "      let quickchartButtonEl =\n",
              "        document.querySelector('#df-f3c1ca2d-42e9-41f9-8520-18e7516ac373 button');\n",
              "      quickchartButtonEl.style.display =\n",
              "        google.colab.kernel.accessAllowed ? 'block' : 'none';\n",
              "    })();\n",
              "  </script>\n",
              "</div>\n",
              "\n",
              "  <div id=\"id_f94809fe-172c-478e-b1f4-298ce8ec6080\">\n",
              "    <style>\n",
              "      .colab-df-generate {\n",
              "        background-color: #E8F0FE;\n",
              "        border: none;\n",
              "        border-radius: 50%;\n",
              "        cursor: pointer;\n",
              "        display: none;\n",
              "        fill: #1967D2;\n",
              "        height: 32px;\n",
              "        padding: 0 0 0 0;\n",
              "        width: 32px;\n",
              "      }\n",
              "\n",
              "      .colab-df-generate:hover {\n",
              "        background-color: #E2EBFA;\n",
              "        box-shadow: 0px 1px 2px rgba(60, 64, 67, 0.3), 0px 1px 3px 1px rgba(60, 64, 67, 0.15);\n",
              "        fill: #174EA6;\n",
              "      }\n",
              "\n",
              "      [theme=dark] .colab-df-generate {\n",
              "        background-color: #3B4455;\n",
              "        fill: #D2E3FC;\n",
              "      }\n",
              "\n",
              "      [theme=dark] .colab-df-generate:hover {\n",
              "        background-color: #434B5C;\n",
              "        box-shadow: 0px 1px 3px 1px rgba(0, 0, 0, 0.15);\n",
              "        filter: drop-shadow(0px 1px 2px rgba(0, 0, 0, 0.3));\n",
              "        fill: #FFFFFF;\n",
              "      }\n",
              "    </style>\n",
              "    <button class=\"colab-df-generate\" onclick=\"generateWithVariable('df_3_1')\"\n",
              "            title=\"Generate code using this dataframe.\"\n",
              "            style=\"display:none;\">\n",
              "\n",
              "  <svg xmlns=\"http://www.w3.org/2000/svg\" height=\"24px\"viewBox=\"0 0 24 24\"\n",
              "       width=\"24px\">\n",
              "    <path d=\"M7,19H8.4L18.45,9,17,7.55,7,17.6ZM5,21V16.75L18.45,3.32a2,2,0,0,1,2.83,0l1.4,1.43a1.91,1.91,0,0,1,.58,1.4,1.91,1.91,0,0,1-.58,1.4L9.25,21ZM18.45,9,17,7.55Zm-12,3A5.31,5.31,0,0,0,4.9,8.1,5.31,5.31,0,0,0,1,6.5,5.31,5.31,0,0,0,4.9,4.9,5.31,5.31,0,0,0,6.5,1,5.31,5.31,0,0,0,8.1,4.9,5.31,5.31,0,0,0,12,6.5,5.46,5.46,0,0,0,6.5,12Z\"/>\n",
              "  </svg>\n",
              "    </button>\n",
              "    <script>\n",
              "      (() => {\n",
              "      const buttonEl =\n",
              "        document.querySelector('#id_f94809fe-172c-478e-b1f4-298ce8ec6080 button.colab-df-generate');\n",
              "      buttonEl.style.display =\n",
              "        google.colab.kernel.accessAllowed ? 'block' : 'none';\n",
              "\n",
              "      buttonEl.onclick = () => {\n",
              "        google.colab.notebook.generateWithVariable('df_3_1');\n",
              "      }\n",
              "      })();\n",
              "    </script>\n",
              "  </div>\n",
              "\n",
              "    </div>\n",
              "  </div>\n"
            ],
            "application/vnd.google.colaboratory.intrinsic+json": {
              "type": "dataframe",
              "variable_name": "df_3_1",
              "summary": "{\n  \"name\": \"df_3_1\",\n  \"rows\": 2508,\n  \"fields\": [\n    {\n      \"column\": \"lang\",\n      \"properties\": {\n        \"dtype\": \"category\",\n        \"num_unique_values\": 2,\n        \"samples\": [\n          \"en\",\n          \"es\"\n        ],\n        \"semantic_type\": \"\",\n        \"description\": \"\"\n      }\n    },\n    {\n      \"column\": \"text\",\n      \"properties\": {\n        \"dtype\": \"string\",\n        \"num_unique_values\": 2508,\n        \"samples\": [\n          \"hoping to reach the target audience        <3 how can we tackle sexism here? passionate. crazy and obsessive.  when everyone believes you what's that like i'm so sick of running as fast as i can wondering if i'd get there quicker if i was a man then i cause if i was a man, then i'd be the man\",\n          \"contra el el 80% de los agresores en internet son hombres y la mayor\\u00eda de v\\u00edctimas son mujeres. un 87,5% de las mujeres que reciben violencia digital no hacen nada al respecto. la sextorsi\\u00f3n y el sexpreading son formas de violencia digital. los comentarios y actitudes mis\\u00f3ginas son una forma de violencia digital. no podemos contar chistes machistas o hacer comentarios que promuevan la violencia. no podemos salir a la calle sin miedo a ser denunciadas. la brecha salarial es una realidad, no una mentira. las tareas del hogar no son solo responsabilidad de las mujeres. no dudes en denunciar el machismo en todas sus formas. el ochenta por ciento de los agresores en internet son hombres, y la mayor\\u00eda de v\\u00edctimas son mujeres. \\u00bf no te sorprende verdad? pero \\u00bf sabes que un ochenta y siete coma cinco por ciento de las mujeres que reciben esta violencia no hacen absolutamente nada? no hacen nada porque ni tan siquiera lo identifican como viol. as\\u00ed que vamos a hacer un ejercicio. todos identificamos la sextorsi\\u00f3n o el sextreating como violencias digitales, tambi\\u00e9n los insultos, pero los comentarios que rezuman misoginia, que nos dicen que nos hacemos las v\\u00edctimas, que nos se\\u00f1alan porque ya no pueden acosarnos libremente.comentarios en los que se r\\u00eden, se jactan o niegan nuestras experiencias.que nos dicen que algo nos ha tenido que pasar para ser feministas, que nos reaccionan con informaciones falsas, que se empe\\u00f1an en negar lo que nos pasa por ser mujeres, o que pretenden insultarnos se\\u00f1alando las tareas que nos tocan como mujer. todo esto tambi\\u00e9n es violer, machista digital. amiga, no lo dudes. dale dele te.\"\n        ],\n        \"semantic_type\": \"\",\n        \"description\": \"\"\n      }\n    },\n    {\n      \"column\": \"path_video\",\n      \"properties\": {\n        \"dtype\": \"string\",\n        \"num_unique_values\": 2508,\n        \"samples\": [\n          \"videos/7063214874217991470.mp4\",\n          \"videos/7034429323432054022.mp4\"\n        ],\n        \"semantic_type\": \"\",\n        \"description\": \"\"\n      }\n    },\n    {\n      \"column\": \"label_task_3_1_merged\",\n      \"properties\": {\n        \"dtype\": \"date\",\n        \"min\": 0,\n        \"max\": 1,\n        \"num_unique_values\": 2,\n        \"samples\": [\n          0,\n          1\n        ],\n        \"semantic_type\": \"\",\n        \"description\": \"\"\n      }\n    }\n  ]\n}"
            }
          },
          "metadata": {},
          "execution_count": 14
        }
      ]
    },
    {
      "cell_type": "code",
      "source": [
        "# Guardamos el fichero resultante en nuestro Drive\n",
        "# df_3_1.T.to_csv('/content/drive/MyDrive/EXIST 2025 Videos Dataset/training/EXIST2025_training_task3_1_POSITIVE.csv')\n",
        "# df_3_1.T.to_csv('/content/drive/MyDrive/EXIST 2025 Videos Dataset/training/EXIST2025_training_task3_1_NEGATIVE.csv')\n",
        "df_3_1.T.to_csv('/content/drive/MyDrive/EXIST 2025 Videos Dataset/training/EXIST2025_training_task3_1_DISCARD.csv')"
      ],
      "metadata": {
        "id": "Vxt7Ar7rdF6s"
      },
      "execution_count": 15,
      "outputs": []
    },
    {
      "cell_type": "markdown",
      "source": [
        "Tratamiento del fichero orifinal para generar uno nuevo en donde solamente se recoja la información relevante para la tarea 3.3\n",
        "\n",
        "Etiquetas a tratar:\n",
        "- **IDEOLOGICAL AND INEQUALITY**: el texto desacredita el movimiento feminista, rechaza la desigualdad entre hombres y mujeres o presente a los hombres como víctimas de la opresión del género.\n",
        "- **STEREOTYPING AND DOMINANCE**: el texto expresa ideas falsas sobre las mujeres que sugieren que son más adecuadas para desempeñar ciertos papeles (madre, esposa, cuidadora familiar, fiel, tierna, cariñosa, sumisa, etc.), o inadecuadas para ciertas tareas (conducir, trabajo duro, etc.), o afirmar que los hombres son de alguna manera superiores a las mujeres.\n",
        "- **OBJECTIFICATION**: el texto presenta a las mujeres como objetos al margen de su dignidad y aspectos personales, o asume o describe determinadas cualidades físicas que deben tener las mujeres para cumplir los roles tradicionales de género (cumplimiento de cánones de belleza, hipersexualización de los atributos femeninos, cuerpos de las mujeres a disposición de los hombres, etc.).\n",
        "- **SEXUAL VIOLENCE**: se hacen sugerencias sexuales, se piden favores sexuales o se ejerce el acoso de naturaleza sexual (violación o agresión sexual).\n",
        "- **MISOGYNY AND NON-SEXUAL VIOLENCE**: el texto expresa odio y violencia hacia las mujeres.\n",
        "\n",
        "Para esta tarea de clasificación multi-etiqueta, vamos a proponer trabajar con 3 ficheros diferentes (extraídos a partir del fichero original base proporcionado por la competición) los cuáles abarcan los conflictos de 3 maneras diferentes:\n",
        "- **EXIST2025_training_task3_3_ALL.csv**: el etiquetado final se hará siguiendo el comportamiento de la operación lógica *OR* con el etiquetado de cada uno de los anotadores\n",
        "- **EXIST2025_training_task3_3_MEN.csv**: En caso de tener conflicto con 2 anotadores prevalecerá la anotación del hombre.\n",
        "- **EXIST2025_training_task3_3_WOMEN.csv**: En caso de tener conflicto con 2 anotadores prevalecerá la anotación de la mujer.\n"
      ],
      "metadata": {
        "id": "LNlNicfdLp23"
      }
    },
    {
      "cell_type": "code",
      "source": [
        "df = pd.read_json('/content/drive/MyDrive/EXIST 2025 Videos Dataset/training/EXIST2025_training.json', orient='index') # Lectura del dataset desde Drive\n",
        "df.reset_index(drop=True, inplace=True) # Reseteamos el index del dataframe\n",
        "df = df.drop(columns=[\"id_Tiktok\", \"id_EXIST\", \"video\", \"url\", \"annotators\", \"labels_task3_2\", \"split\"]) # Eliminación de columnas que no son relevantes del dataframe"
      ],
      "metadata": {
        "id": "RTixRW5Bwi92"
      },
      "execution_count": 16,
      "outputs": []
    },
    {
      "cell_type": "code",
      "source": [
        "# Eliminamos la columna correspondiente a la tarea 3.1\n",
        "df_3_3 = df.drop(columns=[\"labels_task3_1\"])\n",
        "\n",
        "# Expande la columna labels_task3_3 y gender_annotators en varias columnas en varias columnas\n",
        "df_3_3_expanded = df_3_3[\"labels_task3_3\"].apply(pd.Series)\n",
        "df_3_3_expanded_gender = df_3_3[\"gender_annotators\"].apply(pd.Series)\n",
        "\n",
        "# Renombra las columnas resultantes para mayor claridad\n",
        "df_3_3_expanded.columns = [f\"labels_task_3_3_{i+1}\" for i in range(df_3_3_expanded.shape[1])]\n",
        "df_3_3_expanded_gender.columns = [f\"gender_annotators_{i+1}\" for i in range(df_3_3_expanded_gender.shape[1])]\n",
        "\n",
        "# Une con el dataframe original sin la columna original\n",
        "df_3_3 = pd.concat([df_3_3.drop(columns=[\"labels_task3_3\"]), df_3_3_expanded], axis=1)\n",
        "df_3_3 = pd.concat([df_3_3.drop(columns=[\"gender_annotators\"]), df_3_3_expanded_gender], axis=1)\n",
        "\n",
        "# Reordenamos el orden las columnas para una mejor visión del dataframe\n",
        "df_3_3 = df_3_3[[\"lang\", \"text\", \"path_video\", \"number_annotators\", \"gender_annotators_1\", \"gender_annotators_2\", \"gender_annotators_3\", \"labels_task_3_3_1\", \"labels_task_3_3_2\", \"labels_task_3_3_3\"]]\n",
        "\n",
        "# Creación de las nuevas columnas correspondientes a las etiquetas de la tarea 3_3\n",
        "df_3_3[[\"IDEOLOGICAL AND INEQUALITY\", \"STEREOTYPING AND DOMINANCE\", \"OBJECTIFICATION\", \"SEXUAL VIOLENCE\", \"MISOGYNY AND NON-SEXUAL VIOLENCE\"]] = 0\n",
        "\n",
        "# Pasamos a binario los valores YES y NO\n",
        "# df_3_1.iloc[:, 4:] = df_3_1.iloc[:, 4:].replace({\"YES\": int(1), \"NO\": int(0)})\n",
        "\n",
        "# # # Esto se hace si queremos determinar si un valor específico de una fila/columna de un dataframe es NaN\n",
        "# # # print(pd.isna(df_3_1.at[0, 'labels_task_3_1_3']))\n",
        "\n",
        "# df_3_1.iloc[:, 6] = df_3_1.iloc[:, 6].astype(\"Int64\")  # Pasamos los valores binarios de la última columna a int64 --> Tipo entero que soporta NaN\n",
        "\n",
        "# # print(str(type(df_3_1.iloc[0,6]))==\"<class 'pandas._libs.missing.NAType'>\")\n",
        "\n",
        "print(df_3_3['gender_annotators_1'].value_counts(),\"\\n\")\n",
        "print(df_3_3['gender_annotators_2'].value_counts(), \"\\n\")\n",
        "print(df_3_3['gender_annotators_3'].value_counts(), \"\\n\")\n",
        "\n",
        "print(df_3_3['labels_task_3_3_1'].value_counts(), \"\\n\")\n",
        "print(df_3_3['labels_task_3_3_2'].value_counts(), \"\\n\")\n",
        "print(df_3_3['labels_task_3_3_3'].value_counts(), \"\\n\")\n",
        "\n",
        "#df_3_3"
      ],
      "metadata": {
        "id": "KyiTis3lLrH-",
        "colab": {
          "base_uri": "https://localhost:8080/"
        },
        "outputId": "47835e75-36a6-4860-8642-479ad9df0b52"
      },
      "execution_count": 33,
      "outputs": [
        {
          "output_type": "stream",
          "name": "stdout",
          "text": [
            "gender_annotators_1\n",
            "F    2524\n",
            "Name: count, dtype: int64 \n",
            "\n",
            "gender_annotators_2\n",
            "M    2032\n",
            "F     492\n",
            "Name: count, dtype: int64 \n",
            "\n",
            "gender_annotators_3\n",
            "M    428\n",
            "F    316\n",
            "Name: count, dtype: int64 \n",
            "\n",
            "labels_task_3_3_1\n",
            "[-]                                                                                                                 1326\n",
            "[STEREOTYPING-DOMINANCE]                                                                                             505\n",
            "[IDEOLOGICAL-INEQUALITY]                                                                                             243\n",
            "[OBJECTIFICATION]                                                                                                    144\n",
            "[UNKNOWN]                                                                                                             53\n",
            "[SEXUAL-VIOLENCE]                                                                                                     51\n",
            "[MISOGYNY-NON-SEXUAL-VIOLENCE]                                                                                        45\n",
            "[IDEOLOGICAL-INEQUALITY, STEREOTYPING-DOMINANCE]                                                                      37\n",
            "[STEREOTYPING-DOMINANCE, OBJECTIFICATION]                                                                             29\n",
            "[STEREOTYPING-DOMINANCE, MISOGYNY-NON-SEXUAL-VIOLENCE]                                                                13\n",
            "[OBJECTIFICATION, SEXUAL-VIOLENCE]                                                                                    11\n",
            "[IDEOLOGICAL-INEQUALITY, STEREOTYPING-DOMINANCE, OBJECTIFICATION]                                                      9\n",
            "[IDEOLOGICAL-INEQUALITY, STEREOTYPING-DOMINANCE, MISOGYNY-NON-SEXUAL-VIOLENCE]                                         6\n",
            "[SEXUAL-VIOLENCE, MISOGYNY-NON-SEXUAL-VIOLENCE]                                                                        6\n",
            "[IDEOLOGICAL-INEQUALITY, SEXUAL-VIOLENCE, MISOGYNY-NON-SEXUAL-VIOLENCE]                                                6\n",
            "[IDEOLOGICAL-INEQUALITY, MISOGYNY-NON-SEXUAL-VIOLENCE]                                                                 5\n",
            "[IDEOLOGICAL-INEQUALITY, SEXUAL-VIOLENCE]                                                                              4\n",
            "[STEREOTYPING-DOMINANCE, SEXUAL-VIOLENCE]                                                                              4\n",
            "[STEREOTYPING-DOMINANCE, OBJECTIFICATION, SEXUAL-VIOLENCE]                                                             4\n",
            "[IDEOLOGICAL-INEQUALITY, OBJECTIFICATION, SEXUAL-VIOLENCE, MISOGYNY-NON-SEXUAL-VIOLENCE]                               3\n",
            "[STEREOTYPING-DOMINANCE, OBJECTIFICATION, MISOGYNY-NON-SEXUAL-VIOLENCE]                                                3\n",
            "[OBJECTIFICATION, MISOGYNY-NON-SEXUAL-VIOLENCE]                                                                        2\n",
            "[IDEOLOGICAL-INEQUALITY, STEREOTYPING-DOMINANCE, OBJECTIFICATION, SEXUAL-VIOLENCE]                                     2\n",
            "[IDEOLOGICAL-INEQUALITY, STEREOTYPING-DOMINANCE, OBJECTIFICATION, SEXUAL-VIOLENCE, MISOGYNY-NON-SEXUAL-VIOLENCE]       2\n",
            "[IDEOLOGICAL-INEQUALITY, STEREOTYPING-DOMINANCE, SEXUAL-VIOLENCE, MISOGYNY-NON-SEXUAL-VIOLENCE]                        2\n",
            "[IDEOLOGICAL-INEQUALITY, OBJECTIFICATION, SEXUAL-VIOLENCE]                                                             2\n",
            "[OBJECTIFICATION, SEXUAL-VIOLENCE, MISOGYNY-NON-SEXUAL-VIOLENCE]                                                       2\n",
            "[IDEOLOGICAL-INEQUALITY, OBJECTIFICATION]                                                                              2\n",
            "[STEREOTYPING-DOMINANCE, OBJECTIFICATION, SEXUAL-VIOLENCE, MISOGYNY-NON-SEXUAL-VIOLENCE]                               1\n",
            "[STEREOTYPING-DOMINANCE, SEXUAL-VIOLENCE, MISOGYNY-NON-SEXUAL-VIOLENCE]                                                1\n",
            "[IDEOLOGICAL-INEQUALITY, STEREOTYPING-DOMINANCE, SEXUAL-VIOLENCE]                                                      1\n",
            "Name: count, dtype: int64 \n",
            "\n",
            "labels_task_3_3_2\n",
            "[-]                                                                                                                 1412\n",
            "[STEREOTYPING-DOMINANCE]                                                                                             524\n",
            "[IDEOLOGICAL-INEQUALITY]                                                                                             162\n",
            "[OBJECTIFICATION]                                                                                                     93\n",
            "[IDEOLOGICAL-INEQUALITY, STEREOTYPING-DOMINANCE]                                                                      88\n",
            "[MISOGYNY-NON-SEXUAL-VIOLENCE]                                                                                        61\n",
            "[SEXUAL-VIOLENCE]                                                                                                     50\n",
            "[IDEOLOGICAL-INEQUALITY, STEREOTYPING-DOMINANCE, OBJECTIFICATION]                                                     34\n",
            "[UNKNOWN]                                                                                                             24\n",
            "[IDEOLOGICAL-INEQUALITY, STEREOTYPING-DOMINANCE, OBJECTIFICATION, MISOGYNY-NON-SEXUAL-VIOLENCE]                       15\n",
            "[IDEOLOGICAL-INEQUALITY, STEREOTYPING-DOMINANCE, MISOGYNY-NON-SEXUAL-VIOLENCE]                                        13\n",
            "[STEREOTYPING-DOMINANCE, OBJECTIFICATION]                                                                             13\n",
            "[IDEOLOGICAL-INEQUALITY, STEREOTYPING-DOMINANCE, SEXUAL-VIOLENCE]                                                      9\n",
            "[OBJECTIFICATION, SEXUAL-VIOLENCE]                                                                                     5\n",
            "[IDEOLOGICAL-INEQUALITY, STEREOTYPING-DOMINANCE, OBJECTIFICATION, SEXUAL-VIOLENCE]                                     4\n",
            "[STEREOTYPING-DOMINANCE, OBJECTIFICATION, SEXUAL-VIOLENCE]                                                             4\n",
            "[STEREOTYPING-DOMINANCE, MISOGYNY-NON-SEXUAL-VIOLENCE]                                                                 3\n",
            "[OBJECTIFICATION, SEXUAL-VIOLENCE, MISOGYNY-NON-SEXUAL-VIOLENCE]                                                       2\n",
            "[IDEOLOGICAL-INEQUALITY, STEREOTYPING-DOMINANCE, OBJECTIFICATION, SEXUAL-VIOLENCE, MISOGYNY-NON-SEXUAL-VIOLENCE]       2\n",
            "[OBJECTIFICATION, MISOGYNY-NON-SEXUAL-VIOLENCE]                                                                        2\n",
            "[IDEOLOGICAL-INEQUALITY, SEXUAL-VIOLENCE, MISOGYNY-NON-SEXUAL-VIOLENCE]                                                1\n",
            "[IDEOLOGICAL-INEQUALITY, STEREOTYPING-DOMINANCE, SEXUAL-VIOLENCE, MISOGYNY-NON-SEXUAL-VIOLENCE]                        1\n",
            "[SEXUAL-VIOLENCE, MISOGYNY-NON-SEXUAL-VIOLENCE]                                                                        1\n",
            "[IDEOLOGICAL-INEQUALITY, OBJECTIFICATION]                                                                              1\n",
            "Name: count, dtype: int64 \n",
            "\n",
            "labels_task_3_3_3\n",
            "[-]                                                                                                                 250\n",
            "[STEREOTYPING-DOMINANCE]                                                                                            208\n",
            "[IDEOLOGICAL-INEQUALITY]                                                                                             79\n",
            "[OBJECTIFICATION]                                                                                                    56\n",
            "[IDEOLOGICAL-INEQUALITY, STEREOTYPING-DOMINANCE]                                                                     50\n",
            "[STEREOTYPING-DOMINANCE, OBJECTIFICATION]                                                                            17\n",
            "[MISOGYNY-NON-SEXUAL-VIOLENCE]                                                                                       16\n",
            "[SEXUAL-VIOLENCE]                                                                                                    16\n",
            "[OBJECTIFICATION, SEXUAL-VIOLENCE]                                                                                   12\n",
            "[STEREOTYPING-DOMINANCE, MISOGYNY-NON-SEXUAL-VIOLENCE]                                                               11\n",
            "[IDEOLOGICAL-INEQUALITY, SEXUAL-VIOLENCE]                                                                             6\n",
            "[IDEOLOGICAL-INEQUALITY, MISOGYNY-NON-SEXUAL-VIOLENCE]                                                                4\n",
            "[OBJECTIFICATION, MISOGYNY-NON-SEXUAL-VIOLENCE]                                                                       3\n",
            "[STEREOTYPING-DOMINANCE, SEXUAL-VIOLENCE]                                                                             3\n",
            "[SEXUAL-VIOLENCE, MISOGYNY-NON-SEXUAL-VIOLENCE]                                                                       3\n",
            "[IDEOLOGICAL-INEQUALITY, STEREOTYPING-DOMINANCE, MISOGYNY-NON-SEXUAL-VIOLENCE]                                        3\n",
            "[IDEOLOGICAL-INEQUALITY, OBJECTIFICATION, SEXUAL-VIOLENCE]                                                            1\n",
            "[STEREOTYPING-DOMINANCE, OBJECTIFICATION, MISOGYNY-NON-SEXUAL-VIOLENCE]                                               1\n",
            "[IDEOLOGICAL-INEQUALITY, OBJECTIFICATION]                                                                             1\n",
            "[IDEOLOGICAL-INEQUALITY, SEXUAL-VIOLENCE, MISOGYNY-NON-SEXUAL-VIOLENCE]                                               1\n",
            "[IDEOLOGICAL-INEQUALITY, STEREOTYPING-DOMINANCE, OBJECTIFICATION, SEXUAL-VIOLENCE, MISOGYNY-NON-SEXUAL-VIOLENCE]      1\n",
            "[STEREOTYPING-DOMINANCE, SEXUAL-VIOLENCE, MISOGYNY-NON-SEXUAL-VIOLENCE]                                               1\n",
            "[UNKNOWN]                                                                                                             1\n",
            "Name: count, dtype: int64 \n",
            "\n"
          ]
        }
      ]
    }
  ]
}